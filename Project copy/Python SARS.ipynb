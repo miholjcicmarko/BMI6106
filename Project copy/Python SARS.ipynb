{
 "cells": [
  {
   "cell_type": "code",
   "execution_count": 1,
   "metadata": {},
   "outputs": [
    {
     "ename": "ModuleNotFoundError",
     "evalue": "No module named 'pandas'",
     "output_type": "error",
     "traceback": [
      "\u001b[0;31m---------------------------------------------------------------------------\u001b[0m",
      "\u001b[0;31mModuleNotFoundError\u001b[0m                       Traceback (most recent call last)",
      "\u001b[0;32m<ipython-input-1-7dd3504c366f>\u001b[0m in \u001b[0;36m<module>\u001b[0;34m\u001b[0m\n\u001b[0;32m----> 1\u001b[0;31m \u001b[0;32mimport\u001b[0m \u001b[0mpandas\u001b[0m \u001b[0;32mas\u001b[0m \u001b[0mpd\u001b[0m\u001b[0;34m\u001b[0m\u001b[0;34m\u001b[0m\u001b[0m\n\u001b[0m",
      "\u001b[0;31mModuleNotFoundError\u001b[0m: No module named 'pandas'"
     ]
    }
   ],
   "source": [
    "import pandas as pd"
   ]
  },
  {
   "cell_type": "code",
   "execution_count": null,
   "metadata": {},
   "outputs": [],
   "source": [
    "wreport = pd.read_csv('World Health Report 2003.csv')\n",
    "\n",
    "sars = pd.read_csv(\"sars_2003_complete_dataset_clean.csv\")\n",
    "\n",
    "tsCon = pd.read_csv(\"time_series_covid_19_confirmed.csv\")\n",
    "tsRec = pd.read_csv(\"time_series_covid_19_recovered.csv\")\n",
    "tsD = pd.read_csv(\"time_series_covid_19_deaths.csv\")"
   ]
  },
  {
   "cell_type": "code",
   "execution_count": null,
   "metadata": {},
   "outputs": [],
   "source": [
    "tsCon = tsCon.drop(['Province/State', 'Lat', 'Long'], axis = 1)\n",
    "tsRec = tsRec.drop(['Province/State', 'Lat', 'Long'], axis = 1)\n",
    "tsD = tsD.drop(['Province/State', 'Lat', 'Long'], axis = 1)"
   ]
  },
  {
   "cell_type": "code",
   "execution_count": null,
   "metadata": {},
   "outputs": [],
   "source": [
    "sars = sars.set_index('Date')\n",
    "sars[\"Country\"] = sars[\"Country\"].replace(\"Hong Kong SAR, China\", \"China\")\n",
    "sars[\"Country\"] = sars[\"Country\"].replace(\"Macao SAR, China\", \"China\")\n",
    "sars[\"Country\"] = sars[\"Country\"].replace(\"Viet Nam\", \"Vietnam\")"
   ]
  },
  {
   "cell_type": "code",
   "execution_count": null,
   "metadata": {},
   "outputs": [],
   "source": [
    "#Find the top five countries with most amount of cases\n",
    "sar = sars.loc[\"2003-07-11\"]\n",
    "sar = sar.sort_values(\"Cumulative number of case(s)\", ascending=False)\n",
    "sar"
   ]
  },
  {
   "cell_type": "code",
   "execution_count": null,
   "metadata": {},
   "outputs": [],
   "source": [
    "countries = [\"Singapore\", \"Canada\", \"United States\", \"Vietnam\", \"Italy\", \"Germany\"]\n",
    "df = sars[sars[\"Country\"].isin(countries)]"
   ]
  },
  {
   "cell_type": "code",
   "execution_count": null,
   "metadata": {},
   "outputs": [],
   "source": [
    "countries = [\"China\", \"Canada\", \"Germany\", \"Italy\", \"Singapore\", \"United States\", \"Vietnam\", \"Spain\", \"Mongolia\",\n",
    "            \"Thailand\", \"France\", \"India\", \"Romania\", \"South Africa\", \"Colombia\", \"Finland\", \"Brazil\", \"Malaysia\",\n",
    "            \"Kuwait\", \"United Kingdom\", \"Philippines\", \"Sweden\", \"Republic of Korea\", \"Indonesia\", \n",
    "             \"Switzerland\", \"Russia Federation\", \"Republic of Ireland\", \"New Zealand\"]\n",
    "df1 = sars[sars[\"Country\"].isin(countries)]"
   ]
  },
  {
   "cell_type": "code",
   "execution_count": null,
   "metadata": {},
   "outputs": [],
   "source": [
    "from datetime import datetime\n",
    "dataC = sars[sars[\"Country\"] == \"China\"].groupby(\"Date\").count() \n",
    "\n",
    "dindex = pd.DataFrame(list(dataC.index.values))\n",
    "\n",
    "d = sars[sars[\"Country\"] == \"China\"].groupby(\"Date\").sum()\n",
    "dChina = list(d[\"Cumulative number of case(s)\"].values)\n",
    "\n",
    "dfChina = pd.DataFrame({\"China\": dChina})\n",
    "dataChina = pd.concat([dindex,dfChina], axis=1, sort = False)\n",
    "dataChina = dataChina.rename(columns={0: \"Date\"})\n",
    "dataChina = dataChina.set_index('Date')\n",
    "\n",
    "d = sars[sars[\"Country\"] == \"China\"].groupby(\"Date\").sum()\n",
    "dChina = list(d[\"Number of deaths\"].values)\n",
    "\n",
    "dfChina = pd.DataFrame({\"China\": dChina})\n",
    "dataChinaD = pd.concat([dindex,dfChina], axis=1, sort = False)\n",
    "dataChinaD = dataChinaD.rename(columns={0: \"Date\"})\n",
    "dataChinaD = dataChinaD.set_index('Date')\n",
    "\n",
    "d = sars[sars[\"Country\"] == \"China\"].groupby(\"Date\").sum()\n",
    "dChina = list(d[\"Number recovered\"].values)\n",
    "\n",
    "dfChina = pd.DataFrame({\"China\": dChina})\n",
    "dataChinaR = pd.concat([dindex,dfChina], axis=1, sort = False)\n",
    "dataChinaR = dataChinaR.rename(columns={0: \"Date\"})\n",
    "dataChinaR = dataChinaR.set_index('Date')"
   ]
  },
  {
   "cell_type": "code",
   "execution_count": null,
   "metadata": {
    "scrolled": true
   },
   "outputs": [],
   "source": [
    "dfC = df.pivot_table(index='Date',\n",
    "                     columns= 'Country',\n",
    "                     values= 'Cumulative number of case(s)')\n",
    "dfC = pd.concat([dfC,dataChina], axis=1, sort = False)\n",
    "dfC"
   ]
  },
  {
   "cell_type": "code",
   "execution_count": null,
   "metadata": {},
   "outputs": [],
   "source": [
    "dfD = df.pivot_table(index='Date',\n",
    "                     columns= 'Country',\n",
    "                     values= 'Number of deaths')\n",
    "dfD = pd.concat([dfD,dataChinaD], axis=1, sort = False)\n",
    "dfD"
   ]
  },
  {
   "cell_type": "code",
   "execution_count": null,
   "metadata": {},
   "outputs": [],
   "source": [
    "dfR = df.pivot_table(index='Date',\n",
    "                     columns= 'Country',\n",
    "                     values= 'Number recovered')\n",
    "dfR = pd.concat([dfR,dataChinaR], axis=1, sort = False)\n",
    "dfR"
   ]
  },
  {
   "cell_type": "code",
   "execution_count": null,
   "metadata": {},
   "outputs": [],
   "source": [
    "dfR.to_csv(\"RecoveredNon-Interpolated2003.csv\")\n",
    "dfC.to_csv(\"CulumNon-Interpolated2003.csv\")\n",
    "dfD.to_csv(\"DeathNon-Interpolated2003.csv\")"
   ]
  },
  {
   "cell_type": "code",
   "execution_count": null,
   "metadata": {},
   "outputs": [],
   "source": [
    "dfC[[\"China\", \"Singapore\", \"Canada\", \"United States\", \"Vietnam\", \"Italy\", \"Germany\"]]= dfC[[\"China\", \"Singapore\", \"Canada\", \"United States\", \"Vietnam\", \"Italy\", \"Germany\"]].interpolate()\n",
    "dfC=dfC.fillna(0)\n",
    "dfC = dfC.apply(lambda x: x.sort_values().values)\n",
    "dfC[\"Canada\"].astype(\"int64\")\n",
    "dfC = dfC.astype(\"int64\")"
   ]
  },
  {
   "cell_type": "code",
   "execution_count": null,
   "metadata": {},
   "outputs": [],
   "source": [
    "dfFinC = pd.DataFrame(dfC.loc[\"2003-07-11\"]).T\n",
    "dfC[\"Italy\"].values"
   ]
  },
  {
   "cell_type": "code",
   "execution_count": null,
   "metadata": {},
   "outputs": [],
   "source": [
    "Country = [\"Canada\", \"Germany\", \"Italy\", \"Singapore\", \"United States\", \"Vietnam\", \"China\"]\n",
    "values = [dfFinC[\"Canada\"].values[0], dfFinC[\"Germany\"].values[0], dfFinC[\"Italy\"].values[0],\n",
    "         dfFinC[\"Singapore\"].values[0], dfFinC[\"United States\"].values[0], \n",
    "         dfFinC[\"Vietnam\"].values[0], dfFinC[\"China\"].values[0]]\n",
    "Year = [\"2003\",\"2003\", \"2003\", \"2003\", \"2003\", \"2003\", \"2003\"]\n",
    "YearComp = pd.DataFrame({\"Country\": Country, \"Cumulative Cases\": values, \"Year\" :Year})\n",
    "YearComp"
   ]
  },
  {
   "cell_type": "code",
   "execution_count": null,
   "metadata": {},
   "outputs": [],
   "source": [
    "dfFinC.to_csv(\"FinalDayCC.csv\")"
   ]
  },
  {
   "cell_type": "code",
   "execution_count": null,
   "metadata": {},
   "outputs": [],
   "source": [
    "dfC.to_csv('CumulativeCases.csv')"
   ]
  },
  {
   "cell_type": "code",
   "execution_count": null,
   "metadata": {
    "scrolled": true
   },
   "outputs": [],
   "source": [
    "dfC = df1.pivot_table(index='Date',\n",
    "                     columns= 'Country',\n",
    "                     values= 'Cumulative number of case(s)')\n",
    "#dfC = pd.concat([dfC,dataChina], axis=1, sort = False)\n",
    "dfC"
   ]
  },
  {
   "cell_type": "code",
   "execution_count": null,
   "metadata": {},
   "outputs": [],
   "source": [
    "dfC[[\"China\", \"Canada\", \"Germany\", \"Italy\", \"Singapore\", \"United States\", \"Vietnam\", \"Spain\", \"Mongolia\", \"Thailand\", \"France\", \"India\", \"Romania\", \"South Africa\", \"Colombia\", \"Finland\",\"Brazil\", \"Malaysia\", \"Kuwait\", \"United Kingdom\", \"Philippines\", \"Sweden\", \"Republic of Korea\", \"Indonesia\", \"Switzerland\", \"Russia Federation\", \"Republic of Ireland\", \"New Zealand\"]] = dfC[[\"China\", \"Canada\", \"Germany\", \"Italy\", \"Singapore\", \"United States\", \"Vietnam\", \"Spain\",\"Mongolia\", \"Thailand\", \"France\", \"India\", \"Romania\", \"South Africa\", \"Colombia\", \"Finland\", \"Brazil\", \"Malaysia\", \"Kuwait\", \"United Kingdom\" \"Philippines\", \"Sweden\", \"Republic of Korea\", \"Indonesia\", \"Switzerland\", \"Russia Federation\", \"Republic of Ireland\", \"New Zealand\"]].interpolate()\n",
    "\n",
    "dfC=dfC.fillna(0)\n",
    "dfC = dfC.apply(lambda x: x.sort_values().values)\n",
    "dfC[\"Canada\"].astype(\"int64\")\n",
    "dfC = dfC.astype(\"int64\")"
   ]
  },
  {
   "cell_type": "code",
   "execution_count": null,
   "metadata": {},
   "outputs": [],
   "source": [
    "dfC"
   ]
  },
  {
   "cell_type": "code",
   "execution_count": null,
   "metadata": {},
   "outputs": [],
   "source": [
    "dfC.to_csv('CumulativeCases28.csv')"
   ]
  },
  {
   "cell_type": "code",
   "execution_count": null,
   "metadata": {},
   "outputs": [],
   "source": [
    "dfD[[\"China\", \"Singapore\", \"Canada\", \"United States\", \"Vietnam\", \"Italy\", \"Germany\"]]= dfD[[\"China\", \"Singapore\", \"Canada\", \"United States\", \"Vietnam\", \"Italy\", \"Germany\"]].interpolate()\n",
    "dfD=dfD.fillna(0)\n",
    "dfD = dfD.apply(lambda x: x.sort_values().values)\n",
    "dfD[\"Canada\"].astype(\"int64\")\n",
    "dfD = dfD.astype(\"int64\")"
   ]
  },
  {
   "cell_type": "code",
   "execution_count": null,
   "metadata": {},
   "outputs": [],
   "source": [
    "dfFinD = pd.DataFrame(dfD.loc[\"2003-07-11\"]).T\n",
    "dfFinD"
   ]
  },
  {
   "cell_type": "code",
   "execution_count": null,
   "metadata": {},
   "outputs": [],
   "source": [
    "dfFinD.to_csv(\"FinalDayTD.csv\")"
   ]
  },
  {
   "cell_type": "code",
   "execution_count": null,
   "metadata": {},
   "outputs": [],
   "source": [
    "dfD.to_csv('TotalDeaths.csv')"
   ]
  },
  {
   "cell_type": "code",
   "execution_count": null,
   "metadata": {},
   "outputs": [],
   "source": [
    "dfR[[\"China\", \"Singapore\", \"Canada\", \"United States\", \"Vietnam\", \"Italy\", \"Germany\"]]= dfR[[\"China\", \"Singapore\", \"Canada\", \"United States\", \"Vietnam\", \"Italy\", \"Germany\"]].interpolate()\n",
    "dfR=dfR.fillna(0)\n",
    "dfR = dfR.apply(lambda x: x.sort_values().values)\n",
    "dfR[\"Canada\"].astype(\"int64\")\n",
    "dfR = dfR.astype(\"int64\")"
   ]
  },
  {
   "cell_type": "code",
   "execution_count": null,
   "metadata": {},
   "outputs": [],
   "source": [
    "dfFinR = pd.DataFrame(dfR.loc[\"2003-07-11\"]).T\n",
    "dfFinR"
   ]
  },
  {
   "cell_type": "code",
   "execution_count": null,
   "metadata": {},
   "outputs": [],
   "source": [
    "dfR.to_csv('TotalRecovered2003.csv')"
   ]
  },
  {
   "cell_type": "code",
   "execution_count": null,
   "metadata": {},
   "outputs": [],
   "source": [
    "import matplotlib.pyplot as plt\n",
    "import matplotlib.dates as mdates\n",
    "import matplotlib.ticker as plticker\n",
    "%matplotlib inline\n",
    "plt.style.use('ggplot')\n",
    "plt.rcParams['figure.figsize'] = (20, 20)\n",
    "\n",
    "countries = [\"China\", \"Singapore\", \"Canada\", \"United States\", \"Vietnam\", \"Italy\", \"Germany\"]\n",
    "\n",
    "fig, axs = plt.subplots(7, 1)\n",
    "for i in range(7):\n",
    "    axs[i].plot(pd.DataFrame(dfC[countries[i]]))\n",
    "    axs[i].set_title(countries[i])\n",
    "    \n",
    "for ax in axs.flat:\n",
    "    ax.set(xlabel='Date')\n",
    "    ax.tick_params(labelrotation=90, axis = 'x')\n",
    "    ax.set_ylabel('Cumulative number of case(s)', fontsize=13)\n",
    "       \n",
    "for ax in axs.flat:\n",
    "    ax.label_outer()\n",
    "    \n",
    "loc = plticker.MultipleLocator(base=5.0)\n",
    "ax.xaxis.set_major_locator(loc)"
   ]
  },
  {
   "cell_type": "code",
   "execution_count": null,
   "metadata": {},
   "outputs": [],
   "source": [
    "plt.style.use('ggplot')\n",
    "plt.rcParams['figure.figsize'] = (20, 20)\n",
    "\n",
    "countries = [\"China\", \"Singapore\", \"Canada\", \"United States\", \"Vietnam\", \"Italy\", \"Germany\"]\n",
    "\n",
    "fig, axs = plt.subplots(7, 1)\n",
    "for i in range(7):\n",
    "    axs[i].plot(pd.DataFrame(dfD[countries[i]]))\n",
    "    axs[i].set_title(countries[i])\n",
    "    \n",
    "for ax in axs.flat:\n",
    "    ax.set(xlabel='Date')\n",
    "    ax.tick_params(labelrotation=90, axis = 'x')\n",
    "    ax.set_ylabel('Total Deaths', fontsize=13)\n",
    "       \n",
    "for ax in axs.flat:\n",
    "    ax.label_outer()\n",
    "    \n",
    "loc = plticker.MultipleLocator(base=5.0)\n",
    "ax.xaxis.set_major_locator(loc)"
   ]
  },
  {
   "cell_type": "code",
   "execution_count": null,
   "metadata": {},
   "outputs": [],
   "source": [
    "countries = [\"China\", \"Singapore\", \"Canada\", \"US\", \"Vietnam\", \"Italy\", \"Germany\"]\n",
    "dfCoronaC = tsCon.loc[tsCon[\"Country/Region\"].isin(countries)]\n",
    "dfCoronaC = dfCoronaC.groupby(\"Country/Region\").sum()\n",
    "dfCoronaC"
   ]
  },
  {
   "cell_type": "code",
   "execution_count": null,
   "metadata": {},
   "outputs": [],
   "source": [
    "dfFinCoronaC = pd.DataFrame(dfCoronaC[\"3/29/20\"]).T\n",
    "dfFinCoronaC"
   ]
  },
  {
   "cell_type": "code",
   "execution_count": null,
   "metadata": {},
   "outputs": [],
   "source": [
    "Country = [\"Canada\", \"Germany\", \"Italy\", \"Singapore\", \"US\", \"Vietnam\", \"China\"]\n",
    "values = [dfFinCoronaC[\"Canada\"].values[0], dfFinCoronaC[\"Germany\"].values[0], \n",
    "          dfFinCoronaC[\"Italy\"].values[0],\n",
    "         dfFinCoronaC[\"Singapore\"].values[0], dfFinCoronaC[\"US\"].values[0], \n",
    "         dfFinCoronaC[\"Vietnam\"].values[0], dfFinCoronaC[\"China\"].values[0]]\n",
    "Year = [\"2020\",\"2020\", \"2020\", \"2020\", \"2020\", \"2020\", \"2020\"]\n",
    "YearComp2 = pd.DataFrame({\"Country\": Country, \"Cumulative Cases\": values, \"Year\" :Year})\n",
    "YearComp2\n",
    "\n",
    "dfs = [YearComp, YearComp2]\n",
    "\n",
    "yearComparison = pd.concat(dfs, ignore_index = True)\n",
    "yearComparison"
   ]
  },
  {
   "cell_type": "code",
   "execution_count": null,
   "metadata": {},
   "outputs": [],
   "source": [
    "yearComparison.to_csv(\"/Users/markomiholjcic/Documents/GitHub/BMI6106/Project copy/Comp20032020.csv\")"
   ]
  },
  {
   "cell_type": "code",
   "execution_count": null,
   "metadata": {},
   "outputs": [],
   "source": [
    "dfCoronaCC = dfCoronaC.T"
   ]
  },
  {
   "cell_type": "code",
   "execution_count": null,
   "metadata": {},
   "outputs": [],
   "source": [
    "dfCoronaCC.to_csv(\"/Users/markomiholjcic/Documents/GitHub/BMI6106/Project copy/CumulCases2020.csv\")"
   ]
  },
  {
   "cell_type": "code",
   "execution_count": null,
   "metadata": {},
   "outputs": [],
   "source": [
    "dfFinCoronaC.to_csv(\"FinDayCoronaC.csv\")"
   ]
  },
  {
   "cell_type": "code",
   "execution_count": null,
   "metadata": {},
   "outputs": [],
   "source": [
    "countries = [\"China\", \"Singapore\", \"Canada\", \"US\", \"Vietnam\", \"Italy\", \"Germany\"]\n",
    "dfCoronaR = tsRec.loc[tsRec[\"Country/Region\"].isin(countries)]\n",
    "dfCoronaR = dfCoronaR.groupby(\"Country/Region\").sum()\n",
    "dfCoronaR"
   ]
  },
  {
   "cell_type": "code",
   "execution_count": null,
   "metadata": {},
   "outputs": [],
   "source": [
    "dfFinCoronaR = pd.DataFrame(dfCoronaR[\"3/29/20\"]).T\n",
    "dfFinCoronaR"
   ]
  },
  {
   "cell_type": "code",
   "execution_count": null,
   "metadata": {},
   "outputs": [],
   "source": [
    "dfCoronaRR = dfCoronaR.T"
   ]
  },
  {
   "cell_type": "code",
   "execution_count": null,
   "metadata": {},
   "outputs": [],
   "source": [
    "dfFinCoronaR.to_csv(\"FinDayCoronaR.csv\")"
   ]
  },
  {
   "cell_type": "code",
   "execution_count": null,
   "metadata": {},
   "outputs": [],
   "source": [
    "countries = [\"China\", \"Singapore\", \"Canada\", \"US\", \"Vietnam\", \"Italy\", \"Germany\"]\n",
    "dfCoronaD = tsD.loc[tsD[\"Country/Region\"].isin(countries)]\n",
    "dfCoronaD = dfCoronaD.groupby(\"Country/Region\").sum()\n",
    "dfCoronaD"
   ]
  },
  {
   "cell_type": "code",
   "execution_count": null,
   "metadata": {},
   "outputs": [],
   "source": [
    "dfFinCoronaD = pd.DataFrame(dfCoronaD[\"3/29/20\"]).T\n",
    "dfFinCoronaD"
   ]
  },
  {
   "cell_type": "code",
   "execution_count": null,
   "metadata": {},
   "outputs": [],
   "source": [
    "dfCoronaRR.to_csv(\"/Users/markomiholjcic/Documents/GitHub/BMI6106/Project copy/RecoveredCases2020.csv\")"
   ]
  },
  {
   "cell_type": "code",
   "execution_count": null,
   "metadata": {},
   "outputs": [],
   "source": [
    "dfFinCoronaD.to_csv(\"FinDayCoronaD.csv\")"
   ]
  },
  {
   "cell_type": "code",
   "execution_count": null,
   "metadata": {},
   "outputs": [],
   "source": [
    "dfCoronaDD = dfCoronaD.T\n",
    "dfCoronaDD.to_csv(\"/Users/markomiholjcic/Documents/GitHub/BMI6106/Project copy/TotalDeaths2020.csv\")"
   ]
  },
  {
   "cell_type": "code",
   "execution_count": null,
   "metadata": {},
   "outputs": [],
   "source": [
    "plt.style.use('ggplot')\n",
    "plt.rcParams['figure.figsize'] = (20, 20)\n",
    "\n",
    "countries = [\"China\", \"Singapore\", \"Canada\", \"US\", \"Vietnam\", \"Italy\", \"Germany\"]\n",
    "\n",
    "fig, axs = plt.subplots(7, 1)\n",
    "for i in range(7):\n",
    "    axs[i].plot(pd.DataFrame(dfCoronaC.loc[countries[i]]))\n",
    "    axs[i].set_title(countries[i])\n",
    "    \n",
    "for ax in axs.flat:\n",
    "    ax.set(xlabel='Date')\n",
    "    ax.tick_params(labelrotation=90, axis = 'x')\n",
    "    ax.set_ylabel('Cumulative number of case(s)', fontsize=10)\n",
    "       \n",
    "for ax in axs.flat:\n",
    "    ax.label_outer()\n",
    "    \n",
    "loc = plticker.MultipleLocator(base=5.0)\n",
    "ax.xaxis.set_major_locator(loc)"
   ]
  },
  {
   "cell_type": "code",
   "execution_count": null,
   "metadata": {},
   "outputs": [],
   "source": [
    "plt.style.use('ggplot')\n",
    "plt.rcParams['figure.figsize'] = (20, 20)\n",
    "\n",
    "countries = [\"China\", \"Singapore\", \"Canada\", \"US\", \"Vietnam\", \"Italy\", \"Germany\"]\n",
    "\n",
    "fig, axs = plt.subplots(7, 1)\n",
    "for i in range(7):\n",
    "    axs[i].plot(pd.DataFrame(dfCoronaD.loc[countries[i]]))\n",
    "    axs[i].set_title(countries[i])\n",
    "    \n",
    "for ax in axs.flat:\n",
    "    ax.set(xlabel='Date')\n",
    "    ax.tick_params(labelrotation=90, axis = 'x')\n",
    "    ax.set_ylabel('Total Death', fontsize=10)\n",
    "       \n",
    "for ax in axs.flat:\n",
    "    ax.label_outer()\n",
    "    \n",
    "loc = plticker.MultipleLocator(base=5.0)\n",
    "ax.xaxis.set_major_locator(loc)"
   ]
  },
  {
   "cell_type": "code",
   "execution_count": null,
   "metadata": {},
   "outputs": [],
   "source": [
    "countries = [\"China\", \"Singapore\", \"Canada\", \"United States of America\", \"Vietnam\", \"Italy\", \n",
    "             \"Germany\",\"Finland\", \"United Kingdom\", \"Spain\", \"Mongolia\", \"Thailand\",\n",
    "             \"France\", \"India\", \"Romania\", \"South Africa\", \"Colombia\", \"Brazil\",\n",
    "             \"Malaysia\", \"Kuwait\",  \"Philippines\", \"Sweden\", \"Republic of Korea\", \n",
    "             \"Indonesia\", \"Switzerland\", \"Russia Federation\", \"Republic of Ireland\", \"New Zealand\"]\n",
    "wreport[\"Member State\"] = wreport[\"Member State\"].replace(\"Viet Nam\", \"Vietnam\")\n",
    "\n",
    "countries2 = [\"China\", \"Singapore\", \"Canada\", \"United States of America\", \"Vietnam\", \"Italy\", \n",
    "             \"Germany\"]\n",
    "wreport[\"Member State\"] = wreport[\"Member State\"].replace(\"Viet Nam\", \"Vietnam\")\n",
    "\n",
    "wreport28 = wreport[wreport[\"Member State\"].isin(countries)]\n",
    "wreport28\n",
    "\n",
    "wreport7 = wreport[wreport[\"Member State\"].isin(countries2)]\n",
    "wreport20"
   ]
  },
  {
   "cell_type": "code",
   "execution_count": null,
   "metadata": {},
   "outputs": [],
   "source": [
    "wreport28 = wreport28.set_index('Member State')\n",
    "wreport7 = wreport7.set_index('Member State')"
   ]
  },
  {
   "cell_type": "code",
   "execution_count": null,
   "metadata": {},
   "outputs": [],
   "source": [
    "wreport28 = wreport28.rename(columns = {\"Total population (2002)\": \"Total population\", \n",
    "                           \"Percentage of population aged 60+ (2002)\": \"Percentage of population aged 60+\",\n",
    "                           \"LIFE EXPECTANCY AT BIRTH BOTH SEXES 2002 (YEARS)\": \"LIFE EXPECTANCY AT BIRTH BOTH SEXES 2002\",\n",
    "                           \"PROBABILITY OF DYING UNDER AGE OF 5 FEMALES 2002 (per 1000) \":\"PROBABILITY OF DYING UNDER AGE OF 5 FEMALES 2002\",\n",
    "                           \"PROBABILITY OF DYING UNDER AGE OF 5 MALES 2002 (per 1000) \": \"PROBABILITY OF DYING UNDER AGE OF 5 MALES 2002\",\n",
    "                           \"PROBABILITY OF DYING AGE 15-59 MALES 2002 (per 1000) \": \"PROBABILITY OF DYING AGE 15-59 MALES 2002\",\n",
    "                           \"PROBABILITY OF DYING AGE 15-59 FEMALES 2002 (per 1000) \": \"PROBABILITY OF DYING AGE 15-59 FEMALES 2002\"})"
   ]
  },
  {
   "cell_type": "code",
   "execution_count": null,
   "metadata": {},
   "outputs": [],
   "source": [
    "wreport7 = wreport7.rename(columns = {\"Total population (2002)\": \"Total population\", \n",
    "                           \"Percentage of population aged 60+ (2002)\": \"Percentage of population aged 60+\",\n",
    "                           \"LIFE EXPECTANCY AT BIRTH BOTH SEXES 2002 (YEARS)\": \"LIFE EXPECTANCY AT BIRTH BOTH SEXES 2002\",\n",
    "                           \"PROBABILITY OF DYING UNDER AGE OF 5 FEMALES 2002 (per 1000) \":\"PROBABILITY OF DYING UNDER AGE OF 5 FEMALES 2002\",\n",
    "                           \"PROBABILITY OF DYING UNDER AGE OF 5 MALES 2002 (per 1000) \": \"PROBABILITY OF DYING UNDER AGE OF 5 MALES 2002\",\n",
    "                           \"PROBABILITY OF DYING AGE 15-59 MALES 2002 (per 1000) \": \"PROBABILITY OF DYING AGE 15-59 MALES 2002\",\n",
    "                           \"PROBABILITY OF DYING AGE 15-59 FEMALES 2002 (per 1000) \": \"PROBABILITY OF DYING AGE 15-59 FEMALES 2002\"})"
   ]
  },
  {
   "cell_type": "code",
   "execution_count": null,
   "metadata": {},
   "outputs": [],
   "source": [
    "wreport28"
   ]
  },
  {
   "cell_type": "code",
   "execution_count": null,
   "metadata": {},
   "outputs": [],
   "source": [
    "wreport28.to_csv(\"WHOselect28.csv\")\n",
    "wreport7.to_csv(\"WHOselect7.csv\")"
   ]
  },
  {
   "cell_type": "code",
   "execution_count": null,
   "metadata": {},
   "outputs": [],
   "source": [
    "dfD = dfD.rename(columns = {\"United States\": \"US\"})\n",
    "dfC = dfC.rename(columns = {\"United States\": \"US\"})\n",
    "dfR = dfR.rename(columns = {\"United States\": \"US\"})"
   ]
  },
  {
   "cell_type": "code",
   "execution_count": null,
   "metadata": {},
   "outputs": [],
   "source": [
    "d = dfD.loc[\"2003-07-11\"]\n",
    "dc = dfCoronaD[\"3/29/20\"]\n",
    "d = d.rename(index = {\"Canada\" : \"Canada 2003\", \"China\": \"China 2003\", \"Germany\": \"Germany 2003\",\n",
    "                       \"Italy\": \"Italy 2003\", \"Singapore\": \"Singapore 2003\", \"US\": \"US 2003\", \n",
    "                       \"Vietnam\": \"Vietnam 2003\"})\n",
    "dc = dc.rename(index = {\"Canada\" : \"Canada 2020\", \"China\": \"China 2020\", \"Germany\": \"Germany 2020\",\n",
    "                       \"Italy\": \"Italy 2020\", \"Singapore\": \"Singapore 2020\", \"US\": \"US 2020\", \n",
    "                       \"Vietnam\": \"Vietnam 2020\"})\n",
    "\n",
    "dfSCD = pd.DataFrame(pd.concat([d, dc], axis = 0)).T\n",
    "dfSCD = dfSCD.rename(index = {0: \"Total Deaths\"})\n",
    "dfSCD"
   ]
  },
  {
   "cell_type": "code",
   "execution_count": null,
   "metadata": {},
   "outputs": [],
   "source": [
    "dfSCD.to_csv(\"/Users/markomiholjcic/Documents/GitHub/BMI6106/Project copy/TotalDeathsLD.csv\")"
   ]
  },
  {
   "cell_type": "code",
   "execution_count": null,
   "metadata": {},
   "outputs": [],
   "source": [
    "d = dfC.loc[\"2003-07-11\"]\n",
    "dc = dfCoronaC[\"3/29/20\"]\n",
    "\n",
    "d = d.rename(index = {\"Canada\" : \"Canada 2003\", \"China\": \"China 2003\", \"Germany\": \"Germany 2003\",\n",
    "                       \"Italy\": \"Italy 2003\", \"Singapore\": \"Singapore 2003\", \"US\": \"US 2003\", \n",
    "                       \"Vietnam\": \"Vietnam 2003\"})\n",
    "dc = dc.rename(index = {\"Canada\" : \"Canada 2020\", \"China\": \"China 2020\", \"Germany\": \"Germany 2020\",\n",
    "                       \"Italy\": \"Italy 2020\", \"Singapore\": \"Singapore 2020\", \"US\": \"US 2020\", \n",
    "                       \"Vietnam\": \"Vietnam 2020\"})\n",
    "\n",
    "dfSCC = pd.DataFrame(pd.concat([d,dc], axis = 0)).T\n",
    "dfSCC = dfSCC.rename(index = {0: \"Cumulative Cases\"})\n",
    "dfSCC"
   ]
  },
  {
   "cell_type": "code",
   "execution_count": null,
   "metadata": {},
   "outputs": [],
   "source": [
    "dfSCC.to_csv(\"/Users/markomiholjcic/Documents/GitHub/BMI6106/Project copy/Cumulative.csv\")"
   ]
  },
  {
   "cell_type": "code",
   "execution_count": null,
   "metadata": {},
   "outputs": [],
   "source": [
    "d = dfR.loc[\"2003-07-11\"]\n",
    "dc = dfCoronaR[\"3/29/20\"]\n",
    "\n",
    "d = d.rename(index = {\"Canada\" : \"Canada 2003\", \"China\": \"China 2003\", \"Germany\": \"Germany 2003\",\n",
    "                       \"Italy\": \"Italy 2003\", \"Singapore\": \"Singapore 2003\", \"US\": \"US 2003\", \n",
    "                       \"Vietnam\": \"Vietnam 2003\"})\n",
    "dc = dc.rename(index = {\"Canada\" : \"Canada 2020\", \"China\": \"China 2020\", \"Germany\": \"Germany 2020\",\n",
    "                       \"Italy\": \"Italy 2020\", \"Singapore\": \"Singapore 2020\", \"US\": \"US 2020\", \n",
    "                       \"Vietnam\": \"Vietnam 2020\"})\n",
    "\n",
    "dfSCR = pd.DataFrame(pd.concat([d,dc], axis = 0)).T\n",
    "dfSCR = dfSCR.rename(index = {0: \"Number of Recovered\"})\n",
    "dfSCR"
   ]
  },
  {
   "cell_type": "code",
   "execution_count": null,
   "metadata": {},
   "outputs": [],
   "source": [
    "dfSCR.to_csv(\"/Users/markomiholjcic/Documents/GitHub/BMI6106/Project copy/Recovered.csv\")"
   ]
  },
  {
   "cell_type": "code",
   "execution_count": null,
   "metadata": {},
   "outputs": [],
   "source": [
    "table = pd.concat([dfSCC, dfSCD], axis = 0)\n",
    "table = table.T"
   ]
  },
  {
   "cell_type": "code",
   "execution_count": null,
   "metadata": {},
   "outputs": [],
   "source": [
    "table.to_csv(\"SarsCoronaTDandCC.csv\")"
   ]
  },
  {
   "cell_type": "code",
   "execution_count": null,
   "metadata": {},
   "outputs": [],
   "source": [
    "d = dfC.loc[\"2003-07-11\"]\n",
    "d"
   ]
  },
  {
   "cell_type": "code",
   "execution_count": null,
   "metadata": {},
   "outputs": [],
   "source": [
    "dfSCC20 = pd.DataFrame(d).T\n",
    "dfSCC20 = dfSCC20.rename(index = {0: \"Cumulative Cases\"})\n",
    "dfSCC20"
   ]
  },
  {
   "cell_type": "code",
   "execution_count": null,
   "metadata": {},
   "outputs": [],
   "source": [
    "dfSCC20.to_csv(\"/Users/markomiholjcic/Documents/GitHub/BMI6106/Project copy/Cumulative20.csv\")"
   ]
  },
  {
   "cell_type": "code",
   "execution_count": null,
   "metadata": {},
   "outputs": [],
   "source": []
  }
 ],
 "metadata": {
  "kernelspec": {
   "display_name": "Python 3",
   "language": "python",
   "name": "python3"
  },
  "language_info": {
   "codemirror_mode": {
    "name": "ipython",
    "version": 3
   },
   "file_extension": ".py",
   "mimetype": "text/x-python",
   "name": "python",
   "nbconvert_exporter": "python",
   "pygments_lexer": "ipython3",
   "version": "3.7.6"
  }
 },
 "nbformat": 4,
 "nbformat_minor": 4
}
