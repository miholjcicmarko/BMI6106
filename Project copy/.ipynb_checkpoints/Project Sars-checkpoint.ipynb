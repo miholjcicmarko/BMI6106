{
 "cells": [
  {
   "cell_type": "code",
   "execution_count": 76,
   "metadata": {},
   "outputs": [],
   "source": [
    "library(tidyverse)\n",
    "library(\"ggplot2\")\n",
    "library(\"dplyr\")\n",
    "library(\"reshape2\")\n",
    "library(\"knitr\")\n",
    "library(e1071)\n",
    "library(mosaic)\n",
    "\n",
    "dfSC = read.csv(\"CumulativeCases.csv\", header = T)\n",
    "dfSD = read.csv(\"TotalDeaths.csv\", header = T)\n",
    "dfSR = read.csv(\"TotalRecovered2003.csv\")\n",
    "dfCC = read.csv(\"CumulCases2020.csv\")\n",
    "dfCD = read.csv(\"TotalDeaths2020.csv\")\n",
    "\n",
    "dfW_7 = read.csv(\"WHOselect7.csv\", header = T)\n",
    "\n",
    "cumulSC = read.csv(\"Cumulative.csv\")\n",
    "totDLD = read.csv(\"TotalDeathsLD.csv\")\n",
    "\n",
    "cumulSC28 = read.csv(\"Cumulative28.csv\")\n",
    "\n",
    "dfC3 = read.csv(\"CulumNon-Interpolated2003.csv\", header = T)\n",
    "dfD3 = read.csv(\"DeathNon-Interpolated2003.csv\", header = T)\n",
    "dfR3 = read.csv(\"RecoveredNon-Interpolated2003.csv\", header = T)"
   ]
  },
  {
   "cell_type": "markdown",
   "metadata": {},
   "source": [
    "The histogram and boxplot are displaying the distribution of the number of cumulative cases in each selected country during the 2003 SARS outbreak. "
   ]
  },
  {
   "cell_type": "code",
   "execution_count": null,
   "metadata": {},
   "outputs": [],
   "source": [
    "t2003 <- c(cumulSC$Canada.2003, cumulSC$Germany.2003, cumulSC$Italy.2003, cumulSC$Singapore.2003, cumulSC$US.2003, cumulSC$Vietnam.2003, cumulSC$China.2003)\n",
    "hist(t2003, xlab ='Number of Total Cases', main = \"Histogram of Number of Cases in 2003 SARS Outbreak\", breaks = 30)\n",
    "skew <- skewness(t2003)\n",
    "cat(\"Skewness: \", skew, \"\\n\")\n",
    "k <- kurtosis(t2003)\n",
    "cat(\"Kurtosis: \", k)\n",
    "\n",
    "favstats(t2003)\n",
    "boxplot(t2003, ylab = \"Number of Total Cases SARS 2003\", main = \"Boxplot of Number of Cases SARS 2003\")"
   ]
  },
  {
   "cell_type": "markdown",
   "metadata": {},
   "source": [
    "The distribution is positively skewed and has heavier tails. The number of cumulative cases in China seems to be an outlier. The outlier is removed in order to see how the distribution changes. "
   ]
  },
  {
   "cell_type": "markdown",
   "metadata": {},
   "source": [
    "The histogram and boxplot are displaying the distribution of the number of cumulative cases in each selected country during the 2003 SARS outbreak (excluding China). "
   ]
  },
  {
   "cell_type": "code",
   "execution_count": null,
   "metadata": {},
   "outputs": [],
   "source": [
    "t2003_2 = c(cumulSC$Canada.2003, cumulSC$Germany.2003, cumulSC$Italy.2003, cumulSC$Singapore.2003, cumulSC$US.2003, cumulSC$Vietnam.2003)\n",
    "hist(t2003_2, xlab ='Number of Total Cases', main = \"Histogram of Number of Cases in 2003: SARS Outbreak W/O Outliers\", breaks = 20)\n",
    "skew <- skewness(t2003_2)\n",
    "cat(\"Skewness: \", skew, \"\\n\")\n",
    "k <- kurtosis(t2003_2)\n",
    "cat(\"Kurtosis: \", k)\n",
    "\n",
    "favstats(t2003_2)\n",
    "boxplot(t2003_2, ylab = \"Number of Total Cases\", main = \"Boxplot of Number of Cases SARS 2003 W/O Outliers\")"
   ]
  },
  {
   "cell_type": "markdown",
   "metadata": {},
   "source": [
    "The skew decreased significantly after the removal of China's 2003 SARS cumulative case data. According to the skew value, the distribution is almost completely normal. The kurtosis value indicates that the new distribution has light tails.  "
   ]
  },
  {
   "cell_type": "markdown",
   "metadata": {},
   "source": [
    "The histogram and boxplot are displaying the distribution of the number of cumulative cases in each selected country during the 2020 COVID-19 outbreak. "
   ]
  },
  {
   "cell_type": "code",
   "execution_count": null,
   "metadata": {},
   "outputs": [],
   "source": [
    "t2020 <- c(cumulSC$Canada.2020, cumulSC$Germany.2020, cumulSC$Italy.2020, cumulSC$Singapore.2020, cumulSC$US.2020, cumulSC$Vietnam.2020, cumulSC$China.2020)\n",
    "hist(t2020, xlab ='Number of Total Cases', main = \"Histogram of Number of Cases in 2020: COVID Outbreak\", breaks = 6)\n",
    "skew <- skewness(t2020)\n",
    "cat(\"Skewness: \", skew, \"\\n\")\n",
    "k <- kurtosis(t2020)\n",
    "cat(\"Kurtosis: \", k)\n",
    "\n",
    "favstats(t2020)\n",
    "boxplot(t2020, ylab = \"Number of Total Cases\", main = \"Boxplot of Number of Cases in 2020: COVID Outbreak\")"
   ]
  },
  {
   "cell_type": "markdown",
   "metadata": {},
   "source": [
    "The distribution is slightly positively skewed and is not completely normal. No outliers were found in this data. The kurtosis was a large negative value, which means that the distribution had light tails. "
   ]
  },
  {
   "cell_type": "markdown",
   "metadata": {},
   "source": [
    "The histogram and boxplot are displaying the distribution of the death totals in each selected country during the 2003 SARS outbreak."
   ]
  },
  {
   "cell_type": "code",
   "execution_count": null,
   "metadata": {},
   "outputs": [],
   "source": [
    "d2003 = c(totDLD$Canada.2003, totDLD$Germany.2003, totDLD$Italy.2003, totDLD$Singapore.2003, totDLD$US.2003, totDLD$Vietnam.2003, totDLD$China.2003)\n",
    "hist(d2003, xlab ='Number of Total Deaths', main = \"Histogram of Number of Deaths in 2003: SARS Outbreak\", breaks = 25)\n",
    "skew <- skewness(d2003)\n",
    "cat(\"Skewness: \", skew, \"\\n\")\n",
    "k <- kurtosis(d2003)\n",
    "cat(\"Kurtosis: \", k)\n",
    "\n",
    "favstats(d2003)\n",
    "boxplot(d2003, ylab = \"Number of Total Deaths\", main = \"Boxplot of Number of Deaths 2003 SARS Outbreak\")"
   ]
  },
  {
   "cell_type": "markdown",
   "metadata": {},
   "source": [
    "The distribution is positively skewed and has heavier tails. The total deaths in China seems to be an outlier. The outlier is removed in order to see how the distribution changes. "
   ]
  },
  {
   "cell_type": "markdown",
   "metadata": {},
   "source": [
    "The histogram and boxplot are displaying the distribution of the death totals in each selected country during the 2003 SARS outbreak (excluding China)."
   ]
  },
  {
   "cell_type": "code",
   "execution_count": null,
   "metadata": {},
   "outputs": [],
   "source": [
    "d2003 = c(totDLD$Canada.2003, totDLD$Germany.2003, totDLD$Italy.2003, totDLD$Singapore.2003, totDLD$US.2003, totDLD$Vietnam.2003)\n",
    "hist(d2003, xlab ='Number of Total Deaths', main = \"Number of Deaths in 2003: SARS Outbreak W/O Outliers\", breaks = 15)\n",
    "skew <- skewness(d2003)\n",
    "cat(\"Skewness: \", skew, \"\\n\")\n",
    "k <- kurtosis(d2003)\n",
    "cat(\"Kurtosis: \", k)\n",
    "\n",
    "favstats(d2003)\n",
    "boxplot(d2003, ylab = \"Number of Total Deaths\", main = \"Number of Deaths 2003 SARS Outbreak W/O Outliers\")"
   ]
  },
  {
   "cell_type": "markdown",
   "metadata": {},
   "source": [
    "The removal of China created a new distribution with lighter tails. The distribution is still positively skewed. However, the removal of China significantly lowered the skewness of the data. "
   ]
  },
  {
   "cell_type": "markdown",
   "metadata": {},
   "source": [
    "The histogram and boxplot are displaying the distribution of the death totals in each selected country during the COVID-19 outbreak."
   ]
  },
  {
   "cell_type": "code",
   "execution_count": null,
   "metadata": {},
   "outputs": [],
   "source": [
    "d2020 = c(totDLD$Canada.2020, totDLD$Germany.2020, totDLD$Italy.2020, totDLD$Singapore.2020, totDLD$US.2020, totDLD$Vietnam.2020, totDLD$China.2020)\n",
    "hist(d2020, xlab ='Number of Total Deaths', main = \"Histogram of Number of Deaths in 2020: COVID Outbreak\", breaks = 20)\n",
    "skew <- skewness(d2020)\n",
    "cat(\"Skewness: \", skew, \"\\n\")\n",
    "k <- kurtosis(d2020)\n",
    "cat(\"Kurtosis: \", k)\n",
    "\n",
    "favstats(d2020)\n",
    "boxplot(d2020, ylab = \"Number of Total Deaths\", main = \"Boxplot of Number of Deaths 2020 COVID Outbreak\")"
   ]
  },
  {
   "cell_type": "markdown",
   "metadata": {},
   "source": [
    "The distribution is positively skewed. The kurtosis value indicates that the distribution does not have lighter or heavier tails.The total deaths in Italy seems to be an outlier. The outlier is removed in order to see how the distribution changes. "
   ]
  },
  {
   "cell_type": "markdown",
   "metadata": {},
   "source": [
    "The histogram and boxplot are displaying the distribution of the death totals in each selected country during the COVID-19 outbreak (excluding Italy)."
   ]
  },
  {
   "cell_type": "code",
   "execution_count": null,
   "metadata": {},
   "outputs": [],
   "source": [
    "d2020 = c(totDLD$Canada.2020, totDLD$Germany.2020, totDLD$Singapore.2020, totDLD$US.2020, totDLD$Vietnam.2020, totDLD$China.2020)\n",
    "hist(d2020, xlab ='Number of Total Deaths', main = \"Number of Deaths in 2020: COVID Outbreak W/O Outliers\", breaks = 15)\n",
    "skew <- skewness(d2020)\n",
    "cat(\"Skewness: \", skew, \"\\n\")\n",
    "k <- kurtosis(d2020)\n",
    "cat(\"Kurtosis: \", k)\n",
    "\n",
    "favstats(d2020)\n",
    "boxplot(d2020, ylab = \"Number of Total Deaths\", main = \"Number of Deaths 2020 COVID Outbreak W/O Outliers\")"
   ]
  },
  {
   "cell_type": "markdown",
   "metadata": {},
   "source": [
    "The removal of Italy created a new distribution with lighter tails. The distribution is still positively skewed. However, the removal of Italy significantly lowered the skewness of the data. "
   ]
  },
  {
   "cell_type": "markdown",
   "metadata": {},
   "source": [
    "This loop calculates the percentage of the population that were infected by SARS in each selected country."
   ]
  },
  {
   "cell_type": "code",
   "execution_count": null,
   "metadata": {},
   "outputs": [],
   "source": [
    "t2003 <- c(cumulSC$Canada.2003, cumulSC$Germany.2003, cumulSC$Italy.2003, cumulSC$Singapore.2003, cumulSC$US.2003, cumulSC$Vietnam.2003, cumulSC$China.2003)\n",
    "\n",
    "pop <- c(31644028, 82534176, 57313203, 4114826, 290107933, 82301656, 1288000000)\n",
    "\n",
    "for (i in 1:length(pop)) {\n",
    "    t2003[i] <- t2003[i]/pop[i]\n",
    "}\n",
    "t2003"
   ]
  },
  {
   "cell_type": "markdown",
   "metadata": {},
   "source": [
    "The histogram and boxplot are displaying the distribution of the percentage of infected in each selected country during the SARS outbreak."
   ]
  },
  {
   "cell_type": "code",
   "execution_count": null,
   "metadata": {},
   "outputs": [],
   "source": [
    "hist(t2003, xlab ='Percentage of Population Infected', main = \"Percentage of Population Infected: 2003 SARS Outbreak\", breaks = 30)\n",
    "skew <- skewness(t2003)\n",
    "cat(\"Skewness: \", skew, \"\\n\")\n",
    "k <- kurtosis(t2003)\n",
    "cat(\"Kurtosis: \", k)\n",
    "\n",
    "favstats(t2003)\n",
    "boxplot(t2003, ylab = \"Percentage of Population Infected\", main = \"Boxplot of Percentage of Population Infected: SARS 2003\")"
   ]
  },
  {
   "cell_type": "markdown",
   "metadata": {},
   "source": [
    "The distribution is positively skewed. The kurtosis value indicates that the distribution has heavier tails. The percentage of infected population in Singapore seems to be an outlier. The outlier is removed in order to see how the distribution changes."
   ]
  },
  {
   "cell_type": "code",
   "execution_count": null,
   "metadata": {},
   "outputs": [],
   "source": [
    "t2003 <- c(cumulSC$Canada.2003, cumulSC$Germany.2003, cumulSC$Italy.2003, cumulSC$US.2003, cumulSC$Vietnam.2003, cumulSC$China.2003)\n",
    "\n",
    "pop <- c(31644028, 82534176, 57313203, 290107933, 82301656, 1288000000)\n",
    "\n",
    "for (i in 1:length(pop)) {\n",
    "    t2003[i] <- t2003[i]/pop[i]\n",
    "}\n",
    "t2003"
   ]
  },
  {
   "cell_type": "markdown",
   "metadata": {},
   "source": [
    "The histogram and boxplot are displaying the distribution of the percentage of infected in each selected country during the SARS outbreak (excluding Singapore)."
   ]
  },
  {
   "cell_type": "code",
   "execution_count": null,
   "metadata": {},
   "outputs": [],
   "source": [
    "hist(t2003, xlab ='Percentage of Population Infected', main = \"Histogram of Percentage of Population Infected During 2003 SARS Outbreak\", breaks = 30)\n",
    "skew <- skewness(t2003)\n",
    "cat(\"Skewness: \", skew, \"\\n\")\n",
    "k <- kurtosis(t2003)\n",
    "cat(\"Kurtosis: \", k)\n",
    "\n",
    "favstats(t2003)\n",
    "boxplot(t2003, ylab = \"Percentage of Population Infected SARS 2003\", main = \"Boxplot of Percentage of Population Infected SARS 2003\")"
   ]
  },
  {
   "cell_type": "markdown",
   "metadata": {},
   "source": [
    "The removal of Singapore created an new distribution with lighter tails. The distribution is still positively skewed. However, the removal of Singapore significantly lowered the skewness of the data. A new outlier appears in this distribution. The outlier is Canada. "
   ]
  },
  {
   "cell_type": "markdown",
   "metadata": {},
   "source": [
    "This for loop finds the percentage of confirmed cases that resulted in deaths in the 2003 SARS outbreak. "
   ]
  },
  {
   "cell_type": "code",
   "execution_count": null,
   "metadata": {},
   "outputs": [],
   "source": [
    "td2003 <- c(cumulSC$Canada.2003, cumulSC$Germany.2003, cumulSC$Italy.2003, cumulSC$Singapore.2003, cumulSC$US.2003, cumulSC$Vietnam.2003, cumulSC$China.2003)\n",
    "\n",
    "d2003 <- c(totDLD$Canada.2003, totDLD$Germany.2003, totDLD$Italy.2003, totDLD$Singapore.2003, totDLD$US.2003, totDLD$Vietnam.2003, totDLD$China.2003)\n",
    "\n",
    "for (i in 1:length(d2003)) {\n",
    "    td2003[i] <- d2003[i]/td2003[i]\n",
    "}\n",
    "\n",
    "td2003"
   ]
  },
  {
   "cell_type": "markdown",
   "metadata": {},
   "source": [
    "The histogram and boxplot are displaying the distribution of the percentage of confirmed cases that resulted in deaths in each country during the SARS outbreak."
   ]
  },
  {
   "cell_type": "code",
   "execution_count": null,
   "metadata": {},
   "outputs": [],
   "source": [
    "hist(td2003, xlab ='Percentage that Resulted in Deaths', main = \"Histogram of Percentage of Confirmed Cases that resulted in Deaths During 2003 SARS Outbreak\", breaks = 30)\n",
    "skew <- skewness(td2003)\n",
    "cat(\"Skewness: \", skew, \"\\n\")\n",
    "k <- kurtosis(td2003)\n",
    "cat(\"Kurtosis: \", k)\n",
    "\n",
    "favstats(td2003)\n",
    "boxplot(td2003, ylab = \"Percentage that Resulted in Deaths SARS 2003\", main = \"Boxplot of Percentage of Confirmed Cases that Resulted in Deaths SARS 2003\")"
   ]
  },
  {
   "cell_type": "markdown",
   "metadata": {},
   "source": [
    "The distribution is slightly positively skewed. The kurtosis value indicates that the distribution has lighter tails. \n",
    "There are no outliers for this distribution. Singapore has the highest percentage of confirmed cases resulting in deaths, but Canada is a close second. "
   ]
  },
  {
   "cell_type": "markdown",
   "metadata": {},
   "source": [
    "This loop calculates the percentage of the population that were infected by COVID-19 in each country."
   ]
  },
  {
   "cell_type": "code",
   "execution_count": null,
   "metadata": {},
   "outputs": [],
   "source": [
    "t2020 <- c(cumulSC$Canada.2020, cumulSC$Germany.2020, cumulSC$Italy.2020, cumulSC$Singapore.2020, cumulSC$US.2020, cumulSC$Vietnam.2020, cumulSC$China.2020)\n",
    "\n",
    "pop <- c(37057765, 82905782, 60421760, 5638676, 326687501, 95540395, 1393000000)\n",
    "\n",
    "for (i in 1:length(pop)) {\n",
    "    t2020[i] <- t2020[i]/pop[i]\n",
    "}\n",
    "t2020"
   ]
  },
  {
   "cell_type": "markdown",
   "metadata": {},
   "source": [
    "The histogram and boxplot are displaying the distribution of the percentage of infected in each selected country during the COVID-19 outbreak."
   ]
  },
  {
   "cell_type": "code",
   "execution_count": null,
   "metadata": {},
   "outputs": [],
   "source": [
    "hist(t2020, xlab ='Percentage of Population Infected', main = \"Histogram of Percentage of Population Infected During 2020: COVID Outbreak\", breaks = 6)\n",
    "skew <- skewness(t2020)\n",
    "cat(\"Skewness: \", skew, \"\\n\")\n",
    "k <- kurtosis(t2020)\n",
    "cat(\"Kurtosis: \", k)\n",
    "\n",
    "favstats(t2020)\n",
    "boxplot(t2020, ylab = \"Percentage of Population Infected\", main = \"Boxplot of Percent Infected in Each Country in 2020: COVID Outbreak\")"
   ]
  },
  {
   "cell_type": "markdown",
   "metadata": {},
   "source": [
    "The distribution is positively skewed. The kurtosis value indicates that the distribution has lighter tails. The percentage of infected population in Italy seems to be an outlier. The outlier is removed in order to see how the distribution changes."
   ]
  },
  {
   "cell_type": "code",
   "execution_count": null,
   "metadata": {},
   "outputs": [],
   "source": [
    "t2020 <- c(cumulSC$Canada.2020, cumulSC$Germany.2020, cumulSC$Singapore.2020, cumulSC$US.2020, cumulSC$Vietnam.2020, cumulSC$China.2020)\n",
    "\n",
    "pop <- c(37057765, 82905782, 5638676, 326687501, 95540395, 1393000000)\n",
    "\n",
    "for (i in 1:length(pop)) {\n",
    "    t2020[i] <- t2020[i]/pop[i]\n",
    "}\n",
    "t2020"
   ]
  },
  {
   "cell_type": "markdown",
   "metadata": {},
   "source": [
    "The histogram and boxplot are displaying the distribution of the percentage of infected in each country during the COVID-19 outbreak (excluding Italy)."
   ]
  },
  {
   "cell_type": "code",
   "execution_count": null,
   "metadata": {},
   "outputs": [],
   "source": [
    "hist(t2020, xlab ='Percentage of Population Infected', main = \"Histogram of Percentage of Population Infected During 2020: COVID Outbreak\", breaks = 6)\n",
    "skew <- skewness(t2020)\n",
    "cat(\"Skewness: \", skew, \"\\n\")\n",
    "k <- kurtosis(t2020)\n",
    "cat(\"Kurtosis: \", k)\n",
    "\n",
    "favstats(t2020)\n",
    "boxplot(t2020, ylab = \"Percentage of Population Infected\", main = \"Boxplot of Percent Infected in Each Country in 2020: COVID Outbreak W/O Outliers\")"
   ]
  },
  {
   "cell_type": "markdown",
   "metadata": {},
   "source": [
    "With the removal of Italy, the tails became lighter and the skew became smaller. However, the skew stayed positive. "
   ]
  },
  {
   "cell_type": "markdown",
   "metadata": {},
   "source": [
    "This for loop finds the percentage of confirmed cases that resulted in deaths during the COVID-19 outbreak. "
   ]
  },
  {
   "cell_type": "code",
   "execution_count": null,
   "metadata": {},
   "outputs": [],
   "source": [
    "td2020 <- c(cumulSC$Canada.2020, cumulSC$Germany.2020, cumulSC$Italy.2020, cumulSC$Singapore.2020, cumulSC$US.2020, cumulSC$Vietnam.2020, cumulSC$China.2020)\n",
    "\n",
    "d2020 <- c(totDLD$Canada.2020, totDLD$Germany.2020, totDLD$Italy.2020, totDLD$Singapore.2020, totDLD$US.2020, totDLD$Vietnam.2020, totDLD$China.2020)\n",
    "\n",
    "for (i in 1:length(d2020)) {\n",
    "    td2020[i] <- d2020[i]/td2020[i]\n",
    "}\n",
    "\n",
    "td2020"
   ]
  },
  {
   "cell_type": "markdown",
   "metadata": {},
   "source": [
    "The histogram and boxplot are displaying the distribution of the percentage of confirmed cases that resulted in deaths in each selected country during the COVID-19 outbreak."
   ]
  },
  {
   "cell_type": "code",
   "execution_count": null,
   "metadata": {},
   "outputs": [],
   "source": [
    "hist(td2020, xlab ='Percentage that Resulted in Deaths', main = \"Percentage of Confirmed Cases Resulting in Deaths COVID-19 Outbreak\", breaks = 30)\n",
    "skew <- skewness(td2020)\n",
    "cat(\"Skewness: \", skew, \"\\n\")\n",
    "k <- kurtosis(td2020)\n",
    "cat(\"Kurtosis: \", k)\n",
    "\n",
    "favstats(td2020)\n",
    "boxplot(td2020, ylab = \"Percentage Deaths COVID-19 Outbreak\", main = \"Percentage of Confirmed Cases Resulting in Deaths COVID-19\")"
   ]
  },
  {
   "cell_type": "markdown",
   "metadata": {},
   "source": [
    "The distribution is positively skewed. The kurtosis value indicates that the distribution has heavier tails. The percentage of cases resulting in deaths in Italy seems to be an outlier. The outlier is removed in order to see how the distribution changes."
   ]
  },
  {
   "cell_type": "code",
   "execution_count": null,
   "metadata": {},
   "outputs": [],
   "source": [
    "td2020 <- c(cumulSC$Canada.2020, cumulSC$Germany.2020, cumulSC$Singapore.2020, cumulSC$US.2020, cumulSC$Vietnam.2020, cumulSC$China.2020)\n",
    "\n",
    "d2020 <- c(totDLD$Canada.2020, totDLD$Germany.2020, totDLD$Singapore.2020, totDLD$US.2020, totDLD$Vietnam.2020, totDLD$China.2020)\n",
    "\n",
    "for (i in 1:length(d2020)) {\n",
    "    td2020[i] <- d2020[i]/td2020[i]\n",
    "}\n",
    "\n",
    "td2020"
   ]
  },
  {
   "cell_type": "markdown",
   "metadata": {},
   "source": [
    "The histogram and boxplot are displaying the distribution of the percentage of confirmed cases that resulted in deaths in each selected country during the COVID-19 outbreak (excluding Italy)."
   ]
  },
  {
   "cell_type": "code",
   "execution_count": null,
   "metadata": {},
   "outputs": [],
   "source": [
    "hist(td2020, xlab ='Percentage that Resulted in Deaths', main = \"Percentage of Confirmed Cases Resulting in Deaths COVID-19 Outbreak\", breaks = 30)\n",
    "skew <- skewness(td2020)\n",
    "cat(\"Skewness: \", skew, \"\\n\")\n",
    "k <- kurtosis(td2020)\n",
    "cat(\"Kurtosis: \", k)\n",
    "\n",
    "favstats(td2020)\n",
    "boxplot(td2020, ylab = \"Percentage Deaths COVID-19 Outbreak\", main = \"Percentage of Confirmed Cases Resulting in Deaths COVID-19\")"
   ]
  },
  {
   "cell_type": "markdown",
   "metadata": {},
   "source": [
    "With the removal of Italy, the new distribution decreased in skewness. The tails of the distribution became lighter. China is the outlier of this distribution."
   ]
  },
  {
   "cell_type": "code",
   "execution_count": null,
   "metadata": {},
   "outputs": [],
   "source": [
    "library(ggplot2)\n",
    "\n",
    "data <- data.frame(CountryYear= c(\"Canada 2020\", \"Canada 2003\", \"Germany 2020\", \"Germany 2003\", \"Italy 2020\", \n",
    "                                  \"Italy 2003\", \"Singapore 2020\", \"Singapore 2003\", \"US 2020\", \"US 2003\", \n",
    "                                  \"Vietnam 2020\", \"Vietnam 2003\", \"China 2020\", \"China 2003\"),  \n",
    "                   Total=c(totDLD$Canada.2020, totDLD$Canada.2003, totDLD$Germany.2020, totDLD$Germany.2003,\n",
    "                          totDLD$Italy.2020, totDLD$Italy.2003, totDLD$Singapore.2020, totDLD$Singapore.2003,\n",
    "                          totDLD$US.2020, totDLD$US.2003, totDLD$Vietnam.2020, totDLD$Vietnam.2003,\n",
    "                          totDLD$China.2020, totDLD$China.2003))\n",
    "\n",
    "barplot <- ggplot(data, aes(x=CountryYear, y=Total)) + geom_bar(stat = \"identity\", fill = 'burlywood4') + \n",
    "                    ggtitle(\"Comparison of countries: Death Totals from Both Outbreaks\") + xlab(\"Country And Year\") + ylab(\"Total Deaths\") +\n",
    "                    theme(axis.text.x = element_text(angle = 90))\n",
    "barplot"
   ]
  },
  {
   "cell_type": "markdown",
   "metadata": {},
   "source": [
    "The barchart shows that the number of deaths in each selected country is mostly larger for the COVID-19 outbreak. The exceptions to this claim are Singapore and Vietnam. The total number of deaths in China's SARS 2003 outbreak is slightly larger than Germany's COVID-19 death total. "
   ]
  },
  {
   "cell_type": "code",
   "execution_count": null,
   "metadata": {},
   "outputs": [],
   "source": [
    "data <- data.frame(CountryYear= c(\"Canada 2020\", \"Canada 2003\", \"Germany 2020\", \"Germany 2003\", \"Italy 2020\", \n",
    "                                  \"Italy 2003\", \"Singapore 2020\", \"Singapore 2003\", \"US 2020\", \"US 2003\", \n",
    "                                  \"Vietnam 2020\", \"Vietnam 2003\", \"China 2020\", \"China 2003\"),  \n",
    "                   Total=c(cumulSC$Canada.2020, cumulSC$Canada.2003, cumulSC$Germany.2020, cumulSC$Germany.2003,\n",
    "                          cumulSC$Italy.2020, cumulSC$Italy.2003, cumulSC$Singapore.2020, cumulSC$Singapore.2003,\n",
    "                          cumulSC$US.2020, cumulSC$US.2003, cumulSC$Vietnam.2020, cumulSC$Vietnam.2003,\n",
    "                          cumulSC$China.2020, cumulSC$China.2003))\n",
    "\n",
    "barplot <- ggplot(data, aes(x=CountryYear, y=Total)) + geom_bar(stat = \"identity\", fill = 'orange2') + \n",
    "                    ggtitle(\"Comparison of countries: Cumulative Cases from Both Outbreaks\") + xlab(\"Country And Year\") + ylab(\"Total Deaths\") +\n",
    "                    theme(axis.text.x = element_text(angle = 90))\n",
    "barplot"
   ]
  },
  {
   "cell_type": "markdown",
   "metadata": {},
   "source": [
    "The barchart shows that the number of cumulative cases in each selected country is mostly larger for the COVID-19 outbreak.  The total number of cumulative cases in China's SARS 2003 outbreak is slightly larger than Canada's COVID-19 total of cumulative cases."
   ]
  },
  {
   "cell_type": "code",
   "execution_count": null,
   "metadata": {},
   "outputs": [],
   "source": [
    "data <- data.frame(CountryYear= c(\"Canada\", \"Germany\", \"Italy\", \"Singapore\", \"US\", \"Vietnam\", \"China\"),  \n",
    "                   Total=c(cumulSC$Canada.2003, cumulSC$Germany.2003, cumulSC$Italy.2003, cumulSC$Singapore.2003,\n",
    "                        cumulSC$US.2003, cumulSC$Vietnam.2003, cumulSC$China.2003))\n",
    "\n",
    "barplot <- ggplot(data, aes(x=CountryYear, y=Total)) + geom_bar(stat = \"identity\", fill = 'deeppink2') + \n",
    "                    ggtitle(\"Comparison of countries: Cumulative Cases SARS 2003\") + xlab(\"Country And Year\") + ylab(\"Total Cases\") +\n",
    "                    theme(axis.text.x = element_text(angle = 90))\n",
    "barplot"
   ]
  },
  {
   "cell_type": "markdown",
   "metadata": {},
   "source": [
    "This barchart shows that China has the most cases out of the selected countries. The US, Singapore,and Canada seem to have a similar number of cumulative cases. "
   ]
  },
  {
   "cell_type": "code",
   "execution_count": null,
   "metadata": {},
   "outputs": [],
   "source": [
    "library(ggplot2)\n",
    "\n",
    "data <- data.frame(CountryYear= c(\"Canada\", \"Germany\", \"Italy\", \"Singapore\", \"US\", \"Vietnam\", \"China\"),  \n",
    "                   Total=c(totDLD$Canada.2003, totDLD$Germany.2003, totDLD$Italy.2003, totDLD$Singapore.2003,\n",
    "                           totDLD$US.2003, totDLD$Vietnam.2003, totDLD$China.2003))\n",
    "\n",
    "barplot <- ggplot(data, aes(x=CountryYear, y=Total)) + geom_bar(stat = \"identity\", fill=\"steelblue\") + \n",
    "                    ggtitle(\"Comparison of countries: Death Totals SARS 2003\") + xlab(\"Country And Year\") + ylab(\"Total Deaths\") +\n",
    "                    theme(axis.text.x = element_text(angle = 90))\n",
    "barplot"
   ]
  },
  {
   "cell_type": "markdown",
   "metadata": {},
   "source": [
    "This barchart shows that China had the highest number of deaths. Canada and Singapore had a similar number of deaths during the SARS outbreak. The United States, Germany, and Italy did not have a case that resulted in death.  "
   ]
  },
  {
   "cell_type": "code",
   "execution_count": null,
   "metadata": {},
   "outputs": [],
   "source": [
    "library(pwr)\n",
    "library(distr)"
   ]
  },
  {
   "cell_type": "code",
   "execution_count": null,
   "metadata": {},
   "outputs": [],
   "source": [
    "pwr.t.test(n = 96, d = 0.5, sig.level = 0.05, alternative = \"greater\")"
   ]
  },
  {
   "cell_type": "markdown",
   "metadata": {},
   "source": [
    "The t tests comparing the death totals, in selected countries, from the 2003 SARS Outbreak will have 96.4% power. "
   ]
  },
  {
   "cell_type": "code",
   "execution_count": null,
   "metadata": {},
   "outputs": [],
   "source": [
    "pwr.t.test(d=0.5, sig.level = 0.05, power = 0.8, alternative = \"greater\")"
   ]
  },
  {
   "cell_type": "markdown",
   "metadata": {},
   "source": [
    "50 days of SARS data needs to be collected in each country to have 0.8 power. "
   ]
  },
  {
   "cell_type": "code",
   "execution_count": null,
   "metadata": {},
   "outputs": [],
   "source": [
    "dfSC <- dfSC %>%\n",
    "            rename(CanadaC = Canada,\n",
    "              GermanyC = Germany,\n",
    "              ItalyC = Italy,\n",
    "              SingaporeC = Singapore,\n",
    "              UnitedStatesC = United.States,\n",
    "              VietnamC = Vietnam,\n",
    "              ChinaC = China, \n",
    "              DateC = Date)\n",
    "\n",
    "dfSD <- dfSD %>%\n",
    "            rename(CanadaD = Canada,\n",
    "              GermanyD = Germany,\n",
    "              ItalyD = Italy,\n",
    "              SingaporeD = Singapore,\n",
    "              UnitedStatesD = United.States,\n",
    "              VietnamD = Vietnam,\n",
    "              ChinaD = China,\n",
    "              DateD = Date)\n",
    "\n",
    "dfSR <- dfSR %>%\n",
    "            rename(CanadaR = Canada,\n",
    "              GermanyR = Germany,\n",
    "              ItalyR = Italy,\n",
    "              SingaporeR = Singapore,\n",
    "              UnitedStatesR = United.States,\n",
    "              VietnamR = Vietnam,\n",
    "              ChinaR = China,\n",
    "              DateR = Date)\n",
    "\n",
    "dfSA <- cbind(dfSC, dfSD, dfSR)\n",
    "\n",
    "dfSA <- dfSA %>%\n",
    "    mutate(CanadaA = CanadaC - CanadaD - CanadaR)\n",
    "\n",
    "dfSA <- dfSA %>%\n",
    "    mutate(GermanyA = GermanyC - GermanyD - GermanyR)\n",
    "\n",
    "dfSA <- dfSA %>%\n",
    "    mutate(ItalyA = ItalyC - ItalyD - ItalyR)\n",
    "\n",
    "dfSA <- dfSA %>%\n",
    "    mutate(SingaporeA = SingaporeC - SingaporeD - SingaporeR)\n",
    "\n",
    "dfSA <- dfSA %>%\n",
    "    mutate(UnitedStatesA = UnitedStatesC - UnitedStatesD - UnitedStatesR)\n",
    "\n",
    "dfSA <- dfSA %>%\n",
    "    mutate(VietnamA = VietnamC - VietnamD - VietnamR)\n",
    "\n",
    "dfSA <- dfSA %>%\n",
    "    mutate(ChinaA = ChinaC - ChinaD - ChinaR)"
   ]
  },
  {
   "cell_type": "markdown",
   "metadata": {},
   "source": [
    "Bonferroni Correction was used because multiple t-tests were performed. This correction decreases the probability of a type 1 error occuring. "
   ]
  },
  {
   "cell_type": "code",
   "execution_count": null,
   "metadata": {},
   "outputs": [],
   "source": [
    "p_value = 0.05/6\n",
    "cat(\"p_value: \", p_value)"
   ]
  },
  {
   "cell_type": "code",
   "execution_count": null,
   "metadata": {},
   "outputs": [],
   "source": [
    "ttest = t.test(dfSA$UnitedStatesA, dfSA$ChinaA, alternative = \"greater\", paired = FALSE)\n",
    "ttest"
   ]
  },
  {
   "cell_type": "markdown",
   "metadata": {},
   "source": [
    "Null hypothesis: There is no difference in the mean active SARS cases over the course of the outbreak between the two countries. \n",
    "Alternative hypothesis: This is a difference in the mean active SARS cases over the course of the outbreak between the two countries. "
   ]
  },
  {
   "cell_type": "markdown",
   "metadata": {},
   "source": [
    "We must fail to reject the null hypothesis for the t-test between China and United States. The p-value is above 0.0083. Additionally, the 95% confidence interval includes 0. Therefore, we can not conclude that the mean difference between the two groups is 0. "
   ]
  },
  {
   "cell_type": "markdown",
   "metadata": {},
   "source": [
    "China and America will be placed in the same category for the mean active SARS cases over the course of the outbreak. The category will be labeled 1 for the highest average of active SARS cases per day during the outbreak. "
   ]
  },
  {
   "cell_type": "code",
   "execution_count": null,
   "metadata": {},
   "outputs": [],
   "source": [
    "ttest = t.test(dfSA$UnitedStatesA, dfSA$SingaporeA, alternative = \"greater\", paired = FALSE)\n",
    "ttest"
   ]
  },
  {
   "cell_type": "markdown",
   "metadata": {},
   "source": [
    "Null hypothesis: There is no difference in the mean active SARS cases over the course of the outbreak between the two countries. Alternative hypothesis: This is a difference in the mean active SARS cases over the course of the outbreak between the two countries."
   ]
  },
  {
   "cell_type": "markdown",
   "metadata": {},
   "source": [
    "We must reject the null hypothesis. America has more mean acitve SARS cases over the course of the outbreak than Singapore. The p-value is extremely small and lower than 0.0083. Additionally, the 95% confidence interval does not include 0. "
   ]
  },
  {
   "cell_type": "markdown",
   "metadata": {},
   "source": [
    "Singapore will be placed in the second category. Since, the United States and China did not have a significant difference, we can assume that Singapore significantly differed from China. "
   ]
  },
  {
   "cell_type": "code",
   "execution_count": null,
   "metadata": {},
   "outputs": [],
   "source": [
    "ttest = t.test(dfSA$SingaporeA, dfSA$CanadaA, alternative = \"greater\", paired = FALSE)\n",
    "ttest"
   ]
  },
  {
   "cell_type": "markdown",
   "metadata": {},
   "source": [
    "Null hypothesis: There is no difference in the mean active SARS cases over the course of the outbreak between the two countries. Alternative hypothesis: This is a difference in the mean active SARS cases over the course of the outbreak between the two countries."
   ]
  },
  {
   "cell_type": "markdown",
   "metadata": {},
   "source": [
    "We must fail to reject the null hypothesis for this t-test. The p-value was much larger than 0.0083. Additionally, the 95% confidence interval included 0. Therefore, we can not conclude that the mean difference between the two groups is 0. "
   ]
  },
  {
   "cell_type": "markdown",
   "metadata": {},
   "source": [
    "Singapore and Canada will be placed in the second category. "
   ]
  },
  {
   "cell_type": "code",
   "execution_count": null,
   "metadata": {},
   "outputs": [],
   "source": [
    "ttest = t.test(dfSA$CanadaA, dfSA$VietnamA, alternative = \"greater\", paired = FALSE)\n",
    "ttest"
   ]
  },
  {
   "cell_type": "markdown",
   "metadata": {},
   "source": [
    "Null hypothesis: There is no difference in the mean active SARS cases over the course of the outbreak between the two countries. Alternative hypothesis: This is a difference in the mean active SARS cases over the course of the outbreak between the two countries."
   ]
  },
  {
   "cell_type": "markdown",
   "metadata": {},
   "source": [
    "We must reject the null hypothesis. The p-value is extremely small and lower than 0.0083. Additionally, the 95% confidence interval does not include 0. Canada has more mean acitve SARS cases over the course of the outbreak than Vietnam."
   ]
  },
  {
   "cell_type": "markdown",
   "metadata": {},
   "source": [
    "Vietnam will be placed in the third category. "
   ]
  },
  {
   "cell_type": "code",
   "execution_count": null,
   "metadata": {},
   "outputs": [],
   "source": [
    "ttest = t.test(dfSA$VietnamA, dfSA$GermanyA, alternative = \"greater\", paired = FALSE)\n",
    "ttest"
   ]
  },
  {
   "cell_type": "markdown",
   "metadata": {},
   "source": [
    "Null hypothesis: There is no difference in the mean active SARS cases over the course of the outbreak between the two countries. Alternative hypothesis: This is a difference in the mean active SARS cases over the course of the outbreak between the two countries."
   ]
  },
  {
   "cell_type": "markdown",
   "metadata": {},
   "source": [
    "We must reject the null hypothesis. The p-value is extremely small and lower than 0.0083. Additionally, the 95% confidence interval does not include 0. Vietnam has more mean acitve SARS cases over the course of the outbreak than Germany."
   ]
  },
  {
   "cell_type": "markdown",
   "metadata": {},
   "source": [
    "Germany will be placed in the fourth category. "
   ]
  },
  {
   "cell_type": "code",
   "execution_count": null,
   "metadata": {},
   "outputs": [],
   "source": [
    "ttest = t.test(dfSA$GermanyA, dfSA$ItalyA, alternative = \"greater\", paired = FALSE)\n",
    "ttest"
   ]
  },
  {
   "cell_type": "markdown",
   "metadata": {},
   "source": [
    "Null hypothesis: There is no difference in the mean active SARS cases over the course of the outbreak between the two countries. Alternative hypothesis: This is a difference in the mean active SARS cases over the course of the outbreak between the two countries."
   ]
  },
  {
   "cell_type": "markdown",
   "metadata": {},
   "source": [
    "We must fail to reject the null hypothesis. The p-value is above 0.0083. Additionally, the 95% confidence interval includes 0. Therefore, we can not conclude that the mean difference between the two groups is 0. "
   ]
  },
  {
   "cell_type": "markdown",
   "metadata": {},
   "source": [
    "Germany and Italy will be placed in the fourth category. "
   ]
  },
  {
   "cell_type": "markdown",
   "metadata": {},
   "source": [
    "This table displays the categories for the mean active SARS cases over the course of the outbreak. Countries labelled 1 have the highest mean active SARS cases over the course of the outbreak. Countries labelled 4 have the smallest mean active SARS cases over the course of the outbreak. "
   ]
  },
  {
   "cell_type": "code",
   "execution_count": null,
   "metadata": {},
   "outputs": [],
   "source": [
    "dfW_7$classification <- c(2,1,4,4,2,1,3)\n",
    "dfW_7 <- data.frame(dfW_7$Member.State, dfW_7$classification)\n",
    "dfW_7"
   ]
  },
  {
   "cell_type": "code",
   "execution_count": 85,
   "metadata": {},
   "outputs": [],
   "source": [
    "library(magrittr)"
   ]
  },
  {
   "cell_type": "code",
   "execution_count": 86,
   "metadata": {},
   "outputs": [],
   "source": [
    "dfW_28 = read.csv(\"WHOselect28.csv\", header = T)"
   ]
  },
  {
   "cell_type": "markdown",
   "metadata": {},
   "source": [
    "Countries who have more than 0.0000007 (0.00007%) of their population infected are considered high infection and are denoted with a 1 classification. Countries who have less than 0.0000007 (0.00007%) of their population infected are considered low infection and are denoted with a 0 classification. "
   ]
  },
  {
   "cell_type": "code",
   "execution_count": 87,
   "metadata": {},
   "outputs": [
    {
     "data": {
      "text/html": [
       "<style>\n",
       ".list-inline {list-style: none; margin:0; padding: 0}\n",
       ".list-inline>li {display: inline-block}\n",
       ".list-inline>li:not(:last-child)::after {content: \"\\00b7\"; padding: 0 .5ex}\n",
       "</style>\n",
       "<ol class=list-inline><li>5.5e-06</li><li>7.96358794777959e-06</li><li>1.21161929332159e-07</li><li>1.57031879722374e-07</li><li>5.00628702161404e-05</li><li>7.58338449159196e-07</li><li>1.00590842105791e-07</li><li>7.65476699521089e-07</li><li>2.37036222334762e-08</li><li>3.64555190010216e-06</li><li>1.39427090367624e-07</li><li>1.12459038000327e-07</li><li>2.6978417266187e-09</li><li>1.39054170220659e-07</li><li>2.14044779366494e-08</li><li>2.41057554202575e-08</li><li>1.91827606831672e-07</li><li>1.65008109653565e-08</li><li>3.23902126656339e-07</li><li>4.62614716884419e-07</li><li>1.6856914810607e-07</li><li>3.34887621202807e-07</li><li>6.26405104951043e-08</li><li>9.07813907898802e-09</li><li>9.53808290801432e-07</li><li>6.91332215638105e-09</li><li>5.00435253561785e-07</li><li>2.48311481922924e-07</li></ol>\n"
      ],
      "text/latex": [
       "\\begin{enumerate*}\n",
       "\\item 5.5e-06\n",
       "\\item 7.96358794777959e-06\n",
       "\\item 1.21161929332159e-07\n",
       "\\item 1.57031879722374e-07\n",
       "\\item 5.00628702161404e-05\n",
       "\\item 7.58338449159196e-07\n",
       "\\item 1.00590842105791e-07\n",
       "\\item 7.65476699521089e-07\n",
       "\\item 2.37036222334762e-08\n",
       "\\item 3.64555190010216e-06\n",
       "\\item 1.39427090367624e-07\n",
       "\\item 1.12459038000327e-07\n",
       "\\item 2.6978417266187e-09\n",
       "\\item 1.39054170220659e-07\n",
       "\\item 2.14044779366494e-08\n",
       "\\item 2.41057554202575e-08\n",
       "\\item 1.91827606831672e-07\n",
       "\\item 1.65008109653565e-08\n",
       "\\item 3.23902126656339e-07\n",
       "\\item 4.62614716884419e-07\n",
       "\\item 1.6856914810607e-07\n",
       "\\item 3.34887621202807e-07\n",
       "\\item 6.26405104951043e-08\n",
       "\\item 9.07813907898802e-09\n",
       "\\item 9.53808290801432e-07\n",
       "\\item 6.91332215638105e-09\n",
       "\\item 5.00435253561785e-07\n",
       "\\item 2.48311481922924e-07\n",
       "\\end{enumerate*}\n"
      ],
      "text/markdown": [
       "1. 5.5e-06\n",
       "2. 7.96358794777959e-06\n",
       "3. 1.21161929332159e-07\n",
       "4. 1.57031879722374e-07\n",
       "5. 5.00628702161404e-05\n",
       "6. 7.58338449159196e-07\n",
       "7. 1.00590842105791e-07\n",
       "8. 7.65476699521089e-07\n",
       "9. 2.37036222334762e-08\n",
       "10. 3.64555190010216e-06\n",
       "11. 1.39427090367624e-07\n",
       "12. 1.12459038000327e-07\n",
       "13. 2.6978417266187e-09\n",
       "14. 1.39054170220659e-07\n",
       "15. 2.14044779366494e-08\n",
       "16. 2.41057554202575e-08\n",
       "17. 1.91827606831672e-07\n",
       "18. 1.65008109653565e-08\n",
       "19. 3.23902126656339e-07\n",
       "20. 4.62614716884419e-07\n",
       "21. 1.6856914810607e-07\n",
       "22. 3.34887621202807e-07\n",
       "23. 6.26405104951043e-08\n",
       "24. 9.07813907898802e-09\n",
       "25. 9.53808290801432e-07\n",
       "26. 6.91332215638105e-09\n",
       "27. 5.00435253561785e-07\n",
       "28. 2.48311481922924e-07\n",
       "\n",
       "\n"
      ],
      "text/plain": [
       " [1] 5.500000e-06 7.963588e-06 1.211619e-07 1.570319e-07 5.006287e-05\n",
       " [6] 7.583384e-07 1.005908e-07 7.654767e-07 2.370362e-08 3.645552e-06\n",
       "[11] 1.394271e-07 1.124590e-07 2.697842e-09 1.390542e-07 2.140448e-08\n",
       "[16] 2.410576e-08 1.918276e-07 1.650081e-08 3.239021e-07 4.626147e-07\n",
       "[21] 1.685691e-07 3.348876e-07 6.264051e-08 9.078139e-09 9.538083e-07\n",
       "[26] 6.913322e-09 5.004353e-07 2.483115e-07"
      ]
     },
     "metadata": {},
     "output_type": "display_data"
    },
    {
     "data": {
      "text/html": [
       "<style>\n",
       ".list-inline {list-style: none; margin:0; padding: 0}\n",
       ".list-inline>li {display: inline-block}\n",
       ".list-inline>li:not(:last-child)::after {content: \"\\00b7\"; padding: 0 .5ex}\n",
       "</style>\n",
       "<ol class=list-inline><li>1</li><li>1</li><li>0</li><li>0</li><li>1</li><li>1</li><li>0</li><li>1</li><li>0</li><li>1</li><li>0</li><li>0</li><li>0</li><li>0</li><li>0</li><li>0</li><li>0</li><li>0</li><li>0</li><li>0</li><li>0</li><li>0</li><li>0</li><li>0</li><li>1</li><li>0</li><li>0</li><li>0</li></ol>\n"
      ],
      "text/latex": [
       "\\begin{enumerate*}\n",
       "\\item 1\n",
       "\\item 1\n",
       "\\item 0\n",
       "\\item 0\n",
       "\\item 1\n",
       "\\item 1\n",
       "\\item 0\n",
       "\\item 1\n",
       "\\item 0\n",
       "\\item 1\n",
       "\\item 0\n",
       "\\item 0\n",
       "\\item 0\n",
       "\\item 0\n",
       "\\item 0\n",
       "\\item 0\n",
       "\\item 0\n",
       "\\item 0\n",
       "\\item 0\n",
       "\\item 0\n",
       "\\item 0\n",
       "\\item 0\n",
       "\\item 0\n",
       "\\item 0\n",
       "\\item 1\n",
       "\\item 0\n",
       "\\item 0\n",
       "\\item 0\n",
       "\\end{enumerate*}\n"
      ],
      "text/markdown": [
       "1. 1\n",
       "2. 1\n",
       "3. 0\n",
       "4. 0\n",
       "5. 1\n",
       "6. 1\n",
       "7. 0\n",
       "8. 1\n",
       "9. 0\n",
       "10. 1\n",
       "11. 0\n",
       "12. 0\n",
       "13. 0\n",
       "14. 0\n",
       "15. 0\n",
       "16. 0\n",
       "17. 0\n",
       "18. 0\n",
       "19. 0\n",
       "20. 0\n",
       "21. 0\n",
       "22. 0\n",
       "23. 0\n",
       "24. 0\n",
       "25. 1\n",
       "26. 0\n",
       "27. 0\n",
       "28. 0\n",
       "\n",
       "\n"
      ],
      "text/plain": [
       " [1] 1 1 0 0 1 1 0 1 0 1 0 0 0 0 0 0 0 0 0 0 0 0 0 0 1 0 0 0"
      ]
     },
     "metadata": {},
     "output_type": "display_data"
    }
   ],
   "source": [
    "t2003 <- c(cumulSC20$China, cumulSC20$Canada, cumulSC20$Germany, cumulSC20$Italy, cumulSC20$Singapore, \n",
    "           cumulSC20$US, cumulSC20$United.Kingdom, cumulSC20$Vietnam, cumulSC20$Spain, cumulSC20$Mongolia, \n",
    "           cumulSC20$Thailand, \n",
    "           cumulSC20$France, cumulSC20$India, cumulSC20$Romania, cumulSC20$South.Africa, cumulSC$Colombia,\n",
    "          cumulSC20$Finland, cumulSC20$Brazil, cumulSC20$Malaysia, cumulSC20$Kuwait, cumulSC20$Philippines,\n",
    "          cumulSC20$Sweden, cumulSC20$Republic.of.Korea, cumulSC20$Indonesia, cumulSC20$Switzerland,\n",
    "          cumulSC20$Russian.Federation, cumulSC20$Republic.of.Ireland, cumulSC20$New.Zealand)\n",
    "\n",
    "pop <- c(1288000000, 31644028, 82534176, 57313203, 4114826, 290107933, 59647577, 82301656, 42187645, 2468762,\n",
    "        64549866, 62244886, 1112000000, 21574326, 46719196, 41483869, 5213014, 181809246, 24698819, 2161626, \n",
    "        83051971, 8958229, 47892330, 220309469, 7339001, 144648257, 3996521, 4027200)\n",
    "\n",
    "for (i in 1:length(pop)) {\n",
    "    t2003[i] <- t2003[i]/pop[i]\n",
    "}\n",
    "t2003\n",
    "\n",
    "for (i in 1:length(t2003)) {\n",
    "    if (t2003[i] > 7*10**-7) {\n",
    "        t2003[i] <- 1\n",
    "    }\n",
    "    else { \n",
    "        t2003[i] <- 0\n",
    "    }\n",
    "}\n",
    "t2003"
   ]
  },
  {
   "cell_type": "code",
   "execution_count": 88,
   "metadata": {},
   "outputs": [],
   "source": [
    "dfW_28$classification <- c(t2003)"
   ]
  },
  {
   "cell_type": "code",
   "execution_count": 90,
   "metadata": {},
   "outputs": [
    {
     "data": {
      "text/html": [
       "<table>\n",
       "<caption>A data.frame: 28 × 29</caption>\n",
       "<thead>\n",
       "\t<tr><th scope=col>Member.State</th><th scope=col>Total.population</th><th scope=col>Annual.Growth.Rate.....1992.2002</th><th scope=col>Dependency.ratio.1992</th><th scope=col>Dependency.ratio.2002</th><th scope=col>Percentage.of.population.aged.60...1992.</th><th scope=col>Percentage.of.population.aged.60.</th><th scope=col>Total.Fertility.Rate.1992</th><th scope=col>Total.Fertility.Rate.2002</th><th scope=col>LIFE.EXPECTANCY.AT.BIRTH.BOTH.SEXES.2002</th><th scope=col>⋯</th><th scope=col>PROBABILITY.OF.DYING.UNDER.AGE.OF.5.FEMALES.2002</th><th scope=col>PROBABILITY.OF.DYING.UNDER.AGE.OF.5.FEMALES.2002.Upper.Bound.Uncertainty.Interval..per.1000.</th><th scope=col>PROBABILITY.OF.DYING.UNDER.AGE.OF.5.FEMALES.2002.Lower.Bound.Uncertainty.Interval..per.1000.</th><th scope=col>PROBABILITY.OF.DYING.AGE.15.59.MALES.2002</th><th scope=col>PROBABILITY.OF.DYING.AGE.15.59.MALES.2002.Upper.Bound.Uncertainty.Interval..per.1000.</th><th scope=col>PROBABILITY.OF.DYING.AGE.15.59.MALES.2002.Lower.Bound.Uncertainty.Interval..per.1000.</th><th scope=col>PROBABILITY.OF.DYING.AGE.15.59.FEMALES.2002</th><th scope=col>PROBABILITY.OF.DYING.AGE.15.59.FEMALES.2002.Upper.Bound.Uncertainty.Interval..per.1000.</th><th scope=col>PROBABILITY.OF.DYING.AGE.15.59.FEMALES.2002.Lower.Bound.Uncertainty.Interval..per.1000.</th><th scope=col>classification</th></tr>\n",
       "\t<tr><th scope=col>&lt;fct&gt;</th><th scope=col>&lt;dbl&gt;</th><th scope=col>&lt;dbl&gt;</th><th scope=col>&lt;dbl&gt;</th><th scope=col>&lt;dbl&gt;</th><th scope=col>&lt;dbl&gt;</th><th scope=col>&lt;dbl&gt;</th><th scope=col>&lt;dbl&gt;</th><th scope=col>&lt;dbl&gt;</th><th scope=col>&lt;dbl&gt;</th><th scope=col>⋯</th><th scope=col>&lt;dbl&gt;</th><th scope=col>&lt;dbl&gt;</th><th scope=col>&lt;dbl&gt;</th><th scope=col>&lt;dbl&gt;</th><th scope=col>&lt;dbl&gt;</th><th scope=col>&lt;dbl&gt;</th><th scope=col>&lt;dbl&gt;</th><th scope=col>&lt;dbl&gt;</th><th scope=col>&lt;dbl&gt;</th><th scope=col>&lt;dbl&gt;</th></tr>\n",
       "</thead>\n",
       "<tbody>\n",
       "\t<tr><td>Brazil                  </td><td> 176257.327</td><td> 1.4</td><td>63</td><td>51</td><td> 6.8</td><td> 8.1</td><td>2.6</td><td>2.2</td><td>68.9</td><td>⋯</td><td>34</td><td>29</td><td> 40</td><td>246</td><td>235</td><td>257</td><td>136</td><td>128</td><td>145</td><td>1</td></tr>\n",
       "\t<tr><td>Canada                  </td><td>  31271.069</td><td> 1.0</td><td>47</td><td>45</td><td>15.8</td><td>17.1</td><td>1.7</td><td>1.5</td><td>79.8</td><td>⋯</td><td> 5</td><td> 5</td><td>  5</td><td> 95</td><td> 93</td><td> 97</td><td> 58</td><td> 57</td><td> 60</td><td>1</td></tr>\n",
       "\t<tr><td>China                   </td><td>1302307.069</td><td> 0.9</td><td>49</td><td>44</td><td> 8.6</td><td>10.0</td><td>2.0</td><td>1.8</td><td>71.1</td><td>⋯</td><td>41</td><td>38</td><td> 44</td><td>165</td><td>154</td><td>175</td><td>104</td><td> 93</td><td>112</td><td>0</td></tr>\n",
       "\t<tr><td>Colombia                </td><td>  43526.430</td><td> 1.8</td><td>66</td><td>59</td><td> 6.4</td><td> 7.1</td><td>3.0</td><td>2.6</td><td>71.8</td><td>⋯</td><td>19</td><td>17</td><td> 21</td><td>236</td><td>220</td><td>251</td><td> 99</td><td> 87</td><td>113</td><td>0</td></tr>\n",
       "\t<tr><td>Finland                 </td><td>   5197.451</td><td> 0.3</td><td>49</td><td>49</td><td>18.7</td><td>20.3</td><td>1.8</td><td>1.7</td><td>78.2</td><td>⋯</td><td> 3</td><td> 3</td><td>  3</td><td>135</td><td>131</td><td>140</td><td> 60</td><td> 56</td><td> 64</td><td>1</td></tr>\n",
       "\t<tr><td>France                  </td><td>  59849.658</td><td> 0.4</td><td>52</td><td>53</td><td>19.5</td><td>20.5</td><td>1.7</td><td>1.9</td><td>79.7</td><td>⋯</td><td> 4</td><td> 4</td><td>  5</td><td>133</td><td>128</td><td>138</td><td> 60</td><td> 58</td><td> 62</td><td>1</td></tr>\n",
       "\t<tr><td>Germany                 </td><td>  82414.408</td><td> 0.2</td><td>46</td><td>48</td><td>20.5</td><td>24.0</td><td>1.3</td><td>1.3</td><td>78.7</td><td>⋯</td><td> 4</td><td> 4</td><td>  4</td><td>118</td><td>114</td><td>123</td><td> 60</td><td> 59</td><td> 62</td><td>0</td></tr>\n",
       "\t<tr><td>India                   </td><td>1049549.474</td><td> 1.8</td><td>68</td><td>62</td><td> 6.9</td><td> 7.7</td><td>3.8</td><td>3.1</td><td>61.0</td><td>⋯</td><td>95</td><td>86</td><td>106</td><td>291</td><td>268</td><td>314</td><td>220</td><td>197</td><td>243</td><td>1</td></tr>\n",
       "\t<tr><td>Indonesia               </td><td> 217131.218</td><td> 1.4</td><td>64</td><td>54</td><td> 6.4</td><td> 7.9</td><td>3.1</td><td>2.4</td><td>66.4</td><td>⋯</td><td>36</td><td>33</td><td> 40</td><td>244</td><td>226</td><td>261</td><td>208</td><td>194</td><td>224</td><td>0</td></tr>\n",
       "\t<tr><td>Republic of Ireland     </td><td>   3910.840</td><td> 1.0</td><td>60</td><td>47</td><td>15.3</td><td>15.3</td><td>2.0</td><td>1.9</td><td>77.1</td><td>⋯</td><td> 6</td><td> 5</td><td>  7</td><td>113</td><td>105</td><td>121</td><td> 66</td><td> 62</td><td> 71</td><td>1</td></tr>\n",
       "\t<tr><td>Italy                   </td><td>  57482.385</td><td> 0.1</td><td>45</td><td>49</td><td>21.7</td><td>24.5</td><td>1.3</td><td>1.2</td><td>79.7</td><td>⋯</td><td> 5</td><td> 4</td><td>  5</td><td> 96</td><td> 92</td><td>100</td><td> 49</td><td> 46</td><td> 51</td><td>0</td></tr>\n",
       "\t<tr><td>Kuwait                  </td><td>   2443.419</td><td> 2.1</td><td>56</td><td>38</td><td> 2.1</td><td> 2.7</td><td>3.3</td><td>2.7</td><td>76.2</td><td>⋯</td><td>11</td><td> 8</td><td> 15</td><td> 81</td><td> 72</td><td> 91</td><td> 63</td><td> 48</td><td> 80</td><td>0</td></tr>\n",
       "\t<tr><td>Malaysia                </td><td>  23965.311</td><td> 2.4</td><td>67</td><td>60</td><td> 5.8</td><td> 6.7</td><td>3.7</td><td>2.9</td><td>72.0</td><td>⋯</td><td> 8</td><td> 7</td><td> 10</td><td>192</td><td>181</td><td>202</td><td>106</td><td>100</td><td>111</td><td>0</td></tr>\n",
       "\t<tr><td>Mongolia                </td><td>   2559.431</td><td> 1.1</td><td>81</td><td>59</td><td> 5.9</td><td> 5.6</td><td>3.5</td><td>2.4</td><td>62.9</td><td>⋯</td><td>66</td><td>64</td><td> 68</td><td>319</td><td>310</td><td>327</td><td>219</td><td>210</td><td>227</td><td>0</td></tr>\n",
       "\t<tr><td>New Zealand             </td><td>   3845.679</td><td> 1.1</td><td>53</td><td>53</td><td>15.3</td><td>15.9</td><td>2.1</td><td>2.0</td><td>78.9</td><td>⋯</td><td> 6</td><td> 4</td><td>  7</td><td> 98</td><td> 94</td><td>104</td><td> 63</td><td> 59</td><td> 67</td><td>0</td></tr>\n",
       "\t<tr><td>Philippines             </td><td>  78580.225</td><td> 2.1</td><td>77</td><td>67</td><td> 5.0</td><td> 5.7</td><td>4.2</td><td>3.2</td><td>68.3</td><td>⋯</td><td>33</td><td>28</td><td> 38</td><td>258</td><td>238</td><td>279</td><td>133</td><td>118</td><td>151</td><td>0</td></tr>\n",
       "\t<tr><td>Republic of Korea       </td><td>  47430.218</td><td> 0.8</td><td>43</td><td>39</td><td> 8.2</td><td>11.8</td><td>1.7</td><td>1.4</td><td>75.5</td><td>⋯</td><td> 7</td><td> 7</td><td>  8</td><td>166</td><td>156</td><td>176</td><td> 61</td><td> 59</td><td> 63</td><td>0</td></tr>\n",
       "\t<tr><td>Romania                 </td><td>  22387.390</td><td>-0.3</td><td>50</td><td>45</td><td>16.3</td><td>18.9</td><td>1.6</td><td>1.3</td><td>71.4</td><td>⋯</td><td>19</td><td>17</td><td> 20</td><td>235</td><td>212</td><td>259</td><td>108</td><td> 96</td><td>121</td><td>0</td></tr>\n",
       "\t<tr><td>Russian Federation      </td><td> 144081.588</td><td>-0.3</td><td>50</td><td>42</td><td>16.3</td><td>18.3</td><td>1.6</td><td>1.2</td><td>64.8</td><td>⋯</td><td>16</td><td>15</td><td> 17</td><td>464</td><td>413</td><td>510</td><td>168</td><td>150</td><td>187</td><td>0</td></tr>\n",
       "\t<tr><td>Singapore               </td><td>   4183.273</td><td> 2.8</td><td>38</td><td>40</td><td> 8.7</td><td>11.1</td><td>1.8</td><td>1.4</td><td>79.6</td><td>⋯</td><td> 3</td><td> 3</td><td>  3</td><td> 90</td><td> 80</td><td>101</td><td> 53</td><td> 49</td><td> 56</td><td>0</td></tr>\n",
       "\t<tr><td>South Africa            </td><td>  44759.191</td><td> 1.5</td><td>70</td><td>59</td><td> 5.2</td><td> 6.1</td><td>3.4</td><td>2.6</td><td>50.7</td><td>⋯</td><td>81</td><td>55</td><td>105</td><td>598</td><td>404</td><td>818</td><td>482</td><td>321</td><td>653</td><td>0</td></tr>\n",
       "\t<tr><td>Spain                   </td><td>  40977.309</td><td> 0.4</td><td>48</td><td>46</td><td>20.0</td><td>21.6</td><td>1.3</td><td>1.2</td><td>79.6</td><td>⋯</td><td> 5</td><td> 4</td><td>  5</td><td>120</td><td>111</td><td>128</td><td> 47</td><td> 45</td><td> 49</td><td>0</td></tr>\n",
       "\t<tr><td>Sweden                  </td><td>   8867.321</td><td> 0.2</td><td>56</td><td>55</td><td>22.4</td><td>22.9</td><td>2.0</td><td>1.6</td><td>80.4</td><td>⋯</td><td> 3</td><td> 3</td><td>  3</td><td> 83</td><td> 80</td><td> 85</td><td> 53</td><td> 51</td><td> 55</td><td>0</td></tr>\n",
       "\t<tr><td>Switzerland             </td><td>   7171.404</td><td> 0.3</td><td>46</td><td>49</td><td>19.4</td><td>22.1</td><td>1.5</td><td>1.4</td><td>80.6</td><td>⋯</td><td> 5</td><td> 4</td><td>  6</td><td> 92</td><td> 87</td><td> 98</td><td> 51</td><td> 49</td><td> 53</td><td>0</td></tr>\n",
       "\t<tr><td>Thailand                </td><td>  62193.350</td><td> 1.1</td><td>53</td><td>46</td><td> 6.7</td><td> 8.8</td><td>2.1</td><td>1.9</td><td>69.3</td><td>⋯</td><td>26</td><td>22</td><td> 30</td><td>279</td><td>250</td><td>311</td><td>153</td><td>131</td><td>178</td><td>1</td></tr>\n",
       "\t<tr><td>United Kingdom          </td><td>  59067.963</td><td> 0.3</td><td>54</td><td>53</td><td>21.1</td><td>20.8</td><td>1.8</td><td>1.6</td><td>78.2</td><td>⋯</td><td> 6</td><td> 5</td><td>  6</td><td>107</td><td>101</td><td>113</td><td> 67</td><td> 61</td><td> 72</td><td>0</td></tr>\n",
       "\t<tr><td>United States of America</td><td> 291037.954</td><td> 1.1</td><td>52</td><td>51</td><td>16.4</td><td>16.2</td><td>2.0</td><td>2.1</td><td>77.3</td><td>⋯</td><td> 7</td><td> 7</td><td>  7</td><td>140</td><td>134</td><td>148</td><td> 83</td><td> 81</td><td> 84</td><td>0</td></tr>\n",
       "\t<tr><td>Vietnam                 </td><td>  80278.208</td><td> 1.5</td><td>76</td><td>59</td><td> 7.3</td><td> 7.4</td><td>3.4</td><td>2.3</td><td>69.6</td><td>⋯</td><td>33</td><td>28</td><td> 37</td><td>200</td><td>184</td><td>215</td><td>129</td><td>117</td><td>140</td><td>0</td></tr>\n",
       "</tbody>\n",
       "</table>\n"
      ],
      "text/latex": [
       "A data.frame: 28 × 29\n",
       "\\begin{tabular}{lllllllllllllllllllll}\n",
       " Member.State & Total.population & Annual.Growth.Rate.....1992.2002 & Dependency.ratio.1992 & Dependency.ratio.2002 & Percentage.of.population.aged.60...1992. & Percentage.of.population.aged.60. & Total.Fertility.Rate.1992 & Total.Fertility.Rate.2002 & LIFE.EXPECTANCY.AT.BIRTH.BOTH.SEXES.2002 & ⋯ & PROBABILITY.OF.DYING.UNDER.AGE.OF.5.FEMALES.2002 & PROBABILITY.OF.DYING.UNDER.AGE.OF.5.FEMALES.2002.Upper.Bound.Uncertainty.Interval..per.1000. & PROBABILITY.OF.DYING.UNDER.AGE.OF.5.FEMALES.2002.Lower.Bound.Uncertainty.Interval..per.1000. & PROBABILITY.OF.DYING.AGE.15.59.MALES.2002 & PROBABILITY.OF.DYING.AGE.15.59.MALES.2002.Upper.Bound.Uncertainty.Interval..per.1000. & PROBABILITY.OF.DYING.AGE.15.59.MALES.2002.Lower.Bound.Uncertainty.Interval..per.1000. & PROBABILITY.OF.DYING.AGE.15.59.FEMALES.2002 & PROBABILITY.OF.DYING.AGE.15.59.FEMALES.2002.Upper.Bound.Uncertainty.Interval..per.1000. & PROBABILITY.OF.DYING.AGE.15.59.FEMALES.2002.Lower.Bound.Uncertainty.Interval..per.1000. & classification\\\\\n",
       " <fct> & <dbl> & <dbl> & <dbl> & <dbl> & <dbl> & <dbl> & <dbl> & <dbl> & <dbl> & ⋯ & <dbl> & <dbl> & <dbl> & <dbl> & <dbl> & <dbl> & <dbl> & <dbl> & <dbl> & <dbl>\\\\\n",
       "\\hline\n",
       "\t Brazil                   &  176257.327 &  1.4 & 63 & 51 &  6.8 &  8.1 & 2.6 & 2.2 & 68.9 & ⋯ & 34 & 29 &  40 & 246 & 235 & 257 & 136 & 128 & 145 & 1\\\\\n",
       "\t Canada                   &   31271.069 &  1.0 & 47 & 45 & 15.8 & 17.1 & 1.7 & 1.5 & 79.8 & ⋯ &  5 &  5 &   5 &  95 &  93 &  97 &  58 &  57 &  60 & 1\\\\\n",
       "\t China                    & 1302307.069 &  0.9 & 49 & 44 &  8.6 & 10.0 & 2.0 & 1.8 & 71.1 & ⋯ & 41 & 38 &  44 & 165 & 154 & 175 & 104 &  93 & 112 & 0\\\\\n",
       "\t Colombia                 &   43526.430 &  1.8 & 66 & 59 &  6.4 &  7.1 & 3.0 & 2.6 & 71.8 & ⋯ & 19 & 17 &  21 & 236 & 220 & 251 &  99 &  87 & 113 & 0\\\\\n",
       "\t Finland                  &    5197.451 &  0.3 & 49 & 49 & 18.7 & 20.3 & 1.8 & 1.7 & 78.2 & ⋯ &  3 &  3 &   3 & 135 & 131 & 140 &  60 &  56 &  64 & 1\\\\\n",
       "\t France                   &   59849.658 &  0.4 & 52 & 53 & 19.5 & 20.5 & 1.7 & 1.9 & 79.7 & ⋯ &  4 &  4 &   5 & 133 & 128 & 138 &  60 &  58 &  62 & 1\\\\\n",
       "\t Germany                  &   82414.408 &  0.2 & 46 & 48 & 20.5 & 24.0 & 1.3 & 1.3 & 78.7 & ⋯ &  4 &  4 &   4 & 118 & 114 & 123 &  60 &  59 &  62 & 0\\\\\n",
       "\t India                    & 1049549.474 &  1.8 & 68 & 62 &  6.9 &  7.7 & 3.8 & 3.1 & 61.0 & ⋯ & 95 & 86 & 106 & 291 & 268 & 314 & 220 & 197 & 243 & 1\\\\\n",
       "\t Indonesia                &  217131.218 &  1.4 & 64 & 54 &  6.4 &  7.9 & 3.1 & 2.4 & 66.4 & ⋯ & 36 & 33 &  40 & 244 & 226 & 261 & 208 & 194 & 224 & 0\\\\\n",
       "\t Republic of Ireland      &    3910.840 &  1.0 & 60 & 47 & 15.3 & 15.3 & 2.0 & 1.9 & 77.1 & ⋯ &  6 &  5 &   7 & 113 & 105 & 121 &  66 &  62 &  71 & 1\\\\\n",
       "\t Italy                    &   57482.385 &  0.1 & 45 & 49 & 21.7 & 24.5 & 1.3 & 1.2 & 79.7 & ⋯ &  5 &  4 &   5 &  96 &  92 & 100 &  49 &  46 &  51 & 0\\\\\n",
       "\t Kuwait                   &    2443.419 &  2.1 & 56 & 38 &  2.1 &  2.7 & 3.3 & 2.7 & 76.2 & ⋯ & 11 &  8 &  15 &  81 &  72 &  91 &  63 &  48 &  80 & 0\\\\\n",
       "\t Malaysia                 &   23965.311 &  2.4 & 67 & 60 &  5.8 &  6.7 & 3.7 & 2.9 & 72.0 & ⋯ &  8 &  7 &  10 & 192 & 181 & 202 & 106 & 100 & 111 & 0\\\\\n",
       "\t Mongolia                 &    2559.431 &  1.1 & 81 & 59 &  5.9 &  5.6 & 3.5 & 2.4 & 62.9 & ⋯ & 66 & 64 &  68 & 319 & 310 & 327 & 219 & 210 & 227 & 0\\\\\n",
       "\t New Zealand              &    3845.679 &  1.1 & 53 & 53 & 15.3 & 15.9 & 2.1 & 2.0 & 78.9 & ⋯ &  6 &  4 &   7 &  98 &  94 & 104 &  63 &  59 &  67 & 0\\\\\n",
       "\t Philippines              &   78580.225 &  2.1 & 77 & 67 &  5.0 &  5.7 & 4.2 & 3.2 & 68.3 & ⋯ & 33 & 28 &  38 & 258 & 238 & 279 & 133 & 118 & 151 & 0\\\\\n",
       "\t Republic of Korea        &   47430.218 &  0.8 & 43 & 39 &  8.2 & 11.8 & 1.7 & 1.4 & 75.5 & ⋯ &  7 &  7 &   8 & 166 & 156 & 176 &  61 &  59 &  63 & 0\\\\\n",
       "\t Romania                  &   22387.390 & -0.3 & 50 & 45 & 16.3 & 18.9 & 1.6 & 1.3 & 71.4 & ⋯ & 19 & 17 &  20 & 235 & 212 & 259 & 108 &  96 & 121 & 0\\\\\n",
       "\t Russian Federation       &  144081.588 & -0.3 & 50 & 42 & 16.3 & 18.3 & 1.6 & 1.2 & 64.8 & ⋯ & 16 & 15 &  17 & 464 & 413 & 510 & 168 & 150 & 187 & 0\\\\\n",
       "\t Singapore                &    4183.273 &  2.8 & 38 & 40 &  8.7 & 11.1 & 1.8 & 1.4 & 79.6 & ⋯ &  3 &  3 &   3 &  90 &  80 & 101 &  53 &  49 &  56 & 0\\\\\n",
       "\t South Africa             &   44759.191 &  1.5 & 70 & 59 &  5.2 &  6.1 & 3.4 & 2.6 & 50.7 & ⋯ & 81 & 55 & 105 & 598 & 404 & 818 & 482 & 321 & 653 & 0\\\\\n",
       "\t Spain                    &   40977.309 &  0.4 & 48 & 46 & 20.0 & 21.6 & 1.3 & 1.2 & 79.6 & ⋯ &  5 &  4 &   5 & 120 & 111 & 128 &  47 &  45 &  49 & 0\\\\\n",
       "\t Sweden                   &    8867.321 &  0.2 & 56 & 55 & 22.4 & 22.9 & 2.0 & 1.6 & 80.4 & ⋯ &  3 &  3 &   3 &  83 &  80 &  85 &  53 &  51 &  55 & 0\\\\\n",
       "\t Switzerland              &    7171.404 &  0.3 & 46 & 49 & 19.4 & 22.1 & 1.5 & 1.4 & 80.6 & ⋯ &  5 &  4 &   6 &  92 &  87 &  98 &  51 &  49 &  53 & 0\\\\\n",
       "\t Thailand                 &   62193.350 &  1.1 & 53 & 46 &  6.7 &  8.8 & 2.1 & 1.9 & 69.3 & ⋯ & 26 & 22 &  30 & 279 & 250 & 311 & 153 & 131 & 178 & 1\\\\\n",
       "\t United Kingdom           &   59067.963 &  0.3 & 54 & 53 & 21.1 & 20.8 & 1.8 & 1.6 & 78.2 & ⋯ &  6 &  5 &   6 & 107 & 101 & 113 &  67 &  61 &  72 & 0\\\\\n",
       "\t United States of America &  291037.954 &  1.1 & 52 & 51 & 16.4 & 16.2 & 2.0 & 2.1 & 77.3 & ⋯ &  7 &  7 &   7 & 140 & 134 & 148 &  83 &  81 &  84 & 0\\\\\n",
       "\t Vietnam                  &   80278.208 &  1.5 & 76 & 59 &  7.3 &  7.4 & 3.4 & 2.3 & 69.6 & ⋯ & 33 & 28 &  37 & 200 & 184 & 215 & 129 & 117 & 140 & 0\\\\\n",
       "\\end{tabular}\n"
      ],
      "text/markdown": [
       "\n",
       "A data.frame: 28 × 29\n",
       "\n",
       "| Member.State &lt;fct&gt; | Total.population &lt;dbl&gt; | Annual.Growth.Rate.....1992.2002 &lt;dbl&gt; | Dependency.ratio.1992 &lt;dbl&gt; | Dependency.ratio.2002 &lt;dbl&gt; | Percentage.of.population.aged.60...1992. &lt;dbl&gt; | Percentage.of.population.aged.60. &lt;dbl&gt; | Total.Fertility.Rate.1992 &lt;dbl&gt; | Total.Fertility.Rate.2002 &lt;dbl&gt; | LIFE.EXPECTANCY.AT.BIRTH.BOTH.SEXES.2002 &lt;dbl&gt; | ⋯ ⋯ | PROBABILITY.OF.DYING.UNDER.AGE.OF.5.FEMALES.2002 &lt;dbl&gt; | PROBABILITY.OF.DYING.UNDER.AGE.OF.5.FEMALES.2002.Upper.Bound.Uncertainty.Interval..per.1000. &lt;dbl&gt; | PROBABILITY.OF.DYING.UNDER.AGE.OF.5.FEMALES.2002.Lower.Bound.Uncertainty.Interval..per.1000. &lt;dbl&gt; | PROBABILITY.OF.DYING.AGE.15.59.MALES.2002 &lt;dbl&gt; | PROBABILITY.OF.DYING.AGE.15.59.MALES.2002.Upper.Bound.Uncertainty.Interval..per.1000. &lt;dbl&gt; | PROBABILITY.OF.DYING.AGE.15.59.MALES.2002.Lower.Bound.Uncertainty.Interval..per.1000. &lt;dbl&gt; | PROBABILITY.OF.DYING.AGE.15.59.FEMALES.2002 &lt;dbl&gt; | PROBABILITY.OF.DYING.AGE.15.59.FEMALES.2002.Upper.Bound.Uncertainty.Interval..per.1000. &lt;dbl&gt; | PROBABILITY.OF.DYING.AGE.15.59.FEMALES.2002.Lower.Bound.Uncertainty.Interval..per.1000. &lt;dbl&gt; | classification &lt;dbl&gt; |\n",
       "|---|---|---|---|---|---|---|---|---|---|---|---|---|---|---|---|---|---|---|---|---|\n",
       "| Brazil                   |  176257.327 |  1.4 | 63 | 51 |  6.8 |  8.1 | 2.6 | 2.2 | 68.9 | ⋯ | 34 | 29 |  40 | 246 | 235 | 257 | 136 | 128 | 145 | 1 |\n",
       "| Canada                   |   31271.069 |  1.0 | 47 | 45 | 15.8 | 17.1 | 1.7 | 1.5 | 79.8 | ⋯ |  5 |  5 |   5 |  95 |  93 |  97 |  58 |  57 |  60 | 1 |\n",
       "| China                    | 1302307.069 |  0.9 | 49 | 44 |  8.6 | 10.0 | 2.0 | 1.8 | 71.1 | ⋯ | 41 | 38 |  44 | 165 | 154 | 175 | 104 |  93 | 112 | 0 |\n",
       "| Colombia                 |   43526.430 |  1.8 | 66 | 59 |  6.4 |  7.1 | 3.0 | 2.6 | 71.8 | ⋯ | 19 | 17 |  21 | 236 | 220 | 251 |  99 |  87 | 113 | 0 |\n",
       "| Finland                  |    5197.451 |  0.3 | 49 | 49 | 18.7 | 20.3 | 1.8 | 1.7 | 78.2 | ⋯ |  3 |  3 |   3 | 135 | 131 | 140 |  60 |  56 |  64 | 1 |\n",
       "| France                   |   59849.658 |  0.4 | 52 | 53 | 19.5 | 20.5 | 1.7 | 1.9 | 79.7 | ⋯ |  4 |  4 |   5 | 133 | 128 | 138 |  60 |  58 |  62 | 1 |\n",
       "| Germany                  |   82414.408 |  0.2 | 46 | 48 | 20.5 | 24.0 | 1.3 | 1.3 | 78.7 | ⋯ |  4 |  4 |   4 | 118 | 114 | 123 |  60 |  59 |  62 | 0 |\n",
       "| India                    | 1049549.474 |  1.8 | 68 | 62 |  6.9 |  7.7 | 3.8 | 3.1 | 61.0 | ⋯ | 95 | 86 | 106 | 291 | 268 | 314 | 220 | 197 | 243 | 1 |\n",
       "| Indonesia                |  217131.218 |  1.4 | 64 | 54 |  6.4 |  7.9 | 3.1 | 2.4 | 66.4 | ⋯ | 36 | 33 |  40 | 244 | 226 | 261 | 208 | 194 | 224 | 0 |\n",
       "| Republic of Ireland      |    3910.840 |  1.0 | 60 | 47 | 15.3 | 15.3 | 2.0 | 1.9 | 77.1 | ⋯ |  6 |  5 |   7 | 113 | 105 | 121 |  66 |  62 |  71 | 1 |\n",
       "| Italy                    |   57482.385 |  0.1 | 45 | 49 | 21.7 | 24.5 | 1.3 | 1.2 | 79.7 | ⋯ |  5 |  4 |   5 |  96 |  92 | 100 |  49 |  46 |  51 | 0 |\n",
       "| Kuwait                   |    2443.419 |  2.1 | 56 | 38 |  2.1 |  2.7 | 3.3 | 2.7 | 76.2 | ⋯ | 11 |  8 |  15 |  81 |  72 |  91 |  63 |  48 |  80 | 0 |\n",
       "| Malaysia                 |   23965.311 |  2.4 | 67 | 60 |  5.8 |  6.7 | 3.7 | 2.9 | 72.0 | ⋯ |  8 |  7 |  10 | 192 | 181 | 202 | 106 | 100 | 111 | 0 |\n",
       "| Mongolia                 |    2559.431 |  1.1 | 81 | 59 |  5.9 |  5.6 | 3.5 | 2.4 | 62.9 | ⋯ | 66 | 64 |  68 | 319 | 310 | 327 | 219 | 210 | 227 | 0 |\n",
       "| New Zealand              |    3845.679 |  1.1 | 53 | 53 | 15.3 | 15.9 | 2.1 | 2.0 | 78.9 | ⋯ |  6 |  4 |   7 |  98 |  94 | 104 |  63 |  59 |  67 | 0 |\n",
       "| Philippines              |   78580.225 |  2.1 | 77 | 67 |  5.0 |  5.7 | 4.2 | 3.2 | 68.3 | ⋯ | 33 | 28 |  38 | 258 | 238 | 279 | 133 | 118 | 151 | 0 |\n",
       "| Republic of Korea        |   47430.218 |  0.8 | 43 | 39 |  8.2 | 11.8 | 1.7 | 1.4 | 75.5 | ⋯ |  7 |  7 |   8 | 166 | 156 | 176 |  61 |  59 |  63 | 0 |\n",
       "| Romania                  |   22387.390 | -0.3 | 50 | 45 | 16.3 | 18.9 | 1.6 | 1.3 | 71.4 | ⋯ | 19 | 17 |  20 | 235 | 212 | 259 | 108 |  96 | 121 | 0 |\n",
       "| Russian Federation       |  144081.588 | -0.3 | 50 | 42 | 16.3 | 18.3 | 1.6 | 1.2 | 64.8 | ⋯ | 16 | 15 |  17 | 464 | 413 | 510 | 168 | 150 | 187 | 0 |\n",
       "| Singapore                |    4183.273 |  2.8 | 38 | 40 |  8.7 | 11.1 | 1.8 | 1.4 | 79.6 | ⋯ |  3 |  3 |   3 |  90 |  80 | 101 |  53 |  49 |  56 | 0 |\n",
       "| South Africa             |   44759.191 |  1.5 | 70 | 59 |  5.2 |  6.1 | 3.4 | 2.6 | 50.7 | ⋯ | 81 | 55 | 105 | 598 | 404 | 818 | 482 | 321 | 653 | 0 |\n",
       "| Spain                    |   40977.309 |  0.4 | 48 | 46 | 20.0 | 21.6 | 1.3 | 1.2 | 79.6 | ⋯ |  5 |  4 |   5 | 120 | 111 | 128 |  47 |  45 |  49 | 0 |\n",
       "| Sweden                   |    8867.321 |  0.2 | 56 | 55 | 22.4 | 22.9 | 2.0 | 1.6 | 80.4 | ⋯ |  3 |  3 |   3 |  83 |  80 |  85 |  53 |  51 |  55 | 0 |\n",
       "| Switzerland              |    7171.404 |  0.3 | 46 | 49 | 19.4 | 22.1 | 1.5 | 1.4 | 80.6 | ⋯ |  5 |  4 |   6 |  92 |  87 |  98 |  51 |  49 |  53 | 0 |\n",
       "| Thailand                 |   62193.350 |  1.1 | 53 | 46 |  6.7 |  8.8 | 2.1 | 1.9 | 69.3 | ⋯ | 26 | 22 |  30 | 279 | 250 | 311 | 153 | 131 | 178 | 1 |\n",
       "| United Kingdom           |   59067.963 |  0.3 | 54 | 53 | 21.1 | 20.8 | 1.8 | 1.6 | 78.2 | ⋯ |  6 |  5 |   6 | 107 | 101 | 113 |  67 |  61 |  72 | 0 |\n",
       "| United States of America |  291037.954 |  1.1 | 52 | 51 | 16.4 | 16.2 | 2.0 | 2.1 | 77.3 | ⋯ |  7 |  7 |   7 | 140 | 134 | 148 |  83 |  81 |  84 | 0 |\n",
       "| Vietnam                  |   80278.208 |  1.5 | 76 | 59 |  7.3 |  7.4 | 3.4 | 2.3 | 69.6 | ⋯ | 33 | 28 |  37 | 200 | 184 | 215 | 129 | 117 | 140 | 0 |\n",
       "\n"
      ],
      "text/plain": [
       "   Member.State             Total.population Annual.Growth.Rate.....1992.2002\n",
       "1  Brazil                    176257.327       1.4                            \n",
       "2  Canada                     31271.069       1.0                            \n",
       "3  China                    1302307.069       0.9                            \n",
       "4  Colombia                   43526.430       1.8                            \n",
       "5  Finland                     5197.451       0.3                            \n",
       "6  France                     59849.658       0.4                            \n",
       "7  Germany                    82414.408       0.2                            \n",
       "8  India                    1049549.474       1.8                            \n",
       "9  Indonesia                 217131.218       1.4                            \n",
       "10 Republic of Ireland         3910.840       1.0                            \n",
       "11 Italy                      57482.385       0.1                            \n",
       "12 Kuwait                      2443.419       2.1                            \n",
       "13 Malaysia                   23965.311       2.4                            \n",
       "14 Mongolia                    2559.431       1.1                            \n",
       "15 New Zealand                 3845.679       1.1                            \n",
       "16 Philippines                78580.225       2.1                            \n",
       "17 Republic of Korea          47430.218       0.8                            \n",
       "18 Romania                    22387.390      -0.3                            \n",
       "19 Russian Federation        144081.588      -0.3                            \n",
       "20 Singapore                   4183.273       2.8                            \n",
       "21 South Africa               44759.191       1.5                            \n",
       "22 Spain                      40977.309       0.4                            \n",
       "23 Sweden                      8867.321       0.2                            \n",
       "24 Switzerland                 7171.404       0.3                            \n",
       "25 Thailand                   62193.350       1.1                            \n",
       "26 United Kingdom             59067.963       0.3                            \n",
       "27 United States of America  291037.954       1.1                            \n",
       "28 Vietnam                    80278.208       1.5                            \n",
       "   Dependency.ratio.1992 Dependency.ratio.2002\n",
       "1  63                    51                   \n",
       "2  47                    45                   \n",
       "3  49                    44                   \n",
       "4  66                    59                   \n",
       "5  49                    49                   \n",
       "6  52                    53                   \n",
       "7  46                    48                   \n",
       "8  68                    62                   \n",
       "9  64                    54                   \n",
       "10 60                    47                   \n",
       "11 45                    49                   \n",
       "12 56                    38                   \n",
       "13 67                    60                   \n",
       "14 81                    59                   \n",
       "15 53                    53                   \n",
       "16 77                    67                   \n",
       "17 43                    39                   \n",
       "18 50                    45                   \n",
       "19 50                    42                   \n",
       "20 38                    40                   \n",
       "21 70                    59                   \n",
       "22 48                    46                   \n",
       "23 56                    55                   \n",
       "24 46                    49                   \n",
       "25 53                    46                   \n",
       "26 54                    53                   \n",
       "27 52                    51                   \n",
       "28 76                    59                   \n",
       "   Percentage.of.population.aged.60...1992. Percentage.of.population.aged.60.\n",
       "1   6.8                                      8.1                             \n",
       "2  15.8                                     17.1                             \n",
       "3   8.6                                     10.0                             \n",
       "4   6.4                                      7.1                             \n",
       "5  18.7                                     20.3                             \n",
       "6  19.5                                     20.5                             \n",
       "7  20.5                                     24.0                             \n",
       "8   6.9                                      7.7                             \n",
       "9   6.4                                      7.9                             \n",
       "10 15.3                                     15.3                             \n",
       "11 21.7                                     24.5                             \n",
       "12  2.1                                      2.7                             \n",
       "13  5.8                                      6.7                             \n",
       "14  5.9                                      5.6                             \n",
       "15 15.3                                     15.9                             \n",
       "16  5.0                                      5.7                             \n",
       "17  8.2                                     11.8                             \n",
       "18 16.3                                     18.9                             \n",
       "19 16.3                                     18.3                             \n",
       "20  8.7                                     11.1                             \n",
       "21  5.2                                      6.1                             \n",
       "22 20.0                                     21.6                             \n",
       "23 22.4                                     22.9                             \n",
       "24 19.4                                     22.1                             \n",
       "25  6.7                                      8.8                             \n",
       "26 21.1                                     20.8                             \n",
       "27 16.4                                     16.2                             \n",
       "28  7.3                                      7.4                             \n",
       "   Total.Fertility.Rate.1992 Total.Fertility.Rate.2002\n",
       "1  2.6                       2.2                      \n",
       "2  1.7                       1.5                      \n",
       "3  2.0                       1.8                      \n",
       "4  3.0                       2.6                      \n",
       "5  1.8                       1.7                      \n",
       "6  1.7                       1.9                      \n",
       "7  1.3                       1.3                      \n",
       "8  3.8                       3.1                      \n",
       "9  3.1                       2.4                      \n",
       "10 2.0                       1.9                      \n",
       "11 1.3                       1.2                      \n",
       "12 3.3                       2.7                      \n",
       "13 3.7                       2.9                      \n",
       "14 3.5                       2.4                      \n",
       "15 2.1                       2.0                      \n",
       "16 4.2                       3.2                      \n",
       "17 1.7                       1.4                      \n",
       "18 1.6                       1.3                      \n",
       "19 1.6                       1.2                      \n",
       "20 1.8                       1.4                      \n",
       "21 3.4                       2.6                      \n",
       "22 1.3                       1.2                      \n",
       "23 2.0                       1.6                      \n",
       "24 1.5                       1.4                      \n",
       "25 2.1                       1.9                      \n",
       "26 1.8                       1.6                      \n",
       "27 2.0                       2.1                      \n",
       "28 3.4                       2.3                      \n",
       "   LIFE.EXPECTANCY.AT.BIRTH.BOTH.SEXES.2002 ⋯\n",
       "1  68.9                                     ⋯\n",
       "2  79.8                                     ⋯\n",
       "3  71.1                                     ⋯\n",
       "4  71.8                                     ⋯\n",
       "5  78.2                                     ⋯\n",
       "6  79.7                                     ⋯\n",
       "7  78.7                                     ⋯\n",
       "8  61.0                                     ⋯\n",
       "9  66.4                                     ⋯\n",
       "10 77.1                                     ⋯\n",
       "11 79.7                                     ⋯\n",
       "12 76.2                                     ⋯\n",
       "13 72.0                                     ⋯\n",
       "14 62.9                                     ⋯\n",
       "15 78.9                                     ⋯\n",
       "16 68.3                                     ⋯\n",
       "17 75.5                                     ⋯\n",
       "18 71.4                                     ⋯\n",
       "19 64.8                                     ⋯\n",
       "20 79.6                                     ⋯\n",
       "21 50.7                                     ⋯\n",
       "22 79.6                                     ⋯\n",
       "23 80.4                                     ⋯\n",
       "24 80.6                                     ⋯\n",
       "25 69.3                                     ⋯\n",
       "26 78.2                                     ⋯\n",
       "27 77.3                                     ⋯\n",
       "28 69.6                                     ⋯\n",
       "   PROBABILITY.OF.DYING.UNDER.AGE.OF.5.FEMALES.2002\n",
       "1  34                                              \n",
       "2   5                                              \n",
       "3  41                                              \n",
       "4  19                                              \n",
       "5   3                                              \n",
       "6   4                                              \n",
       "7   4                                              \n",
       "8  95                                              \n",
       "9  36                                              \n",
       "10  6                                              \n",
       "11  5                                              \n",
       "12 11                                              \n",
       "13  8                                              \n",
       "14 66                                              \n",
       "15  6                                              \n",
       "16 33                                              \n",
       "17  7                                              \n",
       "18 19                                              \n",
       "19 16                                              \n",
       "20  3                                              \n",
       "21 81                                              \n",
       "22  5                                              \n",
       "23  3                                              \n",
       "24  5                                              \n",
       "25 26                                              \n",
       "26  6                                              \n",
       "27  7                                              \n",
       "28 33                                              \n",
       "   PROBABILITY.OF.DYING.UNDER.AGE.OF.5.FEMALES.2002.Upper.Bound.Uncertainty.Interval..per.1000.\n",
       "1  29                                                                                          \n",
       "2   5                                                                                          \n",
       "3  38                                                                                          \n",
       "4  17                                                                                          \n",
       "5   3                                                                                          \n",
       "6   4                                                                                          \n",
       "7   4                                                                                          \n",
       "8  86                                                                                          \n",
       "9  33                                                                                          \n",
       "10  5                                                                                          \n",
       "11  4                                                                                          \n",
       "12  8                                                                                          \n",
       "13  7                                                                                          \n",
       "14 64                                                                                          \n",
       "15  4                                                                                          \n",
       "16 28                                                                                          \n",
       "17  7                                                                                          \n",
       "18 17                                                                                          \n",
       "19 15                                                                                          \n",
       "20  3                                                                                          \n",
       "21 55                                                                                          \n",
       "22  4                                                                                          \n",
       "23  3                                                                                          \n",
       "24  4                                                                                          \n",
       "25 22                                                                                          \n",
       "26  5                                                                                          \n",
       "27  7                                                                                          \n",
       "28 28                                                                                          \n",
       "   PROBABILITY.OF.DYING.UNDER.AGE.OF.5.FEMALES.2002.Lower.Bound.Uncertainty.Interval..per.1000.\n",
       "1   40                                                                                         \n",
       "2    5                                                                                         \n",
       "3   44                                                                                         \n",
       "4   21                                                                                         \n",
       "5    3                                                                                         \n",
       "6    5                                                                                         \n",
       "7    4                                                                                         \n",
       "8  106                                                                                         \n",
       "9   40                                                                                         \n",
       "10   7                                                                                         \n",
       "11   5                                                                                         \n",
       "12  15                                                                                         \n",
       "13  10                                                                                         \n",
       "14  68                                                                                         \n",
       "15   7                                                                                         \n",
       "16  38                                                                                         \n",
       "17   8                                                                                         \n",
       "18  20                                                                                         \n",
       "19  17                                                                                         \n",
       "20   3                                                                                         \n",
       "21 105                                                                                         \n",
       "22   5                                                                                         \n",
       "23   3                                                                                         \n",
       "24   6                                                                                         \n",
       "25  30                                                                                         \n",
       "26   6                                                                                         \n",
       "27   7                                                                                         \n",
       "28  37                                                                                         \n",
       "   PROBABILITY.OF.DYING.AGE.15.59.MALES.2002\n",
       "1  246                                      \n",
       "2   95                                      \n",
       "3  165                                      \n",
       "4  236                                      \n",
       "5  135                                      \n",
       "6  133                                      \n",
       "7  118                                      \n",
       "8  291                                      \n",
       "9  244                                      \n",
       "10 113                                      \n",
       "11  96                                      \n",
       "12  81                                      \n",
       "13 192                                      \n",
       "14 319                                      \n",
       "15  98                                      \n",
       "16 258                                      \n",
       "17 166                                      \n",
       "18 235                                      \n",
       "19 464                                      \n",
       "20  90                                      \n",
       "21 598                                      \n",
       "22 120                                      \n",
       "23  83                                      \n",
       "24  92                                      \n",
       "25 279                                      \n",
       "26 107                                      \n",
       "27 140                                      \n",
       "28 200                                      \n",
       "   PROBABILITY.OF.DYING.AGE.15.59.MALES.2002.Upper.Bound.Uncertainty.Interval..per.1000.\n",
       "1  235                                                                                  \n",
       "2   93                                                                                  \n",
       "3  154                                                                                  \n",
       "4  220                                                                                  \n",
       "5  131                                                                                  \n",
       "6  128                                                                                  \n",
       "7  114                                                                                  \n",
       "8  268                                                                                  \n",
       "9  226                                                                                  \n",
       "10 105                                                                                  \n",
       "11  92                                                                                  \n",
       "12  72                                                                                  \n",
       "13 181                                                                                  \n",
       "14 310                                                                                  \n",
       "15  94                                                                                  \n",
       "16 238                                                                                  \n",
       "17 156                                                                                  \n",
       "18 212                                                                                  \n",
       "19 413                                                                                  \n",
       "20  80                                                                                  \n",
       "21 404                                                                                  \n",
       "22 111                                                                                  \n",
       "23  80                                                                                  \n",
       "24  87                                                                                  \n",
       "25 250                                                                                  \n",
       "26 101                                                                                  \n",
       "27 134                                                                                  \n",
       "28 184                                                                                  \n",
       "   PROBABILITY.OF.DYING.AGE.15.59.MALES.2002.Lower.Bound.Uncertainty.Interval..per.1000.\n",
       "1  257                                                                                  \n",
       "2   97                                                                                  \n",
       "3  175                                                                                  \n",
       "4  251                                                                                  \n",
       "5  140                                                                                  \n",
       "6  138                                                                                  \n",
       "7  123                                                                                  \n",
       "8  314                                                                                  \n",
       "9  261                                                                                  \n",
       "10 121                                                                                  \n",
       "11 100                                                                                  \n",
       "12  91                                                                                  \n",
       "13 202                                                                                  \n",
       "14 327                                                                                  \n",
       "15 104                                                                                  \n",
       "16 279                                                                                  \n",
       "17 176                                                                                  \n",
       "18 259                                                                                  \n",
       "19 510                                                                                  \n",
       "20 101                                                                                  \n",
       "21 818                                                                                  \n",
       "22 128                                                                                  \n",
       "23  85                                                                                  \n",
       "24  98                                                                                  \n",
       "25 311                                                                                  \n",
       "26 113                                                                                  \n",
       "27 148                                                                                  \n",
       "28 215                                                                                  \n",
       "   PROBABILITY.OF.DYING.AGE.15.59.FEMALES.2002\n",
       "1  136                                        \n",
       "2   58                                        \n",
       "3  104                                        \n",
       "4   99                                        \n",
       "5   60                                        \n",
       "6   60                                        \n",
       "7   60                                        \n",
       "8  220                                        \n",
       "9  208                                        \n",
       "10  66                                        \n",
       "11  49                                        \n",
       "12  63                                        \n",
       "13 106                                        \n",
       "14 219                                        \n",
       "15  63                                        \n",
       "16 133                                        \n",
       "17  61                                        \n",
       "18 108                                        \n",
       "19 168                                        \n",
       "20  53                                        \n",
       "21 482                                        \n",
       "22  47                                        \n",
       "23  53                                        \n",
       "24  51                                        \n",
       "25 153                                        \n",
       "26  67                                        \n",
       "27  83                                        \n",
       "28 129                                        \n",
       "   PROBABILITY.OF.DYING.AGE.15.59.FEMALES.2002.Upper.Bound.Uncertainty.Interval..per.1000.\n",
       "1  128                                                                                    \n",
       "2   57                                                                                    \n",
       "3   93                                                                                    \n",
       "4   87                                                                                    \n",
       "5   56                                                                                    \n",
       "6   58                                                                                    \n",
       "7   59                                                                                    \n",
       "8  197                                                                                    \n",
       "9  194                                                                                    \n",
       "10  62                                                                                    \n",
       "11  46                                                                                    \n",
       "12  48                                                                                    \n",
       "13 100                                                                                    \n",
       "14 210                                                                                    \n",
       "15  59                                                                                    \n",
       "16 118                                                                                    \n",
       "17  59                                                                                    \n",
       "18  96                                                                                    \n",
       "19 150                                                                                    \n",
       "20  49                                                                                    \n",
       "21 321                                                                                    \n",
       "22  45                                                                                    \n",
       "23  51                                                                                    \n",
       "24  49                                                                                    \n",
       "25 131                                                                                    \n",
       "26  61                                                                                    \n",
       "27  81                                                                                    \n",
       "28 117                                                                                    \n",
       "   PROBABILITY.OF.DYING.AGE.15.59.FEMALES.2002.Lower.Bound.Uncertainty.Interval..per.1000.\n",
       "1  145                                                                                    \n",
       "2   60                                                                                    \n",
       "3  112                                                                                    \n",
       "4  113                                                                                    \n",
       "5   64                                                                                    \n",
       "6   62                                                                                    \n",
       "7   62                                                                                    \n",
       "8  243                                                                                    \n",
       "9  224                                                                                    \n",
       "10  71                                                                                    \n",
       "11  51                                                                                    \n",
       "12  80                                                                                    \n",
       "13 111                                                                                    \n",
       "14 227                                                                                    \n",
       "15  67                                                                                    \n",
       "16 151                                                                                    \n",
       "17  63                                                                                    \n",
       "18 121                                                                                    \n",
       "19 187                                                                                    \n",
       "20  56                                                                                    \n",
       "21 653                                                                                    \n",
       "22  49                                                                                    \n",
       "23  55                                                                                    \n",
       "24  53                                                                                    \n",
       "25 178                                                                                    \n",
       "26  72                                                                                    \n",
       "27  84                                                                                    \n",
       "28 140                                                                                    \n",
       "   classification\n",
       "1  1             \n",
       "2  1             \n",
       "3  0             \n",
       "4  0             \n",
       "5  1             \n",
       "6  1             \n",
       "7  0             \n",
       "8  1             \n",
       "9  0             \n",
       "10 1             \n",
       "11 0             \n",
       "12 0             \n",
       "13 0             \n",
       "14 0             \n",
       "15 0             \n",
       "16 0             \n",
       "17 0             \n",
       "18 0             \n",
       "19 0             \n",
       "20 0             \n",
       "21 0             \n",
       "22 0             \n",
       "23 0             \n",
       "24 0             \n",
       "25 1             \n",
       "26 0             \n",
       "27 0             \n",
       "28 0             "
      ]
     },
     "metadata": {},
     "output_type": "display_data"
    }
   ],
   "source": [
    "dfW_28 %<>% mutate_if(is.integer,as.numeric)\n",
    "dfW_28"
   ]
  },
  {
   "cell_type": "code",
   "execution_count": 91,
   "metadata": {},
   "outputs": [],
   "source": [
    "write.csv(dfW_28,\"dfW28.csv\", row.names = TRUE)"
   ]
  },
  {
   "cell_type": "code",
   "execution_count": 92,
   "metadata": {},
   "outputs": [],
   "source": [
    "dfW28 = read.csv(\"dfW28.csv\", header = T)"
   ]
  },
  {
   "cell_type": "code",
   "execution_count": 93,
   "metadata": {},
   "outputs": [],
   "source": [
    "library(caret)\n",
    "library(randomForest)\n",
    "library(varImp)\n",
    "library(naivebayes)"
   ]
  },
  {
   "cell_type": "code",
   "execution_count": 94,
   "metadata": {},
   "outputs": [
    {
     "data": {
      "text/html": [
       "<style>\n",
       ".dl-inline {width: auto; margin:0; padding: 0}\n",
       ".dl-inline>dt, .dl-inline>dd {float: none; width: auto; display: inline-block}\n",
       ".dl-inline>dt::after {content: \":\\0020\"; padding-right: .5ex}\n",
       ".dl-inline>dt:not(:first-of-type) {padding-left: .5ex}\n",
       "</style><dl class=dl-inline><dt>X</dt><dd>'integer'</dd><dt>Member.State</dt><dd>'factor'</dd><dt>Total.population</dt><dd>'numeric'</dd><dt>Annual.Growth.Rate.....1992.2002</dt><dd>'numeric'</dd><dt>Dependency.ratio.1992</dt><dd>'integer'</dd><dt>Dependency.ratio.2002</dt><dd>'integer'</dd><dt>Percentage.of.population.aged.60...1992.</dt><dd>'numeric'</dd><dt>Percentage.of.population.aged.60.</dt><dd>'numeric'</dd><dt>Total.Fertility.Rate.1992</dt><dd>'numeric'</dd><dt>Total.Fertility.Rate.2002</dt><dd>'numeric'</dd><dt>LIFE.EXPECTANCY.AT.BIRTH.BOTH.SEXES.2002</dt><dd>'numeric'</dd><dt>LIFE.EXPECTANCY.AT.BIRTH.MALES.2002..years.</dt><dd>'numeric'</dd><dt>LIFE.EXPECTANCY.AT.BIRTH.MALES.2002..years..Lower.Bound.Uncertainty.Interval</dt><dd>'numeric'</dd><dt>LIFE.EXPECTANCY.AT.BIRTH.MALES.2002..years..Upper.Bound.Uncertainty.Interval</dt><dd>'numeric'</dd><dt>LIFE.EXPECTANCY.AT.BIRTH.FEMALES.2002..years.</dt><dd>'numeric'</dd><dt>LIFE.EXPECTANCY.AT.BIRTH.FEMALES.2002..years..Lower.Bound.Uncertainty.Interval</dt><dd>'numeric'</dd><dt>LIFE.EXPECTANCY.AT.BIRTH.FEMALES.2002..years..Upper.Bound.Uncertainty.Interval</dt><dd>'numeric'</dd><dt>PROBABILITY.OF.DYING.UNDER.AGE.OF.5.MALES.2002</dt><dd>'integer'</dd><dt>PROBABILITY.OF.DYING.UNDER.AGE.OF.5.MALES.2002.Upper.Bound.Uncertainty.Interval..per.1000.</dt><dd>'integer'</dd><dt>PROBABILITY.OF.DYING.UNDER.AGE.OF.5.MALES.2002.Lower.Bound.Uncertainty.Interval..per.1000.</dt><dd>'integer'</dd><dt>PROBABILITY.OF.DYING.UNDER.AGE.OF.5.FEMALES.2002</dt><dd>'integer'</dd><dt>PROBABILITY.OF.DYING.UNDER.AGE.OF.5.FEMALES.2002.Upper.Bound.Uncertainty.Interval..per.1000.</dt><dd>'integer'</dd><dt>PROBABILITY.OF.DYING.UNDER.AGE.OF.5.FEMALES.2002.Lower.Bound.Uncertainty.Interval..per.1000.</dt><dd>'integer'</dd><dt>PROBABILITY.OF.DYING.AGE.15.59.MALES.2002</dt><dd>'integer'</dd><dt>PROBABILITY.OF.DYING.AGE.15.59.MALES.2002.Upper.Bound.Uncertainty.Interval..per.1000.</dt><dd>'integer'</dd><dt>PROBABILITY.OF.DYING.AGE.15.59.MALES.2002.Lower.Bound.Uncertainty.Interval..per.1000.</dt><dd>'integer'</dd><dt>PROBABILITY.OF.DYING.AGE.15.59.FEMALES.2002</dt><dd>'integer'</dd><dt>PROBABILITY.OF.DYING.AGE.15.59.FEMALES.2002.Upper.Bound.Uncertainty.Interval..per.1000.</dt><dd>'integer'</dd><dt>PROBABILITY.OF.DYING.AGE.15.59.FEMALES.2002.Lower.Bound.Uncertainty.Interval..per.1000.</dt><dd>'integer'</dd><dt>classification</dt><dd>'integer'</dd></dl>\n"
      ],
      "text/latex": [
       "\\begin{description*}\n",
       "\\item[X] 'integer'\n",
       "\\item[Member.State] 'factor'\n",
       "\\item[Total.population] 'numeric'\n",
       "\\item[Annual.Growth.Rate.....1992.2002] 'numeric'\n",
       "\\item[Dependency.ratio.1992] 'integer'\n",
       "\\item[Dependency.ratio.2002] 'integer'\n",
       "\\item[Percentage.of.population.aged.60...1992.] 'numeric'\n",
       "\\item[Percentage.of.population.aged.60.] 'numeric'\n",
       "\\item[Total.Fertility.Rate.1992] 'numeric'\n",
       "\\item[Total.Fertility.Rate.2002] 'numeric'\n",
       "\\item[LIFE.EXPECTANCY.AT.BIRTH.BOTH.SEXES.2002] 'numeric'\n",
       "\\item[LIFE.EXPECTANCY.AT.BIRTH.MALES.2002..years.] 'numeric'\n",
       "\\item[LIFE.EXPECTANCY.AT.BIRTH.MALES.2002..years..Lower.Bound.Uncertainty.Interval] 'numeric'\n",
       "\\item[LIFE.EXPECTANCY.AT.BIRTH.MALES.2002..years..Upper.Bound.Uncertainty.Interval] 'numeric'\n",
       "\\item[LIFE.EXPECTANCY.AT.BIRTH.FEMALES.2002..years.] 'numeric'\n",
       "\\item[LIFE.EXPECTANCY.AT.BIRTH.FEMALES.2002..years..Lower.Bound.Uncertainty.Interval] 'numeric'\n",
       "\\item[LIFE.EXPECTANCY.AT.BIRTH.FEMALES.2002..years..Upper.Bound.Uncertainty.Interval] 'numeric'\n",
       "\\item[PROBABILITY.OF.DYING.UNDER.AGE.OF.5.MALES.2002] 'integer'\n",
       "\\item[PROBABILITY.OF.DYING.UNDER.AGE.OF.5.MALES.2002.Upper.Bound.Uncertainty.Interval..per.1000.] 'integer'\n",
       "\\item[PROBABILITY.OF.DYING.UNDER.AGE.OF.5.MALES.2002.Lower.Bound.Uncertainty.Interval..per.1000.] 'integer'\n",
       "\\item[PROBABILITY.OF.DYING.UNDER.AGE.OF.5.FEMALES.2002] 'integer'\n",
       "\\item[PROBABILITY.OF.DYING.UNDER.AGE.OF.5.FEMALES.2002.Upper.Bound.Uncertainty.Interval..per.1000.] 'integer'\n",
       "\\item[PROBABILITY.OF.DYING.UNDER.AGE.OF.5.FEMALES.2002.Lower.Bound.Uncertainty.Interval..per.1000.] 'integer'\n",
       "\\item[PROBABILITY.OF.DYING.AGE.15.59.MALES.2002] 'integer'\n",
       "\\item[PROBABILITY.OF.DYING.AGE.15.59.MALES.2002.Upper.Bound.Uncertainty.Interval..per.1000.] 'integer'\n",
       "\\item[PROBABILITY.OF.DYING.AGE.15.59.MALES.2002.Lower.Bound.Uncertainty.Interval..per.1000.] 'integer'\n",
       "\\item[PROBABILITY.OF.DYING.AGE.15.59.FEMALES.2002] 'integer'\n",
       "\\item[PROBABILITY.OF.DYING.AGE.15.59.FEMALES.2002.Upper.Bound.Uncertainty.Interval..per.1000.] 'integer'\n",
       "\\item[PROBABILITY.OF.DYING.AGE.15.59.FEMALES.2002.Lower.Bound.Uncertainty.Interval..per.1000.] 'integer'\n",
       "\\item[classification] 'integer'\n",
       "\\end{description*}\n"
      ],
      "text/markdown": [
       "X\n",
       ":   'integer'Member.State\n",
       ":   'factor'Total.population\n",
       ":   'numeric'Annual.Growth.Rate.....1992.2002\n",
       ":   'numeric'Dependency.ratio.1992\n",
       ":   'integer'Dependency.ratio.2002\n",
       ":   'integer'Percentage.of.population.aged.60...1992.\n",
       ":   'numeric'Percentage.of.population.aged.60.\n",
       ":   'numeric'Total.Fertility.Rate.1992\n",
       ":   'numeric'Total.Fertility.Rate.2002\n",
       ":   'numeric'LIFE.EXPECTANCY.AT.BIRTH.BOTH.SEXES.2002\n",
       ":   'numeric'LIFE.EXPECTANCY.AT.BIRTH.MALES.2002..years.\n",
       ":   'numeric'LIFE.EXPECTANCY.AT.BIRTH.MALES.2002..years..Lower.Bound.Uncertainty.Interval\n",
       ":   'numeric'LIFE.EXPECTANCY.AT.BIRTH.MALES.2002..years..Upper.Bound.Uncertainty.Interval\n",
       ":   'numeric'LIFE.EXPECTANCY.AT.BIRTH.FEMALES.2002..years.\n",
       ":   'numeric'LIFE.EXPECTANCY.AT.BIRTH.FEMALES.2002..years..Lower.Bound.Uncertainty.Interval\n",
       ":   'numeric'LIFE.EXPECTANCY.AT.BIRTH.FEMALES.2002..years..Upper.Bound.Uncertainty.Interval\n",
       ":   'numeric'PROBABILITY.OF.DYING.UNDER.AGE.OF.5.MALES.2002\n",
       ":   'integer'PROBABILITY.OF.DYING.UNDER.AGE.OF.5.MALES.2002.Upper.Bound.Uncertainty.Interval..per.1000.\n",
       ":   'integer'PROBABILITY.OF.DYING.UNDER.AGE.OF.5.MALES.2002.Lower.Bound.Uncertainty.Interval..per.1000.\n",
       ":   'integer'PROBABILITY.OF.DYING.UNDER.AGE.OF.5.FEMALES.2002\n",
       ":   'integer'PROBABILITY.OF.DYING.UNDER.AGE.OF.5.FEMALES.2002.Upper.Bound.Uncertainty.Interval..per.1000.\n",
       ":   'integer'PROBABILITY.OF.DYING.UNDER.AGE.OF.5.FEMALES.2002.Lower.Bound.Uncertainty.Interval..per.1000.\n",
       ":   'integer'PROBABILITY.OF.DYING.AGE.15.59.MALES.2002\n",
       ":   'integer'PROBABILITY.OF.DYING.AGE.15.59.MALES.2002.Upper.Bound.Uncertainty.Interval..per.1000.\n",
       ":   'integer'PROBABILITY.OF.DYING.AGE.15.59.MALES.2002.Lower.Bound.Uncertainty.Interval..per.1000.\n",
       ":   'integer'PROBABILITY.OF.DYING.AGE.15.59.FEMALES.2002\n",
       ":   'integer'PROBABILITY.OF.DYING.AGE.15.59.FEMALES.2002.Upper.Bound.Uncertainty.Interval..per.1000.\n",
       ":   'integer'PROBABILITY.OF.DYING.AGE.15.59.FEMALES.2002.Lower.Bound.Uncertainty.Interval..per.1000.\n",
       ":   'integer'classification\n",
       ":   'integer'\n",
       "\n"
      ],
      "text/plain": [
       "                                                                                           X \n",
       "                                                                                   \"integer\" \n",
       "                                                                                Member.State \n",
       "                                                                                    \"factor\" \n",
       "                                                                            Total.population \n",
       "                                                                                   \"numeric\" \n",
       "                                                            Annual.Growth.Rate.....1992.2002 \n",
       "                                                                                   \"numeric\" \n",
       "                                                                       Dependency.ratio.1992 \n",
       "                                                                                   \"integer\" \n",
       "                                                                       Dependency.ratio.2002 \n",
       "                                                                                   \"integer\" \n",
       "                                                    Percentage.of.population.aged.60...1992. \n",
       "                                                                                   \"numeric\" \n",
       "                                                           Percentage.of.population.aged.60. \n",
       "                                                                                   \"numeric\" \n",
       "                                                                   Total.Fertility.Rate.1992 \n",
       "                                                                                   \"numeric\" \n",
       "                                                                   Total.Fertility.Rate.2002 \n",
       "                                                                                   \"numeric\" \n",
       "                                                    LIFE.EXPECTANCY.AT.BIRTH.BOTH.SEXES.2002 \n",
       "                                                                                   \"numeric\" \n",
       "                                                 LIFE.EXPECTANCY.AT.BIRTH.MALES.2002..years. \n",
       "                                                                                   \"numeric\" \n",
       "                LIFE.EXPECTANCY.AT.BIRTH.MALES.2002..years..Lower.Bound.Uncertainty.Interval \n",
       "                                                                                   \"numeric\" \n",
       "                LIFE.EXPECTANCY.AT.BIRTH.MALES.2002..years..Upper.Bound.Uncertainty.Interval \n",
       "                                                                                   \"numeric\" \n",
       "                                               LIFE.EXPECTANCY.AT.BIRTH.FEMALES.2002..years. \n",
       "                                                                                   \"numeric\" \n",
       "              LIFE.EXPECTANCY.AT.BIRTH.FEMALES.2002..years..Lower.Bound.Uncertainty.Interval \n",
       "                                                                                   \"numeric\" \n",
       "              LIFE.EXPECTANCY.AT.BIRTH.FEMALES.2002..years..Upper.Bound.Uncertainty.Interval \n",
       "                                                                                   \"numeric\" \n",
       "                                              PROBABILITY.OF.DYING.UNDER.AGE.OF.5.MALES.2002 \n",
       "                                                                                   \"integer\" \n",
       "  PROBABILITY.OF.DYING.UNDER.AGE.OF.5.MALES.2002.Upper.Bound.Uncertainty.Interval..per.1000. \n",
       "                                                                                   \"integer\" \n",
       "  PROBABILITY.OF.DYING.UNDER.AGE.OF.5.MALES.2002.Lower.Bound.Uncertainty.Interval..per.1000. \n",
       "                                                                                   \"integer\" \n",
       "                                            PROBABILITY.OF.DYING.UNDER.AGE.OF.5.FEMALES.2002 \n",
       "                                                                                   \"integer\" \n",
       "PROBABILITY.OF.DYING.UNDER.AGE.OF.5.FEMALES.2002.Upper.Bound.Uncertainty.Interval..per.1000. \n",
       "                                                                                   \"integer\" \n",
       "PROBABILITY.OF.DYING.UNDER.AGE.OF.5.FEMALES.2002.Lower.Bound.Uncertainty.Interval..per.1000. \n",
       "                                                                                   \"integer\" \n",
       "                                                   PROBABILITY.OF.DYING.AGE.15.59.MALES.2002 \n",
       "                                                                                   \"integer\" \n",
       "       PROBABILITY.OF.DYING.AGE.15.59.MALES.2002.Upper.Bound.Uncertainty.Interval..per.1000. \n",
       "                                                                                   \"integer\" \n",
       "       PROBABILITY.OF.DYING.AGE.15.59.MALES.2002.Lower.Bound.Uncertainty.Interval..per.1000. \n",
       "                                                                                   \"integer\" \n",
       "                                                 PROBABILITY.OF.DYING.AGE.15.59.FEMALES.2002 \n",
       "                                                                                   \"integer\" \n",
       "     PROBABILITY.OF.DYING.AGE.15.59.FEMALES.2002.Upper.Bound.Uncertainty.Interval..per.1000. \n",
       "                                                                                   \"integer\" \n",
       "     PROBABILITY.OF.DYING.AGE.15.59.FEMALES.2002.Lower.Bound.Uncertainty.Interval..per.1000. \n",
       "                                                                                   \"integer\" \n",
       "                                                                              classification \n",
       "                                                                                   \"integer\" "
      ]
     },
     "metadata": {},
     "output_type": "display_data"
    }
   ],
   "source": [
    "sapply(dfW20, class)"
   ]
  },
  {
   "cell_type": "code",
   "execution_count": 95,
   "metadata": {},
   "outputs": [
    {
     "data": {
      "text/html": [
       "<table>\n",
       "<caption>A data.frame: 28 × 30</caption>\n",
       "<thead>\n",
       "\t<tr><th scope=col>X</th><th scope=col>Member.State</th><th scope=col>Total.population</th><th scope=col>Annual.Growth.Rate.....1992.2002</th><th scope=col>Dependency.ratio.1992</th><th scope=col>Dependency.ratio.2002</th><th scope=col>Percentage.of.population.aged.60...1992.</th><th scope=col>Percentage.of.population.aged.60.</th><th scope=col>Total.Fertility.Rate.1992</th><th scope=col>Total.Fertility.Rate.2002</th><th scope=col>⋯</th><th scope=col>PROBABILITY.OF.DYING.UNDER.AGE.OF.5.FEMALES.2002</th><th scope=col>PROBABILITY.OF.DYING.UNDER.AGE.OF.5.FEMALES.2002.Upper.Bound.Uncertainty.Interval..per.1000.</th><th scope=col>PROBABILITY.OF.DYING.UNDER.AGE.OF.5.FEMALES.2002.Lower.Bound.Uncertainty.Interval..per.1000.</th><th scope=col>PROBABILITY.OF.DYING.AGE.15.59.MALES.2002</th><th scope=col>PROBABILITY.OF.DYING.AGE.15.59.MALES.2002.Upper.Bound.Uncertainty.Interval..per.1000.</th><th scope=col>PROBABILITY.OF.DYING.AGE.15.59.MALES.2002.Lower.Bound.Uncertainty.Interval..per.1000.</th><th scope=col>PROBABILITY.OF.DYING.AGE.15.59.FEMALES.2002</th><th scope=col>PROBABILITY.OF.DYING.AGE.15.59.FEMALES.2002.Upper.Bound.Uncertainty.Interval..per.1000.</th><th scope=col>PROBABILITY.OF.DYING.AGE.15.59.FEMALES.2002.Lower.Bound.Uncertainty.Interval..per.1000.</th><th scope=col>classification</th></tr>\n",
       "\t<tr><th scope=col>&lt;int&gt;</th><th scope=col>&lt;fct&gt;</th><th scope=col>&lt;dbl&gt;</th><th scope=col>&lt;dbl&gt;</th><th scope=col>&lt;int&gt;</th><th scope=col>&lt;int&gt;</th><th scope=col>&lt;dbl&gt;</th><th scope=col>&lt;dbl&gt;</th><th scope=col>&lt;dbl&gt;</th><th scope=col>&lt;dbl&gt;</th><th scope=col>⋯</th><th scope=col>&lt;int&gt;</th><th scope=col>&lt;int&gt;</th><th scope=col>&lt;int&gt;</th><th scope=col>&lt;int&gt;</th><th scope=col>&lt;int&gt;</th><th scope=col>&lt;int&gt;</th><th scope=col>&lt;int&gt;</th><th scope=col>&lt;int&gt;</th><th scope=col>&lt;int&gt;</th><th scope=col>&lt;int&gt;</th></tr>\n",
       "</thead>\n",
       "<tbody>\n",
       "\t<tr><td> 1</td><td>Brazil                  </td><td> 176257.327</td><td> 1.4</td><td>63</td><td>51</td><td> 6.8</td><td> 8.1</td><td>2.6</td><td>2.2</td><td>⋯</td><td>34</td><td>29</td><td> 40</td><td>246</td><td>235</td><td>257</td><td>136</td><td>128</td><td>145</td><td>1</td></tr>\n",
       "\t<tr><td> 2</td><td>Canada                  </td><td>  31271.069</td><td> 1.0</td><td>47</td><td>45</td><td>15.8</td><td>17.1</td><td>1.7</td><td>1.5</td><td>⋯</td><td> 5</td><td> 5</td><td>  5</td><td> 95</td><td> 93</td><td> 97</td><td> 58</td><td> 57</td><td> 60</td><td>1</td></tr>\n",
       "\t<tr><td> 3</td><td>China                   </td><td>1302307.069</td><td> 0.9</td><td>49</td><td>44</td><td> 8.6</td><td>10.0</td><td>2.0</td><td>1.8</td><td>⋯</td><td>41</td><td>38</td><td> 44</td><td>165</td><td>154</td><td>175</td><td>104</td><td> 93</td><td>112</td><td>0</td></tr>\n",
       "\t<tr><td> 4</td><td>Colombia                </td><td>  43526.430</td><td> 1.8</td><td>66</td><td>59</td><td> 6.4</td><td> 7.1</td><td>3.0</td><td>2.6</td><td>⋯</td><td>19</td><td>17</td><td> 21</td><td>236</td><td>220</td><td>251</td><td> 99</td><td> 87</td><td>113</td><td>0</td></tr>\n",
       "\t<tr><td> 5</td><td>Finland                 </td><td>   5197.451</td><td> 0.3</td><td>49</td><td>49</td><td>18.7</td><td>20.3</td><td>1.8</td><td>1.7</td><td>⋯</td><td> 3</td><td> 3</td><td>  3</td><td>135</td><td>131</td><td>140</td><td> 60</td><td> 56</td><td> 64</td><td>1</td></tr>\n",
       "\t<tr><td> 6</td><td>France                  </td><td>  59849.658</td><td> 0.4</td><td>52</td><td>53</td><td>19.5</td><td>20.5</td><td>1.7</td><td>1.9</td><td>⋯</td><td> 4</td><td> 4</td><td>  5</td><td>133</td><td>128</td><td>138</td><td> 60</td><td> 58</td><td> 62</td><td>1</td></tr>\n",
       "\t<tr><td> 7</td><td>Germany                 </td><td>  82414.408</td><td> 0.2</td><td>46</td><td>48</td><td>20.5</td><td>24.0</td><td>1.3</td><td>1.3</td><td>⋯</td><td> 4</td><td> 4</td><td>  4</td><td>118</td><td>114</td><td>123</td><td> 60</td><td> 59</td><td> 62</td><td>0</td></tr>\n",
       "\t<tr><td> 8</td><td>India                   </td><td>1049549.474</td><td> 1.8</td><td>68</td><td>62</td><td> 6.9</td><td> 7.7</td><td>3.8</td><td>3.1</td><td>⋯</td><td>95</td><td>86</td><td>106</td><td>291</td><td>268</td><td>314</td><td>220</td><td>197</td><td>243</td><td>1</td></tr>\n",
       "\t<tr><td> 9</td><td>Indonesia               </td><td> 217131.218</td><td> 1.4</td><td>64</td><td>54</td><td> 6.4</td><td> 7.9</td><td>3.1</td><td>2.4</td><td>⋯</td><td>36</td><td>33</td><td> 40</td><td>244</td><td>226</td><td>261</td><td>208</td><td>194</td><td>224</td><td>0</td></tr>\n",
       "\t<tr><td>10</td><td>Republic of Ireland     </td><td>   3910.840</td><td> 1.0</td><td>60</td><td>47</td><td>15.3</td><td>15.3</td><td>2.0</td><td>1.9</td><td>⋯</td><td> 6</td><td> 5</td><td>  7</td><td>113</td><td>105</td><td>121</td><td> 66</td><td> 62</td><td> 71</td><td>1</td></tr>\n",
       "\t<tr><td>11</td><td>Italy                   </td><td>  57482.385</td><td> 0.1</td><td>45</td><td>49</td><td>21.7</td><td>24.5</td><td>1.3</td><td>1.2</td><td>⋯</td><td> 5</td><td> 4</td><td>  5</td><td> 96</td><td> 92</td><td>100</td><td> 49</td><td> 46</td><td> 51</td><td>0</td></tr>\n",
       "\t<tr><td>12</td><td>Kuwait                  </td><td>   2443.419</td><td> 2.1</td><td>56</td><td>38</td><td> 2.1</td><td> 2.7</td><td>3.3</td><td>2.7</td><td>⋯</td><td>11</td><td> 8</td><td> 15</td><td> 81</td><td> 72</td><td> 91</td><td> 63</td><td> 48</td><td> 80</td><td>0</td></tr>\n",
       "\t<tr><td>13</td><td>Malaysia                </td><td>  23965.311</td><td> 2.4</td><td>67</td><td>60</td><td> 5.8</td><td> 6.7</td><td>3.7</td><td>2.9</td><td>⋯</td><td> 8</td><td> 7</td><td> 10</td><td>192</td><td>181</td><td>202</td><td>106</td><td>100</td><td>111</td><td>0</td></tr>\n",
       "\t<tr><td>14</td><td>Mongolia                </td><td>   2559.431</td><td> 1.1</td><td>81</td><td>59</td><td> 5.9</td><td> 5.6</td><td>3.5</td><td>2.4</td><td>⋯</td><td>66</td><td>64</td><td> 68</td><td>319</td><td>310</td><td>327</td><td>219</td><td>210</td><td>227</td><td>0</td></tr>\n",
       "\t<tr><td>15</td><td>New Zealand             </td><td>   3845.679</td><td> 1.1</td><td>53</td><td>53</td><td>15.3</td><td>15.9</td><td>2.1</td><td>2.0</td><td>⋯</td><td> 6</td><td> 4</td><td>  7</td><td> 98</td><td> 94</td><td>104</td><td> 63</td><td> 59</td><td> 67</td><td>0</td></tr>\n",
       "\t<tr><td>16</td><td>Philippines             </td><td>  78580.225</td><td> 2.1</td><td>77</td><td>67</td><td> 5.0</td><td> 5.7</td><td>4.2</td><td>3.2</td><td>⋯</td><td>33</td><td>28</td><td> 38</td><td>258</td><td>238</td><td>279</td><td>133</td><td>118</td><td>151</td><td>0</td></tr>\n",
       "\t<tr><td>17</td><td>Republic of Korea       </td><td>  47430.218</td><td> 0.8</td><td>43</td><td>39</td><td> 8.2</td><td>11.8</td><td>1.7</td><td>1.4</td><td>⋯</td><td> 7</td><td> 7</td><td>  8</td><td>166</td><td>156</td><td>176</td><td> 61</td><td> 59</td><td> 63</td><td>0</td></tr>\n",
       "\t<tr><td>18</td><td>Romania                 </td><td>  22387.390</td><td>-0.3</td><td>50</td><td>45</td><td>16.3</td><td>18.9</td><td>1.6</td><td>1.3</td><td>⋯</td><td>19</td><td>17</td><td> 20</td><td>235</td><td>212</td><td>259</td><td>108</td><td> 96</td><td>121</td><td>0</td></tr>\n",
       "\t<tr><td>19</td><td>Russian Federation      </td><td> 144081.588</td><td>-0.3</td><td>50</td><td>42</td><td>16.3</td><td>18.3</td><td>1.6</td><td>1.2</td><td>⋯</td><td>16</td><td>15</td><td> 17</td><td>464</td><td>413</td><td>510</td><td>168</td><td>150</td><td>187</td><td>0</td></tr>\n",
       "\t<tr><td>20</td><td>Singapore               </td><td>   4183.273</td><td> 2.8</td><td>38</td><td>40</td><td> 8.7</td><td>11.1</td><td>1.8</td><td>1.4</td><td>⋯</td><td> 3</td><td> 3</td><td>  3</td><td> 90</td><td> 80</td><td>101</td><td> 53</td><td> 49</td><td> 56</td><td>0</td></tr>\n",
       "\t<tr><td>21</td><td>South Africa            </td><td>  44759.191</td><td> 1.5</td><td>70</td><td>59</td><td> 5.2</td><td> 6.1</td><td>3.4</td><td>2.6</td><td>⋯</td><td>81</td><td>55</td><td>105</td><td>598</td><td>404</td><td>818</td><td>482</td><td>321</td><td>653</td><td>0</td></tr>\n",
       "\t<tr><td>22</td><td>Spain                   </td><td>  40977.309</td><td> 0.4</td><td>48</td><td>46</td><td>20.0</td><td>21.6</td><td>1.3</td><td>1.2</td><td>⋯</td><td> 5</td><td> 4</td><td>  5</td><td>120</td><td>111</td><td>128</td><td> 47</td><td> 45</td><td> 49</td><td>0</td></tr>\n",
       "\t<tr><td>23</td><td>Sweden                  </td><td>   8867.321</td><td> 0.2</td><td>56</td><td>55</td><td>22.4</td><td>22.9</td><td>2.0</td><td>1.6</td><td>⋯</td><td> 3</td><td> 3</td><td>  3</td><td> 83</td><td> 80</td><td> 85</td><td> 53</td><td> 51</td><td> 55</td><td>0</td></tr>\n",
       "\t<tr><td>24</td><td>Switzerland             </td><td>   7171.404</td><td> 0.3</td><td>46</td><td>49</td><td>19.4</td><td>22.1</td><td>1.5</td><td>1.4</td><td>⋯</td><td> 5</td><td> 4</td><td>  6</td><td> 92</td><td> 87</td><td> 98</td><td> 51</td><td> 49</td><td> 53</td><td>0</td></tr>\n",
       "\t<tr><td>25</td><td>Thailand                </td><td>  62193.350</td><td> 1.1</td><td>53</td><td>46</td><td> 6.7</td><td> 8.8</td><td>2.1</td><td>1.9</td><td>⋯</td><td>26</td><td>22</td><td> 30</td><td>279</td><td>250</td><td>311</td><td>153</td><td>131</td><td>178</td><td>1</td></tr>\n",
       "\t<tr><td>26</td><td>United Kingdom          </td><td>  59067.963</td><td> 0.3</td><td>54</td><td>53</td><td>21.1</td><td>20.8</td><td>1.8</td><td>1.6</td><td>⋯</td><td> 6</td><td> 5</td><td>  6</td><td>107</td><td>101</td><td>113</td><td> 67</td><td> 61</td><td> 72</td><td>0</td></tr>\n",
       "\t<tr><td>27</td><td>United States of America</td><td> 291037.954</td><td> 1.1</td><td>52</td><td>51</td><td>16.4</td><td>16.2</td><td>2.0</td><td>2.1</td><td>⋯</td><td> 7</td><td> 7</td><td>  7</td><td>140</td><td>134</td><td>148</td><td> 83</td><td> 81</td><td> 84</td><td>0</td></tr>\n",
       "\t<tr><td>28</td><td>Vietnam                 </td><td>  80278.208</td><td> 1.5</td><td>76</td><td>59</td><td> 7.3</td><td> 7.4</td><td>3.4</td><td>2.3</td><td>⋯</td><td>33</td><td>28</td><td> 37</td><td>200</td><td>184</td><td>215</td><td>129</td><td>117</td><td>140</td><td>0</td></tr>\n",
       "</tbody>\n",
       "</table>\n"
      ],
      "text/latex": [
       "A data.frame: 28 × 30\n",
       "\\begin{tabular}{lllllllllllllllllllll}\n",
       " X & Member.State & Total.population & Annual.Growth.Rate.....1992.2002 & Dependency.ratio.1992 & Dependency.ratio.2002 & Percentage.of.population.aged.60...1992. & Percentage.of.population.aged.60. & Total.Fertility.Rate.1992 & Total.Fertility.Rate.2002 & ⋯ & PROBABILITY.OF.DYING.UNDER.AGE.OF.5.FEMALES.2002 & PROBABILITY.OF.DYING.UNDER.AGE.OF.5.FEMALES.2002.Upper.Bound.Uncertainty.Interval..per.1000. & PROBABILITY.OF.DYING.UNDER.AGE.OF.5.FEMALES.2002.Lower.Bound.Uncertainty.Interval..per.1000. & PROBABILITY.OF.DYING.AGE.15.59.MALES.2002 & PROBABILITY.OF.DYING.AGE.15.59.MALES.2002.Upper.Bound.Uncertainty.Interval..per.1000. & PROBABILITY.OF.DYING.AGE.15.59.MALES.2002.Lower.Bound.Uncertainty.Interval..per.1000. & PROBABILITY.OF.DYING.AGE.15.59.FEMALES.2002 & PROBABILITY.OF.DYING.AGE.15.59.FEMALES.2002.Upper.Bound.Uncertainty.Interval..per.1000. & PROBABILITY.OF.DYING.AGE.15.59.FEMALES.2002.Lower.Bound.Uncertainty.Interval..per.1000. & classification\\\\\n",
       " <int> & <fct> & <dbl> & <dbl> & <int> & <int> & <dbl> & <dbl> & <dbl> & <dbl> & ⋯ & <int> & <int> & <int> & <int> & <int> & <int> & <int> & <int> & <int> & <int>\\\\\n",
       "\\hline\n",
       "\t  1 & Brazil                   &  176257.327 &  1.4 & 63 & 51 &  6.8 &  8.1 & 2.6 & 2.2 & ⋯ & 34 & 29 &  40 & 246 & 235 & 257 & 136 & 128 & 145 & 1\\\\\n",
       "\t  2 & Canada                   &   31271.069 &  1.0 & 47 & 45 & 15.8 & 17.1 & 1.7 & 1.5 & ⋯ &  5 &  5 &   5 &  95 &  93 &  97 &  58 &  57 &  60 & 1\\\\\n",
       "\t  3 & China                    & 1302307.069 &  0.9 & 49 & 44 &  8.6 & 10.0 & 2.0 & 1.8 & ⋯ & 41 & 38 &  44 & 165 & 154 & 175 & 104 &  93 & 112 & 0\\\\\n",
       "\t  4 & Colombia                 &   43526.430 &  1.8 & 66 & 59 &  6.4 &  7.1 & 3.0 & 2.6 & ⋯ & 19 & 17 &  21 & 236 & 220 & 251 &  99 &  87 & 113 & 0\\\\\n",
       "\t  5 & Finland                  &    5197.451 &  0.3 & 49 & 49 & 18.7 & 20.3 & 1.8 & 1.7 & ⋯ &  3 &  3 &   3 & 135 & 131 & 140 &  60 &  56 &  64 & 1\\\\\n",
       "\t  6 & France                   &   59849.658 &  0.4 & 52 & 53 & 19.5 & 20.5 & 1.7 & 1.9 & ⋯ &  4 &  4 &   5 & 133 & 128 & 138 &  60 &  58 &  62 & 1\\\\\n",
       "\t  7 & Germany                  &   82414.408 &  0.2 & 46 & 48 & 20.5 & 24.0 & 1.3 & 1.3 & ⋯ &  4 &  4 &   4 & 118 & 114 & 123 &  60 &  59 &  62 & 0\\\\\n",
       "\t  8 & India                    & 1049549.474 &  1.8 & 68 & 62 &  6.9 &  7.7 & 3.8 & 3.1 & ⋯ & 95 & 86 & 106 & 291 & 268 & 314 & 220 & 197 & 243 & 1\\\\\n",
       "\t  9 & Indonesia                &  217131.218 &  1.4 & 64 & 54 &  6.4 &  7.9 & 3.1 & 2.4 & ⋯ & 36 & 33 &  40 & 244 & 226 & 261 & 208 & 194 & 224 & 0\\\\\n",
       "\t 10 & Republic of Ireland      &    3910.840 &  1.0 & 60 & 47 & 15.3 & 15.3 & 2.0 & 1.9 & ⋯ &  6 &  5 &   7 & 113 & 105 & 121 &  66 &  62 &  71 & 1\\\\\n",
       "\t 11 & Italy                    &   57482.385 &  0.1 & 45 & 49 & 21.7 & 24.5 & 1.3 & 1.2 & ⋯ &  5 &  4 &   5 &  96 &  92 & 100 &  49 &  46 &  51 & 0\\\\\n",
       "\t 12 & Kuwait                   &    2443.419 &  2.1 & 56 & 38 &  2.1 &  2.7 & 3.3 & 2.7 & ⋯ & 11 &  8 &  15 &  81 &  72 &  91 &  63 &  48 &  80 & 0\\\\\n",
       "\t 13 & Malaysia                 &   23965.311 &  2.4 & 67 & 60 &  5.8 &  6.7 & 3.7 & 2.9 & ⋯ &  8 &  7 &  10 & 192 & 181 & 202 & 106 & 100 & 111 & 0\\\\\n",
       "\t 14 & Mongolia                 &    2559.431 &  1.1 & 81 & 59 &  5.9 &  5.6 & 3.5 & 2.4 & ⋯ & 66 & 64 &  68 & 319 & 310 & 327 & 219 & 210 & 227 & 0\\\\\n",
       "\t 15 & New Zealand              &    3845.679 &  1.1 & 53 & 53 & 15.3 & 15.9 & 2.1 & 2.0 & ⋯ &  6 &  4 &   7 &  98 &  94 & 104 &  63 &  59 &  67 & 0\\\\\n",
       "\t 16 & Philippines              &   78580.225 &  2.1 & 77 & 67 &  5.0 &  5.7 & 4.2 & 3.2 & ⋯ & 33 & 28 &  38 & 258 & 238 & 279 & 133 & 118 & 151 & 0\\\\\n",
       "\t 17 & Republic of Korea        &   47430.218 &  0.8 & 43 & 39 &  8.2 & 11.8 & 1.7 & 1.4 & ⋯ &  7 &  7 &   8 & 166 & 156 & 176 &  61 &  59 &  63 & 0\\\\\n",
       "\t 18 & Romania                  &   22387.390 & -0.3 & 50 & 45 & 16.3 & 18.9 & 1.6 & 1.3 & ⋯ & 19 & 17 &  20 & 235 & 212 & 259 & 108 &  96 & 121 & 0\\\\\n",
       "\t 19 & Russian Federation       &  144081.588 & -0.3 & 50 & 42 & 16.3 & 18.3 & 1.6 & 1.2 & ⋯ & 16 & 15 &  17 & 464 & 413 & 510 & 168 & 150 & 187 & 0\\\\\n",
       "\t 20 & Singapore                &    4183.273 &  2.8 & 38 & 40 &  8.7 & 11.1 & 1.8 & 1.4 & ⋯ &  3 &  3 &   3 &  90 &  80 & 101 &  53 &  49 &  56 & 0\\\\\n",
       "\t 21 & South Africa             &   44759.191 &  1.5 & 70 & 59 &  5.2 &  6.1 & 3.4 & 2.6 & ⋯ & 81 & 55 & 105 & 598 & 404 & 818 & 482 & 321 & 653 & 0\\\\\n",
       "\t 22 & Spain                    &   40977.309 &  0.4 & 48 & 46 & 20.0 & 21.6 & 1.3 & 1.2 & ⋯ &  5 &  4 &   5 & 120 & 111 & 128 &  47 &  45 &  49 & 0\\\\\n",
       "\t 23 & Sweden                   &    8867.321 &  0.2 & 56 & 55 & 22.4 & 22.9 & 2.0 & 1.6 & ⋯ &  3 &  3 &   3 &  83 &  80 &  85 &  53 &  51 &  55 & 0\\\\\n",
       "\t 24 & Switzerland              &    7171.404 &  0.3 & 46 & 49 & 19.4 & 22.1 & 1.5 & 1.4 & ⋯ &  5 &  4 &   6 &  92 &  87 &  98 &  51 &  49 &  53 & 0\\\\\n",
       "\t 25 & Thailand                 &   62193.350 &  1.1 & 53 & 46 &  6.7 &  8.8 & 2.1 & 1.9 & ⋯ & 26 & 22 &  30 & 279 & 250 & 311 & 153 & 131 & 178 & 1\\\\\n",
       "\t 26 & United Kingdom           &   59067.963 &  0.3 & 54 & 53 & 21.1 & 20.8 & 1.8 & 1.6 & ⋯ &  6 &  5 &   6 & 107 & 101 & 113 &  67 &  61 &  72 & 0\\\\\n",
       "\t 27 & United States of America &  291037.954 &  1.1 & 52 & 51 & 16.4 & 16.2 & 2.0 & 2.1 & ⋯ &  7 &  7 &   7 & 140 & 134 & 148 &  83 &  81 &  84 & 0\\\\\n",
       "\t 28 & Vietnam                  &   80278.208 &  1.5 & 76 & 59 &  7.3 &  7.4 & 3.4 & 2.3 & ⋯ & 33 & 28 &  37 & 200 & 184 & 215 & 129 & 117 & 140 & 0\\\\\n",
       "\\end{tabular}\n"
      ],
      "text/markdown": [
       "\n",
       "A data.frame: 28 × 30\n",
       "\n",
       "| X &lt;int&gt; | Member.State &lt;fct&gt; | Total.population &lt;dbl&gt; | Annual.Growth.Rate.....1992.2002 &lt;dbl&gt; | Dependency.ratio.1992 &lt;int&gt; | Dependency.ratio.2002 &lt;int&gt; | Percentage.of.population.aged.60...1992. &lt;dbl&gt; | Percentage.of.population.aged.60. &lt;dbl&gt; | Total.Fertility.Rate.1992 &lt;dbl&gt; | Total.Fertility.Rate.2002 &lt;dbl&gt; | ⋯ ⋯ | PROBABILITY.OF.DYING.UNDER.AGE.OF.5.FEMALES.2002 &lt;int&gt; | PROBABILITY.OF.DYING.UNDER.AGE.OF.5.FEMALES.2002.Upper.Bound.Uncertainty.Interval..per.1000. &lt;int&gt; | PROBABILITY.OF.DYING.UNDER.AGE.OF.5.FEMALES.2002.Lower.Bound.Uncertainty.Interval..per.1000. &lt;int&gt; | PROBABILITY.OF.DYING.AGE.15.59.MALES.2002 &lt;int&gt; | PROBABILITY.OF.DYING.AGE.15.59.MALES.2002.Upper.Bound.Uncertainty.Interval..per.1000. &lt;int&gt; | PROBABILITY.OF.DYING.AGE.15.59.MALES.2002.Lower.Bound.Uncertainty.Interval..per.1000. &lt;int&gt; | PROBABILITY.OF.DYING.AGE.15.59.FEMALES.2002 &lt;int&gt; | PROBABILITY.OF.DYING.AGE.15.59.FEMALES.2002.Upper.Bound.Uncertainty.Interval..per.1000. &lt;int&gt; | PROBABILITY.OF.DYING.AGE.15.59.FEMALES.2002.Lower.Bound.Uncertainty.Interval..per.1000. &lt;int&gt; | classification &lt;int&gt; |\n",
       "|---|---|---|---|---|---|---|---|---|---|---|---|---|---|---|---|---|---|---|---|---|\n",
       "|  1 | Brazil                   |  176257.327 |  1.4 | 63 | 51 |  6.8 |  8.1 | 2.6 | 2.2 | ⋯ | 34 | 29 |  40 | 246 | 235 | 257 | 136 | 128 | 145 | 1 |\n",
       "|  2 | Canada                   |   31271.069 |  1.0 | 47 | 45 | 15.8 | 17.1 | 1.7 | 1.5 | ⋯ |  5 |  5 |   5 |  95 |  93 |  97 |  58 |  57 |  60 | 1 |\n",
       "|  3 | China                    | 1302307.069 |  0.9 | 49 | 44 |  8.6 | 10.0 | 2.0 | 1.8 | ⋯ | 41 | 38 |  44 | 165 | 154 | 175 | 104 |  93 | 112 | 0 |\n",
       "|  4 | Colombia                 |   43526.430 |  1.8 | 66 | 59 |  6.4 |  7.1 | 3.0 | 2.6 | ⋯ | 19 | 17 |  21 | 236 | 220 | 251 |  99 |  87 | 113 | 0 |\n",
       "|  5 | Finland                  |    5197.451 |  0.3 | 49 | 49 | 18.7 | 20.3 | 1.8 | 1.7 | ⋯ |  3 |  3 |   3 | 135 | 131 | 140 |  60 |  56 |  64 | 1 |\n",
       "|  6 | France                   |   59849.658 |  0.4 | 52 | 53 | 19.5 | 20.5 | 1.7 | 1.9 | ⋯ |  4 |  4 |   5 | 133 | 128 | 138 |  60 |  58 |  62 | 1 |\n",
       "|  7 | Germany                  |   82414.408 |  0.2 | 46 | 48 | 20.5 | 24.0 | 1.3 | 1.3 | ⋯ |  4 |  4 |   4 | 118 | 114 | 123 |  60 |  59 |  62 | 0 |\n",
       "|  8 | India                    | 1049549.474 |  1.8 | 68 | 62 |  6.9 |  7.7 | 3.8 | 3.1 | ⋯ | 95 | 86 | 106 | 291 | 268 | 314 | 220 | 197 | 243 | 1 |\n",
       "|  9 | Indonesia                |  217131.218 |  1.4 | 64 | 54 |  6.4 |  7.9 | 3.1 | 2.4 | ⋯ | 36 | 33 |  40 | 244 | 226 | 261 | 208 | 194 | 224 | 0 |\n",
       "| 10 | Republic of Ireland      |    3910.840 |  1.0 | 60 | 47 | 15.3 | 15.3 | 2.0 | 1.9 | ⋯ |  6 |  5 |   7 | 113 | 105 | 121 |  66 |  62 |  71 | 1 |\n",
       "| 11 | Italy                    |   57482.385 |  0.1 | 45 | 49 | 21.7 | 24.5 | 1.3 | 1.2 | ⋯ |  5 |  4 |   5 |  96 |  92 | 100 |  49 |  46 |  51 | 0 |\n",
       "| 12 | Kuwait                   |    2443.419 |  2.1 | 56 | 38 |  2.1 |  2.7 | 3.3 | 2.7 | ⋯ | 11 |  8 |  15 |  81 |  72 |  91 |  63 |  48 |  80 | 0 |\n",
       "| 13 | Malaysia                 |   23965.311 |  2.4 | 67 | 60 |  5.8 |  6.7 | 3.7 | 2.9 | ⋯ |  8 |  7 |  10 | 192 | 181 | 202 | 106 | 100 | 111 | 0 |\n",
       "| 14 | Mongolia                 |    2559.431 |  1.1 | 81 | 59 |  5.9 |  5.6 | 3.5 | 2.4 | ⋯ | 66 | 64 |  68 | 319 | 310 | 327 | 219 | 210 | 227 | 0 |\n",
       "| 15 | New Zealand              |    3845.679 |  1.1 | 53 | 53 | 15.3 | 15.9 | 2.1 | 2.0 | ⋯ |  6 |  4 |   7 |  98 |  94 | 104 |  63 |  59 |  67 | 0 |\n",
       "| 16 | Philippines              |   78580.225 |  2.1 | 77 | 67 |  5.0 |  5.7 | 4.2 | 3.2 | ⋯ | 33 | 28 |  38 | 258 | 238 | 279 | 133 | 118 | 151 | 0 |\n",
       "| 17 | Republic of Korea        |   47430.218 |  0.8 | 43 | 39 |  8.2 | 11.8 | 1.7 | 1.4 | ⋯ |  7 |  7 |   8 | 166 | 156 | 176 |  61 |  59 |  63 | 0 |\n",
       "| 18 | Romania                  |   22387.390 | -0.3 | 50 | 45 | 16.3 | 18.9 | 1.6 | 1.3 | ⋯ | 19 | 17 |  20 | 235 | 212 | 259 | 108 |  96 | 121 | 0 |\n",
       "| 19 | Russian Federation       |  144081.588 | -0.3 | 50 | 42 | 16.3 | 18.3 | 1.6 | 1.2 | ⋯ | 16 | 15 |  17 | 464 | 413 | 510 | 168 | 150 | 187 | 0 |\n",
       "| 20 | Singapore                |    4183.273 |  2.8 | 38 | 40 |  8.7 | 11.1 | 1.8 | 1.4 | ⋯ |  3 |  3 |   3 |  90 |  80 | 101 |  53 |  49 |  56 | 0 |\n",
       "| 21 | South Africa             |   44759.191 |  1.5 | 70 | 59 |  5.2 |  6.1 | 3.4 | 2.6 | ⋯ | 81 | 55 | 105 | 598 | 404 | 818 | 482 | 321 | 653 | 0 |\n",
       "| 22 | Spain                    |   40977.309 |  0.4 | 48 | 46 | 20.0 | 21.6 | 1.3 | 1.2 | ⋯ |  5 |  4 |   5 | 120 | 111 | 128 |  47 |  45 |  49 | 0 |\n",
       "| 23 | Sweden                   |    8867.321 |  0.2 | 56 | 55 | 22.4 | 22.9 | 2.0 | 1.6 | ⋯ |  3 |  3 |   3 |  83 |  80 |  85 |  53 |  51 |  55 | 0 |\n",
       "| 24 | Switzerland              |    7171.404 |  0.3 | 46 | 49 | 19.4 | 22.1 | 1.5 | 1.4 | ⋯ |  5 |  4 |   6 |  92 |  87 |  98 |  51 |  49 |  53 | 0 |\n",
       "| 25 | Thailand                 |   62193.350 |  1.1 | 53 | 46 |  6.7 |  8.8 | 2.1 | 1.9 | ⋯ | 26 | 22 |  30 | 279 | 250 | 311 | 153 | 131 | 178 | 1 |\n",
       "| 26 | United Kingdom           |   59067.963 |  0.3 | 54 | 53 | 21.1 | 20.8 | 1.8 | 1.6 | ⋯ |  6 |  5 |   6 | 107 | 101 | 113 |  67 |  61 |  72 | 0 |\n",
       "| 27 | United States of America |  291037.954 |  1.1 | 52 | 51 | 16.4 | 16.2 | 2.0 | 2.1 | ⋯ |  7 |  7 |   7 | 140 | 134 | 148 |  83 |  81 |  84 | 0 |\n",
       "| 28 | Vietnam                  |   80278.208 |  1.5 | 76 | 59 |  7.3 |  7.4 | 3.4 | 2.3 | ⋯ | 33 | 28 |  37 | 200 | 184 | 215 | 129 | 117 | 140 | 0 |\n",
       "\n"
      ],
      "text/plain": [
       "   X  Member.State             Total.population\n",
       "1   1 Brazil                    176257.327     \n",
       "2   2 Canada                     31271.069     \n",
       "3   3 China                    1302307.069     \n",
       "4   4 Colombia                   43526.430     \n",
       "5   5 Finland                     5197.451     \n",
       "6   6 France                     59849.658     \n",
       "7   7 Germany                    82414.408     \n",
       "8   8 India                    1049549.474     \n",
       "9   9 Indonesia                 217131.218     \n",
       "10 10 Republic of Ireland         3910.840     \n",
       "11 11 Italy                      57482.385     \n",
       "12 12 Kuwait                      2443.419     \n",
       "13 13 Malaysia                   23965.311     \n",
       "14 14 Mongolia                    2559.431     \n",
       "15 15 New Zealand                 3845.679     \n",
       "16 16 Philippines                78580.225     \n",
       "17 17 Republic of Korea          47430.218     \n",
       "18 18 Romania                    22387.390     \n",
       "19 19 Russian Federation        144081.588     \n",
       "20 20 Singapore                   4183.273     \n",
       "21 21 South Africa               44759.191     \n",
       "22 22 Spain                      40977.309     \n",
       "23 23 Sweden                      8867.321     \n",
       "24 24 Switzerland                 7171.404     \n",
       "25 25 Thailand                   62193.350     \n",
       "26 26 United Kingdom             59067.963     \n",
       "27 27 United States of America  291037.954     \n",
       "28 28 Vietnam                    80278.208     \n",
       "   Annual.Growth.Rate.....1992.2002 Dependency.ratio.1992 Dependency.ratio.2002\n",
       "1   1.4                             63                    51                   \n",
       "2   1.0                             47                    45                   \n",
       "3   0.9                             49                    44                   \n",
       "4   1.8                             66                    59                   \n",
       "5   0.3                             49                    49                   \n",
       "6   0.4                             52                    53                   \n",
       "7   0.2                             46                    48                   \n",
       "8   1.8                             68                    62                   \n",
       "9   1.4                             64                    54                   \n",
       "10  1.0                             60                    47                   \n",
       "11  0.1                             45                    49                   \n",
       "12  2.1                             56                    38                   \n",
       "13  2.4                             67                    60                   \n",
       "14  1.1                             81                    59                   \n",
       "15  1.1                             53                    53                   \n",
       "16  2.1                             77                    67                   \n",
       "17  0.8                             43                    39                   \n",
       "18 -0.3                             50                    45                   \n",
       "19 -0.3                             50                    42                   \n",
       "20  2.8                             38                    40                   \n",
       "21  1.5                             70                    59                   \n",
       "22  0.4                             48                    46                   \n",
       "23  0.2                             56                    55                   \n",
       "24  0.3                             46                    49                   \n",
       "25  1.1                             53                    46                   \n",
       "26  0.3                             54                    53                   \n",
       "27  1.1                             52                    51                   \n",
       "28  1.5                             76                    59                   \n",
       "   Percentage.of.population.aged.60...1992. Percentage.of.population.aged.60.\n",
       "1   6.8                                      8.1                             \n",
       "2  15.8                                     17.1                             \n",
       "3   8.6                                     10.0                             \n",
       "4   6.4                                      7.1                             \n",
       "5  18.7                                     20.3                             \n",
       "6  19.5                                     20.5                             \n",
       "7  20.5                                     24.0                             \n",
       "8   6.9                                      7.7                             \n",
       "9   6.4                                      7.9                             \n",
       "10 15.3                                     15.3                             \n",
       "11 21.7                                     24.5                             \n",
       "12  2.1                                      2.7                             \n",
       "13  5.8                                      6.7                             \n",
       "14  5.9                                      5.6                             \n",
       "15 15.3                                     15.9                             \n",
       "16  5.0                                      5.7                             \n",
       "17  8.2                                     11.8                             \n",
       "18 16.3                                     18.9                             \n",
       "19 16.3                                     18.3                             \n",
       "20  8.7                                     11.1                             \n",
       "21  5.2                                      6.1                             \n",
       "22 20.0                                     21.6                             \n",
       "23 22.4                                     22.9                             \n",
       "24 19.4                                     22.1                             \n",
       "25  6.7                                      8.8                             \n",
       "26 21.1                                     20.8                             \n",
       "27 16.4                                     16.2                             \n",
       "28  7.3                                      7.4                             \n",
       "   Total.Fertility.Rate.1992 Total.Fertility.Rate.2002 ⋯\n",
       "1  2.6                       2.2                       ⋯\n",
       "2  1.7                       1.5                       ⋯\n",
       "3  2.0                       1.8                       ⋯\n",
       "4  3.0                       2.6                       ⋯\n",
       "5  1.8                       1.7                       ⋯\n",
       "6  1.7                       1.9                       ⋯\n",
       "7  1.3                       1.3                       ⋯\n",
       "8  3.8                       3.1                       ⋯\n",
       "9  3.1                       2.4                       ⋯\n",
       "10 2.0                       1.9                       ⋯\n",
       "11 1.3                       1.2                       ⋯\n",
       "12 3.3                       2.7                       ⋯\n",
       "13 3.7                       2.9                       ⋯\n",
       "14 3.5                       2.4                       ⋯\n",
       "15 2.1                       2.0                       ⋯\n",
       "16 4.2                       3.2                       ⋯\n",
       "17 1.7                       1.4                       ⋯\n",
       "18 1.6                       1.3                       ⋯\n",
       "19 1.6                       1.2                       ⋯\n",
       "20 1.8                       1.4                       ⋯\n",
       "21 3.4                       2.6                       ⋯\n",
       "22 1.3                       1.2                       ⋯\n",
       "23 2.0                       1.6                       ⋯\n",
       "24 1.5                       1.4                       ⋯\n",
       "25 2.1                       1.9                       ⋯\n",
       "26 1.8                       1.6                       ⋯\n",
       "27 2.0                       2.1                       ⋯\n",
       "28 3.4                       2.3                       ⋯\n",
       "   PROBABILITY.OF.DYING.UNDER.AGE.OF.5.FEMALES.2002\n",
       "1  34                                              \n",
       "2   5                                              \n",
       "3  41                                              \n",
       "4  19                                              \n",
       "5   3                                              \n",
       "6   4                                              \n",
       "7   4                                              \n",
       "8  95                                              \n",
       "9  36                                              \n",
       "10  6                                              \n",
       "11  5                                              \n",
       "12 11                                              \n",
       "13  8                                              \n",
       "14 66                                              \n",
       "15  6                                              \n",
       "16 33                                              \n",
       "17  7                                              \n",
       "18 19                                              \n",
       "19 16                                              \n",
       "20  3                                              \n",
       "21 81                                              \n",
       "22  5                                              \n",
       "23  3                                              \n",
       "24  5                                              \n",
       "25 26                                              \n",
       "26  6                                              \n",
       "27  7                                              \n",
       "28 33                                              \n",
       "   PROBABILITY.OF.DYING.UNDER.AGE.OF.5.FEMALES.2002.Upper.Bound.Uncertainty.Interval..per.1000.\n",
       "1  29                                                                                          \n",
       "2   5                                                                                          \n",
       "3  38                                                                                          \n",
       "4  17                                                                                          \n",
       "5   3                                                                                          \n",
       "6   4                                                                                          \n",
       "7   4                                                                                          \n",
       "8  86                                                                                          \n",
       "9  33                                                                                          \n",
       "10  5                                                                                          \n",
       "11  4                                                                                          \n",
       "12  8                                                                                          \n",
       "13  7                                                                                          \n",
       "14 64                                                                                          \n",
       "15  4                                                                                          \n",
       "16 28                                                                                          \n",
       "17  7                                                                                          \n",
       "18 17                                                                                          \n",
       "19 15                                                                                          \n",
       "20  3                                                                                          \n",
       "21 55                                                                                          \n",
       "22  4                                                                                          \n",
       "23  3                                                                                          \n",
       "24  4                                                                                          \n",
       "25 22                                                                                          \n",
       "26  5                                                                                          \n",
       "27  7                                                                                          \n",
       "28 28                                                                                          \n",
       "   PROBABILITY.OF.DYING.UNDER.AGE.OF.5.FEMALES.2002.Lower.Bound.Uncertainty.Interval..per.1000.\n",
       "1   40                                                                                         \n",
       "2    5                                                                                         \n",
       "3   44                                                                                         \n",
       "4   21                                                                                         \n",
       "5    3                                                                                         \n",
       "6    5                                                                                         \n",
       "7    4                                                                                         \n",
       "8  106                                                                                         \n",
       "9   40                                                                                         \n",
       "10   7                                                                                         \n",
       "11   5                                                                                         \n",
       "12  15                                                                                         \n",
       "13  10                                                                                         \n",
       "14  68                                                                                         \n",
       "15   7                                                                                         \n",
       "16  38                                                                                         \n",
       "17   8                                                                                         \n",
       "18  20                                                                                         \n",
       "19  17                                                                                         \n",
       "20   3                                                                                         \n",
       "21 105                                                                                         \n",
       "22   5                                                                                         \n",
       "23   3                                                                                         \n",
       "24   6                                                                                         \n",
       "25  30                                                                                         \n",
       "26   6                                                                                         \n",
       "27   7                                                                                         \n",
       "28  37                                                                                         \n",
       "   PROBABILITY.OF.DYING.AGE.15.59.MALES.2002\n",
       "1  246                                      \n",
       "2   95                                      \n",
       "3  165                                      \n",
       "4  236                                      \n",
       "5  135                                      \n",
       "6  133                                      \n",
       "7  118                                      \n",
       "8  291                                      \n",
       "9  244                                      \n",
       "10 113                                      \n",
       "11  96                                      \n",
       "12  81                                      \n",
       "13 192                                      \n",
       "14 319                                      \n",
       "15  98                                      \n",
       "16 258                                      \n",
       "17 166                                      \n",
       "18 235                                      \n",
       "19 464                                      \n",
       "20  90                                      \n",
       "21 598                                      \n",
       "22 120                                      \n",
       "23  83                                      \n",
       "24  92                                      \n",
       "25 279                                      \n",
       "26 107                                      \n",
       "27 140                                      \n",
       "28 200                                      \n",
       "   PROBABILITY.OF.DYING.AGE.15.59.MALES.2002.Upper.Bound.Uncertainty.Interval..per.1000.\n",
       "1  235                                                                                  \n",
       "2   93                                                                                  \n",
       "3  154                                                                                  \n",
       "4  220                                                                                  \n",
       "5  131                                                                                  \n",
       "6  128                                                                                  \n",
       "7  114                                                                                  \n",
       "8  268                                                                                  \n",
       "9  226                                                                                  \n",
       "10 105                                                                                  \n",
       "11  92                                                                                  \n",
       "12  72                                                                                  \n",
       "13 181                                                                                  \n",
       "14 310                                                                                  \n",
       "15  94                                                                                  \n",
       "16 238                                                                                  \n",
       "17 156                                                                                  \n",
       "18 212                                                                                  \n",
       "19 413                                                                                  \n",
       "20  80                                                                                  \n",
       "21 404                                                                                  \n",
       "22 111                                                                                  \n",
       "23  80                                                                                  \n",
       "24  87                                                                                  \n",
       "25 250                                                                                  \n",
       "26 101                                                                                  \n",
       "27 134                                                                                  \n",
       "28 184                                                                                  \n",
       "   PROBABILITY.OF.DYING.AGE.15.59.MALES.2002.Lower.Bound.Uncertainty.Interval..per.1000.\n",
       "1  257                                                                                  \n",
       "2   97                                                                                  \n",
       "3  175                                                                                  \n",
       "4  251                                                                                  \n",
       "5  140                                                                                  \n",
       "6  138                                                                                  \n",
       "7  123                                                                                  \n",
       "8  314                                                                                  \n",
       "9  261                                                                                  \n",
       "10 121                                                                                  \n",
       "11 100                                                                                  \n",
       "12  91                                                                                  \n",
       "13 202                                                                                  \n",
       "14 327                                                                                  \n",
       "15 104                                                                                  \n",
       "16 279                                                                                  \n",
       "17 176                                                                                  \n",
       "18 259                                                                                  \n",
       "19 510                                                                                  \n",
       "20 101                                                                                  \n",
       "21 818                                                                                  \n",
       "22 128                                                                                  \n",
       "23  85                                                                                  \n",
       "24  98                                                                                  \n",
       "25 311                                                                                  \n",
       "26 113                                                                                  \n",
       "27 148                                                                                  \n",
       "28 215                                                                                  \n",
       "   PROBABILITY.OF.DYING.AGE.15.59.FEMALES.2002\n",
       "1  136                                        \n",
       "2   58                                        \n",
       "3  104                                        \n",
       "4   99                                        \n",
       "5   60                                        \n",
       "6   60                                        \n",
       "7   60                                        \n",
       "8  220                                        \n",
       "9  208                                        \n",
       "10  66                                        \n",
       "11  49                                        \n",
       "12  63                                        \n",
       "13 106                                        \n",
       "14 219                                        \n",
       "15  63                                        \n",
       "16 133                                        \n",
       "17  61                                        \n",
       "18 108                                        \n",
       "19 168                                        \n",
       "20  53                                        \n",
       "21 482                                        \n",
       "22  47                                        \n",
       "23  53                                        \n",
       "24  51                                        \n",
       "25 153                                        \n",
       "26  67                                        \n",
       "27  83                                        \n",
       "28 129                                        \n",
       "   PROBABILITY.OF.DYING.AGE.15.59.FEMALES.2002.Upper.Bound.Uncertainty.Interval..per.1000.\n",
       "1  128                                                                                    \n",
       "2   57                                                                                    \n",
       "3   93                                                                                    \n",
       "4   87                                                                                    \n",
       "5   56                                                                                    \n",
       "6   58                                                                                    \n",
       "7   59                                                                                    \n",
       "8  197                                                                                    \n",
       "9  194                                                                                    \n",
       "10  62                                                                                    \n",
       "11  46                                                                                    \n",
       "12  48                                                                                    \n",
       "13 100                                                                                    \n",
       "14 210                                                                                    \n",
       "15  59                                                                                    \n",
       "16 118                                                                                    \n",
       "17  59                                                                                    \n",
       "18  96                                                                                    \n",
       "19 150                                                                                    \n",
       "20  49                                                                                    \n",
       "21 321                                                                                    \n",
       "22  45                                                                                    \n",
       "23  51                                                                                    \n",
       "24  49                                                                                    \n",
       "25 131                                                                                    \n",
       "26  61                                                                                    \n",
       "27  81                                                                                    \n",
       "28 117                                                                                    \n",
       "   PROBABILITY.OF.DYING.AGE.15.59.FEMALES.2002.Lower.Bound.Uncertainty.Interval..per.1000.\n",
       "1  145                                                                                    \n",
       "2   60                                                                                    \n",
       "3  112                                                                                    \n",
       "4  113                                                                                    \n",
       "5   64                                                                                    \n",
       "6   62                                                                                    \n",
       "7   62                                                                                    \n",
       "8  243                                                                                    \n",
       "9  224                                                                                    \n",
       "10  71                                                                                    \n",
       "11  51                                                                                    \n",
       "12  80                                                                                    \n",
       "13 111                                                                                    \n",
       "14 227                                                                                    \n",
       "15  67                                                                                    \n",
       "16 151                                                                                    \n",
       "17  63                                                                                    \n",
       "18 121                                                                                    \n",
       "19 187                                                                                    \n",
       "20  56                                                                                    \n",
       "21 653                                                                                    \n",
       "22  49                                                                                    \n",
       "23  55                                                                                    \n",
       "24  53                                                                                    \n",
       "25 178                                                                                    \n",
       "26  72                                                                                    \n",
       "27  84                                                                                    \n",
       "28 140                                                                                    \n",
       "   classification\n",
       "1  1             \n",
       "2  1             \n",
       "3  0             \n",
       "4  0             \n",
       "5  1             \n",
       "6  1             \n",
       "7  0             \n",
       "8  1             \n",
       "9  0             \n",
       "10 1             \n",
       "11 0             \n",
       "12 0             \n",
       "13 0             \n",
       "14 0             \n",
       "15 0             \n",
       "16 0             \n",
       "17 0             \n",
       "18 0             \n",
       "19 0             \n",
       "20 0             \n",
       "21 0             \n",
       "22 0             \n",
       "23 0             \n",
       "24 0             \n",
       "25 1             \n",
       "26 0             \n",
       "27 0             \n",
       "28 0             "
      ]
     },
     "metadata": {},
     "output_type": "display_data"
    }
   ],
   "source": [
    "df <- dfW28\n",
    "df"
   ]
  },
  {
   "cell_type": "code",
   "execution_count": 103,
   "metadata": {},
   "outputs": [
    {
     "data": {
      "text/plain": [
       "\n",
       "Call:\n",
       "glm(formula = classification ~ Total.population + Dependency.ratio.2002 + \n",
       "    Percentage.of.population.aged.60. + Total.Fertility.Rate.2002 + \n",
       "    LIFE.EXPECTANCY.AT.BIRTH.BOTH.SEXES.2002 + PROBABILITY.OF.DYING.UNDER.AGE.OF.5.MALES.2002 + \n",
       "    PROBABILITY.OF.DYING.UNDER.AGE.OF.5.FEMALES.2002 + PROBABILITY.OF.DYING.AGE.15.59.MALES.2002 + \n",
       "    PROBABILITY.OF.DYING.AGE.15.59.FEMALES.2002, family = \"binomial\", \n",
       "    data = df)\n",
       "\n",
       "Deviance Residuals: \n",
       "    Min       1Q   Median       3Q      Max  \n",
       "-1.4124  -0.6602  -0.3667   0.1083   2.0419  \n",
       "\n",
       "Coefficients:\n",
       "                                                   Estimate Std. Error z value\n",
       "(Intercept)                                      -1.028e+02  6.977e+01  -1.473\n",
       "Total.population                                  1.714e-06  4.642e-06   0.369\n",
       "Dependency.ratio.2002                            -3.454e-01  2.029e-01  -1.702\n",
       "Percentage.of.population.aged.60.                 3.085e-01  2.878e-01   1.072\n",
       "Total.Fertility.Rate.2002                         5.199e+00  3.060e+00   1.699\n",
       "LIFE.EXPECTANCY.AT.BIRTH.BOTH.SEXES.2002          1.248e+00  8.685e-01   1.437\n",
       "PROBABILITY.OF.DYING.UNDER.AGE.OF.5.MALES.2002    3.628e-01  3.627e-01   1.000\n",
       "PROBABILITY.OF.DYING.UNDER.AGE.OF.5.FEMALES.2002 -1.283e-01  3.272e-01  -0.392\n",
       "PROBABILITY.OF.DYING.AGE.15.59.MALES.2002         4.148e-02  3.018e-02   1.375\n",
       "PROBABILITY.OF.DYING.AGE.15.59.FEMALES.2002      -8.863e-03  2.807e-02  -0.316\n",
       "                                                 Pr(>|z|)  \n",
       "(Intercept)                                        0.1407  \n",
       "Total.population                                   0.7119  \n",
       "Dependency.ratio.2002                              0.0887 .\n",
       "Percentage.of.population.aged.60.                  0.2837  \n",
       "Total.Fertility.Rate.2002                          0.0894 .\n",
       "LIFE.EXPECTANCY.AT.BIRTH.BOTH.SEXES.2002           0.1508  \n",
       "PROBABILITY.OF.DYING.UNDER.AGE.OF.5.MALES.2002     0.3172  \n",
       "PROBABILITY.OF.DYING.UNDER.AGE.OF.5.FEMALES.2002   0.6951  \n",
       "PROBABILITY.OF.DYING.AGE.15.59.MALES.2002          0.1693  \n",
       "PROBABILITY.OF.DYING.AGE.15.59.FEMALES.2002        0.7522  \n",
       "---\n",
       "Signif. codes:  0 ‘***’ 0.001 ‘**’ 0.01 ‘*’ 0.05 ‘.’ 0.1 ‘ ’ 1\n",
       "\n",
       "(Dispersion parameter for binomial family taken to be 1)\n",
       "\n",
       "    Null deviance: 31.491  on 27  degrees of freedom\n",
       "Residual deviance: 24.036  on 18  degrees of freedom\n",
       "AIC: 44.036\n",
       "\n",
       "Number of Fisher Scoring iterations: 6\n"
      ]
     },
     "metadata": {},
     "output_type": "display_data"
    }
   ],
   "source": [
    "df$classification = as.factor(df$classification)\n",
    "model_1 <- glm(classification ~ Total.population + Dependency.ratio.2002 + \n",
    "               Percentage.of.population.aged.60. + Total.Fertility.Rate.2002 +\n",
    "               LIFE.EXPECTANCY.AT.BIRTH.BOTH.SEXES.2002 + \n",
    "               PROBABILITY.OF.DYING.UNDER.AGE.OF.5.MALES.2002 + \n",
    "               PROBABILITY.OF.DYING.UNDER.AGE.OF.5.FEMALES.2002 +\n",
    "               PROBABILITY.OF.DYING.AGE.15.59.MALES.2002 +\n",
    "               PROBABILITY.OF.DYING.AGE.15.59.FEMALES.2002,\n",
    "             family = \"binomial\", data = df) \n",
    "summary(model_1)"
   ]
  },
  {
   "cell_type": "markdown",
   "metadata": {},
   "source": [
    "The AIC score for the model including all of the variables is 44.036. "
   ]
  },
  {
   "cell_type": "code",
   "execution_count": 104,
   "metadata": {},
   "outputs": [
    {
     "name": "stderr",
     "output_type": "stream",
     "text": [
      "Warning message:\n",
      "“glm.fit: fitted probabilities numerically 0 or 1 occurred”\n",
      "Warning message:\n",
      "“glm.fit: algorithm did not converge”\n",
      "Warning message:\n",
      "“glm.fit: fitted probabilities numerically 0 or 1 occurred”\n",
      "Warning message:\n",
      "“glm.fit: algorithm did not converge”\n",
      "Warning message:\n",
      "“glm.fit: fitted probabilities numerically 0 or 1 occurred”\n",
      "Warning message:\n",
      "“glm.fit: fitted probabilities numerically 0 or 1 occurred”\n",
      "Warning message:\n",
      "“glm.fit: algorithm did not converge”\n",
      "Warning message:\n",
      "“glm.fit: fitted probabilities numerically 0 or 1 occurred”\n",
      "Warning message in nominalTrainWorkflow(x = x, y = y, wts = weights, info = trainInfo, :\n",
      "“There were missing values in resampled performance measures.”\n"
     ]
    },
    {
     "name": "stdout",
     "output_type": "stream",
     "text": [
      "Generalized Linear Model \n",
      "\n",
      "19 samples\n",
      " 9 predictor\n",
      " 2 classes: '0', '1' \n",
      "\n",
      "No pre-processing\n",
      "Resampling: Cross-Validated (10 fold) \n",
      "Summary of sample sizes: 18, 17, 17, 17, 16, 17, ... \n",
      "Resampling results:\n",
      "\n",
      "  Accuracy   Kappa\n",
      "  0.5666667  -0.5 \n",
      "\n"
     ]
    },
    {
     "data": {
      "text/plain": [
       "Confusion Matrix and Statistics\n",
       "\n",
       "          Reference\n",
       "Prediction 0 1\n",
       "         0 6 2\n",
       "         1 1 0\n",
       "                                          \n",
       "               Accuracy : 0.6667          \n",
       "                 95% CI : (0.2993, 0.9251)\n",
       "    No Information Rate : 0.7778          \n",
       "    P-Value [Acc > NIR] : 0.8822          \n",
       "                                          \n",
       "                  Kappa : -0.1739         \n",
       "                                          \n",
       " Mcnemar's Test P-Value : 1.0000          \n",
       "                                          \n",
       "            Sensitivity : 0.8571          \n",
       "            Specificity : 0.0000          \n",
       "         Pos Pred Value : 0.7500          \n",
       "         Neg Pred Value : 0.0000          \n",
       "             Prevalence : 0.7778          \n",
       "         Detection Rate : 0.6667          \n",
       "   Detection Prevalence : 0.8889          \n",
       "      Balanced Accuracy : 0.4286          \n",
       "                                          \n",
       "       'Positive' Class : 0               \n",
       "                                          "
      ]
     },
     "metadata": {},
     "output_type": "display_data"
    }
   ],
   "source": [
    "df$classification = as.factor(df$classification)\n",
    "set.seed(998)\n",
    "indxTrain <- createDataPartition(y = df$classification,p = 0.65,list = FALSE)\n",
    "training <- df[indxTrain,] \n",
    "testing <- df[-indxTrain,] \n",
    "\n",
    "z = testing$classification\n",
    "z = as.factor(z)\n",
    "\n",
    "train.control <- trainControl(method = \"cv\", number = 10)\n",
    "# Train the model\n",
    "model <- train(classification ~ Total.population + Dependency.ratio.2002 + \n",
    "               Percentage.of.population.aged.60. + Total.Fertility.Rate.2002 +\n",
    "               LIFE.EXPECTANCY.AT.BIRTH.BOTH.SEXES.2002 + \n",
    "               PROBABILITY.OF.DYING.UNDER.AGE.OF.5.MALES.2002 + \n",
    "               PROBABILITY.OF.DYING.UNDER.AGE.OF.5.FEMALES.2002 +\n",
    "               PROBABILITY.OF.DYING.AGE.15.59.MALES.2002 +\n",
    "               PROBABILITY.OF.DYING.AGE.15.59.FEMALES.2002,\n",
    "               data = training, method = \"glm\",\n",
    "               trControl = train.control)\n",
    "\n",
    "print(model)\n",
    "\n",
    "Predict <- predict(model,newdata = testing)\n",
    "\n",
    "confusionMatrix(Predict, z)"
   ]
  },
  {
   "cell_type": "markdown",
   "metadata": {},
   "source": [
    "10 fold Cross Validation was performed on the model. The Accuracy of the model is 66.7%. The model is not better than the no information rate. This means that the model has lower accuracy than guessing the classification. The confidence interval is large. At the bounds of the interval, the model might be 30% accurate or 92% accurate. "
   ]
  },
  {
   "cell_type": "code",
   "execution_count": 105,
   "metadata": {
    "scrolled": true
   },
   "outputs": [
    {
     "data": {
      "text/plain": [
       "glm variable importance\n",
       "\n",
       "                                                 Overall\n",
       "Total.Fertility.Rate.2002                         100.00\n",
       "Percentage.of.population.aged.60.                  82.19\n",
       "Total.population                                   81.66\n",
       "Dependency.ratio.2002                              51.20\n",
       "PROBABILITY.OF.DYING.UNDER.AGE.OF.5.FEMALES.2002   37.81\n",
       "PROBABILITY.OF.DYING.UNDER.AGE.OF.5.MALES.2002     28.86\n",
       "LIFE.EXPECTANCY.AT.BIRTH.BOTH.SEXES.2002           28.05\n",
       "PROBABILITY.OF.DYING.AGE.15.59.MALES.2002          21.80\n",
       "PROBABILITY.OF.DYING.AGE.15.59.FEMALES.2002         0.00"
      ]
     },
     "metadata": {},
     "output_type": "display_data"
    },
    {
     "data": {
      "image/png": "[encoded data removed]",
      "text/plain": [
       "plot without title"
      ]
     },
     "metadata": {
      "image/png": {
       "height": 420,
       "width": 420
      },
      "text/plain": {
       "height": 420,
       "width": 420
      }
     },
     "output_type": "display_data"
    }
   ],
   "source": [
    "X <- caret::varImp(model)\n",
    "plot(X)\n",
    "X"
   ]
  },
  {
   "cell_type": "markdown",
   "metadata": {},
   "source": [
    "There are seven variables above 25 importance. Those variables will be chosen for the second model. "
   ]
  },
  {
   "cell_type": "code",
   "execution_count": 106,
   "metadata": {},
   "outputs": [
    {
     "data": {
      "text/plain": [
       "\n",
       "Call:\n",
       "glm(formula = classification ~ Total.Fertility.Rate.2002 + Percentage.of.population.aged.60. + \n",
       "    Total.population + Dependency.ratio.2002 + PROBABILITY.OF.DYING.UNDER.AGE.OF.5.FEMALES.2002 + \n",
       "    PROBABILITY.OF.DYING.UNDER.AGE.OF.5.MALES.2002 + LIFE.EXPECTANCY.AT.BIRTH.BOTH.SEXES.2002, \n",
       "    family = \"binomial\", data = df)\n",
       "\n",
       "Deviance Residuals: \n",
       "     Min        1Q    Median        3Q       Max  \n",
       "-1.53111  -0.76143  -0.42758   0.06866   1.91257  \n",
       "\n",
       "Coefficients:\n",
       "                                                   Estimate Std. Error z value\n",
       "(Intercept)                                      -2.283e+01  1.927e+01  -1.185\n",
       "Total.Fertility.Rate.2002                         4.104e+00  2.803e+00   1.464\n",
       "Percentage.of.population.aged.60.                 3.683e-01  2.689e-01   1.369\n",
       "Total.population                                  1.032e-06  3.512e-06   0.294\n",
       "Dependency.ratio.2002                            -2.746e-01  1.851e-01  -1.484\n",
       "PROBABILITY.OF.DYING.UNDER.AGE.OF.5.FEMALES.2002 -1.603e-01  2.591e-01  -0.619\n",
       "PROBABILITY.OF.DYING.UNDER.AGE.OF.5.MALES.2002    2.737e-01  2.940e-01   0.931\n",
       "LIFE.EXPECTANCY.AT.BIRTH.BOTH.SEXES.2002          2.614e-01  2.500e-01   1.046\n",
       "                                                 Pr(>|z|)\n",
       "(Intercept)                                         0.236\n",
       "Total.Fertility.Rate.2002                           0.143\n",
       "Percentage.of.population.aged.60.                   0.171\n",
       "Total.population                                    0.769\n",
       "Dependency.ratio.2002                               0.138\n",
       "PROBABILITY.OF.DYING.UNDER.AGE.OF.5.FEMALES.2002    0.536\n",
       "PROBABILITY.OF.DYING.UNDER.AGE.OF.5.MALES.2002      0.352\n",
       "LIFE.EXPECTANCY.AT.BIRTH.BOTH.SEXES.2002            0.296\n",
       "\n",
       "(Dispersion parameter for binomial family taken to be 1)\n",
       "\n",
       "    Null deviance: 31.491  on 27  degrees of freedom\n",
       "Residual deviance: 26.573  on 20  degrees of freedom\n",
       "AIC: 42.573\n",
       "\n",
       "Number of Fisher Scoring iterations: 5\n"
      ]
     },
     "metadata": {},
     "output_type": "display_data"
    }
   ],
   "source": [
    "model_2 <- glm(classification ~ Total.Fertility.Rate.2002 + Percentage.of.population.aged.60. + \n",
    "               Total.population + Dependency.ratio.2002 + PROBABILITY.OF.DYING.UNDER.AGE.OF.5.FEMALES.2002 +\n",
    "               PROBABILITY.OF.DYING.UNDER.AGE.OF.5.MALES.2002 + LIFE.EXPECTANCY.AT.BIRTH.BOTH.SEXES.2002,\n",
    "               family = \"binomial\", data = df) \n",
    "summary(model_2)"
   ]
  },
  {
   "cell_type": "markdown",
   "metadata": {},
   "source": [
    "The AIC score decreased from the first model."
   ]
  },
  {
   "cell_type": "code",
   "execution_count": 107,
   "metadata": {},
   "outputs": [
    {
     "name": "stderr",
     "output_type": "stream",
     "text": [
      "Warning message:\n",
      "“glm.fit: fitted probabilities numerically 0 or 1 occurred”\n",
      "Warning message:\n",
      "“glm.fit: fitted probabilities numerically 0 or 1 occurred”\n",
      "Warning message:\n",
      "“glm.fit: fitted probabilities numerically 0 or 1 occurred”\n",
      "Warning message in nominalTrainWorkflow(x = x, y = y, wts = weights, info = trainInfo, :\n",
      "“There were missing values in resampled performance measures.”\n"
     ]
    },
    {
     "name": "stdout",
     "output_type": "stream",
     "text": [
      "Generalized Linear Model \n",
      "\n",
      "22 samples\n",
      " 7 predictor\n",
      " 2 classes: '0', '1' \n",
      "\n",
      "No pre-processing\n",
      "Resampling: Cross-Validated (10 fold) \n",
      "Summary of sample sizes: 19, 20, 20, 20, 19, 20, ... \n",
      "Resampling results:\n",
      "\n",
      "  Accuracy   Kappa\n",
      "  0.5833333  -0.2 \n",
      "\n"
     ]
    },
    {
     "data": {
      "text/plain": [
       "Confusion Matrix and Statistics\n",
       "\n",
       "          Reference\n",
       "Prediction 0 1\n",
       "         0 3 1\n",
       "         1 2 0\n",
       "                                          \n",
       "               Accuracy : 0.5             \n",
       "                 95% CI : (0.1181, 0.8819)\n",
       "    No Information Rate : 0.8333          \n",
       "    P-Value [Acc > NIR] : 0.9913          \n",
       "                                          \n",
       "                  Kappa : -0.2857         \n",
       "                                          \n",
       " Mcnemar's Test P-Value : 1.0000          \n",
       "                                          \n",
       "            Sensitivity : 0.6000          \n",
       "            Specificity : 0.0000          \n",
       "         Pos Pred Value : 0.7500          \n",
       "         Neg Pred Value : 0.0000          \n",
       "             Prevalence : 0.8333          \n",
       "         Detection Rate : 0.5000          \n",
       "   Detection Prevalence : 0.6667          \n",
       "      Balanced Accuracy : 0.3000          \n",
       "                                          \n",
       "       'Positive' Class : 0               \n",
       "                                          "
      ]
     },
     "metadata": {},
     "output_type": "display_data"
    }
   ],
   "source": [
    "df$classification = as.factor(df$classification)\n",
    "set.seed(998)\n",
    "indxTrain <- createDataPartition(y = df$classification,p = 0.75,list = FALSE)\n",
    "training <- df[indxTrain,] \n",
    "testing <- df[-indxTrain,] \n",
    "\n",
    "z = testing$classification\n",
    "z = as.factor(z)\n",
    "\n",
    "train.control <- trainControl(method = \"cv\", number = 10)\n",
    "# Train the model\n",
    "model <- train(classification ~ Total.Fertility.Rate.2002 + Percentage.of.population.aged.60. + \n",
    "               Total.population + Dependency.ratio.2002 + PROBABILITY.OF.DYING.UNDER.AGE.OF.5.FEMALES.2002 +\n",
    "               PROBABILITY.OF.DYING.UNDER.AGE.OF.5.MALES.2002 + LIFE.EXPECTANCY.AT.BIRTH.BOTH.SEXES.2002,\n",
    "               data = training, method = \"glm\",\n",
    "               trControl = train.control)\n",
    "\n",
    "print(model)\n",
    "\n",
    "Predict <- predict(model,newdata = testing)\n",
    "\n",
    "confusionMatrix(Predict, z)"
   ]
  },
  {
   "cell_type": "markdown",
   "metadata": {},
   "source": []
  },
  {
   "cell_type": "code",
   "execution_count": null,
   "metadata": {},
   "outputs": [],
   "source": [
    "X <- caret::varImp(model)\n",
    "plot(X)\n",
    "X"
   ]
  },
  {
   "cell_type": "code",
   "execution_count": null,
   "metadata": {},
   "outputs": [],
   "source": [
    "model_3 <- glm(classification ~ Dependency.ratio.2002 + \n",
    "               Total.Fertility.Rate.2002,\n",
    "               family = \"binomial\", data = df) \n",
    "summary(model_3)"
   ]
  },
  {
   "cell_type": "code",
   "execution_count": null,
   "metadata": {},
   "outputs": [],
   "source": [
    "df$classification = as.factor(df$classification)\n",
    "set.seed(998)\n",
    "indxTrain <- createDataPartition(y = df$classification,p = 0.75,list = FALSE)\n",
    "training <- df[indxTrain,] \n",
    "testing <- df[-indxTrain,] \n",
    "\n",
    "z = testing$classification\n",
    "z = as.factor(z)\n",
    "\n",
    "train.control <- trainControl(method = \"cv\", number = 10)\n",
    "# Train the model\n",
    "model <- train(classification ~ Dependency.ratio.2002 + \n",
    "               Total.Fertility.Rate.2002,\n",
    "               data = training, method = \"glm\",\n",
    "               trControl = train.control)\n",
    "\n",
    "print(model)\n",
    "\n",
    "Predict <- predict(model,newdata = testing)\n",
    "\n",
    "confusionMatrix(Predict, z)"
   ]
  },
  {
   "cell_type": "code",
   "execution_count": null,
   "metadata": {},
   "outputs": [],
   "source": [
    "X <- caret::varImp(model)\n",
    "plot(X)\n",
    "X"
   ]
  },
  {
   "cell_type": "code",
   "execution_count": null,
   "metadata": {},
   "outputs": [],
   "source": [
    "model_4 <- glm(classification ~ Total.Fertility.Rate.2002,\n",
    "               family = \"binomial\", data = df) \n",
    "summary(model_4)"
   ]
  },
  {
   "cell_type": "code",
   "execution_count": null,
   "metadata": {},
   "outputs": [],
   "source": [
    "df$classification = as.factor(df$classification)\n",
    "set.seed(998)\n",
    "indxTrain <- createDataPartition(y = df$classification,p = 0.75,list = FALSE)\n",
    "training <- df[indxTrain,] \n",
    "testing <- df[-indxTrain,] \n",
    "\n",
    "z = testing$classification\n",
    "z = as.factor(z)\n",
    "\n",
    "train.control <- trainControl(method = \"cv\", number = 10)\n",
    "# Train the model\n",
    "model <- train(classification ~ Dependency.ratio.2002 + \n",
    "               Total.Fertility.Rate.2002,\n",
    "               data = training, method = \"glm\",\n",
    "               trControl = train.control)\n",
    "\n",
    "print(model)\n",
    "\n",
    "Predict <- predict(model,newdata = testing)\n",
    "\n",
    "confusionMatrix(Predict, z)"
   ]
  },
  {
   "cell_type": "code",
   "execution_count": null,
   "metadata": {},
   "outputs": [],
   "source": [
    "set.seed(100)  # setting seed to reproduce results of random sampling\n",
    "trainingRowIndex <- sample(1:nrow(df), 0.8*nrow(df))  # row indices for training data\n",
    "\n",
    "xvars.train <- as.matrix(df[trainingRowIndex,3:29])\n",
    "xvars.test <- as.matrix(df[-trainingRowIndex,3:29])\n",
    "\n",
    "y.train <- as.matrix(df[trainingRowIndex, 30])\n",
    "y.test <- as.matrix(df[-trainingRowIndex, 30])"
   ]
  },
  {
   "cell_type": "code",
   "execution_count": null,
   "metadata": {},
   "outputs": [],
   "source": [
    "library(glmnet)\n",
    "fitlasso <- glmnet(xvars.train, y.train, family=\"binomial\", alpha=1)\n",
    "fitridge <- glmnet(xvars.train, y.train, family=\"binomial\", alpha=0)\n",
    "fitelnet <- glmnet(xvars.train, y.train, family=\"binomial\", alpha=.5)"
   ]
  },
  {
   "cell_type": "code",
   "execution_count": null,
   "metadata": {},
   "outputs": [],
   "source": [
    "for (i in 0:10) {\n",
    "    assign(paste(\"fit\", i, sep=\"\"), cv.glmnet(xvars.train, y.train, type.measure=\"mse\", \n",
    "                                              alpha=i/10,family=\"binomial\"))\n",
    "}"
   ]
  },
  {
   "cell_type": "code",
   "execution_count": null,
   "metadata": {},
   "outputs": [],
   "source": [
    "##Find best AIC/BIC for each model\n",
    "##Ridge\n",
    "tLL <- fitridge$nulldev - deviance(fitridge) ##Likelihood of the model\n",
    "k <- fitridge$df ##Number of parameters\n",
    "n <- fitridge$nobs ##Sample Size\n",
    "\n",
    "##AIC\n",
    "\n",
    "AICc <- -tLL+2*k+2*k*(k+1)/(n-k-1)\n",
    "m = min(AICc)\n",
    "cat(\"Best AIC for Rigid: \", m, \"\\n\")\n",
    "best_AIC = match(c(min(AICc)),AICc)\n",
    "print(paste(\"Lambda from AIC Ridge = \",fitridge$lambda[best_AIC]))\n",
    "\n",
    "##BIC\n",
    "BIC<-log(n)*k - tLL \n",
    "m = min(BIC)\n",
    "cat(\"Best BIC for Rigid: \", m, \"\\n\")\n",
    "best_BIC = match(c(min(BIC)),BIC)\n",
    "print(paste(\"Lambda from BIC Ridge = \",fitridge$lambda[best_BIC]))\n",
    "\n",
    "##Lasso\n",
    "##AIC\n",
    "tLL <- fitlasso$nulldev - deviance(fitlasso)\n",
    "k <- fitlasso$df\n",
    "n <- fitlasso$nobs\n",
    "AICc_lasso <- -tLL+2*k+2*k*(k+1)/(n-k-1)\n",
    "m = min(AICc_lasso)##Best AIC\n",
    "cat(\"Best AIC for Lasso: \", m, \"\\n\")\n",
    "best_AIC_lasso = match(c(min(AICc_lasso)),AICc_lasso)##Which index is this?\n",
    "print(paste(\"Lambda from AIC Lasso = \",fitlasso$lambda[best_AIC_lasso]))##Find this lambda\n",
    "\n",
    "##BIC\n",
    "BIC_lasso<-log(n)*k - tLL \n",
    "m = min(BIC_lasso)##Best BIC\n",
    "cat(\"Best BIC for Lasso: \", m, \"\\n\")\n",
    "best_BIC_lasso = match(c(min(BIC_lasso)),BIC_lasso)##Which index is this?\n",
    "print(paste(\"Lambda from BIC Lasso= \",fitlasso$lambda[best_BIC_lasso]))\n",
    "\n",
    "##Elastic Net\n",
    "##AIC\n",
    "tLL <- fitelnet$nulldev - deviance(fitelnet)\n",
    "k <- fitelnet$df\n",
    "n <- fitelnet$nobs\n",
    "AICc_elnet <- -tLL+2*k+2*k*(k+1)/(n-k-1)\n",
    "m= min(AICc_elnet)##Best AIC\n",
    "cat(\"Best AIC for Elastic Net: \", m, \"\\n\")\n",
    "best_AIC_elnet = match(c(min(AICc_elnet)),AICc_elnet)##Which index is this?\n",
    "print(paste(\"Lambda AIC enet =\",fitelnet$lambda[best_AIC_elnet]))##Find this lambda\n",
    "\n",
    "##BIC\n",
    "BIC_elnet<-log(n)*k - tLL \n",
    "m= min(BIC_elnet)##Best BIC\n",
    "cat(\"Best BIC for Elastic Net: \", m, \"\\n\")\n",
    "best_BIC_elnet = match(c(min(BIC_elnet)),BIC_elnet)##Which index is this?\n",
    "print(paste(\"Lambda BIC enet= \",fitelnet$lambda[best_BIC_elnet]))\n",
    "\n",
    "#Ridge AIC/BIC\n",
    "yRidgeAIC <- predict(fit0, s=fitridge$lambda[best_AIC], newx=xvars.test)\n",
    "mseRidgeAIC <- mean((y.test - yRidgeAIC)^2)\n",
    "print(paste(\"mse Ridge AIC = \", mseRidgeAIC))\n",
    "yRidgeBIC <- predict(fit0, s=fitridge$lambda[best_BIC], newx=xvars.test)\n",
    "mseRidgeBIC <- mean((y.test - yRidgeBIC)^2)\n",
    "print(paste(\"mse Ridge BIC = \", mseRidgeBIC))\n",
    "\n",
    "#Lasso AIC/BIC\n",
    "yLassoAIC <- predict(fit10, s=fitlasso$lambda[best_AIC_lasso], newx=xvars.test)\n",
    "mseLassoAIC <- mean((y.test - yLassoAIC)^2)\n",
    "print(paste(\"mse Lasso AIC = \", mseLassoAIC)) \n",
    "yLassoBIC <- predict(fit10, s=fitlasso$lambda[best_BIC_lasso], newx=xvars.test)\n",
    "mseLassoBIC <- mean((y.test - yLassoBIC)^2)\n",
    "print(paste(\"mse Lasso BIC = \", mseLassoBIC)) \n",
    "\n",
    "#Elastic Net AIC/BIC\n",
    "yelnetAIC <- predict(fit5, s=fitelnet$lambda[best_AIC_elnet], newx=xvars.test)\n",
    "mseelnetAIC <- mean((y.test - yelnetAIC)^2)\n",
    "print(paste(\"mse elnet AIC = \",mseelnetAIC))\n",
    "\n",
    "yelnetBIC <- predict(fit5, s=fitelnet$lambda[best_BIC_elnet], newx=xvars.test)\n",
    "mseelnetBIC <- mean((y.test - yelnetBIC)^2)\n",
    "print(paste(\"mse elnet BIC = \",mseelnetBIC))"
   ]
  },
  {
   "cell_type": "code",
   "execution_count": null,
   "metadata": {},
   "outputs": [],
   "source": []
  },
  {
   "cell_type": "code",
   "execution_count": null,
   "metadata": {},
   "outputs": [],
   "source": []
  },
  {
   "cell_type": "code",
   "execution_count": null,
   "metadata": {},
   "outputs": [],
   "source": [
    "dfSC = read.csv(\"CumulativeCases.csv\", header = T)"
   ]
  },
  {
   "cell_type": "code",
   "execution_count": null,
   "metadata": {},
   "outputs": [],
   "source": [
    "dfSC$China[1]"
   ]
  },
  {
   "cell_type": "code",
   "execution_count": null,
   "metadata": {},
   "outputs": [],
   "source": [
    "class(dfSC$Date)\n",
    "dfSC$Date <- as.character(dfSC$Date)\n",
    "dfSC$Date <- as.POSIXct(dfSC$Date)"
   ]
  },
  {
   "cell_type": "code",
   "execution_count": null,
   "metadata": {},
   "outputs": [],
   "source": [
    "log_plot <- ggplot(data = dfSC, aes(x = Date, y = China/7084)) + \n",
    "geom_jitter(alpha = 0.5, height = 0.05) +  geom_point() + \n",
    "            stat_smooth(method = \"glm\", method.args = list(family = \"binomial\"), se = TRUE) + \n",
    "            ylab(\"Percentage of Total Cases\")\n",
    "log_plot + ggtitle(\"Cumulative Cases in China SARS Outbreak 2003\")\n"
   ]
  },
  {
   "cell_type": "code",
   "execution_count": null,
   "metadata": {},
   "outputs": [],
   "source": [
    "log_reg <- glm(China/7084 ~ seq(1,96,1), data = dfSC, family = binomial)\n",
    "\n",
    "log_reg"
   ]
  },
  {
   "cell_type": "code",
   "execution_count": null,
   "metadata": {},
   "outputs": [],
   "source": [
    "library(stats)"
   ]
  },
  {
   "cell_type": "code",
   "execution_count": null,
   "metadata": {},
   "outputs": [],
   "source": [
    "log_plot <- ggplot(data = dfSC, aes(x = Date, y = China)) + \n",
    "geom_jitter(alpha = 0.5, height = 0.05) +  geom_point() + \n",
    "            ylab(\"Total Cases\")\n",
    "log_plot + ggtitle(\"Cumulative Cases in China SARS Outbreak 2003\")"
   ]
  },
  {
   "cell_type": "code",
   "execution_count": null,
   "metadata": {},
   "outputs": [],
   "source": [
    "#find the parameters for the equation\n",
    "times <- seq(1,96,1)\n",
    "SS<-getInitial(dfSC$China~SSlogis(times,alpha,xmid,scale),data=data.frame(dfSC$China==dfSC$China,times=times))\n",
    "SS"
   ]
  },
  {
   "cell_type": "code",
   "execution_count": null,
   "metadata": {
    "scrolled": true
   },
   "outputs": [],
   "source": [
    "K_0<-SS[\"alpha\"]\n",
    "R_0<-1/SS[\"scale\"]\n",
    "N0<-SS[\"alpha\"]/(exp(SS[\"xmid\"]/SS[\"scale\"])+1)\n",
    "y <- dfSC$China\n",
    "\n",
    "m<-nls(y~K*N0*exp(R*times)/(K+N0*(exp(R*times)-1)),start=list(K=K_0,R=R_0,N0=N0))\n",
    "#estimated parameters\n",
    "summary(m)\n",
    "\n",
    "c <- cor(y,predict(m))\n",
    "cat(\"correlation coefficient: \", c, \"\\n\")\n",
    "\n",
    "AIC <- AIC(m)\n",
    "cat(\"AIC: \", AIC)"
   ]
  },
  {
   "cell_type": "code",
   "execution_count": null,
   "metadata": {},
   "outputs": [],
   "source": [
    "Days = times\n",
    "Total_cases = dfSC$China\n",
    "\n",
    "plot(Days, Total_cases) + lines(times,predict(m),col=\"red\", lty=1,lwd=3)\n",
    "title(main = \"Cumulative Cases in China SARS Outbreak 2003\")"
   ]
  },
  {
   "cell_type": "code",
   "execution_count": null,
   "metadata": {},
   "outputs": [],
   "source": [
    "yC = read.csv(\"Comp20032020.csv\")"
   ]
  },
  {
   "cell_type": "code",
   "execution_count": null,
   "metadata": {},
   "outputs": [],
   "source": [
    "str(yC)"
   ]
  },
  {
   "cell_type": "code",
   "execution_count": null,
   "metadata": {},
   "outputs": [],
   "source": [
    "yC"
   ]
  },
  {
   "cell_type": "code",
   "execution_count": null,
   "metadata": {},
   "outputs": [],
   "source": [
    "library(lattice)\n",
    "histogram(~Cumulative.Cases|factor(Year),\n",
    "         data = yC,\n",
    "         layout = c(1,2),\n",
    "         nint = 1,\n",
    "         xlab = \"Cumulative Cases\",\n",
    "         strip = FALSE,\n",
    "         strip.left = TRUE,\n",
    "         breaks=seq(from=0,to=150000,by=10000),\n",
    "         ylab = \"Percentage of the Data\")"
   ]
  },
  {
   "cell_type": "markdown",
   "metadata": {},
   "source": [
    "100 percent of the data is below 5000 cumulative cases in 2003. "
   ]
  },
  {
   "cell_type": "code",
   "execution_count": null,
   "metadata": {},
   "outputs": [],
   "source": []
  }
 ],
 "metadata": {
  "kernelspec": {
   "display_name": "R",
   "language": "R",
   "name": "ir"
  },
  "language_info": {
   "codemirror_mode": "r",
   "file_extension": ".r",
   "mimetype": "text/x-r-source",
   "name": "R",
   "pygments_lexer": "r",
   "version": "3.6.2"
  }
 },
 "nbformat": 4,
 "nbformat_minor": 4
}
