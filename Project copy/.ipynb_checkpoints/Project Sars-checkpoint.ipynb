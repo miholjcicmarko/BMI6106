{
 "cells": [
  {
   "cell_type": "code",
   "execution_count": null,
   "metadata": {},
   "outputs": [],
   "source": [
    "library(tidyverse)\n",
    "library(\"ggplot2\")\n",
    "library(\"dplyr\")\n",
    "library(\"reshape2\")\n",
    "library(\"knitr\")\n",
    "library(e1071)\n",
    "library(mosaic)\n",
    "\n",
    "dfSC = read.csv(\"CumulativeCases.csv\", header = T)\n",
    "dfSD = read.csv(\"TotalDeaths.csv\", header = T)\n",
    "dfCC = read.csv(\"CumulCases2020.csv\")\n",
    "dfCD = read.csv(\"TotalDeaths2020.csv\")\n",
    "\n",
    "dfW_7 = read.csv(\"WHOselect7.csv\", header = T)\n",
    "\n",
    "cumulSC = read.csv(\"Cumulative.csv\")\n",
    "totDLD = read.csv(\"TotalDeathsLD.csv\")\n",
    "\n",
    "dfC3 = read.csv(\"CulumNon-Interpolated2003.csv\", header = T)\n",
    "dfD3 = read.csv(\"DeathNon-Interpolated2003.csv\", header = T)\n",
    "dfR3 = read.csv(\"RecoveredNon-Interpolated2003.csv\", header = T)"
   ]
  },
  {
   "cell_type": "code",
   "execution_count": null,
   "metadata": {},
   "outputs": [],
   "source": [
    "sapply(cumulSC, class)"
   ]
  },
  {
   "cell_type": "code",
   "execution_count": null,
   "metadata": {},
   "outputs": [],
   "source": [
    "t2003 <- c(cumulSC$Canada.2003, cumulSC$Germany.2003, cumulSC$Italy.2003, cumulSC$Singapore.2003, cumulSC$US.2003, cumulSC$Vietnam.2003, cumulSC$China.2003)\n",
    "hist(t2003, xlab ='Number of Total Cases', main = \"Histogram of Number of Cases in 2003 SARS Outbreak\")\n",
    "skew <- skewness(t2003)\n",
    "cat(\"Skewness: \", skew, \"\\n\")\n",
    "k <- kurtosis(t2003)\n",
    "cat(\"Kurtosis: \", k)\n",
    "\n",
    "favstats(t2003)\n",
    "boxplot(t2003, ylab = \"Number of Total Cases SARS 2003\", main = \"Boxplot of Number of Cases SARS 2003\")"
   ]
  },
  {
   "cell_type": "markdown",
   "metadata": {},
   "source": [
    "China seems to be an outlier in 2003. The outlier is removed in order to see how the distribution changes. "
   ]
  },
  {
   "cell_type": "code",
   "execution_count": null,
   "metadata": {},
   "outputs": [],
   "source": [
    "t2003_2 = c(cumulSC$Canada.2003, cumulSC$Germany.2003, cumulSC$Italy.2003, cumulSC$Singapore.2003, cumulSC$US.2003, cumulSC$Vietnam.2003)\n",
    "hist(t2003_2, xlab ='Number of Total Cases', main = \"Histogram of Number of Cases in 2003: SARS Outbreak W/O Outliers\")\n",
    "skew <- skewness(t2003_2)\n",
    "cat(\"Skewness: \", skew, \"\\n\")\n",
    "k <- kurtosis(t2003_2)\n",
    "cat(\"Kurtosis: \", k)\n",
    "\n",
    "favstats(t2003_2)\n",
    "boxplot(t2003_2, ylab = \"Number of Total Cases\", main = \"Boxplot of Number of Cases SARS 2003 W/O Outliers\")"
   ]
  },
  {
   "cell_type": "markdown",
   "metadata": {},
   "source": [
    "The skew decreased almost completely. The distribution is almost completely normal. "
   ]
  },
  {
   "cell_type": "code",
   "execution_count": null,
   "metadata": {},
   "outputs": [],
   "source": [
    "t2020 <- c(cumulSC$Canada.2020, cumulSC$Germany.2020, cumulSC$Italy.2020, cumulSC$Singapore.2020, cumulSC$US.2020, cumulSC$Vietnam.2020, cumulSC$China.2020)\n",
    "hist(t2020, xlab ='Number of Total Cases', main = \"Histogram of Number of Cases in 2020: COVID Outbreak\")\n",
    "skew <- skewness(t2020)\n",
    "cat(\"Skewness: \", skew, \"\\n\")\n",
    "k <- kurtosis(t2020)\n",
    "cat(\"Kurtosis: \", k)\n",
    "\n",
    "favstats(t2020)\n",
    "boxplot(t2020, ylab = \"Number of Total Cases\", main = \"Boxplot of Number of Cases in 2020: COVID Outbreak\")"
   ]
  },
  {
   "cell_type": "markdown",
   "metadata": {},
   "source": [
    "Distribution is positively skewed. The distribution is not normal. "
   ]
  },
  {
   "cell_type": "code",
   "execution_count": null,
   "metadata": {},
   "outputs": [],
   "source": [
    "d2003 = c(totDLD$Canada.2003, totDLD$Germany.2003, totDLD$Italy.2003, totDLD$Singapore.2003, totDLD$US.2003, totDLD$Vietnam.2003, totDLD$China.2003)\n",
    "hist(d2003, xlab ='Number of Total Deaths', main = \"Histogram of Number of Deaths in 2003: SARS Outbreak\")\n",
    "skew <- skewness(d2003)\n",
    "cat(\"Skewness: \", skew, \"\\n\")\n",
    "k <- kurtosis(d2003)\n",
    "cat(\"Kurtosis: \", k)\n",
    "\n",
    "favstats(d2003)\n",
    "boxplot(d2003, ylab = \"Number of Total Deaths\", main = \"Boxplot of Number of Deaths 2003 SARS Outbreak\")"
   ]
  },
  {
   "cell_type": "markdown",
   "metadata": {},
   "source": [
    "China is an outlier. The skew is large and the distribution is not normal. "
   ]
  },
  {
   "cell_type": "code",
   "execution_count": null,
   "metadata": {},
   "outputs": [],
   "source": [
    "d2003 = c(totDLD$Canada.2003, totDLD$Germany.2003, totDLD$Italy.2003, totDLD$Singapore.2003, totDLD$US.2003, totDLD$Vietnam.2003)\n",
    "hist(d2003, xlab ='Number of Total Deaths', main = \"Histogram of Number of Deaths in 2003: SARS Outbreak\")\n",
    "skew <- skewness(d2003)\n",
    "cat(\"Skewness: \", skew, \"\\n\")\n",
    "k <- kurtosis(d2003)\n",
    "cat(\"Kurtosis: \", k)\n",
    "\n",
    "favstats(d2003)\n",
    "boxplot(d2003, ylab = \"Number of Total Deaths\", main = \"Boxplot of Number of Deaths 2003 SARS Outbreak\")"
   ]
  },
  {
   "cell_type": "markdown",
   "metadata": {},
   "source": [
    "The Deaths are still positively skewed. However, the removal of China significantly improved the skewness of the data. "
   ]
  },
  {
   "cell_type": "code",
   "execution_count": null,
   "metadata": {},
   "outputs": [],
   "source": [
    "d2020 = c(totDLD$Canada.2020, totDLD$Germany.2020, totDLD$Italy.2020, totDLD$Singapore.2020, totDLD$US.2020, totDLD$Vietnam.2020, totDLD$China.2020)\n",
    "hist(d2020, xlab ='Number of Total Deaths', main = \"Histogram of Number of Deaths in 2020: COVID Outbreak\")\n",
    "skew <- skewness(d2020)\n",
    "cat(\"Skewness: \", skew, \"\\n\")\n",
    "k <- kurtosis(d2020)\n",
    "cat(\"Kurtosis: \", k)\n",
    "\n",
    "favstats(d2020)\n",
    "boxplot(d2020, ylab = \"Number of Total Deaths\", main = \"Boxplot of Number of Deaths 2020 COVID Outbreak\")"
   ]
  },
  {
   "cell_type": "markdown",
   "metadata": {},
   "source": [
    "Italy is an outlier. The data is positively skewed. "
   ]
  },
  {
   "cell_type": "code",
   "execution_count": null,
   "metadata": {},
   "outputs": [],
   "source": [
    "d2020 = c(totDLD$Canada.2020, totDLD$Germany.2020, totDLD$Singapore.2020, totDLD$US.2020, totDLD$Vietnam.2020, totDLD$China.2020)\n",
    "hist(d2020, xlab ='Number of Total Deaths', main = \"Histogram of Number of Deaths in 2020: COVID Outbreak\")\n",
    "skew <- skewness(d2020)\n",
    "cat(\"Skewness: \", skew, \"\\n\")\n",
    "k <- kurtosis(d2020)\n",
    "cat(\"Kurtosis: \", k)\n",
    "\n",
    "favstats(d2020)\n",
    "boxplot(d2020, ylab = \"Number of Total Deaths\", main = \"Boxplot of Number of Deaths 2020 COVID Outbreak\")"
   ]
  },
  {
   "cell_type": "markdown",
   "metadata": {},
   "source": [
    "Wiht the removal of Italy, the data is less skewed but still not normal. "
   ]
  },
  {
   "cell_type": "code",
   "execution_count": null,
   "metadata": {},
   "outputs": [],
   "source": [
    "library(ggplot2)\n",
    "\n",
    "data <- data.frame(CountryYear= c(\"Canada 2020\", \"Canada 2003\", \"Germany 2020\", \"Germany 2003\", \"Italy 2020\", \n",
    "                                  \"Italy 2003\", \"Singapore 2020\", \"Singapore 2003\", \"US 2020\", \"US 2003\", \n",
    "                                  \"Vietnam 2020\", \"Vietnam 2003\", \"China 2020\", \"China 2003\"),  \n",
    "                   Total=c(totDLD$Canada.2020, totDLD$Canada.2003, totDLD$Germany.2020, totDLD$Germany.2003,\n",
    "                          totDLD$Italy.2020, totDLD$Italy.2003, totDLD$Singapore.2020, totDLD$Singapore.2003,\n",
    "                          totDLD$US.2020, totDLD$US.2003, totDLD$Vietnam.2020, totDLD$Vietnam.2003,\n",
    "                          totDLD$China.2020, totDLD$China.2003))\n",
    "\n",
    "barplot <- ggplot(data, aes(x=CountryYear, y=Total)) + geom_bar(stat = \"identity\", fill = 'burlywood4') + \n",
    "                    ggtitle(\"Comparison of countries: Death Totals from Both Outbreaks\") + xlab(\"Country And Year\") + ylab(\"Total Deaths\") +\n",
    "                    theme(axis.text.x = element_text(angle = 90))\n",
    "barplot"
   ]
  },
  {
   "cell_type": "code",
   "execution_count": null,
   "metadata": {},
   "outputs": [],
   "source": [
    "data <- data.frame(CountryYear= c(\"Canada 2020\", \"Canada 2003\", \"Germany 2020\", \"Germany 2003\", \"Italy 2020\", \n",
    "                                  \"Italy 2003\", \"Singapore 2020\", \"Singapore 2003\", \"US 2020\", \"US 2003\", \n",
    "                                  \"Vietnam 2020\", \"Vietnam 2003\", \"China 2020\", \"China 2003\"),  \n",
    "                   Total=c(cumulSC$Canada.2020, cumulSC$Canada.2003, cumulSC$Germany.2020, cumulSC$Germany.2003,\n",
    "                          cumulSC$Italy.2020, cumulSC$Italy.2003, cumulSC$Singapore.2020, cumulSC$Singapore.2003,\n",
    "                          cumulSC$US.2020, cumulSC$US.2003, cumulSC$Vietnam.2020, cumulSC$Vietnam.2003,\n",
    "                          cumulSC$China.2020, cumulSC$China.2003))\n",
    "\n",
    "barplot <- ggplot(data, aes(x=CountryYear, y=Total)) + geom_bar(stat = \"identity\", fill = 'orange2') + \n",
    "                    ggtitle(\"Comparison of countries: Cumulative Cases from Both Outbreaks\") + xlab(\"Country And Year\") + ylab(\"Total Deaths\") +\n",
    "                    theme(axis.text.x = element_text(angle = 90))\n",
    "barplot"
   ]
  },
  {
   "cell_type": "code",
   "execution_count": null,
   "metadata": {},
   "outputs": [],
   "source": [
    "data <- data.frame(CountryYear= c(\"Canada\", \"Germany\", \"Italy\", \"Singapore\", \"US\", \"Vietnam\", \"China\"),  \n",
    "                   Total=c(cumulSC$Canada.2003, cumulSC$Germany.2003, cumulSC$Italy.2003, cumulSC$Singapore.2003,\n",
    "                        cumulSC$US.2003, cumulSC$Vietnam.2003, cumulSC$China.2003))\n",
    "\n",
    "barplot <- ggplot(data, aes(x=CountryYear, y=Total)) + geom_bar(stat = \"identity\", fill = 'deeppink2') + \n",
    "                    ggtitle(\"Comparison of countries: Cumulative Cases SARS 2003\") + xlab(\"Country And Year\") + ylab(\"Total Deaths\") +\n",
    "                    theme(axis.text.x = element_text(angle = 90))\n",
    "barplot"
   ]
  },
  {
   "cell_type": "code",
   "execution_count": null,
   "metadata": {},
   "outputs": [],
   "source": [
    "library(ggplot2)\n",
    "\n",
    "data <- data.frame(CountryYear= c(\"Canada\", \"Germany\", \"Italy\", \"Singapore\", \"US\", \"Vietnam\", \"China\"),  \n",
    "                   Total=c(totDLD$Canada.2003, totDLD$Germany.2003, totDLD$Italy.2003, totDLD$Singapore.2003,\n",
    "                           totDLD$US.2003, totDLD$Vietnam.2003, totDLD$China.2003))\n",
    "\n",
    "barplot <- ggplot(data, aes(x=CountryYear, y=Total)) + geom_bar(stat = \"identity\", fill=\"steelblue\") + \n",
    "                    ggtitle(\"Comparison of countries: Death Totals SARS 2003\") + xlab(\"Country And Year\") + ylab(\"Total Deaths\") +\n",
    "                    theme(axis.text.x = element_text(angle = 90))\n",
    "barplot"
   ]
  },
  {
   "cell_type": "code",
   "execution_count": null,
   "metadata": {},
   "outputs": [],
   "source": [
    "library(pwr)\n",
    "library(distr)"
   ]
  },
  {
   "cell_type": "code",
   "execution_count": null,
   "metadata": {},
   "outputs": [],
   "source": [
    "pwr.t.test(n = 96, d = 0.5, sig.level = 0.05, alternative = \"greater\")"
   ]
  },
  {
   "cell_type": "markdown",
   "metadata": {},
   "source": [
    "The t tests comparing the death totals, in selected countries, from the 2003 SARS Outbreak will have 96.4% power. "
   ]
  },
  {
   "cell_type": "code",
   "execution_count": null,
   "metadata": {},
   "outputs": [],
   "source": [
    "pwr.t.test(d=0.5, sig.level = 0.05, power = 0.8, alternative = \"greater\")"
   ]
  },
  {
   "cell_type": "markdown",
   "metadata": {},
   "source": [
    "50 days of SARS data need to be collected in each country to have 0.8 power. "
   ]
  },
  {
   "cell_type": "code",
   "execution_count": null,
   "metadata": {},
   "outputs": [],
   "source": [
    "ttest = t.test(dfSD$China, dfSD$Canada, alternative = \"greater\", paired = FALSE)\n",
    "ttest"
   ]
  },
  {
   "cell_type": "markdown",
   "metadata": {},
   "source": [
    "Null hypothesis: There is no difference in the mean deaths per day between the two countries. \n",
    "Alternative hypothesis: This is a difference in the mean deaths per day between the two countries."
   ]
  },
  {
   "cell_type": "markdown",
   "metadata": {},
   "source": [
    "China will recieve the most severe classification. The t-test indicates that China has significantly more mean deaths per day than the country with the second highest mean deaths per day (Canada). The 95% confidence interval does not contain the value 0 and the p-value is below 0.05. Therefore, this conclusion is valid. "
   ]
  },
  {
   "cell_type": "markdown",
   "metadata": {},
   "source": [
    "Reject the null hypothesis for the t-test between China and Canada. "
   ]
  },
  {
   "cell_type": "code",
   "execution_count": null,
   "metadata": {},
   "outputs": [],
   "source": [
    "ttest = t.test(dfSD$Canada, dfSD$Singapore, alternative = \"greater\", paired = FALSE)\n",
    "ttest"
   ]
  },
  {
   "cell_type": "markdown",
   "metadata": {},
   "source": [
    "Null hypothesis: There is no difference in the mean deaths per day between the two countries. \n",
    "Alternative hypothesis: This is a difference in the mean deaths per day between the two countries."
   ]
  },
  {
   "cell_type": "markdown",
   "metadata": {},
   "source": [
    "Canada and Singapore will be placed in the second most severe classification. The t-test indicates that there is no significant difference between the mean deaths per day of the two countries. The 95% confidence interval contains the value 0 and the p-value is above 0.05. Therefore, this conclusion is valid."
   ]
  },
  {
   "cell_type": "markdown",
   "metadata": {},
   "source": [
    "Fail to reject the null hypothesis for the t-test between Singapore and Canada."
   ]
  },
  {
   "cell_type": "code",
   "execution_count": null,
   "metadata": {},
   "outputs": [],
   "source": [
    "ttest = t.test(dfSD$Singapore, dfSD$Vietnam, alternative = \"greater\", paired = FALSE)\n",
    "ttest"
   ]
  },
  {
   "cell_type": "markdown",
   "metadata": {},
   "source": [
    "Null hypothesis: There is no difference in the mean deaths per day between the two countries. \n",
    "Alternative hypothesis: This is a difference in the mean deaths per day between the two countries."
   ]
  },
  {
   "cell_type": "markdown",
   "metadata": {},
   "source": [
    "Vietnam will be placed in the third most severe classification. The t-test indicates that there is a significant difference in the mean deaths per day between Vietnam and Singapore. The 95% confidence interval does not contain the value 0 and the p-value is below 0.05. Therefore, this conclusion is valid.\n",
    "Singapore has a lower death total than Canada. Therefore, it can be assumed that Vietnam's mean deaths per day will have a significant difference from Canada's mean deaths per day. "
   ]
  },
  {
   "cell_type": "markdown",
   "metadata": {},
   "source": [
    "Reject the null hypothesis for the t-test between Singapore and Vietnam. "
   ]
  },
  {
   "cell_type": "code",
   "execution_count": null,
   "metadata": {},
   "outputs": [],
   "source": [
    "ttest = t.test(dfSD$Vietnam, dfSD$United.States, alternative = \"greater\", paired = FALSE)\n",
    "ttest"
   ]
  },
  {
   "cell_type": "markdown",
   "metadata": {},
   "source": [
    "Null hypothesis: There is no difference in the mean deaths per day between the two countries. \n",
    "Alternative hypothesis: This is a difference in the mean deaths per day between the two countries."
   ]
  },
  {
   "cell_type": "markdown",
   "metadata": {},
   "source": [
    "United States will be placed in the fourth most severe classification. The t-test indicates that there is a significant difference in the mean deaths per day between Vietnam and the United States. The 95% confidence interval does not contain the value 0 and the p-value is below 0.05. Therefore, this conclusion is valid."
   ]
  },
  {
   "cell_type": "markdown",
   "metadata": {},
   "source": [
    "Reject the null hypothesis for the t-test between Vietnam and United States. "
   ]
  },
  {
   "cell_type": "code",
   "execution_count": null,
   "metadata": {},
   "outputs": [],
   "source": [
    "ttest = t.test(dfSD$United.States, dfSD$Germany, alternative = \"greater\", paired = FALSE)\n",
    "ttest"
   ]
  },
  {
   "cell_type": "markdown",
   "metadata": {},
   "source": [
    "Null hypothesis: There is no difference in the mean deaths per day between the two countries. \n",
    "Alternative hypothesis: This is a difference in the mean deaths per day between the two countries."
   ]
  },
  {
   "cell_type": "markdown",
   "metadata": {},
   "source": [
    "Fail to reject the null hypothesis for the t-test between Germany and United States."
   ]
  },
  {
   "cell_type": "markdown",
   "metadata": {},
   "source": [
    "Germany, Italy, and United States did not experience a death during the outbreak. They will be placed in the fourth classification. The t-test does not have anything to compare. "
   ]
  },
  {
   "cell_type": "code",
   "execution_count": null,
   "metadata": {},
   "outputs": [],
   "source": [
    "dfW_7$classification <- c(2,1,4,4,2,4,3)\n",
    "dfW_7"
   ]
  },
  {
   "cell_type": "code",
   "execution_count": null,
   "metadata": {},
   "outputs": [],
   "source": [
    "library(magrittr)"
   ]
  },
  {
   "cell_type": "code",
   "execution_count": null,
   "metadata": {},
   "outputs": [],
   "source": [
    "dfW_20 = read.csv(\"WHOselect20.csv\", header = T)"
   ]
  },
  {
   "cell_type": "code",
   "execution_count": null,
   "metadata": {},
   "outputs": [],
   "source": [
    "dfW_20$classification <- c(0,1,1,0,0,0,0,0,0,0,0,0,0,1,0,0,0,0,0,1)\n",
    "dfW_20"
   ]
  },
  {
   "cell_type": "code",
   "execution_count": null,
   "metadata": {},
   "outputs": [],
   "source": [
    "dfW_20 %<>% mutate_if(is.integer,as.numeric)\n",
    "dfW_20"
   ]
  },
  {
   "cell_type": "code",
   "execution_count": null,
   "metadata": {},
   "outputs": [],
   "source": [
    "write.csv(dfW20,\"dfW20.csv\", row.names = TRUE)"
   ]
  },
  {
   "cell_type": "code",
   "execution_count": null,
   "metadata": {},
   "outputs": [],
   "source": [
    "dfW20 = read.csv(\"dfW20.csv\", header = T)"
   ]
  },
  {
   "cell_type": "code",
   "execution_count": null,
   "metadata": {},
   "outputs": [],
   "source": [
    "library(caret)\n",
    "library(randomForest)\n",
    "library(varImp)\n",
    "library(naivebayes)"
   ]
  },
  {
   "cell_type": "code",
   "execution_count": null,
   "metadata": {},
   "outputs": [],
   "source": [
    "sapply(dfW20, class)"
   ]
  },
  {
   "cell_type": "code",
   "execution_count": null,
   "metadata": {},
   "outputs": [],
   "source": [
    "df <- dfW20 \n",
    "df\n",
    "#0 means not severe\n",
    "#1 means moderately severe"
   ]
  },
  {
   "cell_type": "code",
   "execution_count": null,
   "metadata": {},
   "outputs": [],
   "source": [
    "set.seed(998)\n",
    "indxTrain <- createDataPartition(y = df$classification,p = 0.5,list = FALSE)\n",
    "training <- df[indxTrain,] \n",
    "testing <- df[-indxTrain,] "
   ]
  },
  {
   "cell_type": "code",
   "execution_count": null,
   "metadata": {},
   "outputs": [],
   "source": [
    "sapply(df, class)"
   ]
  },
  {
   "cell_type": "code",
   "execution_count": null,
   "metadata": {},
   "outputs": [],
   "source": [
    "df$classification <- as.factor(df$classification)\n",
    "x = training[,2:28]\n",
    "y = training$classification\n",
    "y = as.factor(y)\n",
    "z = testing$classification\n",
    "z = as.factor(z)\n",
    "\n",
    "model = train(x,y,'glm',trControl=trainControl(method='cv',number=10))\n",
    "print(model)\n",
    "\n",
    "Predict <- predict(model,newdata = testing[,2:28])\n",
    "\n",
    "confusionMatrix(Predict, z)"
   ]
  },
  {
   "cell_type": "code",
   "execution_count": null,
   "metadata": {},
   "outputs": [],
   "source": [
    "levels(z)"
   ]
  },
  {
   "cell_type": "code",
   "execution_count": null,
   "metadata": {},
   "outputs": [],
   "source": [
    "df$Outcome = as.factor(df$Outcome)\n",
    "set.seed(998)\n",
    "indxTrain <- createDataPartition(y = df$Outcome,p = 0.75,list = FALSE)\n",
    "training <- df[indxTrain,] \n",
    "testing <- df[-indxTrain,] \n",
    "\n",
    "z = testing$Outcome\n",
    "z = as.factor(z)\n",
    "\n",
    "train.control <- trainControl(method = \"cv\", number = 10)\n",
    "# Train the model\n",
    "model <- train(Outcome ~ Glucose + BloodPressure + SkinThickness+Insulin+BMI+DiabetesPedigreeFunction+\n",
    "            Age, data = training, method = \"glm\",\n",
    "               trControl = train.control)\n",
    "# Summarize the results\n",
    "print(model)\n",
    "\n",
    "Predict <- predict(model,newdata = testing)\n",
    "\n",
    "confusionMatrix(Predict, z)"
   ]
  },
  {
   "cell_type": "code",
   "execution_count": null,
   "metadata": {},
   "outputs": [],
   "source": [
    "X <- caret::varImp(model)\n",
    "plot(X)"
   ]
  },
  {
   "cell_type": "code",
   "execution_count": null,
   "metadata": {},
   "outputs": [],
   "source": [
    "dfSC = read.csv(\"CumulativeCases.csv\", header = T)"
   ]
  },
  {
   "cell_type": "code",
   "execution_count": null,
   "metadata": {},
   "outputs": [],
   "source": [
    "dfSC$China[1]"
   ]
  },
  {
   "cell_type": "code",
   "execution_count": null,
   "metadata": {},
   "outputs": [],
   "source": [
    "class(dfSC$Date)\n",
    "dfSC$Date <- as.character(dfSC$Date)\n",
    "dfSC$Date <- as.POSIXct(dfSC$Date)"
   ]
  },
  {
   "cell_type": "code",
   "execution_count": null,
   "metadata": {},
   "outputs": [],
   "source": [
    "log_plot <- ggplot(data = dfSC, aes(x = Date, y = China/7084)) + \n",
    "geom_jitter(alpha = 0.5, height = 0.05) +  geom_point() + \n",
    "            stat_smooth(method = \"glm\", method.args = list(family = \"binomial\"), se = TRUE) + \n",
    "            ylab(\"Percentage of Total Cases\")\n",
    "log_plot + ggtitle(\"Cumulative Cases in China SARS Outbreak 2003\")\n"
   ]
  },
  {
   "cell_type": "code",
   "execution_count": null,
   "metadata": {},
   "outputs": [],
   "source": [
    "log_reg <- glm(China/7084 ~ seq(1,96,1), data = dfSC, family = binomial)\n",
    "\n",
    "log_reg"
   ]
  },
  {
   "cell_type": "code",
   "execution_count": null,
   "metadata": {},
   "outputs": [],
   "source": [
    "library(stats)"
   ]
  },
  {
   "cell_type": "code",
   "execution_count": null,
   "metadata": {},
   "outputs": [],
   "source": [
    "log_plot <- ggplot(data = dfSC, aes(x = Date, y = China)) + \n",
    "geom_jitter(alpha = 0.5, height = 0.05) +  geom_point() + \n",
    "            ylab(\"Total Cases\")\n",
    "log_plot + ggtitle(\"Cumulative Cases in China SARS Outbreak 2003\")"
   ]
  },
  {
   "cell_type": "code",
   "execution_count": null,
   "metadata": {},
   "outputs": [],
   "source": [
    "#find the parameters for the equation\n",
    "times <- seq(1,96,1)\n",
    "SS<-getInitial(dfSC$China~SSlogis(times,alpha,xmid,scale),data=data.frame(dfSC$China==dfSC$China,times=times))\n",
    "SS"
   ]
  },
  {
   "cell_type": "code",
   "execution_count": null,
   "metadata": {
    "scrolled": true
   },
   "outputs": [],
   "source": [
    "K_0<-SS[\"alpha\"]\n",
    "R_0<-1/SS[\"scale\"]\n",
    "N0<-SS[\"alpha\"]/(exp(SS[\"xmid\"]/SS[\"scale\"])+1)\n",
    "y <- dfSC$China\n",
    "\n",
    "m<-nls(y~K*N0*exp(R*times)/(K+N0*(exp(R*times)-1)),start=list(K=K_0,R=R_0,N0=N0))\n",
    "#estimated parameters\n",
    "summary(m)\n",
    "\n",
    "c <- cor(y,predict(m))\n",
    "cat(\"correlation coefficient: \", c)"
   ]
  },
  {
   "cell_type": "code",
   "execution_count": null,
   "metadata": {},
   "outputs": [],
   "source": [
    "Days = times\n",
    "Total_cases = dfSC$China\n",
    "\n",
    "plot(Days, Total_cases) + lines(times,predict(m),col=\"red\", lty=1,lwd=3)\n",
    "title(main = \"Cumulative Cases in China SARS Outbreak 2003\")"
   ]
  },
  {
   "cell_type": "code",
   "execution_count": null,
   "metadata": {},
   "outputs": [],
   "source": [
    "yC = read.csv(\"Comp20032020.csv\")"
   ]
  },
  {
   "cell_type": "code",
   "execution_count": null,
   "metadata": {},
   "outputs": [],
   "source": [
    "str(yC)"
   ]
  },
  {
   "cell_type": "code",
   "execution_count": null,
   "metadata": {},
   "outputs": [],
   "source": [
    "yC"
   ]
  },
  {
   "cell_type": "code",
   "execution_count": null,
   "metadata": {},
   "outputs": [],
   "source": [
    "library(lattice)\n",
    "histogram(~Cumulative.Cases|factor(Year),\n",
    "         data = yC,\n",
    "         layout = c(1,2),\n",
    "         nint = 1,\n",
    "         xlab = \"Cumulative Cases\",\n",
    "         strip = FALSE,\n",
    "         strip.left = TRUE,\n",
    "         breaks=seq(from=0,to=150000,by=10000),\n",
    "         ylab = \"Percentage of the Data\")"
   ]
  },
  {
   "cell_type": "markdown",
   "metadata": {},
   "source": [
    "100 percent of the data is below 5000 cumulative cases in 2003. "
   ]
  },
  {
   "cell_type": "code",
   "execution_count": null,
   "metadata": {},
   "outputs": [],
   "source": []
  }
 ],
 "metadata": {
  "kernelspec": {
   "display_name": "R",
   "language": "R",
   "name": "ir"
  },
  "language_info": {
   "codemirror_mode": "r",
   "file_extension": ".r",
   "mimetype": "text/x-r-source",
   "name": "R",
   "pygments_lexer": "r",
   "version": "3.6.2"
  }
 },
 "nbformat": 4,
 "nbformat_minor": 4
}
