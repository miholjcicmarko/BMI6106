{
 "cells": [
  {
   "cell_type": "code",
   "execution_count": 2,
   "metadata": {},
   "outputs": [],
   "source": [
    "library(tidyverse)\n",
    "library(\"ggplot2\")\n",
    "library(\"dplyr\")\n",
    "library(\"reshape2\")\n",
    "library(\"knitr\")\n",
    "library(e1071)\n",
    "library(mosaic)\n",
    "\n",
    "dfSC = read.csv(\"CumulativeCases.csv\", header = T)\n",
    "dfSD = read.csv(\"TotalDeaths.csv\", header = T)\n",
    "dfSR = read.csv(\"TotalRecovered2003.csv\")\n",
    "dfCC = read.csv(\"CumulCases2020.csv\")\n",
    "dfCD = read.csv(\"TotalDeaths2020.csv\")\n",
    "\n",
    "dfW_7 = read.csv(\"WHOselect7.csv\", header = T)\n",
    "\n",
    "cumulSC = read.csv(\"Cumulative.csv\")\n",
    "totDLD = read.csv(\"TotalDeathsLD.csv\")\n",
    "\n",
    "dfC3 = read.csv(\"CulumNon-Interpolated2003.csv\", header = T)\n",
    "dfD3 = read.csv(\"DeathNon-Interpolated2003.csv\", header = T)\n",
    "dfR3 = read.csv(\"RecoveredNon-Interpolated2003.csv\", header = T)"
   ]
  },
  {
   "cell_type": "code",
   "execution_count": null,
   "metadata": {},
   "outputs": [],
   "source": [
    "sapply(cumulSC, class)"
   ]
  },
  {
   "cell_type": "markdown",
   "metadata": {},
   "source": [
    "The histogram and boxplot are displaying the distribution of the number of cumulative cases in each selected country during the 2003 SARS outbreak. "
   ]
  },
  {
   "cell_type": "code",
   "execution_count": null,
   "metadata": {},
   "outputs": [],
   "source": [
    "t2003 <- c(cumulSC$Canada.2003, cumulSC$Germany.2003, cumulSC$Italy.2003, cumulSC$Singapore.2003, cumulSC$US.2003, cumulSC$Vietnam.2003, cumulSC$China.2003)\n",
    "hist(t2003, xlab ='Number of Total Cases', main = \"Histogram of Number of Cases in 2003 SARS Outbreak\", breaks = 30)\n",
    "skew <- skewness(t2003)\n",
    "cat(\"Skewness: \", skew, \"\\n\")\n",
    "k <- kurtosis(t2003)\n",
    "cat(\"Kurtosis: \", k)\n",
    "\n",
    "favstats(t2003)\n",
    "boxplot(t2003, ylab = \"Number of Total Cases SARS 2003\", main = \"Boxplot of Number of Cases SARS 2003\")"
   ]
  },
  {
   "cell_type": "markdown",
   "metadata": {},
   "source": [
    "The distribution is positively skewed and has heavier tails. The number of cumulative cases in China seems to be an outlier. The outlier is removed in order to see how the distribution changes. "
   ]
  },
  {
   "cell_type": "markdown",
   "metadata": {},
   "source": [
    "The histogram and boxplot are displaying the distribution of the number of cumulative cases in each selected country during the 2003 SARS outbreak (excluding China). "
   ]
  },
  {
   "cell_type": "code",
   "execution_count": null,
   "metadata": {},
   "outputs": [],
   "source": [
    "t2003_2 = c(cumulSC$Canada.2003, cumulSC$Germany.2003, cumulSC$Italy.2003, cumulSC$Singapore.2003, cumulSC$US.2003, cumulSC$Vietnam.2003)\n",
    "hist(t2003_2, xlab ='Number of Total Cases', main = \"Histogram of Number of Cases in 2003: SARS Outbreak W/O Outliers\", breaks = 20)\n",
    "skew <- skewness(t2003_2)\n",
    "cat(\"Skewness: \", skew, \"\\n\")\n",
    "k <- kurtosis(t2003_2)\n",
    "cat(\"Kurtosis: \", k)\n",
    "\n",
    "favstats(t2003_2)\n",
    "boxplot(t2003_2, ylab = \"Number of Total Cases\", main = \"Boxplot of Number of Cases SARS 2003 W/O Outliers\")"
   ]
  },
  {
   "cell_type": "markdown",
   "metadata": {},
   "source": [
    "The skew decreased significantly after the removal of China's 2003 SARS cumulative case data. According to the skew value, the distribution is almost completely normal. The kurtosis value indicates that the new distribution has light tails.  "
   ]
  },
  {
   "cell_type": "markdown",
   "metadata": {},
   "source": [
    "The histogram and boxplot are displaying the distribution of the number of cumulative cases in each selected country during the 2020 COVID-19 outbreak. "
   ]
  },
  {
   "cell_type": "code",
   "execution_count": null,
   "metadata": {},
   "outputs": [],
   "source": [
    "t2020 <- c(cumulSC$Canada.2020, cumulSC$Germany.2020, cumulSC$Italy.2020, cumulSC$Singapore.2020, cumulSC$US.2020, cumulSC$Vietnam.2020, cumulSC$China.2020)\n",
    "hist(t2020, xlab ='Number of Total Cases', main = \"Histogram of Number of Cases in 2020: COVID Outbreak\", breaks = 6)\n",
    "skew <- skewness(t2020)\n",
    "cat(\"Skewness: \", skew, \"\\n\")\n",
    "k <- kurtosis(t2020)\n",
    "cat(\"Kurtosis: \", k)\n",
    "\n",
    "favstats(t2020)\n",
    "boxplot(t2020, ylab = \"Number of Total Cases\", main = \"Boxplot of Number of Cases in 2020: COVID Outbreak\")"
   ]
  },
  {
   "cell_type": "markdown",
   "metadata": {},
   "source": [
    "The distribution is slightly positively skewed and is not completely normal. No outliers were found in this data. The kurtosis was a large negative value, which means that the distribution had light tails. "
   ]
  },
  {
   "cell_type": "markdown",
   "metadata": {},
   "source": [
    "The histogram and boxplot are displaying the distribution of the death totals in each selected country during the 2003 SARS outbreak."
   ]
  },
  {
   "cell_type": "code",
   "execution_count": null,
   "metadata": {},
   "outputs": [],
   "source": [
    "d2003 = c(totDLD$Canada.2003, totDLD$Germany.2003, totDLD$Italy.2003, totDLD$Singapore.2003, totDLD$US.2003, totDLD$Vietnam.2003, totDLD$China.2003)\n",
    "hist(d2003, xlab ='Number of Total Deaths', main = \"Histogram of Number of Deaths in 2003: SARS Outbreak\", breaks = 25)\n",
    "skew <- skewness(d2003)\n",
    "cat(\"Skewness: \", skew, \"\\n\")\n",
    "k <- kurtosis(d2003)\n",
    "cat(\"Kurtosis: \", k)\n",
    "\n",
    "favstats(d2003)\n",
    "boxplot(d2003, ylab = \"Number of Total Deaths\", main = \"Boxplot of Number of Deaths 2003 SARS Outbreak\")"
   ]
  },
  {
   "cell_type": "markdown",
   "metadata": {},
   "source": [
    "The distribution is positively skewed and has heavier tails. The total deaths in China seems to be an outlier. The outlier is removed in order to see how the distribution changes. "
   ]
  },
  {
   "cell_type": "markdown",
   "metadata": {},
   "source": [
    "The histogram and boxplot are displaying the distribution of the death totals in each selected country during the 2003 SARS outbreak (excluding China)."
   ]
  },
  {
   "cell_type": "code",
   "execution_count": null,
   "metadata": {},
   "outputs": [],
   "source": [
    "d2003 = c(totDLD$Canada.2003, totDLD$Germany.2003, totDLD$Italy.2003, totDLD$Singapore.2003, totDLD$US.2003, totDLD$Vietnam.2003)\n",
    "hist(d2003, xlab ='Number of Total Deaths', main = \"Number of Deaths in 2003: SARS Outbreak W/O Outliers\", breaks = 15)\n",
    "skew <- skewness(d2003)\n",
    "cat(\"Skewness: \", skew, \"\\n\")\n",
    "k <- kurtosis(d2003)\n",
    "cat(\"Kurtosis: \", k)\n",
    "\n",
    "favstats(d2003)\n",
    "boxplot(d2003, ylab = \"Number of Total Deaths\", main = \"Number of Deaths 2003 SARS Outbreak W/O Outliers\")"
   ]
  },
  {
   "cell_type": "markdown",
   "metadata": {},
   "source": [
    "The removal of China created a new distribution with lighter tails. The distribution is still positively skewed. However, the removal of China significantly lowered the skewness of the data. "
   ]
  },
  {
   "cell_type": "markdown",
   "metadata": {},
   "source": [
    "The histogram and boxplot are displaying the distribution of the death totals in each selected country during the COVID-19 outbreak."
   ]
  },
  {
   "cell_type": "code",
   "execution_count": null,
   "metadata": {},
   "outputs": [],
   "source": [
    "d2020 = c(totDLD$Canada.2020, totDLD$Germany.2020, totDLD$Italy.2020, totDLD$Singapore.2020, totDLD$US.2020, totDLD$Vietnam.2020, totDLD$China.2020)\n",
    "hist(d2020, xlab ='Number of Total Deaths', main = \"Histogram of Number of Deaths in 2020: COVID Outbreak\", breaks = 20)\n",
    "skew <- skewness(d2020)\n",
    "cat(\"Skewness: \", skew, \"\\n\")\n",
    "k <- kurtosis(d2020)\n",
    "cat(\"Kurtosis: \", k)\n",
    "\n",
    "favstats(d2020)\n",
    "boxplot(d2020, ylab = \"Number of Total Deaths\", main = \"Boxplot of Number of Deaths 2020 COVID Outbreak\")"
   ]
  },
  {
   "cell_type": "markdown",
   "metadata": {},
   "source": [
    "The distribution is positively skewed. The kurtosis value indicates that the distribution does not have lighter or heavier tails.The total deaths in Italy seems to be an outlier. The outlier is removed in order to see how the distribution changes. "
   ]
  },
  {
   "cell_type": "markdown",
   "metadata": {},
   "source": [
    "The histogram and boxplot are displaying the distribution of the death totals in each selected country during the COVID-19 outbreak (excluding Italy)."
   ]
  },
  {
   "cell_type": "code",
   "execution_count": null,
   "metadata": {},
   "outputs": [],
   "source": [
    "d2020 = c(totDLD$Canada.2020, totDLD$Germany.2020, totDLD$Singapore.2020, totDLD$US.2020, totDLD$Vietnam.2020, totDLD$China.2020)\n",
    "hist(d2020, xlab ='Number of Total Deaths', main = \"Number of Deaths in 2020: COVID Outbreak W/O Outliers\", breaks = 15)\n",
    "skew <- skewness(d2020)\n",
    "cat(\"Skewness: \", skew, \"\\n\")\n",
    "k <- kurtosis(d2020)\n",
    "cat(\"Kurtosis: \", k)\n",
    "\n",
    "favstats(d2020)\n",
    "boxplot(d2020, ylab = \"Number of Total Deaths\", main = \"Number of Deaths 2020 COVID Outbreak W/O Outliers\")"
   ]
  },
  {
   "cell_type": "markdown",
   "metadata": {},
   "source": [
    "The removal of Italy created a new distribution with lighter tails. The distribution is still positively skewed. However, the removal of Italy significantly lowered the skewness of the data. "
   ]
  },
  {
   "cell_type": "markdown",
   "metadata": {},
   "source": [
    "This loop calculates the percentage of the population that were infected by SARS in each selected country."
   ]
  },
  {
   "cell_type": "code",
   "execution_count": null,
   "metadata": {},
   "outputs": [],
   "source": [
    "t2003 <- c(cumulSC$Canada.2003, cumulSC$Germany.2003, cumulSC$Italy.2003, cumulSC$Singapore.2003, cumulSC$US.2003, cumulSC$Vietnam.2003, cumulSC$China.2003)\n",
    "\n",
    "pop <- c(31644028, 82534176, 57313203, 4114826, 290107933, 82301656, 1288000000)\n",
    "\n",
    "for (i in 1:length(pop)) {\n",
    "    t2003[i] <- t2003[i]/pop[i]\n",
    "}\n",
    "t2003"
   ]
  },
  {
   "cell_type": "markdown",
   "metadata": {},
   "source": [
    "The histogram and boxplot are displaying the distribution of the percentage of infected in each selected country during the SARS outbreak."
   ]
  },
  {
   "cell_type": "code",
   "execution_count": null,
   "metadata": {},
   "outputs": [],
   "source": [
    "hist(t2003, xlab ='Percentage of Population Infected', main = \"Percentage of Population Infected: 2003 SARS Outbreak\", breaks = 30)\n",
    "skew <- skewness(t2003)\n",
    "cat(\"Skewness: \", skew, \"\\n\")\n",
    "k <- kurtosis(t2003)\n",
    "cat(\"Kurtosis: \", k)\n",
    "\n",
    "favstats(t2003)\n",
    "boxplot(t2003, ylab = \"Percentage of Population Infected\", main = \"Boxplot of Percentage of Population Infected: SARS 2003\")"
   ]
  },
  {
   "cell_type": "markdown",
   "metadata": {},
   "source": [
    "The distribution is positively skewed. The kurtosis value indicates that the distribution has heavier tails. The percentage of infected population in Singapore seems to be an outlier. The outlier is removed in order to see how the distribution changes."
   ]
  },
  {
   "cell_type": "code",
   "execution_count": null,
   "metadata": {},
   "outputs": [],
   "source": [
    "t2003 <- c(cumulSC$Canada.2003, cumulSC$Germany.2003, cumulSC$Italy.2003, cumulSC$US.2003, cumulSC$Vietnam.2003, cumulSC$China.2003)\n",
    "\n",
    "pop <- c(31644028, 82534176, 57313203, 290107933, 82301656, 1288000000)\n",
    "\n",
    "for (i in 1:length(pop)) {\n",
    "    t2003[i] <- t2003[i]/pop[i]\n",
    "}\n",
    "t2003"
   ]
  },
  {
   "cell_type": "markdown",
   "metadata": {},
   "source": [
    "The histogram and boxplot are displaying the distribution of the percentage of infected in each selected country during the SARS outbreak (excluding Singapore)."
   ]
  },
  {
   "cell_type": "code",
   "execution_count": null,
   "metadata": {},
   "outputs": [],
   "source": [
    "hist(t2003, xlab ='Percentage of Population Infected', main = \"Histogram of Percentage of Population Infected During 2003 SARS Outbreak\", breaks = 30)\n",
    "skew <- skewness(t2003)\n",
    "cat(\"Skewness: \", skew, \"\\n\")\n",
    "k <- kurtosis(t2003)\n",
    "cat(\"Kurtosis: \", k)\n",
    "\n",
    "favstats(t2003)\n",
    "boxplot(t2003, ylab = \"Percentage of Population Infected SARS 2003\", main = \"Boxplot of Percentage of Population Infected SARS 2003\")"
   ]
  },
  {
   "cell_type": "markdown",
   "metadata": {},
   "source": [
    "The removal of Singapore created an new distribution with lighter tails. The distribution is still positively skewed. However, the removal of Singapore significantly lowered the skewness of the data."
   ]
  },
  {
   "cell_type": "markdown",
   "metadata": {},
   "source": [
    "This for loop finds the percentage of confirmed cases that resulted in deaths in the 2003 SARS outbreak. "
   ]
  },
  {
   "cell_type": "code",
   "execution_count": null,
   "metadata": {},
   "outputs": [],
   "source": [
    "td2003 <- c(cumulSC$Canada.2003, cumulSC$Germany.2003, cumulSC$Italy.2003, cumulSC$Singapore.2003, cumulSC$US.2003, cumulSC$Vietnam.2003, cumulSC$China.2003)\n",
    "\n",
    "d2003 <- c(totDLD$Canada.2003, totDLD$Germany.2003, totDLD$Italy.2003, totDLD$Singapore.2003, totDLD$US.2003, totDLD$Vietnam.2003, totDLD$China.2003)\n",
    "\n",
    "for (i in 1:length(d2003)) {\n",
    "    td2003[i] <- d2003[i]/td2003[i]\n",
    "}\n",
    "\n",
    "td2003"
   ]
  },
  {
   "cell_type": "markdown",
   "metadata": {},
   "source": [
    "The histogram and boxplot are displaying the distribution of the percentage of confirmed cases that resulted in deaths in each country during the SARS outbreak."
   ]
  },
  {
   "cell_type": "code",
   "execution_count": null,
   "metadata": {},
   "outputs": [],
   "source": [
    "hist(td2003, xlab ='Percentage that Resulted in Deaths', main = \"Histogram of Percentage of Confirmed Cases that resulted in Deaths During 2003 SARS Outbreak\", breaks = 30)\n",
    "skew <- skewness(td2003)\n",
    "cat(\"Skewness: \", skew, \"\\n\")\n",
    "k <- kurtosis(td2003)\n",
    "cat(\"Kurtosis: \", k)\n",
    "\n",
    "favstats(td2003)\n",
    "boxplot(td2003, ylab = \"Percentage that Resulted in Deaths SARS 2003\", main = \"Boxplot of Percentage of Confirmed Cases that Resulted in Deaths SARS 2003\")"
   ]
  },
  {
   "cell_type": "markdown",
   "metadata": {},
   "source": [
    "The distribution is slightly positively skewed. The kurtosis value indicates that the distribution has lighter tails. \n",
    "There are no outliers for this distribution. Singapore has the highest percentage of confirmed cases resulting in deaths, but Canada is a close second. "
   ]
  },
  {
   "cell_type": "markdown",
   "metadata": {},
   "source": [
    "This loop calculates the percentage of the population that were infected by COVID-19 in each country."
   ]
  },
  {
   "cell_type": "code",
   "execution_count": null,
   "metadata": {},
   "outputs": [],
   "source": [
    "t2020 <- c(cumulSC$Canada.2020, cumulSC$Germany.2020, cumulSC$Italy.2020, cumulSC$Singapore.2020, cumulSC$US.2020, cumulSC$Vietnam.2020, cumulSC$China.2020)\n",
    "\n",
    "pop <- c(37057765, 82905782, 60421760, 5638676, 326687501, 95540395, 1393000000)\n",
    "\n",
    "for (i in 1:length(pop)) {\n",
    "    t2020[i] <- t2020[i]/pop[i]\n",
    "}\n",
    "t2020"
   ]
  },
  {
   "cell_type": "markdown",
   "metadata": {},
   "source": [
    "The histogram and boxplot are displaying the distribution of the percentage of infected in each selected country during the COVID-19 outbreak."
   ]
  },
  {
   "cell_type": "code",
   "execution_count": null,
   "metadata": {},
   "outputs": [],
   "source": [
    "hist(t2020, xlab ='Percentage of Population Infected', main = \"Histogram of Percentage of Population Infected During 2020: COVID Outbreak\", breaks = 6)\n",
    "skew <- skewness(t2020)\n",
    "cat(\"Skewness: \", skew, \"\\n\")\n",
    "k <- kurtosis(t2020)\n",
    "cat(\"Kurtosis: \", k)\n",
    "\n",
    "favstats(t2020)\n",
    "boxplot(t2020, ylab = \"Percentage of Population Infected\", main = \"Boxplot of Percent Infected in Each Country in 2020: COVID Outbreak\")"
   ]
  },
  {
   "cell_type": "markdown",
   "metadata": {},
   "source": [
    "The distribution is positively skewed. The kurtosis value indicates that the distribution has lighter tails. The percentage of infected population in Italy seems to be an outlier. The outlier is removed in order to see how the distribution changes."
   ]
  },
  {
   "cell_type": "code",
   "execution_count": null,
   "metadata": {},
   "outputs": [],
   "source": [
    "t2020 <- c(cumulSC$Canada.2020, cumulSC$Germany.2020, cumulSC$Singapore.2020, cumulSC$US.2020, cumulSC$Vietnam.2020, cumulSC$China.2020)\n",
    "\n",
    "pop <- c(37057765, 82905782, 5638676, 326687501, 95540395, 1393000000)\n",
    "\n",
    "for (i in 1:length(pop)) {\n",
    "    t2020[i] <- t2020[i]/pop[i]\n",
    "}\n",
    "t2020"
   ]
  },
  {
   "cell_type": "markdown",
   "metadata": {},
   "source": [
    "The histogram and boxplot are displaying the distribution of the percentage of infected in each country during the COVID-19 outbreak (excluding Italy)."
   ]
  },
  {
   "cell_type": "code",
   "execution_count": null,
   "metadata": {},
   "outputs": [],
   "source": [
    "hist(t2020, xlab ='Percentage of Population Infected', main = \"Histogram of Percentage of Population Infected During 2020: COVID Outbreak\", breaks = 6)\n",
    "skew <- skewness(t2020)\n",
    "cat(\"Skewness: \", skew, \"\\n\")\n",
    "k <- kurtosis(t2020)\n",
    "cat(\"Kurtosis: \", k)\n",
    "\n",
    "favstats(t2020)\n",
    "boxplot(t2020, ylab = \"Percentage of Population Infected\", main = \"Boxplot of Percent Infected in Each Country in 2020: COVID Outbreak W/O Outliers\")"
   ]
  },
  {
   "cell_type": "markdown",
   "metadata": {},
   "source": [
    "With the removal of Italy, the tails became lighter and the skew became smaller. However, the skew stayed positive. "
   ]
  },
  {
   "cell_type": "markdown",
   "metadata": {},
   "source": [
    "This for loop finds the percentage of confirmed cases that resulted in deaths during the COVID-19 outbreak. "
   ]
  },
  {
   "cell_type": "code",
   "execution_count": null,
   "metadata": {},
   "outputs": [],
   "source": [
    "td2020 <- c(cumulSC$Canada.2020, cumulSC$Germany.2020, cumulSC$Italy.2020, cumulSC$Singapore.2020, cumulSC$US.2020, cumulSC$Vietnam.2020, cumulSC$China.2020)\n",
    "\n",
    "d2020 <- c(totDLD$Canada.2020, totDLD$Germany.2020, totDLD$Italy.2020, totDLD$Singapore.2020, totDLD$US.2020, totDLD$Vietnam.2020, totDLD$China.2020)\n",
    "\n",
    "for (i in 1:length(d2020)) {\n",
    "    td2020[i] <- d2020[i]/td2020[i]\n",
    "}\n",
    "\n",
    "td2020"
   ]
  },
  {
   "cell_type": "markdown",
   "metadata": {},
   "source": [
    "The histogram and boxplot are displaying the distribution of the percentage of confirmed cases that resulted in deaths in each selected country during the COVID-19 outbreak."
   ]
  },
  {
   "cell_type": "code",
   "execution_count": null,
   "metadata": {},
   "outputs": [],
   "source": [
    "hist(td2020, xlab ='Percentage that Resulted in Deaths', main = \"Percentage of Confirmed Cases Resulting in Deaths COVID-19 Outbreak\", breaks = 30)\n",
    "skew <- skewness(td2020)\n",
    "cat(\"Skewness: \", skew, \"\\n\")\n",
    "k <- kurtosis(td2020)\n",
    "cat(\"Kurtosis: \", k)\n",
    "\n",
    "favstats(td2020)\n",
    "boxplot(td2020, ylab = \"Percentage Deaths COVID-19 Outbreak\", main = \"Percentage of Confirmed Cases Resulting in Deaths COVID-19\")"
   ]
  },
  {
   "cell_type": "markdown",
   "metadata": {},
   "source": [
    "The distribution is positively skewed. The kurtosis value indicates that the distribution has heavier tails. The percentage of cases resulting in deaths in Italy seems to be an outlier. The outlier is removed in order to see how the distribution changes."
   ]
  },
  {
   "cell_type": "code",
   "execution_count": null,
   "metadata": {},
   "outputs": [],
   "source": [
    "td2020 <- c(cumulSC$Canada.2020, cumulSC$Germany.2020, cumulSC$Singapore.2020, cumulSC$US.2020, cumulSC$Vietnam.2020, cumulSC$China.2020)\n",
    "\n",
    "d2020 <- c(totDLD$Canada.2020, totDLD$Germany.2020, totDLD$Singapore.2020, totDLD$US.2020, totDLD$Vietnam.2020, totDLD$China.2020)\n",
    "\n",
    "for (i in 1:length(d2020)) {\n",
    "    td2020[i] <- d2020[i]/td2020[i]\n",
    "}\n",
    "\n",
    "td2020"
   ]
  },
  {
   "cell_type": "markdown",
   "metadata": {},
   "source": [
    "The histogram and boxplot are displaying the distribution of the percentage of confirmed cases that resulted in deaths in each selected country during the COVID-19 outbreak (excluding Italy)."
   ]
  },
  {
   "cell_type": "code",
   "execution_count": null,
   "metadata": {},
   "outputs": [],
   "source": [
    "hist(td2020, xlab ='Percentage that Resulted in Deaths', main = \"Percentage of Confirmed Cases Resulting in Deaths COVID-19 Outbreak\", breaks = 30)\n",
    "skew <- skewness(td2020)\n",
    "cat(\"Skewness: \", skew, \"\\n\")\n",
    "k <- kurtosis(td2020)\n",
    "cat(\"Kurtosis: \", k)\n",
    "\n",
    "favstats(td2020)\n",
    "boxplot(td2020, ylab = \"Percentage Deaths COVID-19 Outbreak\", main = \"Percentage of Confirmed Cases Resulting in Deaths COVID-19\")"
   ]
  },
  {
   "cell_type": "markdown",
   "metadata": {},
   "source": [
    "With the removal of Italy, the new distribution decreased in skewness. The tails of the distribution became lighter. China is the outlier of this distribution."
   ]
  },
  {
   "cell_type": "code",
   "execution_count": null,
   "metadata": {},
   "outputs": [],
   "source": [
    "library(ggplot2)\n",
    "\n",
    "data <- data.frame(CountryYear= c(\"Canada 2020\", \"Canada 2003\", \"Germany 2020\", \"Germany 2003\", \"Italy 2020\", \n",
    "                                  \"Italy 2003\", \"Singapore 2020\", \"Singapore 2003\", \"US 2020\", \"US 2003\", \n",
    "                                  \"Vietnam 2020\", \"Vietnam 2003\", \"China 2020\", \"China 2003\"),  \n",
    "                   Total=c(totDLD$Canada.2020, totDLD$Canada.2003, totDLD$Germany.2020, totDLD$Germany.2003,\n",
    "                          totDLD$Italy.2020, totDLD$Italy.2003, totDLD$Singapore.2020, totDLD$Singapore.2003,\n",
    "                          totDLD$US.2020, totDLD$US.2003, totDLD$Vietnam.2020, totDLD$Vietnam.2003,\n",
    "                          totDLD$China.2020, totDLD$China.2003))\n",
    "\n",
    "barplot <- ggplot(data, aes(x=CountryYear, y=Total)) + geom_bar(stat = \"identity\", fill = 'burlywood4') + \n",
    "                    ggtitle(\"Comparison of countries: Death Totals from Both Outbreaks\") + xlab(\"Country And Year\") + ylab(\"Total Deaths\") +\n",
    "                    theme(axis.text.x = element_text(angle = 90))\n",
    "barplot"
   ]
  },
  {
   "cell_type": "markdown",
   "metadata": {},
   "source": [
    "The barchart shows that the number of deaths in each selected country is mostly larger for the COVID-19 outbreak. The exceptions to this claim are Singapore and Vietnam. The total number of deaths in China's SARS 2003 outbreak is slightly larger than Germany's COVID-19 death total. "
   ]
  },
  {
   "cell_type": "code",
   "execution_count": null,
   "metadata": {},
   "outputs": [],
   "source": [
    "data <- data.frame(CountryYear= c(\"Canada 2020\", \"Canada 2003\", \"Germany 2020\", \"Germany 2003\", \"Italy 2020\", \n",
    "                                  \"Italy 2003\", \"Singapore 2020\", \"Singapore 2003\", \"US 2020\", \"US 2003\", \n",
    "                                  \"Vietnam 2020\", \"Vietnam 2003\", \"China 2020\", \"China 2003\"),  \n",
    "                   Total=c(cumulSC$Canada.2020, cumulSC$Canada.2003, cumulSC$Germany.2020, cumulSC$Germany.2003,\n",
    "                          cumulSC$Italy.2020, cumulSC$Italy.2003, cumulSC$Singapore.2020, cumulSC$Singapore.2003,\n",
    "                          cumulSC$US.2020, cumulSC$US.2003, cumulSC$Vietnam.2020, cumulSC$Vietnam.2003,\n",
    "                          cumulSC$China.2020, cumulSC$China.2003))\n",
    "\n",
    "barplot <- ggplot(data, aes(x=CountryYear, y=Total)) + geom_bar(stat = \"identity\", fill = 'orange2') + \n",
    "                    ggtitle(\"Comparison of countries: Cumulative Cases from Both Outbreaks\") + xlab(\"Country And Year\") + ylab(\"Total Deaths\") +\n",
    "                    theme(axis.text.x = element_text(angle = 90))\n",
    "barplot"
   ]
  },
  {
   "cell_type": "markdown",
   "metadata": {},
   "source": [
    "The barchart shows that the number of cumulative cases in each selected country is mostly larger for the COVID-19 outbreak.  The total number of cumulative cases in China's SARS 2003 outbreak is slightly larger than Canada's COVID-19 total of cumulative cases."
   ]
  },
  {
   "cell_type": "code",
   "execution_count": null,
   "metadata": {},
   "outputs": [],
   "source": [
    "data <- data.frame(CountryYear= c(\"Canada\", \"Germany\", \"Italy\", \"Singapore\", \"US\", \"Vietnam\", \"China\"),  \n",
    "                   Total=c(cumulSC$Canada.2003, cumulSC$Germany.2003, cumulSC$Italy.2003, cumulSC$Singapore.2003,\n",
    "                        cumulSC$US.2003, cumulSC$Vietnam.2003, cumulSC$China.2003))\n",
    "\n",
    "barplot <- ggplot(data, aes(x=CountryYear, y=Total)) + geom_bar(stat = \"identity\", fill = 'deeppink2') + \n",
    "                    ggtitle(\"Comparison of countries: Cumulative Cases SARS 2003\") + xlab(\"Country And Year\") + ylab(\"Total Cases\") +\n",
    "                    theme(axis.text.x = element_text(angle = 90))\n",
    "barplot"
   ]
  },
  {
   "cell_type": "markdown",
   "metadata": {},
   "source": [
    "This barchart shows that China has the most cases out of the selected countries. The US, Singapore,and Canada seem to have a similar number of cumulative cases. "
   ]
  },
  {
   "cell_type": "code",
   "execution_count": null,
   "metadata": {},
   "outputs": [],
   "source": [
    "library(ggplot2)\n",
    "\n",
    "data <- data.frame(CountryYear= c(\"Canada\", \"Germany\", \"Italy\", \"Singapore\", \"US\", \"Vietnam\", \"China\"),  \n",
    "                   Total=c(totDLD$Canada.2003, totDLD$Germany.2003, totDLD$Italy.2003, totDLD$Singapore.2003,\n",
    "                           totDLD$US.2003, totDLD$Vietnam.2003, totDLD$China.2003))\n",
    "\n",
    "barplot <- ggplot(data, aes(x=CountryYear, y=Total)) + geom_bar(stat = \"identity\", fill=\"steelblue\") + \n",
    "                    ggtitle(\"Comparison of countries: Death Totals SARS 2003\") + xlab(\"Country And Year\") + ylab(\"Total Deaths\") +\n",
    "                    theme(axis.text.x = element_text(angle = 90))\n",
    "barplot"
   ]
  },
  {
   "cell_type": "markdown",
   "metadata": {},
   "source": [
    "This barchart shows that China had the highest number of deaths. Canada and Singapore had a similar number of deaths during the SARS outbreak. The United States, Germany, and Italy did not have a case that resulted in death.  "
   ]
  },
  {
   "cell_type": "code",
   "execution_count": null,
   "metadata": {},
   "outputs": [],
   "source": [
    "library(pwr)\n",
    "library(distr)"
   ]
  },
  {
   "cell_type": "code",
   "execution_count": null,
   "metadata": {},
   "outputs": [],
   "source": [
    "pwr.t.test(n = 96, d = 0.5, sig.level = 0.05, alternative = \"greater\")"
   ]
  },
  {
   "cell_type": "markdown",
   "metadata": {},
   "source": [
    "The t tests comparing the death totals, in selected countries, from the 2003 SARS Outbreak will have 96.4% power. "
   ]
  },
  {
   "cell_type": "code",
   "execution_count": null,
   "metadata": {},
   "outputs": [],
   "source": [
    "pwr.t.test(d=0.5, sig.level = 0.05, power = 0.8, alternative = \"greater\")"
   ]
  },
  {
   "cell_type": "markdown",
   "metadata": {},
   "source": [
    "50 days of SARS data needs to be collected in each country to have 0.8 power. "
   ]
  },
  {
   "cell_type": "code",
   "execution_count": 3,
   "metadata": {},
   "outputs": [],
   "source": [
    "dfSC <- dfSC %>%\n",
    "            rename(CanadaC = Canada,\n",
    "              GermanyC = Germany,\n",
    "              ItalyC = Italy,\n",
    "              SingaporeC = Singapore,\n",
    "              UnitedStatesC = United.States,\n",
    "              VietnamC = Vietnam,\n",
    "              ChinaC = China, \n",
    "              DateC = Date)\n",
    "\n",
    "dfSD <- dfSD %>%\n",
    "            rename(CanadaD = Canada,\n",
    "              GermanyD = Germany,\n",
    "              ItalyD = Italy,\n",
    "              SingaporeD = Singapore,\n",
    "              UnitedStatesD = United.States,\n",
    "              VietnamD = Vietnam,\n",
    "              ChinaD = China,\n",
    "              DateD = Date)\n",
    "\n",
    "dfSR <- dfSR %>%\n",
    "            rename(CanadaR = Canada,\n",
    "              GermanyR = Germany,\n",
    "              ItalyR = Italy,\n",
    "              SingaporeR = Singapore,\n",
    "              UnitedStatesR = United.States,\n",
    "              VietnamR = Vietnam,\n",
    "              ChinaR = China,\n",
    "              DateR = Date)\n",
    "\n",
    "dfSA <- cbind(dfSC, dfSD, dfSR)\n",
    "\n",
    "dfSA <- dfSA %>%\n",
    "    mutate(CanadaA = CanadaC - CanadaD - CanadaR)\n",
    "\n",
    "dfSA <- dfSA %>%\n",
    "    mutate(GermanyA = GermanyC - GermanyD - GermanyR)\n",
    "\n",
    "dfSA <- dfSA %>%\n",
    "    mutate(ItalyA = ItalyC - ItalyD - ItalyR)\n",
    "\n",
    "dfSA <- dfSA %>%\n",
    "    mutate(SingaporeA = SingaporeC - SingaporeD - SingaporeR)\n",
    "\n",
    "dfSA <- dfSA %>%\n",
    "    mutate(UnitedStatesA = UnitedStatesC - UnitedStatesD - UnitedStatesR)\n",
    "\n",
    "dfSA <- dfSA %>%\n",
    "    mutate(VietnamA = VietnamC - VietnamD - VietnamR)\n",
    "\n",
    "dfSA <- dfSA %>%\n",
    "    mutate(ChinaA = ChinaC - ChinaD - ChinaR)"
   ]
  },
  {
   "cell_type": "code",
   "execution_count": 5,
   "metadata": {},
   "outputs": [
    {
     "data": {
      "text/html": [
       "<table>\n",
       "<caption>A data.frame: 96 × 31</caption>\n",
       "<thead>\n",
       "\t<tr><th scope=col>DateC</th><th scope=col>CanadaC</th><th scope=col>GermanyC</th><th scope=col>ItalyC</th><th scope=col>SingaporeC</th><th scope=col>UnitedStatesC</th><th scope=col>VietnamC</th><th scope=col>ChinaC</th><th scope=col>DateD</th><th scope=col>CanadaD</th><th scope=col>⋯</th><th scope=col>UnitedStatesR</th><th scope=col>VietnamR</th><th scope=col>ChinaR</th><th scope=col>CanadaA</th><th scope=col>GermanyA</th><th scope=col>ItalyA</th><th scope=col>SingaporeA</th><th scope=col>UnitedStatesA</th><th scope=col>VietnamA</th><th scope=col>ChinaA</th></tr>\n",
       "\t<tr><th scope=col>&lt;fct&gt;</th><th scope=col>&lt;int&gt;</th><th scope=col>&lt;int&gt;</th><th scope=col>&lt;int&gt;</th><th scope=col>&lt;int&gt;</th><th scope=col>&lt;int&gt;</th><th scope=col>&lt;int&gt;</th><th scope=col>&lt;int&gt;</th><th scope=col>&lt;fct&gt;</th><th scope=col>&lt;int&gt;</th><th scope=col>⋯</th><th scope=col>&lt;int&gt;</th><th scope=col>&lt;int&gt;</th><th scope=col>&lt;int&gt;</th><th scope=col>&lt;int&gt;</th><th scope=col>&lt;int&gt;</th><th scope=col>&lt;int&gt;</th><th scope=col>&lt;int&gt;</th><th scope=col>&lt;int&gt;</th><th scope=col>&lt;int&gt;</th><th scope=col>&lt;int&gt;</th></tr>\n",
       "</thead>\n",
       "<tbody>\n",
       "\t<tr><td>2003-03-17</td><td>  8</td><td>1</td><td>0</td><td> 20</td><td> 0</td><td>40</td><td>  95</td><td>2003-03-17</td><td> 2</td><td>⋯</td><td>0</td><td> 0</td><td>   0</td><td> 6</td><td>1</td><td>0</td><td> 20</td><td> 0</td><td>39</td><td>  94</td></tr>\n",
       "\t<tr><td>2003-03-18</td><td>  8</td><td>1</td><td>0</td><td> 23</td><td> 0</td><td>56</td><td> 123</td><td>2003-03-18</td><td> 2</td><td>⋯</td><td>0</td><td> 0</td><td>   0</td><td> 6</td><td>1</td><td>0</td><td> 23</td><td> 0</td><td>55</td><td> 122</td></tr>\n",
       "\t<tr><td>2003-03-19</td><td>  8</td><td>1</td><td>0</td><td> 31</td><td>11</td><td>57</td><td> 150</td><td>2003-03-19</td><td> 2</td><td>⋯</td><td>0</td><td> 0</td><td>   0</td><td> 6</td><td>1</td><td>0</td><td> 31</td><td>11</td><td>55</td><td> 145</td></tr>\n",
       "\t<tr><td>2003-03-20</td><td>  9</td><td>1</td><td>0</td><td> 34</td><td>11</td><td>58</td><td> 173</td><td>2003-03-20</td><td> 2</td><td>⋯</td><td>0</td><td> 0</td><td>   0</td><td> 7</td><td>1</td><td>0</td><td> 34</td><td>11</td><td>56</td><td> 167</td></tr>\n",
       "\t<tr><td>2003-03-21</td><td>  9</td><td>2</td><td>1</td><td> 39</td><td>13</td><td>58</td><td> 203</td><td>2003-03-21</td><td> 2</td><td>⋯</td><td>0</td><td> 0</td><td>   0</td><td> 7</td><td>2</td><td>1</td><td> 39</td><td>13</td><td>56</td><td> 197</td></tr>\n",
       "\t<tr><td>2003-03-22</td><td>  9</td><td>2</td><td>2</td><td> 44</td><td>22</td><td>58</td><td> 222</td><td>2003-03-22</td><td> 2</td><td>⋯</td><td>0</td><td> 0</td><td>   0</td><td> 7</td><td>2</td><td>2</td><td> 44</td><td>22</td><td>56</td><td> 215</td></tr>\n",
       "\t<tr><td>2003-03-24</td><td> 11</td><td>4</td><td>2</td><td> 65</td><td>37</td><td>58</td><td> 260</td><td>2003-03-24</td><td> 3</td><td>⋯</td><td>0</td><td> 0</td><td>   0</td><td> 8</td><td>4</td><td>2</td><td> 65</td><td>37</td><td>54</td><td> 250</td></tr>\n",
       "\t<tr><td>2003-03-25</td><td> 11</td><td>4</td><td>2</td><td> 69</td><td>37</td><td>58</td><td> 286</td><td>2003-03-25</td><td> 3</td><td>⋯</td><td>0</td><td> 0</td><td>   0</td><td> 8</td><td>4</td><td>2</td><td> 69</td><td>37</td><td>54</td><td> 276</td></tr>\n",
       "\t<tr><td>2003-03-26</td><td> 19</td><td>4</td><td>2</td><td> 74</td><td>38</td><td>58</td><td>1108</td><td>2003-03-26</td><td> 3</td><td>⋯</td><td>0</td><td> 0</td><td>   0</td><td>16</td><td>4</td><td>2</td><td> 73</td><td>38</td><td>54</td><td>1067</td></tr>\n",
       "\t<tr><td>2003-03-27</td><td> 28</td><td>4</td><td>2</td><td> 78</td><td>39</td><td>58</td><td>1173</td><td>2003-03-27</td><td> 3</td><td>⋯</td><td>0</td><td> 0</td><td>   0</td><td>25</td><td>4</td><td>2</td><td> 76</td><td>39</td><td>54</td><td>1129</td></tr>\n",
       "\t<tr><td>2003-03-28</td><td> 29</td><td>4</td><td>2</td><td> 86</td><td>39</td><td>58</td><td>1231</td><td>2003-03-28</td><td> 3</td><td>⋯</td><td>0</td><td> 0</td><td>   0</td><td>26</td><td>4</td><td>2</td><td> 84</td><td>39</td><td>54</td><td>1187</td></tr>\n",
       "\t<tr><td>2003-03-29</td><td> 37</td><td>4</td><td>2</td><td> 89</td><td>39</td><td>58</td><td>1276</td><td>2003-03-29</td><td> 3</td><td>⋯</td><td>0</td><td> 0</td><td>   0</td><td>34</td><td>4</td><td>2</td><td> 87</td><td>39</td><td>54</td><td>1232</td></tr>\n",
       "\t<tr><td>2003-03-31</td><td> 44</td><td>5</td><td>3</td><td> 91</td><td>39</td><td>59</td><td>1336</td><td>2003-03-31</td><td> 4</td><td>⋯</td><td>0</td><td> 0</td><td>   0</td><td>40</td><td>5</td><td>3</td><td> 89</td><td>39</td><td>55</td><td>1289</td></tr>\n",
       "\t<tr><td>2003-04-01</td><td> 53</td><td>5</td><td>3</td><td> 92</td><td>40</td><td>59</td><td>1491</td><td>2003-04-01</td><td> 4</td><td>⋯</td><td>0</td><td> 0</td><td>   0</td><td>49</td><td>5</td><td>3</td><td> 89</td><td>40</td><td>55</td><td>1441</td></tr>\n",
       "\t<tr><td>2003-04-02</td><td> 58</td><td>5</td><td>3</td><td> 95</td><td>41</td><td>59</td><td>1898</td><td>2003-04-02</td><td> 6</td><td>⋯</td><td>0</td><td> 0</td><td>   0</td><td>52</td><td>5</td><td>3</td><td> 91</td><td>41</td><td>55</td><td>1836</td></tr>\n",
       "\t<tr><td>2003-04-03</td><td> 62</td><td>5</td><td>3</td><td> 98</td><td>41</td><td>62</td><td>1924</td><td>2003-04-03</td><td> 6</td><td>⋯</td><td>0</td><td> 0</td><td>   0</td><td>56</td><td>5</td><td>3</td><td> 94</td><td>41</td><td>58</td><td>1861</td></tr>\n",
       "\t<tr><td>2003-04-04</td><td> 69</td><td>5</td><td>3</td><td>100</td><td>41</td><td>62</td><td>1981</td><td>2003-04-04</td><td> 7</td><td>⋯</td><td>0</td><td> 0</td><td>   0</td><td>62</td><td>5</td><td>3</td><td> 95</td><td>41</td><td>58</td><td>1915</td></tr>\n",
       "\t<tr><td>2003-04-05</td><td> 74</td><td>5</td><td>3</td><td>101</td><td>45</td><td>62</td><td>2020</td><td>2003-04-05</td><td> 7</td><td>⋯</td><td>0</td><td> 0</td><td>   0</td><td>67</td><td>5</td><td>3</td><td> 95</td><td>45</td><td>58</td><td>1951</td></tr>\n",
       "\t<tr><td>2003-04-07</td><td> 90</td><td>5</td><td>3</td><td>106</td><td>51</td><td>62</td><td>2151</td><td>2003-04-07</td><td> 9</td><td>⋯</td><td>0</td><td> 0</td><td>   0</td><td>81</td><td>5</td><td>3</td><td>100</td><td>51</td><td>58</td><td>2075</td></tr>\n",
       "\t<tr><td>2003-04-08</td><td> 91</td><td>5</td><td>3</td><td>113</td><td>52</td><td>62</td><td>2207</td><td>2003-04-08</td><td>10</td><td>⋯</td><td>0</td><td> 0</td><td>   0</td><td>81</td><td>5</td><td>3</td><td>105</td><td>52</td><td>58</td><td>2129</td></tr>\n",
       "\t<tr><td>2003-04-09</td><td> 94</td><td>5</td><td>3</td><td>118</td><td>54</td><td>62</td><td>2250</td><td>2003-04-09</td><td>10</td><td>⋯</td><td>0</td><td> 0</td><td>   0</td><td>84</td><td>5</td><td>3</td><td>109</td><td>54</td><td>58</td><td>2170</td></tr>\n",
       "\t<tr><td>2003-04-10</td><td> 97</td><td>6</td><td>3</td><td>126</td><td>54</td><td>62</td><td>2288</td><td>2003-04-10</td><td>10</td><td>⋯</td><td>0</td><td>43</td><td>1179</td><td>65</td><td>4</td><td>2</td><td> 42</td><td>54</td><td>15</td><td>1024</td></tr>\n",
       "\t<tr><td>2003-04-11</td><td> 98</td><td>6</td><td>3</td><td>133</td><td>56</td><td>62</td><td>2368</td><td>2003-04-11</td><td>10</td><td>⋯</td><td>0</td><td>43</td><td>1206</td><td>63</td><td>2</td><td>1</td><td> 47</td><td>56</td><td>15</td><td>1072</td></tr>\n",
       "\t<tr><td>2003-04-12</td><td>100</td><td>6</td><td>3</td><td>147</td><td>59</td><td>63</td><td>2479</td><td>2003-04-12</td><td>10</td><td>⋯</td><td>0</td><td>44</td><td>1298</td><td>64</td><td>2</td><td>1</td><td> 61</td><td>59</td><td>15</td><td>1084</td></tr>\n",
       "\t<tr><td>2003-04-14</td><td>100</td><td>6</td><td>3</td><td>158</td><td>59</td><td>63</td><td>2608</td><td>2003-04-14</td><td>12</td><td>⋯</td><td>0</td><td>46</td><td>1317</td><td>61</td><td>2</td><td>1</td><td> 62</td><td>59</td><td>12</td><td>1180</td></tr>\n",
       "\t<tr><td>2003-04-15</td><td>101</td><td>6</td><td>3</td><td>162</td><td>61</td><td>63</td><td>2650</td><td>2003-04-15</td><td>12</td><td>⋯</td><td>0</td><td>46</td><td>1331</td><td>62</td><td>2</td><td>1</td><td> 64</td><td>61</td><td>12</td><td>1199</td></tr>\n",
       "\t<tr><td>2003-04-16</td><td>103</td><td>6</td><td>3</td><td>162</td><td>63</td><td>63</td><td>2700</td><td>2003-04-16</td><td>12</td><td>⋯</td><td>0</td><td>46</td><td>1351</td><td>54</td><td>2</td><td>1</td><td> 64</td><td>63</td><td>12</td><td>1224</td></tr>\n",
       "\t<tr><td>2003-04-17</td><td>126</td><td>6</td><td>3</td><td>167</td><td>63</td><td>63</td><td>2754</td><td>2003-04-17</td><td>12</td><td>⋯</td><td>0</td><td>46</td><td>1379</td><td>68</td><td>2</td><td>1</td><td> 61</td><td>63</td><td>12</td><td>1245</td></tr>\n",
       "\t<tr><td>2003-04-18</td><td>132</td><td>6</td><td>3</td><td>177</td><td>64</td><td>63</td><td>2870</td><td>2003-04-18</td><td>13</td><td>⋯</td><td>0</td><td>46</td><td>1503</td><td>65</td><td>2</td><td>1</td><td> 61</td><td>64</td><td>12</td><td>1221</td></tr>\n",
       "\t<tr><td>2003-04-19</td><td>132</td><td>6</td><td>3</td><td>177</td><td>64</td><td>63</td><td>2870</td><td>2003-04-19</td><td>13</td><td>⋯</td><td>0</td><td>46</td><td>1503</td><td>65</td><td>2</td><td>1</td><td> 61</td><td>64</td><td>12</td><td>1221</td></tr>\n",
       "\t<tr><td>⋮</td><td>⋮</td><td>⋮</td><td>⋮</td><td>⋮</td><td>⋮</td><td>⋮</td><td>⋮</td><td>⋮</td><td>⋮</td><td>⋱</td><td>⋮</td><td>⋮</td><td>⋮</td><td>⋮</td><td>⋮</td><td>⋮</td><td>⋮</td><td>⋮</td><td>⋮</td><td>⋮</td></tr>\n",
       "\t<tr><td>2003-06-02</td><td>198</td><td>10</td><td>9</td><td>206</td><td> 73</td><td>63</td><td>7075</td><td>2003-06-02</td><td>30</td><td>⋯</td><td>34</td><td>58</td><td>4815</td><td>52</td><td>1</td><td>0</td><td>10</td><td> 39</td><td>0</td><td>1644</td></tr>\n",
       "\t<tr><td>2003-06-03</td><td>213</td><td>10</td><td>9</td><td>206</td><td> 73</td><td>63</td><td>7077</td><td>2003-06-03</td><td>31</td><td>⋯</td><td>35</td><td>58</td><td>4885</td><td>66</td><td>1</td><td>0</td><td>10</td><td> 38</td><td>0</td><td>1575</td></tr>\n",
       "\t<tr><td>2003-06-04</td><td>216</td><td>10</td><td>9</td><td>206</td><td> 73</td><td>63</td><td>7078</td><td>2003-06-04</td><td>31</td><td>⋯</td><td>35</td><td>58</td><td>5014</td><td>65</td><td>1</td><td>0</td><td>10</td><td> 38</td><td>0</td><td>1447</td></tr>\n",
       "\t<tr><td>2003-06-05</td><td>218</td><td>10</td><td>9</td><td>206</td><td> 74</td><td>63</td><td>7078</td><td>2003-06-05</td><td>31</td><td>⋯</td><td>35</td><td>58</td><td>5114</td><td>67</td><td>1</td><td>0</td><td>10</td><td> 39</td><td>0</td><td>1344</td></tr>\n",
       "\t<tr><td>2003-06-06</td><td>219</td><td>10</td><td>9</td><td>206</td><td> 74</td><td>63</td><td>7080</td><td>2003-06-06</td><td>31</td><td>⋯</td><td>35</td><td>58</td><td>5220</td><td>67</td><td>1</td><td>0</td><td>10</td><td> 39</td><td>0</td><td>1236</td></tr>\n",
       "\t<tr><td>2003-06-09</td><td>229</td><td>10</td><td>9</td><td>206</td><td> 74</td><td>63</td><td>7082</td><td>2003-06-09</td><td>32</td><td>⋯</td><td>35</td><td>58</td><td>5552</td><td>69</td><td>1</td><td>0</td><td> 7</td><td> 39</td><td>0</td><td> 902</td></tr>\n",
       "\t<tr><td>2003-06-10</td><td>229</td><td>10</td><td>9</td><td>206</td><td> 74</td><td>63</td><td>7082</td><td>2003-06-10</td><td>32</td><td>⋯</td><td>36</td><td>58</td><td>5663</td><td>66</td><td>1</td><td>0</td><td> 7</td><td> 38</td><td>0</td><td> 786</td></tr>\n",
       "\t<tr><td>2003-06-11</td><td>230</td><td>10</td><td>9</td><td>206</td><td> 74</td><td>63</td><td>7082</td><td>2003-06-11</td><td>32</td><td>⋯</td><td>36</td><td>58</td><td>5759</td><td>64</td><td>1</td><td>0</td><td> 7</td><td> 38</td><td>0</td><td> 690</td></tr>\n",
       "\t<tr><td>2003-06-12</td><td>238</td><td>10</td><td>9</td><td>206</td><td> 75</td><td>63</td><td>7082</td><td>2003-06-12</td><td>32</td><td>⋯</td><td>36</td><td>58</td><td>5835</td><td>65</td><td>1</td><td>0</td><td> 6</td><td> 39</td><td>0</td><td> 613</td></tr>\n",
       "\t<tr><td>2003-06-13</td><td>242</td><td>10</td><td>9</td><td>206</td><td> 75</td><td>63</td><td>7082</td><td>2003-06-13</td><td>32</td><td>⋯</td><td>36</td><td>58</td><td>5911</td><td>60</td><td>1</td><td>0</td><td> 6</td><td> 39</td><td>0</td><td> 535</td></tr>\n",
       "\t<tr><td>2003-06-16</td><td>243</td><td>10</td><td>9</td><td>206</td><td> 75</td><td>63</td><td>7082</td><td>2003-06-16</td><td>32</td><td>⋯</td><td>36</td><td>58</td><td>6043</td><td>55</td><td>1</td><td>0</td><td> 6</td><td> 39</td><td>0</td><td> 398</td></tr>\n",
       "\t<tr><td>2003-06-17</td><td>245</td><td>10</td><td>9</td><td>206</td><td> 75</td><td>63</td><td>7082</td><td>2003-06-17</td><td>32</td><td>⋯</td><td>36</td><td>58</td><td>6113</td><td>42</td><td>1</td><td>0</td><td> 6</td><td> 39</td><td>0</td><td> 328</td></tr>\n",
       "\t<tr><td>2003-06-18</td><td>245</td><td>10</td><td>9</td><td>206</td><td> 75</td><td>63</td><td>7082</td><td>2003-06-18</td><td>33</td><td>⋯</td><td>36</td><td>58</td><td>6156</td><td>37</td><td>1</td><td>0</td><td> 6</td><td> 39</td><td>0</td><td> 284</td></tr>\n",
       "\t<tr><td>2003-06-19</td><td>246</td><td>10</td><td>9</td><td>206</td><td> 75</td><td>63</td><td>7083</td><td>2003-06-19</td><td>34</td><td>⋯</td><td>36</td><td>58</td><td>6183</td><td>36</td><td>1</td><td>0</td><td> 5</td><td> 39</td><td>0</td><td> 257</td></tr>\n",
       "\t<tr><td>2003-06-20</td><td>246</td><td>10</td><td>9</td><td>206</td><td> 75</td><td>63</td><td>7083</td><td>2003-06-20</td><td>34</td><td>⋯</td><td>36</td><td>58</td><td>6210</td><td>32</td><td>1</td><td>0</td><td> 5</td><td> 39</td><td>0</td><td> 230</td></tr>\n",
       "\t<tr><td>2003-06-23</td><td>247</td><td>10</td><td>9</td><td>206</td><td> 85</td><td>63</td><td>7083</td><td>2003-06-23</td><td>35</td><td>⋯</td><td>36</td><td>58</td><td>6307</td><td>30</td><td>1</td><td>0</td><td> 5</td><td> 49</td><td>0</td><td> 133</td></tr>\n",
       "\t<tr><td>2003-06-24</td><td>249</td><td>10</td><td>9</td><td>206</td><td>100</td><td>63</td><td>7083</td><td>2003-06-24</td><td>37</td><td>⋯</td><td>36</td><td>58</td><td>6319</td><td>24</td><td>1</td><td>0</td><td> 5</td><td> 64</td><td>0</td><td> 121</td></tr>\n",
       "\t<tr><td>2003-06-25</td><td>249</td><td>10</td><td>9</td><td>206</td><td>115</td><td>63</td><td>7083</td><td>2003-06-25</td><td>37</td><td>⋯</td><td>36</td><td>58</td><td>6336</td><td>24</td><td>1</td><td>0</td><td> 5</td><td> 79</td><td>0</td><td> 103</td></tr>\n",
       "\t<tr><td>2003-06-26</td><td>250</td><td>10</td><td>9</td><td>206</td><td>141</td><td>63</td><td>7083</td><td>2003-06-26</td><td>37</td><td>⋯</td><td>36</td><td>58</td><td>6341</td><td>23</td><td>1</td><td>0</td><td> 4</td><td>105</td><td>0</td><td>  98</td></tr>\n",
       "\t<tr><td>2003-06-27</td><td>250</td><td>10</td><td>9</td><td>206</td><td>148</td><td>63</td><td>7083</td><td>2003-06-27</td><td>37</td><td>⋯</td><td>63</td><td>58</td><td>6344</td><td>22</td><td>1</td><td>0</td><td> 3</td><td> 85</td><td>0</td><td>  94</td></tr>\n",
       "\t<tr><td>2003-06-30</td><td>250</td><td>10</td><td>9</td><td>206</td><td>149</td><td>63</td><td>7083</td><td>2003-06-30</td><td>37</td><td>⋯</td><td>63</td><td>58</td><td>6357</td><td>21</td><td>1</td><td>0</td><td> 3</td><td> 86</td><td>0</td><td>  80</td></tr>\n",
       "\t<tr><td>2003-07-01</td><td>250</td><td>10</td><td>9</td><td>206</td><td>154</td><td>63</td><td>7083</td><td>2003-07-01</td><td>38</td><td>⋯</td><td>63</td><td>58</td><td>6360</td><td>20</td><td>1</td><td>0</td><td> 3</td><td> 91</td><td>0</td><td>  77</td></tr>\n",
       "\t<tr><td>2003-07-02</td><td>251</td><td>10</td><td>9</td><td>206</td><td>166</td><td>63</td><td>7083</td><td>2003-07-02</td><td>38</td><td>⋯</td><td>64</td><td>58</td><td>6363</td><td>21</td><td>1</td><td>0</td><td> 3</td><td>102</td><td>0</td><td>  74</td></tr>\n",
       "\t<tr><td>2003-07-03</td><td>251</td><td>10</td><td>9</td><td>206</td><td>166</td><td>63</td><td>7083</td><td>2003-07-03</td><td>38</td><td>⋯</td><td>64</td><td>58</td><td>6363</td><td>20</td><td>1</td><td>0</td><td> 3</td><td>102</td><td>0</td><td>  74</td></tr>\n",
       "\t<tr><td>2003-07-04</td><td>251</td><td>10</td><td>9</td><td>206</td><td>174</td><td>63</td><td>7083</td><td>2003-07-04</td><td>38</td><td>⋯</td><td>65</td><td>58</td><td>6365</td><td>20</td><td>1</td><td>0</td><td> 3</td><td>109</td><td>0</td><td>  72</td></tr>\n",
       "\t<tr><td>2003-07-07</td><td>251</td><td>10</td><td>9</td><td>206</td><td>193</td><td>63</td><td>7083</td><td>2003-07-07</td><td>38</td><td>⋯</td><td>65</td><td>58</td><td>6365</td><td>20</td><td>1</td><td>0</td><td> 3</td><td>128</td><td>0</td><td>  72</td></tr>\n",
       "\t<tr><td>2003-07-08</td><td>251</td><td>10</td><td>9</td><td>206</td><td>193</td><td>63</td><td>7083</td><td>2003-07-08</td><td>38</td><td>⋯</td><td>65</td><td>58</td><td>6365</td><td>20</td><td>1</td><td>0</td><td> 3</td><td>128</td><td>0</td><td>  72</td></tr>\n",
       "\t<tr><td>2003-07-09</td><td>252</td><td>10</td><td>9</td><td>206</td><td>199</td><td>63</td><td>7083</td><td>2003-07-09</td><td>38</td><td>⋯</td><td>67</td><td>58</td><td>6371</td><td>20</td><td>1</td><td>0</td><td> 3</td><td>132</td><td>0</td><td>  66</td></tr>\n",
       "\t<tr><td>2003-07-10</td><td>252</td><td>10</td><td>9</td><td>206</td><td>220</td><td>63</td><td>7084</td><td>2003-07-10</td><td>38</td><td>⋯</td><td>67</td><td>58</td><td>6373</td><td>20</td><td>1</td><td>0</td><td> 2</td><td>153</td><td>0</td><td>  65</td></tr>\n",
       "\t<tr><td>2003-07-11</td><td>252</td><td>10</td><td>9</td><td>206</td><td>220</td><td>63</td><td>7084</td><td>2003-07-11</td><td>38</td><td>⋯</td><td>67</td><td>58</td><td>6375</td><td>20</td><td>1</td><td>0</td><td> 2</td><td>153</td><td>0</td><td>  63</td></tr>\n",
       "</tbody>\n",
       "</table>\n"
      ],
      "text/latex": [
       "A data.frame: 96 × 31\n",
       "\\begin{tabular}{lllllllllllllllllllll}\n",
       " DateC & CanadaC & GermanyC & ItalyC & SingaporeC & UnitedStatesC & VietnamC & ChinaC & DateD & CanadaD & ⋯ & UnitedStatesR & VietnamR & ChinaR & CanadaA & GermanyA & ItalyA & SingaporeA & UnitedStatesA & VietnamA & ChinaA\\\\\n",
       " <fct> & <int> & <int> & <int> & <int> & <int> & <int> & <int> & <fct> & <int> & ⋯ & <int> & <int> & <int> & <int> & <int> & <int> & <int> & <int> & <int> & <int>\\\\\n",
       "\\hline\n",
       "\t 2003-03-17 &   8 & 1 & 0 &  20 &  0 & 40 &   95 & 2003-03-17 &  2 & ⋯ & 0 &  0 &    0 &  6 & 1 & 0 &  20 &  0 & 39 &   94\\\\\n",
       "\t 2003-03-18 &   8 & 1 & 0 &  23 &  0 & 56 &  123 & 2003-03-18 &  2 & ⋯ & 0 &  0 &    0 &  6 & 1 & 0 &  23 &  0 & 55 &  122\\\\\n",
       "\t 2003-03-19 &   8 & 1 & 0 &  31 & 11 & 57 &  150 & 2003-03-19 &  2 & ⋯ & 0 &  0 &    0 &  6 & 1 & 0 &  31 & 11 & 55 &  145\\\\\n",
       "\t 2003-03-20 &   9 & 1 & 0 &  34 & 11 & 58 &  173 & 2003-03-20 &  2 & ⋯ & 0 &  0 &    0 &  7 & 1 & 0 &  34 & 11 & 56 &  167\\\\\n",
       "\t 2003-03-21 &   9 & 2 & 1 &  39 & 13 & 58 &  203 & 2003-03-21 &  2 & ⋯ & 0 &  0 &    0 &  7 & 2 & 1 &  39 & 13 & 56 &  197\\\\\n",
       "\t 2003-03-22 &   9 & 2 & 2 &  44 & 22 & 58 &  222 & 2003-03-22 &  2 & ⋯ & 0 &  0 &    0 &  7 & 2 & 2 &  44 & 22 & 56 &  215\\\\\n",
       "\t 2003-03-24 &  11 & 4 & 2 &  65 & 37 & 58 &  260 & 2003-03-24 &  3 & ⋯ & 0 &  0 &    0 &  8 & 4 & 2 &  65 & 37 & 54 &  250\\\\\n",
       "\t 2003-03-25 &  11 & 4 & 2 &  69 & 37 & 58 &  286 & 2003-03-25 &  3 & ⋯ & 0 &  0 &    0 &  8 & 4 & 2 &  69 & 37 & 54 &  276\\\\\n",
       "\t 2003-03-26 &  19 & 4 & 2 &  74 & 38 & 58 & 1108 & 2003-03-26 &  3 & ⋯ & 0 &  0 &    0 & 16 & 4 & 2 &  73 & 38 & 54 & 1067\\\\\n",
       "\t 2003-03-27 &  28 & 4 & 2 &  78 & 39 & 58 & 1173 & 2003-03-27 &  3 & ⋯ & 0 &  0 &    0 & 25 & 4 & 2 &  76 & 39 & 54 & 1129\\\\\n",
       "\t 2003-03-28 &  29 & 4 & 2 &  86 & 39 & 58 & 1231 & 2003-03-28 &  3 & ⋯ & 0 &  0 &    0 & 26 & 4 & 2 &  84 & 39 & 54 & 1187\\\\\n",
       "\t 2003-03-29 &  37 & 4 & 2 &  89 & 39 & 58 & 1276 & 2003-03-29 &  3 & ⋯ & 0 &  0 &    0 & 34 & 4 & 2 &  87 & 39 & 54 & 1232\\\\\n",
       "\t 2003-03-31 &  44 & 5 & 3 &  91 & 39 & 59 & 1336 & 2003-03-31 &  4 & ⋯ & 0 &  0 &    0 & 40 & 5 & 3 &  89 & 39 & 55 & 1289\\\\\n",
       "\t 2003-04-01 &  53 & 5 & 3 &  92 & 40 & 59 & 1491 & 2003-04-01 &  4 & ⋯ & 0 &  0 &    0 & 49 & 5 & 3 &  89 & 40 & 55 & 1441\\\\\n",
       "\t 2003-04-02 &  58 & 5 & 3 &  95 & 41 & 59 & 1898 & 2003-04-02 &  6 & ⋯ & 0 &  0 &    0 & 52 & 5 & 3 &  91 & 41 & 55 & 1836\\\\\n",
       "\t 2003-04-03 &  62 & 5 & 3 &  98 & 41 & 62 & 1924 & 2003-04-03 &  6 & ⋯ & 0 &  0 &    0 & 56 & 5 & 3 &  94 & 41 & 58 & 1861\\\\\n",
       "\t 2003-04-04 &  69 & 5 & 3 & 100 & 41 & 62 & 1981 & 2003-04-04 &  7 & ⋯ & 0 &  0 &    0 & 62 & 5 & 3 &  95 & 41 & 58 & 1915\\\\\n",
       "\t 2003-04-05 &  74 & 5 & 3 & 101 & 45 & 62 & 2020 & 2003-04-05 &  7 & ⋯ & 0 &  0 &    0 & 67 & 5 & 3 &  95 & 45 & 58 & 1951\\\\\n",
       "\t 2003-04-07 &  90 & 5 & 3 & 106 & 51 & 62 & 2151 & 2003-04-07 &  9 & ⋯ & 0 &  0 &    0 & 81 & 5 & 3 & 100 & 51 & 58 & 2075\\\\\n",
       "\t 2003-04-08 &  91 & 5 & 3 & 113 & 52 & 62 & 2207 & 2003-04-08 & 10 & ⋯ & 0 &  0 &    0 & 81 & 5 & 3 & 105 & 52 & 58 & 2129\\\\\n",
       "\t 2003-04-09 &  94 & 5 & 3 & 118 & 54 & 62 & 2250 & 2003-04-09 & 10 & ⋯ & 0 &  0 &    0 & 84 & 5 & 3 & 109 & 54 & 58 & 2170\\\\\n",
       "\t 2003-04-10 &  97 & 6 & 3 & 126 & 54 & 62 & 2288 & 2003-04-10 & 10 & ⋯ & 0 & 43 & 1179 & 65 & 4 & 2 &  42 & 54 & 15 & 1024\\\\\n",
       "\t 2003-04-11 &  98 & 6 & 3 & 133 & 56 & 62 & 2368 & 2003-04-11 & 10 & ⋯ & 0 & 43 & 1206 & 63 & 2 & 1 &  47 & 56 & 15 & 1072\\\\\n",
       "\t 2003-04-12 & 100 & 6 & 3 & 147 & 59 & 63 & 2479 & 2003-04-12 & 10 & ⋯ & 0 & 44 & 1298 & 64 & 2 & 1 &  61 & 59 & 15 & 1084\\\\\n",
       "\t 2003-04-14 & 100 & 6 & 3 & 158 & 59 & 63 & 2608 & 2003-04-14 & 12 & ⋯ & 0 & 46 & 1317 & 61 & 2 & 1 &  62 & 59 & 12 & 1180\\\\\n",
       "\t 2003-04-15 & 101 & 6 & 3 & 162 & 61 & 63 & 2650 & 2003-04-15 & 12 & ⋯ & 0 & 46 & 1331 & 62 & 2 & 1 &  64 & 61 & 12 & 1199\\\\\n",
       "\t 2003-04-16 & 103 & 6 & 3 & 162 & 63 & 63 & 2700 & 2003-04-16 & 12 & ⋯ & 0 & 46 & 1351 & 54 & 2 & 1 &  64 & 63 & 12 & 1224\\\\\n",
       "\t 2003-04-17 & 126 & 6 & 3 & 167 & 63 & 63 & 2754 & 2003-04-17 & 12 & ⋯ & 0 & 46 & 1379 & 68 & 2 & 1 &  61 & 63 & 12 & 1245\\\\\n",
       "\t 2003-04-18 & 132 & 6 & 3 & 177 & 64 & 63 & 2870 & 2003-04-18 & 13 & ⋯ & 0 & 46 & 1503 & 65 & 2 & 1 &  61 & 64 & 12 & 1221\\\\\n",
       "\t 2003-04-19 & 132 & 6 & 3 & 177 & 64 & 63 & 2870 & 2003-04-19 & 13 & ⋯ & 0 & 46 & 1503 & 65 & 2 & 1 &  61 & 64 & 12 & 1221\\\\\n",
       "\t ⋮ & ⋮ & ⋮ & ⋮ & ⋮ & ⋮ & ⋮ & ⋮ & ⋮ & ⋮ & ⋱ & ⋮ & ⋮ & ⋮ & ⋮ & ⋮ & ⋮ & ⋮ & ⋮ & ⋮ & ⋮\\\\\n",
       "\t 2003-06-02 & 198 & 10 & 9 & 206 &  73 & 63 & 7075 & 2003-06-02 & 30 & ⋯ & 34 & 58 & 4815 & 52 & 1 & 0 & 10 &  39 & 0 & 1644\\\\\n",
       "\t 2003-06-03 & 213 & 10 & 9 & 206 &  73 & 63 & 7077 & 2003-06-03 & 31 & ⋯ & 35 & 58 & 4885 & 66 & 1 & 0 & 10 &  38 & 0 & 1575\\\\\n",
       "\t 2003-06-04 & 216 & 10 & 9 & 206 &  73 & 63 & 7078 & 2003-06-04 & 31 & ⋯ & 35 & 58 & 5014 & 65 & 1 & 0 & 10 &  38 & 0 & 1447\\\\\n",
       "\t 2003-06-05 & 218 & 10 & 9 & 206 &  74 & 63 & 7078 & 2003-06-05 & 31 & ⋯ & 35 & 58 & 5114 & 67 & 1 & 0 & 10 &  39 & 0 & 1344\\\\\n",
       "\t 2003-06-06 & 219 & 10 & 9 & 206 &  74 & 63 & 7080 & 2003-06-06 & 31 & ⋯ & 35 & 58 & 5220 & 67 & 1 & 0 & 10 &  39 & 0 & 1236\\\\\n",
       "\t 2003-06-09 & 229 & 10 & 9 & 206 &  74 & 63 & 7082 & 2003-06-09 & 32 & ⋯ & 35 & 58 & 5552 & 69 & 1 & 0 &  7 &  39 & 0 &  902\\\\\n",
       "\t 2003-06-10 & 229 & 10 & 9 & 206 &  74 & 63 & 7082 & 2003-06-10 & 32 & ⋯ & 36 & 58 & 5663 & 66 & 1 & 0 &  7 &  38 & 0 &  786\\\\\n",
       "\t 2003-06-11 & 230 & 10 & 9 & 206 &  74 & 63 & 7082 & 2003-06-11 & 32 & ⋯ & 36 & 58 & 5759 & 64 & 1 & 0 &  7 &  38 & 0 &  690\\\\\n",
       "\t 2003-06-12 & 238 & 10 & 9 & 206 &  75 & 63 & 7082 & 2003-06-12 & 32 & ⋯ & 36 & 58 & 5835 & 65 & 1 & 0 &  6 &  39 & 0 &  613\\\\\n",
       "\t 2003-06-13 & 242 & 10 & 9 & 206 &  75 & 63 & 7082 & 2003-06-13 & 32 & ⋯ & 36 & 58 & 5911 & 60 & 1 & 0 &  6 &  39 & 0 &  535\\\\\n",
       "\t 2003-06-16 & 243 & 10 & 9 & 206 &  75 & 63 & 7082 & 2003-06-16 & 32 & ⋯ & 36 & 58 & 6043 & 55 & 1 & 0 &  6 &  39 & 0 &  398\\\\\n",
       "\t 2003-06-17 & 245 & 10 & 9 & 206 &  75 & 63 & 7082 & 2003-06-17 & 32 & ⋯ & 36 & 58 & 6113 & 42 & 1 & 0 &  6 &  39 & 0 &  328\\\\\n",
       "\t 2003-06-18 & 245 & 10 & 9 & 206 &  75 & 63 & 7082 & 2003-06-18 & 33 & ⋯ & 36 & 58 & 6156 & 37 & 1 & 0 &  6 &  39 & 0 &  284\\\\\n",
       "\t 2003-06-19 & 246 & 10 & 9 & 206 &  75 & 63 & 7083 & 2003-06-19 & 34 & ⋯ & 36 & 58 & 6183 & 36 & 1 & 0 &  5 &  39 & 0 &  257\\\\\n",
       "\t 2003-06-20 & 246 & 10 & 9 & 206 &  75 & 63 & 7083 & 2003-06-20 & 34 & ⋯ & 36 & 58 & 6210 & 32 & 1 & 0 &  5 &  39 & 0 &  230\\\\\n",
       "\t 2003-06-23 & 247 & 10 & 9 & 206 &  85 & 63 & 7083 & 2003-06-23 & 35 & ⋯ & 36 & 58 & 6307 & 30 & 1 & 0 &  5 &  49 & 0 &  133\\\\\n",
       "\t 2003-06-24 & 249 & 10 & 9 & 206 & 100 & 63 & 7083 & 2003-06-24 & 37 & ⋯ & 36 & 58 & 6319 & 24 & 1 & 0 &  5 &  64 & 0 &  121\\\\\n",
       "\t 2003-06-25 & 249 & 10 & 9 & 206 & 115 & 63 & 7083 & 2003-06-25 & 37 & ⋯ & 36 & 58 & 6336 & 24 & 1 & 0 &  5 &  79 & 0 &  103\\\\\n",
       "\t 2003-06-26 & 250 & 10 & 9 & 206 & 141 & 63 & 7083 & 2003-06-26 & 37 & ⋯ & 36 & 58 & 6341 & 23 & 1 & 0 &  4 & 105 & 0 &   98\\\\\n",
       "\t 2003-06-27 & 250 & 10 & 9 & 206 & 148 & 63 & 7083 & 2003-06-27 & 37 & ⋯ & 63 & 58 & 6344 & 22 & 1 & 0 &  3 &  85 & 0 &   94\\\\\n",
       "\t 2003-06-30 & 250 & 10 & 9 & 206 & 149 & 63 & 7083 & 2003-06-30 & 37 & ⋯ & 63 & 58 & 6357 & 21 & 1 & 0 &  3 &  86 & 0 &   80\\\\\n",
       "\t 2003-07-01 & 250 & 10 & 9 & 206 & 154 & 63 & 7083 & 2003-07-01 & 38 & ⋯ & 63 & 58 & 6360 & 20 & 1 & 0 &  3 &  91 & 0 &   77\\\\\n",
       "\t 2003-07-02 & 251 & 10 & 9 & 206 & 166 & 63 & 7083 & 2003-07-02 & 38 & ⋯ & 64 & 58 & 6363 & 21 & 1 & 0 &  3 & 102 & 0 &   74\\\\\n",
       "\t 2003-07-03 & 251 & 10 & 9 & 206 & 166 & 63 & 7083 & 2003-07-03 & 38 & ⋯ & 64 & 58 & 6363 & 20 & 1 & 0 &  3 & 102 & 0 &   74\\\\\n",
       "\t 2003-07-04 & 251 & 10 & 9 & 206 & 174 & 63 & 7083 & 2003-07-04 & 38 & ⋯ & 65 & 58 & 6365 & 20 & 1 & 0 &  3 & 109 & 0 &   72\\\\\n",
       "\t 2003-07-07 & 251 & 10 & 9 & 206 & 193 & 63 & 7083 & 2003-07-07 & 38 & ⋯ & 65 & 58 & 6365 & 20 & 1 & 0 &  3 & 128 & 0 &   72\\\\\n",
       "\t 2003-07-08 & 251 & 10 & 9 & 206 & 193 & 63 & 7083 & 2003-07-08 & 38 & ⋯ & 65 & 58 & 6365 & 20 & 1 & 0 &  3 & 128 & 0 &   72\\\\\n",
       "\t 2003-07-09 & 252 & 10 & 9 & 206 & 199 & 63 & 7083 & 2003-07-09 & 38 & ⋯ & 67 & 58 & 6371 & 20 & 1 & 0 &  3 & 132 & 0 &   66\\\\\n",
       "\t 2003-07-10 & 252 & 10 & 9 & 206 & 220 & 63 & 7084 & 2003-07-10 & 38 & ⋯ & 67 & 58 & 6373 & 20 & 1 & 0 &  2 & 153 & 0 &   65\\\\\n",
       "\t 2003-07-11 & 252 & 10 & 9 & 206 & 220 & 63 & 7084 & 2003-07-11 & 38 & ⋯ & 67 & 58 & 6375 & 20 & 1 & 0 &  2 & 153 & 0 &   63\\\\\n",
       "\\end{tabular}\n"
      ],
      "text/markdown": [
       "\n",
       "A data.frame: 96 × 31\n",
       "\n",
       "| DateC &lt;fct&gt; | CanadaC &lt;int&gt; | GermanyC &lt;int&gt; | ItalyC &lt;int&gt; | SingaporeC &lt;int&gt; | UnitedStatesC &lt;int&gt; | VietnamC &lt;int&gt; | ChinaC &lt;int&gt; | DateD &lt;fct&gt; | CanadaD &lt;int&gt; | ⋯ ⋯ | UnitedStatesR &lt;int&gt; | VietnamR &lt;int&gt; | ChinaR &lt;int&gt; | CanadaA &lt;int&gt; | GermanyA &lt;int&gt; | ItalyA &lt;int&gt; | SingaporeA &lt;int&gt; | UnitedStatesA &lt;int&gt; | VietnamA &lt;int&gt; | ChinaA &lt;int&gt; |\n",
       "|---|---|---|---|---|---|---|---|---|---|---|---|---|---|---|---|---|---|---|---|---|\n",
       "| 2003-03-17 |   8 | 1 | 0 |  20 |  0 | 40 |   95 | 2003-03-17 |  2 | ⋯ | 0 |  0 |    0 |  6 | 1 | 0 |  20 |  0 | 39 |   94 |\n",
       "| 2003-03-18 |   8 | 1 | 0 |  23 |  0 | 56 |  123 | 2003-03-18 |  2 | ⋯ | 0 |  0 |    0 |  6 | 1 | 0 |  23 |  0 | 55 |  122 |\n",
       "| 2003-03-19 |   8 | 1 | 0 |  31 | 11 | 57 |  150 | 2003-03-19 |  2 | ⋯ | 0 |  0 |    0 |  6 | 1 | 0 |  31 | 11 | 55 |  145 |\n",
       "| 2003-03-20 |   9 | 1 | 0 |  34 | 11 | 58 |  173 | 2003-03-20 |  2 | ⋯ | 0 |  0 |    0 |  7 | 1 | 0 |  34 | 11 | 56 |  167 |\n",
       "| 2003-03-21 |   9 | 2 | 1 |  39 | 13 | 58 |  203 | 2003-03-21 |  2 | ⋯ | 0 |  0 |    0 |  7 | 2 | 1 |  39 | 13 | 56 |  197 |\n",
       "| 2003-03-22 |   9 | 2 | 2 |  44 | 22 | 58 |  222 | 2003-03-22 |  2 | ⋯ | 0 |  0 |    0 |  7 | 2 | 2 |  44 | 22 | 56 |  215 |\n",
       "| 2003-03-24 |  11 | 4 | 2 |  65 | 37 | 58 |  260 | 2003-03-24 |  3 | ⋯ | 0 |  0 |    0 |  8 | 4 | 2 |  65 | 37 | 54 |  250 |\n",
       "| 2003-03-25 |  11 | 4 | 2 |  69 | 37 | 58 |  286 | 2003-03-25 |  3 | ⋯ | 0 |  0 |    0 |  8 | 4 | 2 |  69 | 37 | 54 |  276 |\n",
       "| 2003-03-26 |  19 | 4 | 2 |  74 | 38 | 58 | 1108 | 2003-03-26 |  3 | ⋯ | 0 |  0 |    0 | 16 | 4 | 2 |  73 | 38 | 54 | 1067 |\n",
       "| 2003-03-27 |  28 | 4 | 2 |  78 | 39 | 58 | 1173 | 2003-03-27 |  3 | ⋯ | 0 |  0 |    0 | 25 | 4 | 2 |  76 | 39 | 54 | 1129 |\n",
       "| 2003-03-28 |  29 | 4 | 2 |  86 | 39 | 58 | 1231 | 2003-03-28 |  3 | ⋯ | 0 |  0 |    0 | 26 | 4 | 2 |  84 | 39 | 54 | 1187 |\n",
       "| 2003-03-29 |  37 | 4 | 2 |  89 | 39 | 58 | 1276 | 2003-03-29 |  3 | ⋯ | 0 |  0 |    0 | 34 | 4 | 2 |  87 | 39 | 54 | 1232 |\n",
       "| 2003-03-31 |  44 | 5 | 3 |  91 | 39 | 59 | 1336 | 2003-03-31 |  4 | ⋯ | 0 |  0 |    0 | 40 | 5 | 3 |  89 | 39 | 55 | 1289 |\n",
       "| 2003-04-01 |  53 | 5 | 3 |  92 | 40 | 59 | 1491 | 2003-04-01 |  4 | ⋯ | 0 |  0 |    0 | 49 | 5 | 3 |  89 | 40 | 55 | 1441 |\n",
       "| 2003-04-02 |  58 | 5 | 3 |  95 | 41 | 59 | 1898 | 2003-04-02 |  6 | ⋯ | 0 |  0 |    0 | 52 | 5 | 3 |  91 | 41 | 55 | 1836 |\n",
       "| 2003-04-03 |  62 | 5 | 3 |  98 | 41 | 62 | 1924 | 2003-04-03 |  6 | ⋯ | 0 |  0 |    0 | 56 | 5 | 3 |  94 | 41 | 58 | 1861 |\n",
       "| 2003-04-04 |  69 | 5 | 3 | 100 | 41 | 62 | 1981 | 2003-04-04 |  7 | ⋯ | 0 |  0 |    0 | 62 | 5 | 3 |  95 | 41 | 58 | 1915 |\n",
       "| 2003-04-05 |  74 | 5 | 3 | 101 | 45 | 62 | 2020 | 2003-04-05 |  7 | ⋯ | 0 |  0 |    0 | 67 | 5 | 3 |  95 | 45 | 58 | 1951 |\n",
       "| 2003-04-07 |  90 | 5 | 3 | 106 | 51 | 62 | 2151 | 2003-04-07 |  9 | ⋯ | 0 |  0 |    0 | 81 | 5 | 3 | 100 | 51 | 58 | 2075 |\n",
       "| 2003-04-08 |  91 | 5 | 3 | 113 | 52 | 62 | 2207 | 2003-04-08 | 10 | ⋯ | 0 |  0 |    0 | 81 | 5 | 3 | 105 | 52 | 58 | 2129 |\n",
       "| 2003-04-09 |  94 | 5 | 3 | 118 | 54 | 62 | 2250 | 2003-04-09 | 10 | ⋯ | 0 |  0 |    0 | 84 | 5 | 3 | 109 | 54 | 58 | 2170 |\n",
       "| 2003-04-10 |  97 | 6 | 3 | 126 | 54 | 62 | 2288 | 2003-04-10 | 10 | ⋯ | 0 | 43 | 1179 | 65 | 4 | 2 |  42 | 54 | 15 | 1024 |\n",
       "| 2003-04-11 |  98 | 6 | 3 | 133 | 56 | 62 | 2368 | 2003-04-11 | 10 | ⋯ | 0 | 43 | 1206 | 63 | 2 | 1 |  47 | 56 | 15 | 1072 |\n",
       "| 2003-04-12 | 100 | 6 | 3 | 147 | 59 | 63 | 2479 | 2003-04-12 | 10 | ⋯ | 0 | 44 | 1298 | 64 | 2 | 1 |  61 | 59 | 15 | 1084 |\n",
       "| 2003-04-14 | 100 | 6 | 3 | 158 | 59 | 63 | 2608 | 2003-04-14 | 12 | ⋯ | 0 | 46 | 1317 | 61 | 2 | 1 |  62 | 59 | 12 | 1180 |\n",
       "| 2003-04-15 | 101 | 6 | 3 | 162 | 61 | 63 | 2650 | 2003-04-15 | 12 | ⋯ | 0 | 46 | 1331 | 62 | 2 | 1 |  64 | 61 | 12 | 1199 |\n",
       "| 2003-04-16 | 103 | 6 | 3 | 162 | 63 | 63 | 2700 | 2003-04-16 | 12 | ⋯ | 0 | 46 | 1351 | 54 | 2 | 1 |  64 | 63 | 12 | 1224 |\n",
       "| 2003-04-17 | 126 | 6 | 3 | 167 | 63 | 63 | 2754 | 2003-04-17 | 12 | ⋯ | 0 | 46 | 1379 | 68 | 2 | 1 |  61 | 63 | 12 | 1245 |\n",
       "| 2003-04-18 | 132 | 6 | 3 | 177 | 64 | 63 | 2870 | 2003-04-18 | 13 | ⋯ | 0 | 46 | 1503 | 65 | 2 | 1 |  61 | 64 | 12 | 1221 |\n",
       "| 2003-04-19 | 132 | 6 | 3 | 177 | 64 | 63 | 2870 | 2003-04-19 | 13 | ⋯ | 0 | 46 | 1503 | 65 | 2 | 1 |  61 | 64 | 12 | 1221 |\n",
       "| ⋮ | ⋮ | ⋮ | ⋮ | ⋮ | ⋮ | ⋮ | ⋮ | ⋮ | ⋮ | ⋱ | ⋮ | ⋮ | ⋮ | ⋮ | ⋮ | ⋮ | ⋮ | ⋮ | ⋮ | ⋮ |\n",
       "| 2003-06-02 | 198 | 10 | 9 | 206 |  73 | 63 | 7075 | 2003-06-02 | 30 | ⋯ | 34 | 58 | 4815 | 52 | 1 | 0 | 10 |  39 | 0 | 1644 |\n",
       "| 2003-06-03 | 213 | 10 | 9 | 206 |  73 | 63 | 7077 | 2003-06-03 | 31 | ⋯ | 35 | 58 | 4885 | 66 | 1 | 0 | 10 |  38 | 0 | 1575 |\n",
       "| 2003-06-04 | 216 | 10 | 9 | 206 |  73 | 63 | 7078 | 2003-06-04 | 31 | ⋯ | 35 | 58 | 5014 | 65 | 1 | 0 | 10 |  38 | 0 | 1447 |\n",
       "| 2003-06-05 | 218 | 10 | 9 | 206 |  74 | 63 | 7078 | 2003-06-05 | 31 | ⋯ | 35 | 58 | 5114 | 67 | 1 | 0 | 10 |  39 | 0 | 1344 |\n",
       "| 2003-06-06 | 219 | 10 | 9 | 206 |  74 | 63 | 7080 | 2003-06-06 | 31 | ⋯ | 35 | 58 | 5220 | 67 | 1 | 0 | 10 |  39 | 0 | 1236 |\n",
       "| 2003-06-09 | 229 | 10 | 9 | 206 |  74 | 63 | 7082 | 2003-06-09 | 32 | ⋯ | 35 | 58 | 5552 | 69 | 1 | 0 |  7 |  39 | 0 |  902 |\n",
       "| 2003-06-10 | 229 | 10 | 9 | 206 |  74 | 63 | 7082 | 2003-06-10 | 32 | ⋯ | 36 | 58 | 5663 | 66 | 1 | 0 |  7 |  38 | 0 |  786 |\n",
       "| 2003-06-11 | 230 | 10 | 9 | 206 |  74 | 63 | 7082 | 2003-06-11 | 32 | ⋯ | 36 | 58 | 5759 | 64 | 1 | 0 |  7 |  38 | 0 |  690 |\n",
       "| 2003-06-12 | 238 | 10 | 9 | 206 |  75 | 63 | 7082 | 2003-06-12 | 32 | ⋯ | 36 | 58 | 5835 | 65 | 1 | 0 |  6 |  39 | 0 |  613 |\n",
       "| 2003-06-13 | 242 | 10 | 9 | 206 |  75 | 63 | 7082 | 2003-06-13 | 32 | ⋯ | 36 | 58 | 5911 | 60 | 1 | 0 |  6 |  39 | 0 |  535 |\n",
       "| 2003-06-16 | 243 | 10 | 9 | 206 |  75 | 63 | 7082 | 2003-06-16 | 32 | ⋯ | 36 | 58 | 6043 | 55 | 1 | 0 |  6 |  39 | 0 |  398 |\n",
       "| 2003-06-17 | 245 | 10 | 9 | 206 |  75 | 63 | 7082 | 2003-06-17 | 32 | ⋯ | 36 | 58 | 6113 | 42 | 1 | 0 |  6 |  39 | 0 |  328 |\n",
       "| 2003-06-18 | 245 | 10 | 9 | 206 |  75 | 63 | 7082 | 2003-06-18 | 33 | ⋯ | 36 | 58 | 6156 | 37 | 1 | 0 |  6 |  39 | 0 |  284 |\n",
       "| 2003-06-19 | 246 | 10 | 9 | 206 |  75 | 63 | 7083 | 2003-06-19 | 34 | ⋯ | 36 | 58 | 6183 | 36 | 1 | 0 |  5 |  39 | 0 |  257 |\n",
       "| 2003-06-20 | 246 | 10 | 9 | 206 |  75 | 63 | 7083 | 2003-06-20 | 34 | ⋯ | 36 | 58 | 6210 | 32 | 1 | 0 |  5 |  39 | 0 |  230 |\n",
       "| 2003-06-23 | 247 | 10 | 9 | 206 |  85 | 63 | 7083 | 2003-06-23 | 35 | ⋯ | 36 | 58 | 6307 | 30 | 1 | 0 |  5 |  49 | 0 |  133 |\n",
       "| 2003-06-24 | 249 | 10 | 9 | 206 | 100 | 63 | 7083 | 2003-06-24 | 37 | ⋯ | 36 | 58 | 6319 | 24 | 1 | 0 |  5 |  64 | 0 |  121 |\n",
       "| 2003-06-25 | 249 | 10 | 9 | 206 | 115 | 63 | 7083 | 2003-06-25 | 37 | ⋯ | 36 | 58 | 6336 | 24 | 1 | 0 |  5 |  79 | 0 |  103 |\n",
       "| 2003-06-26 | 250 | 10 | 9 | 206 | 141 | 63 | 7083 | 2003-06-26 | 37 | ⋯ | 36 | 58 | 6341 | 23 | 1 | 0 |  4 | 105 | 0 |   98 |\n",
       "| 2003-06-27 | 250 | 10 | 9 | 206 | 148 | 63 | 7083 | 2003-06-27 | 37 | ⋯ | 63 | 58 | 6344 | 22 | 1 | 0 |  3 |  85 | 0 |   94 |\n",
       "| 2003-06-30 | 250 | 10 | 9 | 206 | 149 | 63 | 7083 | 2003-06-30 | 37 | ⋯ | 63 | 58 | 6357 | 21 | 1 | 0 |  3 |  86 | 0 |   80 |\n",
       "| 2003-07-01 | 250 | 10 | 9 | 206 | 154 | 63 | 7083 | 2003-07-01 | 38 | ⋯ | 63 | 58 | 6360 | 20 | 1 | 0 |  3 |  91 | 0 |   77 |\n",
       "| 2003-07-02 | 251 | 10 | 9 | 206 | 166 | 63 | 7083 | 2003-07-02 | 38 | ⋯ | 64 | 58 | 6363 | 21 | 1 | 0 |  3 | 102 | 0 |   74 |\n",
       "| 2003-07-03 | 251 | 10 | 9 | 206 | 166 | 63 | 7083 | 2003-07-03 | 38 | ⋯ | 64 | 58 | 6363 | 20 | 1 | 0 |  3 | 102 | 0 |   74 |\n",
       "| 2003-07-04 | 251 | 10 | 9 | 206 | 174 | 63 | 7083 | 2003-07-04 | 38 | ⋯ | 65 | 58 | 6365 | 20 | 1 | 0 |  3 | 109 | 0 |   72 |\n",
       "| 2003-07-07 | 251 | 10 | 9 | 206 | 193 | 63 | 7083 | 2003-07-07 | 38 | ⋯ | 65 | 58 | 6365 | 20 | 1 | 0 |  3 | 128 | 0 |   72 |\n",
       "| 2003-07-08 | 251 | 10 | 9 | 206 | 193 | 63 | 7083 | 2003-07-08 | 38 | ⋯ | 65 | 58 | 6365 | 20 | 1 | 0 |  3 | 128 | 0 |   72 |\n",
       "| 2003-07-09 | 252 | 10 | 9 | 206 | 199 | 63 | 7083 | 2003-07-09 | 38 | ⋯ | 67 | 58 | 6371 | 20 | 1 | 0 |  3 | 132 | 0 |   66 |\n",
       "| 2003-07-10 | 252 | 10 | 9 | 206 | 220 | 63 | 7084 | 2003-07-10 | 38 | ⋯ | 67 | 58 | 6373 | 20 | 1 | 0 |  2 | 153 | 0 |   65 |\n",
       "| 2003-07-11 | 252 | 10 | 9 | 206 | 220 | 63 | 7084 | 2003-07-11 | 38 | ⋯ | 67 | 58 | 6375 | 20 | 1 | 0 |  2 | 153 | 0 |   63 |\n",
       "\n"
      ],
      "text/plain": [
       "   DateC      CanadaC GermanyC ItalyC SingaporeC UnitedStatesC VietnamC ChinaC\n",
       "1  2003-03-17   8     1        0       20         0            40         95  \n",
       "2  2003-03-18   8     1        0       23         0            56        123  \n",
       "3  2003-03-19   8     1        0       31        11            57        150  \n",
       "4  2003-03-20   9     1        0       34        11            58        173  \n",
       "5  2003-03-21   9     2        1       39        13            58        203  \n",
       "6  2003-03-22   9     2        2       44        22            58        222  \n",
       "7  2003-03-24  11     4        2       65        37            58        260  \n",
       "8  2003-03-25  11     4        2       69        37            58        286  \n",
       "9  2003-03-26  19     4        2       74        38            58       1108  \n",
       "10 2003-03-27  28     4        2       78        39            58       1173  \n",
       "11 2003-03-28  29     4        2       86        39            58       1231  \n",
       "12 2003-03-29  37     4        2       89        39            58       1276  \n",
       "13 2003-03-31  44     5        3       91        39            59       1336  \n",
       "14 2003-04-01  53     5        3       92        40            59       1491  \n",
       "15 2003-04-02  58     5        3       95        41            59       1898  \n",
       "16 2003-04-03  62     5        3       98        41            62       1924  \n",
       "17 2003-04-04  69     5        3      100        41            62       1981  \n",
       "18 2003-04-05  74     5        3      101        45            62       2020  \n",
       "19 2003-04-07  90     5        3      106        51            62       2151  \n",
       "20 2003-04-08  91     5        3      113        52            62       2207  \n",
       "21 2003-04-09  94     5        3      118        54            62       2250  \n",
       "22 2003-04-10  97     6        3      126        54            62       2288  \n",
       "23 2003-04-11  98     6        3      133        56            62       2368  \n",
       "24 2003-04-12 100     6        3      147        59            63       2479  \n",
       "25 2003-04-14 100     6        3      158        59            63       2608  \n",
       "26 2003-04-15 101     6        3      162        61            63       2650  \n",
       "27 2003-04-16 103     6        3      162        63            63       2700  \n",
       "28 2003-04-17 126     6        3      167        63            63       2754  \n",
       "29 2003-04-18 132     6        3      177        64            63       2870  \n",
       "30 2003-04-19 132     6        3      177        64            63       2870  \n",
       "⋮  ⋮          ⋮       ⋮        ⋮      ⋮          ⋮             ⋮        ⋮     \n",
       "67 2003-06-02 198     10       9      206         73           63       7075  \n",
       "68 2003-06-03 213     10       9      206         73           63       7077  \n",
       "69 2003-06-04 216     10       9      206         73           63       7078  \n",
       "70 2003-06-05 218     10       9      206         74           63       7078  \n",
       "71 2003-06-06 219     10       9      206         74           63       7080  \n",
       "72 2003-06-09 229     10       9      206         74           63       7082  \n",
       "73 2003-06-10 229     10       9      206         74           63       7082  \n",
       "74 2003-06-11 230     10       9      206         74           63       7082  \n",
       "75 2003-06-12 238     10       9      206         75           63       7082  \n",
       "76 2003-06-13 242     10       9      206         75           63       7082  \n",
       "77 2003-06-16 243     10       9      206         75           63       7082  \n",
       "78 2003-06-17 245     10       9      206         75           63       7082  \n",
       "79 2003-06-18 245     10       9      206         75           63       7082  \n",
       "80 2003-06-19 246     10       9      206         75           63       7083  \n",
       "81 2003-06-20 246     10       9      206         75           63       7083  \n",
       "82 2003-06-23 247     10       9      206         85           63       7083  \n",
       "83 2003-06-24 249     10       9      206        100           63       7083  \n",
       "84 2003-06-25 249     10       9      206        115           63       7083  \n",
       "85 2003-06-26 250     10       9      206        141           63       7083  \n",
       "86 2003-06-27 250     10       9      206        148           63       7083  \n",
       "87 2003-06-30 250     10       9      206        149           63       7083  \n",
       "88 2003-07-01 250     10       9      206        154           63       7083  \n",
       "89 2003-07-02 251     10       9      206        166           63       7083  \n",
       "90 2003-07-03 251     10       9      206        166           63       7083  \n",
       "91 2003-07-04 251     10       9      206        174           63       7083  \n",
       "92 2003-07-07 251     10       9      206        193           63       7083  \n",
       "93 2003-07-08 251     10       9      206        193           63       7083  \n",
       "94 2003-07-09 252     10       9      206        199           63       7083  \n",
       "95 2003-07-10 252     10       9      206        220           63       7084  \n",
       "96 2003-07-11 252     10       9      206        220           63       7084  \n",
       "   DateD      CanadaD ⋯ UnitedStatesR VietnamR ChinaR CanadaA GermanyA ItalyA\n",
       "1  2003-03-17  2      ⋯ 0              0          0    6      1        0     \n",
       "2  2003-03-18  2      ⋯ 0              0          0    6      1        0     \n",
       "3  2003-03-19  2      ⋯ 0              0          0    6      1        0     \n",
       "4  2003-03-20  2      ⋯ 0              0          0    7      1        0     \n",
       "5  2003-03-21  2      ⋯ 0              0          0    7      2        1     \n",
       "6  2003-03-22  2      ⋯ 0              0          0    7      2        2     \n",
       "7  2003-03-24  3      ⋯ 0              0          0    8      4        2     \n",
       "8  2003-03-25  3      ⋯ 0              0          0    8      4        2     \n",
       "9  2003-03-26  3      ⋯ 0              0          0   16      4        2     \n",
       "10 2003-03-27  3      ⋯ 0              0          0   25      4        2     \n",
       "11 2003-03-28  3      ⋯ 0              0          0   26      4        2     \n",
       "12 2003-03-29  3      ⋯ 0              0          0   34      4        2     \n",
       "13 2003-03-31  4      ⋯ 0              0          0   40      5        3     \n",
       "14 2003-04-01  4      ⋯ 0              0          0   49      5        3     \n",
       "15 2003-04-02  6      ⋯ 0              0          0   52      5        3     \n",
       "16 2003-04-03  6      ⋯ 0              0          0   56      5        3     \n",
       "17 2003-04-04  7      ⋯ 0              0          0   62      5        3     \n",
       "18 2003-04-05  7      ⋯ 0              0          0   67      5        3     \n",
       "19 2003-04-07  9      ⋯ 0              0          0   81      5        3     \n",
       "20 2003-04-08 10      ⋯ 0              0          0   81      5        3     \n",
       "21 2003-04-09 10      ⋯ 0              0          0   84      5        3     \n",
       "22 2003-04-10 10      ⋯ 0             43       1179   65      4        2     \n",
       "23 2003-04-11 10      ⋯ 0             43       1206   63      2        1     \n",
       "24 2003-04-12 10      ⋯ 0             44       1298   64      2        1     \n",
       "25 2003-04-14 12      ⋯ 0             46       1317   61      2        1     \n",
       "26 2003-04-15 12      ⋯ 0             46       1331   62      2        1     \n",
       "27 2003-04-16 12      ⋯ 0             46       1351   54      2        1     \n",
       "28 2003-04-17 12      ⋯ 0             46       1379   68      2        1     \n",
       "29 2003-04-18 13      ⋯ 0             46       1503   65      2        1     \n",
       "30 2003-04-19 13      ⋯ 0             46       1503   65      2        1     \n",
       "⋮  ⋮          ⋮       ⋱ ⋮             ⋮        ⋮      ⋮       ⋮        ⋮     \n",
       "67 2003-06-02 30      ⋯ 34            58       4815   52      1        0     \n",
       "68 2003-06-03 31      ⋯ 35            58       4885   66      1        0     \n",
       "69 2003-06-04 31      ⋯ 35            58       5014   65      1        0     \n",
       "70 2003-06-05 31      ⋯ 35            58       5114   67      1        0     \n",
       "71 2003-06-06 31      ⋯ 35            58       5220   67      1        0     \n",
       "72 2003-06-09 32      ⋯ 35            58       5552   69      1        0     \n",
       "73 2003-06-10 32      ⋯ 36            58       5663   66      1        0     \n",
       "74 2003-06-11 32      ⋯ 36            58       5759   64      1        0     \n",
       "75 2003-06-12 32      ⋯ 36            58       5835   65      1        0     \n",
       "76 2003-06-13 32      ⋯ 36            58       5911   60      1        0     \n",
       "77 2003-06-16 32      ⋯ 36            58       6043   55      1        0     \n",
       "78 2003-06-17 32      ⋯ 36            58       6113   42      1        0     \n",
       "79 2003-06-18 33      ⋯ 36            58       6156   37      1        0     \n",
       "80 2003-06-19 34      ⋯ 36            58       6183   36      1        0     \n",
       "81 2003-06-20 34      ⋯ 36            58       6210   32      1        0     \n",
       "82 2003-06-23 35      ⋯ 36            58       6307   30      1        0     \n",
       "83 2003-06-24 37      ⋯ 36            58       6319   24      1        0     \n",
       "84 2003-06-25 37      ⋯ 36            58       6336   24      1        0     \n",
       "85 2003-06-26 37      ⋯ 36            58       6341   23      1        0     \n",
       "86 2003-06-27 37      ⋯ 63            58       6344   22      1        0     \n",
       "87 2003-06-30 37      ⋯ 63            58       6357   21      1        0     \n",
       "88 2003-07-01 38      ⋯ 63            58       6360   20      1        0     \n",
       "89 2003-07-02 38      ⋯ 64            58       6363   21      1        0     \n",
       "90 2003-07-03 38      ⋯ 64            58       6363   20      1        0     \n",
       "91 2003-07-04 38      ⋯ 65            58       6365   20      1        0     \n",
       "92 2003-07-07 38      ⋯ 65            58       6365   20      1        0     \n",
       "93 2003-07-08 38      ⋯ 65            58       6365   20      1        0     \n",
       "94 2003-07-09 38      ⋯ 67            58       6371   20      1        0     \n",
       "95 2003-07-10 38      ⋯ 67            58       6373   20      1        0     \n",
       "96 2003-07-11 38      ⋯ 67            58       6375   20      1        0     \n",
       "   SingaporeA UnitedStatesA VietnamA ChinaA\n",
       "1   20         0            39         94  \n",
       "2   23         0            55        122  \n",
       "3   31        11            55        145  \n",
       "4   34        11            56        167  \n",
       "5   39        13            56        197  \n",
       "6   44        22            56        215  \n",
       "7   65        37            54        250  \n",
       "8   69        37            54        276  \n",
       "9   73        38            54       1067  \n",
       "10  76        39            54       1129  \n",
       "11  84        39            54       1187  \n",
       "12  87        39            54       1232  \n",
       "13  89        39            55       1289  \n",
       "14  89        40            55       1441  \n",
       "15  91        41            55       1836  \n",
       "16  94        41            58       1861  \n",
       "17  95        41            58       1915  \n",
       "18  95        45            58       1951  \n",
       "19 100        51            58       2075  \n",
       "20 105        52            58       2129  \n",
       "21 109        54            58       2170  \n",
       "22  42        54            15       1024  \n",
       "23  47        56            15       1072  \n",
       "24  61        59            15       1084  \n",
       "25  62        59            12       1180  \n",
       "26  64        61            12       1199  \n",
       "27  64        63            12       1224  \n",
       "28  61        63            12       1245  \n",
       "29  61        64            12       1221  \n",
       "30  61        64            12       1221  \n",
       "⋮  ⋮          ⋮             ⋮        ⋮     \n",
       "67 10          39           0        1644  \n",
       "68 10          38           0        1575  \n",
       "69 10          38           0        1447  \n",
       "70 10          39           0        1344  \n",
       "71 10          39           0        1236  \n",
       "72  7          39           0         902  \n",
       "73  7          38           0         786  \n",
       "74  7          38           0         690  \n",
       "75  6          39           0         613  \n",
       "76  6          39           0         535  \n",
       "77  6          39           0         398  \n",
       "78  6          39           0         328  \n",
       "79  6          39           0         284  \n",
       "80  5          39           0         257  \n",
       "81  5          39           0         230  \n",
       "82  5          49           0         133  \n",
       "83  5          64           0         121  \n",
       "84  5          79           0         103  \n",
       "85  4         105           0          98  \n",
       "86  3          85           0          94  \n",
       "87  3          86           0          80  \n",
       "88  3          91           0          77  \n",
       "89  3         102           0          74  \n",
       "90  3         102           0          74  \n",
       "91  3         109           0          72  \n",
       "92  3         128           0          72  \n",
       "93  3         128           0          72  \n",
       "94  3         132           0          66  \n",
       "95  2         153           0          65  \n",
       "96  2         153           0          63  "
      ]
     },
     "metadata": {},
     "output_type": "display_data"
    }
   ],
   "source": [
    "dfSA"
   ]
  },
  {
   "cell_type": "code",
   "execution_count": 4,
   "metadata": {},
   "outputs": [
    {
     "data": {
      "text/plain": [
       "\n",
       "\tWelch Two Sample t-test\n",
       "\n",
       "data:  dfSA$UnitedStatesA and dfSA$ChinaA\n",
       "t = -12.508, df = 95.124, p-value = 1\n",
       "alternative hypothesis: true difference in means is greater than 0\n",
       "95 percent confidence interval:\n",
       " -1625.406       Inf\n",
       "sample estimates:\n",
       " mean of x  mean of y \n",
       "  51.67708 1486.53125 \n"
      ]
     },
     "metadata": {},
     "output_type": "display_data"
    }
   ],
   "source": [
    "ttest = t.test(dfSA$UnitedStatesA, dfSA$ChinaA, alternative = \"greater\", paired = FALSE)\n",
    "ttest"
   ]
  },
  {
   "cell_type": "markdown",
   "metadata": {},
   "source": [
    "Null hypothesis: There is no difference in the mean active SARS cases during the duration of the outbreak between the two countries. \n",
    "Alternative hypothesis: This is a difference in the mean active SARS cases during the duration of the outbreak between the two countries. "
   ]
  },
  {
   "cell_type": "markdown",
   "metadata": {},
   "source": [
    "We must fail to reject the null hypothesis for the t-test between China and United States. The p-value is above 0.00565656. Additionally, the 95% confidence interval includes 0. Therefore, we can not conclude that the mean difference between the two groups is 0. "
   ]
  },
  {
   "cell_type": "markdown",
   "metadata": {},
   "source": [
    "China and America will be placed in the same category for the mean active SARS cases during the duration of the outbreak. The category will be labeled 1 for the highest average of active SARS cases per day during the outbreak. "
   ]
  },
  {
   "cell_type": "code",
   "execution_count": 6,
   "metadata": {},
   "outputs": [
    {
     "data": {
      "text/plain": [
       "\n",
       "\tWelch Two Sample t-test\n",
       "\n",
       "data:  dfSA$UnitedStatesA and dfSA$SingaporeA\n",
       "t = 4.3848, df = 189.47, p-value = 9.614e-06\n",
       "alternative hypothesis: true difference in means is greater than 0\n",
       "95 percent confidence interval:\n",
       " 11.62337      Inf\n",
       "sample estimates:\n",
       "mean of x mean of y \n",
       " 51.67708  33.02083 \n"
      ]
     },
     "metadata": {},
     "output_type": "display_data"
    }
   ],
   "source": [
    "ttest = t.test(dfSA$UnitedStatesA, dfSA$SingaporeA, alternative = \"greater\", paired = FALSE)\n",
    "ttest"
   ]
  },
  {
   "cell_type": "markdown",
   "metadata": {},
   "source": [
    "Null hypothesis: There is no difference in the mean active SARS cases during the duration of the outbreak between the two countries. \n",
    "Alternative hypothesis: This is a difference in the mean active SARS cases during the duration of the outbreak between the two countries. "
   ]
  },
  {
   "cell_type": "markdown",
   "metadata": {},
   "source": [
    "We must reject the null hypothesis. America has a more mean acitve SARS cases during the duration of the outbreak between the two countries. The p-value is extremely small and lower than 0.000565656. Additionally, the 95% confidence interval does not include 0. "
   ]
  },
  {
   "cell_type": "markdown",
   "metadata": {},
   "source": [
    "Singapore will be placed in the second category. "
   ]
  },
  {
   "cell_type": "code",
   "execution_count": 9,
   "metadata": {},
   "outputs": [
    {
     "data": {
      "text/plain": [
       "\n",
       "\tWelch Two Sample t-test\n",
       "\n",
       "data:  dfSA$SingaporeA and dfSA$CanadaA\n",
       "t = -0.85444, df = 172.59, p-value = 0.803\n",
       "alternative hypothesis: true difference in means is greater than 0\n",
       "95 percent confidence interval:\n",
       " -9.540234       Inf\n",
       "sample estimates:\n",
       "mean of x mean of y \n",
       " 33.02083  36.27083 \n"
      ]
     },
     "metadata": {},
     "output_type": "display_data"
    }
   ],
   "source": [
    "ttest = t.test(dfSA$SingaporeA, dfSA$CanadaA, alternative = \"greater\", paired = FALSE)\n",
    "ttest"
   ]
  },
  {
   "cell_type": "markdown",
   "metadata": {},
   "source": [
    "Null hypothesis: There is no difference in the mean active SARS cases during the duration of the outbreak between the two countries. \n",
    "Alternative hypothesis: This is a difference in the mean active SARS cases during the duration of the outbreak between the two countries. "
   ]
  },
  {
   "cell_type": "markdown",
   "metadata": {},
   "source": [
    "We must fail to reject the null hypothesis for this t-test. The p-value was much larger than "
   ]
  },
  {
   "cell_type": "markdown",
   "metadata": {},
   "source": []
  },
  {
   "cell_type": "code",
   "execution_count": 7,
   "metadata": {},
   "outputs": [
    {
     "data": {
      "text/plain": [
       "\n",
       "\tOne Sample t-test\n",
       "\n",
       "data:  dfSD$Vietnam\n",
       "t = 52.197, df = 95, p-value < 2.2e-16\n",
       "alternative hypothesis: true mean is greater than 0\n",
       "95 percent confidence interval:\n",
       " 4.45765     Inf\n",
       "sample estimates:\n",
       "mean of x \n",
       " 4.604167 \n"
      ]
     },
     "metadata": {},
     "output_type": "display_data"
    }
   ],
   "source": [
    "ttest = t.test(dfSD$Vietnam, dfSD$United.States, alternative = \"greater\", paired = FALSE)\n",
    "ttest"
   ]
  },
  {
   "cell_type": "markdown",
   "metadata": {},
   "source": [
    "Null hypothesis: There is no difference in the mean deaths per day between the two countries. \n",
    "Alternative hypothesis: This is a difference in the mean deaths per day between the two countries."
   ]
  },
  {
   "cell_type": "markdown",
   "metadata": {},
   "source": [
    "United States will be placed in the fourth most severe classification. The t-test indicates that there is a significant difference in the mean deaths per day between Vietnam and the United States. The 95% confidence interval does not contain the value 0 and the p-value is below 0.05. Therefore, this conclusion is valid."
   ]
  },
  {
   "cell_type": "markdown",
   "metadata": {},
   "source": [
    "Reject the null hypothesis for the t-test between Vietnam and United States. "
   ]
  },
  {
   "cell_type": "code",
   "execution_count": null,
   "metadata": {},
   "outputs": [],
   "source": [
    "ttest = t.test(dfSD$United.States, dfSD$Germany, alternative = \"greater\", paired = FALSE)\n",
    "ttest"
   ]
  },
  {
   "cell_type": "markdown",
   "metadata": {},
   "source": [
    "Null hypothesis: There is no difference in the mean deaths per day between the two countries. \n",
    "Alternative hypothesis: This is a difference in the mean deaths per day between the two countries."
   ]
  },
  {
   "cell_type": "markdown",
   "metadata": {},
   "source": [
    "Fail to reject the null hypothesis for the t-test between Germany and United States."
   ]
  },
  {
   "cell_type": "markdown",
   "metadata": {},
   "source": [
    "Germany, Italy, and United States did not experience a death during the outbreak. They will be placed in the fourth classification. The t-test does not have anything to compare. "
   ]
  },
  {
   "cell_type": "code",
   "execution_count": null,
   "metadata": {},
   "outputs": [],
   "source": [
    "dfW_7$classification <- c(2,1,4,4,2,4,3)\n",
    "dfW_7"
   ]
  },
  {
   "cell_type": "code",
   "execution_count": null,
   "metadata": {},
   "outputs": [],
   "source": [
    "library(magrittr)"
   ]
  },
  {
   "cell_type": "code",
   "execution_count": null,
   "metadata": {},
   "outputs": [],
   "source": [
    "dfW_20 = read.csv(\"WHOselect20.csv\", header = T)"
   ]
  },
  {
   "cell_type": "code",
   "execution_count": null,
   "metadata": {},
   "outputs": [],
   "source": [
    "dfW_20$classification <- c(0,1,1,0,0,1,0,0,0,0,1,0,0,1,1,0,1,0,0,1)\n",
    "dfW_20"
   ]
  },
  {
   "cell_type": "code",
   "execution_count": null,
   "metadata": {},
   "outputs": [],
   "source": [
    "dfW_20 %<>% mutate_if(is.integer,as.numeric)\n",
    "dfW_20"
   ]
  },
  {
   "cell_type": "code",
   "execution_count": null,
   "metadata": {},
   "outputs": [],
   "source": [
    "dfSD <- dfSD %>% \n",
    "   mutate(adjCanada = Canada / 31644028)\n",
    "\n",
    "dfSD <- dfSD %>% \n",
    "   mutate(adjGermany = Germany / 82534176)\n",
    "\n",
    "dfSD <- dfSD %>%\n",
    "   mutate(adjItaly = Italy / 57313203)\n",
    "\n",
    "dfSD <- dfSD %>%\n",
    "   mutate(adjSingapore = Singapore / 4114826)\n",
    "\n",
    "dfSD <- dfSD %>% \n",
    "   mutate(adjUS = United.States / 290107933)\n",
    "\n",
    "dfSD <- dfSD %>%\n",
    "   mutate(adjVietnam = Vietnam / 82301656)\n",
    "\n",
    "dfSD <- dfSD %>% \n",
    "   mutate(adjChina = China / 1288000000)\n",
    "\n",
    "dfSD"
   ]
  },
  {
   "cell_type": "code",
   "execution_count": null,
   "metadata": {},
   "outputs": [],
   "source": [
    "write.csv(dfW_20,\"dfW20.csv\", row.names = TRUE)"
   ]
  },
  {
   "cell_type": "code",
   "execution_count": null,
   "metadata": {},
   "outputs": [],
   "source": [
    "dfW20 = read.csv(\"dfW20.csv\", header = T)"
   ]
  },
  {
   "cell_type": "code",
   "execution_count": null,
   "metadata": {},
   "outputs": [],
   "source": [
    "library(caret)\n",
    "library(randomForest)\n",
    "library(varImp)\n",
    "library(naivebayes)"
   ]
  },
  {
   "cell_type": "code",
   "execution_count": null,
   "metadata": {},
   "outputs": [],
   "source": [
    "sapply(dfW20, class)"
   ]
  },
  {
   "cell_type": "code",
   "execution_count": null,
   "metadata": {},
   "outputs": [],
   "source": [
    "df <- dfW20 \n",
    "df\n",
    "#0 means less than 5 deaths\n",
    "#1 means 5 or more deaths occured"
   ]
  },
  {
   "cell_type": "code",
   "execution_count": null,
   "metadata": {},
   "outputs": [],
   "source": [
    "model_1 <- glm(classification ~ Total.population + Dependency.ratio.2002 + \n",
    "               Percentage.of.population.aged.60. + Total.Fertility.Rate.2002 +\n",
    "               LIFE.EXPECTANCY.AT.BIRTH.BOTH.SEXES.2002 + \n",
    "               PROBABILITY.OF.DYING.UNDER.AGE.OF.5.MALES.2002 + \n",
    "               PROBABILITY.OF.DYING.UNDER.AGE.OF.5.FEMALES.2002 +\n",
    "               PROBABILITY.OF.DYING.AGE.15.59.MALES.2002 +\n",
    "               PROBABILITY.OF.DYING.AGE.15.59.FEMALES.2002,\n",
    "             family = \"binomial\", data = df) \n",
    "summary(model_1)"
   ]
  },
  {
   "cell_type": "code",
   "execution_count": null,
   "metadata": {},
   "outputs": [],
   "source": [
    "df$classification = as.factor(df$classification)\n",
    "set.seed(998)\n",
    "indxTrain <- createDataPartition(y = df$classification,p = 0.75,list = FALSE)\n",
    "training <- df[indxTrain,] \n",
    "testing <- df[-indxTrain,] \n",
    "\n",
    "z = testing$classification\n",
    "z = as.factor(z)\n",
    "\n",
    "train.control <- trainControl(method = \"cv\", number = 10)\n",
    "# Train the model\n",
    "model <- train(classification ~ Total.population + Dependency.ratio.2002 + \n",
    "               Percentage.of.population.aged.60. + Total.Fertility.Rate.2002 +\n",
    "               LIFE.EXPECTANCY.AT.BIRTH.BOTH.SEXES.2002 + \n",
    "               PROBABILITY.OF.DYING.UNDER.AGE.OF.5.MALES.2002 + \n",
    "               PROBABILITY.OF.DYING.UNDER.AGE.OF.5.FEMALES.2002 +\n",
    "               PROBABILITY.OF.DYING.AGE.15.59.MALES.2002 +\n",
    "               PROBABILITY.OF.DYING.AGE.15.59.FEMALES.2002,\n",
    "               data = training, method = \"glm\",\n",
    "               trControl = train.control)\n",
    "\n",
    "print(model)\n",
    "\n",
    "Predict <- predict(model,newdata = testing)\n",
    "\n",
    "confusionMatrix(Predict, z)"
   ]
  },
  {
   "cell_type": "code",
   "execution_count": null,
   "metadata": {},
   "outputs": [],
   "source": [
    "X <- caret::varImp(model)\n",
    "plot(X)\n",
    "X"
   ]
  },
  {
   "cell_type": "markdown",
   "metadata": {},
   "source": [
    "There are three variables above 65 importance. Those variables will be chosen for the second model. "
   ]
  },
  {
   "cell_type": "code",
   "execution_count": null,
   "metadata": {},
   "outputs": [],
   "source": [
    "model_2 <- glm(classification ~ Percentage.of.population.aged.60. + Dependency.ratio.2002 + \n",
    "               Total.Fertility.Rate.2002,\n",
    "               family = \"binomial\", data = df) \n",
    "summary(model_2)"
   ]
  },
  {
   "cell_type": "code",
   "execution_count": null,
   "metadata": {},
   "outputs": [],
   "source": [
    "df$classification = as.factor(df$classification)\n",
    "set.seed(998)\n",
    "indxTrain <- createDataPartition(y = df$classification,p = 0.75,list = FALSE)\n",
    "training <- df[indxTrain,] \n",
    "testing <- df[-indxTrain,] \n",
    "\n",
    "z = testing$classification\n",
    "z = as.factor(z)\n",
    "\n",
    "train.control <- trainControl(method = \"cv\", number = 10)\n",
    "# Train the model\n",
    "model <- train(classification ~ Percentage.of.population.aged.60. + Dependency.ratio.2002 + \n",
    "               Total.Fertility.Rate.2002,\n",
    "               data = training, method = \"glm\",\n",
    "               trControl = train.control)\n",
    "\n",
    "print(model)\n",
    "\n",
    "Predict <- predict(model,newdata = testing)\n",
    "\n",
    "confusionMatrix(Predict, z)"
   ]
  },
  {
   "cell_type": "code",
   "execution_count": null,
   "metadata": {},
   "outputs": [],
   "source": [
    "X <- caret::varImp(model)\n",
    "plot(X)\n",
    "X"
   ]
  },
  {
   "cell_type": "code",
   "execution_count": null,
   "metadata": {},
   "outputs": [],
   "source": [
    "model_3 <- glm(classification ~ Dependency.ratio.2002 + \n",
    "               Total.Fertility.Rate.2002,\n",
    "               family = \"binomial\", data = df) \n",
    "summary(model_3)"
   ]
  },
  {
   "cell_type": "code",
   "execution_count": null,
   "metadata": {},
   "outputs": [],
   "source": [
    "df$classification = as.factor(df$classification)\n",
    "set.seed(998)\n",
    "indxTrain <- createDataPartition(y = df$classification,p = 0.75,list = FALSE)\n",
    "training <- df[indxTrain,] \n",
    "testing <- df[-indxTrain,] \n",
    "\n",
    "z = testing$classification\n",
    "z = as.factor(z)\n",
    "\n",
    "train.control <- trainControl(method = \"cv\", number = 10)\n",
    "# Train the model\n",
    "model <- train(classification ~ Dependency.ratio.2002 + \n",
    "               Total.Fertility.Rate.2002,\n",
    "               data = training, method = \"glm\",\n",
    "               trControl = train.control)\n",
    "\n",
    "print(model)\n",
    "\n",
    "Predict <- predict(model,newdata = testing)\n",
    "\n",
    "confusionMatrix(Predict, z)"
   ]
  },
  {
   "cell_type": "code",
   "execution_count": null,
   "metadata": {},
   "outputs": [],
   "source": [
    "X <- caret::varImp(model)\n",
    "plot(X)\n",
    "X"
   ]
  },
  {
   "cell_type": "code",
   "execution_count": null,
   "metadata": {},
   "outputs": [],
   "source": [
    "model_4 <- glm(classification ~ Total.Fertility.Rate.2002,\n",
    "               family = \"binomial\", data = df) \n",
    "summary(model_4)"
   ]
  },
  {
   "cell_type": "code",
   "execution_count": null,
   "metadata": {},
   "outputs": [],
   "source": [
    "df$classification = as.factor(df$classification)\n",
    "set.seed(998)\n",
    "indxTrain <- createDataPartition(y = df$classification,p = 0.75,list = FALSE)\n",
    "training <- df[indxTrain,] \n",
    "testing <- df[-indxTrain,] \n",
    "\n",
    "z = testing$classification\n",
    "z = as.factor(z)\n",
    "\n",
    "train.control <- trainControl(method = \"cv\", number = 10)\n",
    "# Train the model\n",
    "model <- train(classification ~ Dependency.ratio.2002 + \n",
    "               Total.Fertility.Rate.2002,\n",
    "               data = training, method = \"glm\",\n",
    "               trControl = train.control)\n",
    "\n",
    "print(model)\n",
    "\n",
    "Predict <- predict(model,newdata = testing)\n",
    "\n",
    "confusionMatrix(Predict, z)"
   ]
  },
  {
   "cell_type": "code",
   "execution_count": null,
   "metadata": {},
   "outputs": [],
   "source": [
    "set.seed(100)  # setting seed to reproduce results of random sampling\n",
    "trainingRowIndex <- sample(1:nrow(df), 0.8*nrow(df))  # row indices for training data\n",
    "\n",
    "xvars.train <- as.matrix(df[trainingRowIndex,3:29])\n",
    "xvars.test <- as.matrix(df[-trainingRowIndex,3:29])\n",
    "\n",
    "y.train <- as.matrix(df[trainingRowIndex, 30])\n",
    "y.test <- as.matrix(df[-trainingRowIndex, 30])"
   ]
  },
  {
   "cell_type": "code",
   "execution_count": null,
   "metadata": {},
   "outputs": [],
   "source": [
    "library(glmnet)\n",
    "fitlasso <- glmnet(xvars.train, y.train, family=\"binomial\", alpha=1)\n",
    "fitridge <- glmnet(xvars.train, y.train, family=\"binomial\", alpha=0)\n",
    "fitelnet <- glmnet(xvars.train, y.train, family=\"binomial\", alpha=.5)"
   ]
  },
  {
   "cell_type": "code",
   "execution_count": null,
   "metadata": {},
   "outputs": [],
   "source": [
    "for (i in 0:10) {\n",
    "    assign(paste(\"fit\", i, sep=\"\"), cv.glmnet(xvars.train, y.train, type.measure=\"mse\", \n",
    "                                              alpha=i/10,family=\"binomial\"))\n",
    "}"
   ]
  },
  {
   "cell_type": "code",
   "execution_count": null,
   "metadata": {},
   "outputs": [],
   "source": [
    "##Find best AIC/BIC for each model\n",
    "##Ridge\n",
    "tLL <- fitridge$nulldev - deviance(fitridge) ##Likelihood of the model\n",
    "k <- fitridge$df ##Number of parameters\n",
    "n <- fitridge$nobs ##Sample Size\n",
    "\n",
    "##AIC\n",
    "\n",
    "AICc <- -tLL+2*k+2*k*(k+1)/(n-k-1)\n",
    "m = min(AICc)\n",
    "cat(\"Best AIC for Rigid: \", m, \"\\n\")\n",
    "best_AIC = match(c(min(AICc)),AICc)\n",
    "print(paste(\"Lambda from AIC Ridge = \",fitridge$lambda[best_AIC]))\n",
    "\n",
    "##BIC\n",
    "BIC<-log(n)*k - tLL \n",
    "m = min(BIC)\n",
    "cat(\"Best BIC for Rigid: \", m, \"\\n\")\n",
    "best_BIC = match(c(min(BIC)),BIC)\n",
    "print(paste(\"Lambda from BIC Ridge = \",fitridge$lambda[best_BIC]))\n",
    "\n",
    "##Lasso\n",
    "##AIC\n",
    "tLL <- fitlasso$nulldev - deviance(fitlasso)\n",
    "k <- fitlasso$df\n",
    "n <- fitlasso$nobs\n",
    "AICc_lasso <- -tLL+2*k+2*k*(k+1)/(n-k-1)\n",
    "m = min(AICc_lasso)##Best AIC\n",
    "cat(\"Best AIC for Lasso: \", m, \"\\n\")\n",
    "best_AIC_lasso = match(c(min(AICc_lasso)),AICc_lasso)##Which index is this?\n",
    "print(paste(\"Lambda from AIC Lasso = \",fitlasso$lambda[best_AIC_lasso]))##Find this lambda\n",
    "\n",
    "##BIC\n",
    "BIC_lasso<-log(n)*k - tLL \n",
    "m = min(BIC_lasso)##Best BIC\n",
    "cat(\"Best BIC for Lasso: \", m, \"\\n\")\n",
    "best_BIC_lasso = match(c(min(BIC_lasso)),BIC_lasso)##Which index is this?\n",
    "print(paste(\"Lambda from BIC Lasso= \",fitlasso$lambda[best_BIC_lasso]))\n",
    "\n",
    "##Elastic Net\n",
    "##AIC\n",
    "tLL <- fitelnet$nulldev - deviance(fitelnet)\n",
    "k <- fitelnet$df\n",
    "n <- fitelnet$nobs\n",
    "AICc_elnet <- -tLL+2*k+2*k*(k+1)/(n-k-1)\n",
    "m= min(AICc_elnet)##Best AIC\n",
    "cat(\"Best AIC for Elastic Net: \", m, \"\\n\")\n",
    "best_AIC_elnet = match(c(min(AICc_elnet)),AICc_elnet)##Which index is this?\n",
    "print(paste(\"Lambda AIC enet =\",fitelnet$lambda[best_AIC_elnet]))##Find this lambda\n",
    "\n",
    "##BIC\n",
    "BIC_elnet<-log(n)*k - tLL \n",
    "m= min(BIC_elnet)##Best BIC\n",
    "cat(\"Best BIC for Elastic Net: \", m, \"\\n\")\n",
    "best_BIC_elnet = match(c(min(BIC_elnet)),BIC_elnet)##Which index is this?\n",
    "print(paste(\"Lambda BIC enet= \",fitelnet$lambda[best_BIC_elnet]))\n",
    "\n",
    "#Ridge AIC/BIC\n",
    "yRidgeAIC <- predict(fit0, s=fitridge$lambda[best_AIC], newx=xvars.test)\n",
    "mseRidgeAIC <- mean((y.test - yRidgeAIC)^2)\n",
    "print(paste(\"mse Ridge AIC = \", mseRidgeAIC))\n",
    "yRidgeBIC <- predict(fit0, s=fitridge$lambda[best_BIC], newx=xvars.test)\n",
    "mseRidgeBIC <- mean((y.test - yRidgeBIC)^2)\n",
    "print(paste(\"mse Ridge BIC = \", mseRidgeBIC))\n",
    "\n",
    "#Lasso AIC/BIC\n",
    "yLassoAIC <- predict(fit10, s=fitlasso$lambda[best_AIC_lasso], newx=xvars.test)\n",
    "mseLassoAIC <- mean((y.test - yLassoAIC)^2)\n",
    "print(paste(\"mse Lasso AIC = \", mseLassoAIC)) \n",
    "yLassoBIC <- predict(fit10, s=fitlasso$lambda[best_BIC_lasso], newx=xvars.test)\n",
    "mseLassoBIC <- mean((y.test - yLassoBIC)^2)\n",
    "print(paste(\"mse Lasso BIC = \", mseLassoBIC)) \n",
    "\n",
    "#Elastic Net AIC/BIC\n",
    "yelnetAIC <- predict(fit5, s=fitelnet$lambda[best_AIC_elnet], newx=xvars.test)\n",
    "mseelnetAIC <- mean((y.test - yelnetAIC)^2)\n",
    "print(paste(\"mse elnet AIC = \",mseelnetAIC))\n",
    "\n",
    "yelnetBIC <- predict(fit5, s=fitelnet$lambda[best_BIC_elnet], newx=xvars.test)\n",
    "mseelnetBIC <- mean((y.test - yelnetBIC)^2)\n",
    "print(paste(\"mse elnet BIC = \",mseelnetBIC))"
   ]
  },
  {
   "cell_type": "code",
   "execution_count": null,
   "metadata": {},
   "outputs": [],
   "source": []
  },
  {
   "cell_type": "code",
   "execution_count": null,
   "metadata": {},
   "outputs": [],
   "source": []
  },
  {
   "cell_type": "code",
   "execution_count": null,
   "metadata": {},
   "outputs": [],
   "source": [
    "dfSC = read.csv(\"CumulativeCases.csv\", header = T)"
   ]
  },
  {
   "cell_type": "code",
   "execution_count": null,
   "metadata": {},
   "outputs": [],
   "source": [
    "dfSC$China[1]"
   ]
  },
  {
   "cell_type": "code",
   "execution_count": null,
   "metadata": {},
   "outputs": [],
   "source": [
    "class(dfSC$Date)\n",
    "dfSC$Date <- as.character(dfSC$Date)\n",
    "dfSC$Date <- as.POSIXct(dfSC$Date)"
   ]
  },
  {
   "cell_type": "code",
   "execution_count": null,
   "metadata": {},
   "outputs": [],
   "source": [
    "log_plot <- ggplot(data = dfSC, aes(x = Date, y = China/7084)) + \n",
    "geom_jitter(alpha = 0.5, height = 0.05) +  geom_point() + \n",
    "            stat_smooth(method = \"glm\", method.args = list(family = \"binomial\"), se = TRUE) + \n",
    "            ylab(\"Percentage of Total Cases\")\n",
    "log_plot + ggtitle(\"Cumulative Cases in China SARS Outbreak 2003\")\n"
   ]
  },
  {
   "cell_type": "code",
   "execution_count": null,
   "metadata": {},
   "outputs": [],
   "source": [
    "log_reg <- glm(China/7084 ~ seq(1,96,1), data = dfSC, family = binomial)\n",
    "\n",
    "log_reg"
   ]
  },
  {
   "cell_type": "code",
   "execution_count": null,
   "metadata": {},
   "outputs": [],
   "source": [
    "library(stats)"
   ]
  },
  {
   "cell_type": "code",
   "execution_count": null,
   "metadata": {},
   "outputs": [],
   "source": [
    "log_plot <- ggplot(data = dfSC, aes(x = Date, y = China)) + \n",
    "geom_jitter(alpha = 0.5, height = 0.05) +  geom_point() + \n",
    "            ylab(\"Total Cases\")\n",
    "log_plot + ggtitle(\"Cumulative Cases in China SARS Outbreak 2003\")"
   ]
  },
  {
   "cell_type": "code",
   "execution_count": null,
   "metadata": {},
   "outputs": [],
   "source": [
    "#find the parameters for the equation\n",
    "times <- seq(1,96,1)\n",
    "SS<-getInitial(dfSC$China~SSlogis(times,alpha,xmid,scale),data=data.frame(dfSC$China==dfSC$China,times=times))\n",
    "SS"
   ]
  },
  {
   "cell_type": "code",
   "execution_count": null,
   "metadata": {
    "scrolled": true
   },
   "outputs": [],
   "source": [
    "K_0<-SS[\"alpha\"]\n",
    "R_0<-1/SS[\"scale\"]\n",
    "N0<-SS[\"alpha\"]/(exp(SS[\"xmid\"]/SS[\"scale\"])+1)\n",
    "y <- dfSC$China\n",
    "\n",
    "m<-nls(y~K*N0*exp(R*times)/(K+N0*(exp(R*times)-1)),start=list(K=K_0,R=R_0,N0=N0))\n",
    "#estimated parameters\n",
    "summary(m)\n",
    "\n",
    "c <- cor(y,predict(m))\n",
    "cat(\"correlation coefficient: \", c, \"\\n\")\n",
    "\n",
    "AIC <- AIC(m)\n",
    "cat(\"AIC: \", AIC)"
   ]
  },
  {
   "cell_type": "code",
   "execution_count": null,
   "metadata": {},
   "outputs": [],
   "source": [
    "Days = times\n",
    "Total_cases = dfSC$China\n",
    "\n",
    "plot(Days, Total_cases) + lines(times,predict(m),col=\"red\", lty=1,lwd=3)\n",
    "title(main = \"Cumulative Cases in China SARS Outbreak 2003\")"
   ]
  },
  {
   "cell_type": "code",
   "execution_count": null,
   "metadata": {},
   "outputs": [],
   "source": [
    "yC = read.csv(\"Comp20032020.csv\")"
   ]
  },
  {
   "cell_type": "code",
   "execution_count": null,
   "metadata": {},
   "outputs": [],
   "source": [
    "str(yC)"
   ]
  },
  {
   "cell_type": "code",
   "execution_count": null,
   "metadata": {},
   "outputs": [],
   "source": [
    "yC"
   ]
  },
  {
   "cell_type": "code",
   "execution_count": null,
   "metadata": {},
   "outputs": [],
   "source": [
    "library(lattice)\n",
    "histogram(~Cumulative.Cases|factor(Year),\n",
    "         data = yC,\n",
    "         layout = c(1,2),\n",
    "         nint = 1,\n",
    "         xlab = \"Cumulative Cases\",\n",
    "         strip = FALSE,\n",
    "         strip.left = TRUE,\n",
    "         breaks=seq(from=0,to=150000,by=10000),\n",
    "         ylab = \"Percentage of the Data\")"
   ]
  },
  {
   "cell_type": "markdown",
   "metadata": {},
   "source": [
    "100 percent of the data is below 5000 cumulative cases in 2003. "
   ]
  },
  {
   "cell_type": "code",
   "execution_count": null,
   "metadata": {},
   "outputs": [],
   "source": []
  }
 ],
 "metadata": {
  "kernelspec": {
   "display_name": "R",
   "language": "R",
   "name": "ir"
  },
  "language_info": {
   "codemirror_mode": "r",
   "file_extension": ".r",
   "mimetype": "text/x-r-source",
   "name": "R",
   "pygments_lexer": "r",
   "version": "3.6.2"
  }
 },
 "nbformat": 4,
 "nbformat_minor": 4
}
